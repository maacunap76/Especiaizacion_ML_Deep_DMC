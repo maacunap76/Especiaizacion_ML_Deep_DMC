{
  "nbformat": 4,
  "nbformat_minor": 0,
  "metadata": {
    "colab": {
      "name": "Lab: Santander.ipynb",
      "provenance": [],
      "machine_shape": "hm",
      "include_colab_link": true
    },
    "kernelspec": {
      "name": "python3",
      "display_name": "Python 3"
    },
    "gpuClass": "standard"
  },
  "cells": [
    {
      "cell_type": "markdown",
      "metadata": {
        "id": "view-in-github",
        "colab_type": "text"
      },
      "source": [
        "<a href=\"https://colab.research.google.com/github/maacunap76/Especiaizacion_ML_Deep_DMC/blob/main/Supervised_models/DecisionTrees_Boosting/Lab_Santander.ipynb\" target=\"_parent\"><img src=\"https://colab.research.google.com/assets/colab-badge.svg\" alt=\"Open In Colab\"/></a>"
      ]
    },
    {
      "cell_type": "markdown",
      "metadata": {
        "id": "d52SmLiMKz01"
      },
      "source": [
        "\n",
        "<h1 align=center><font size = 5>Santander Customer Satisfaction\n",
        "</font></h1>\n",
        "\n",
        "---"
      ]
    },
    {
      "cell_type": "markdown",
      "metadata": {
        "id": "Is3nFhGglsft"
      },
      "source": [
        "## Tabla de Contenidos\n",
        "\n",
        "<div class=\"alert alert-block alert-info\" style=\"margin-top: 20px\">\n",
        "\n",
        "<font size = 3>\n",
        "    \n",
        "1. <a href=\"#item31\">Introducción</a>  \n",
        "2. <a href=\"#item32\">Santander Problem</a>  \n",
        "3. <a href=\"#item33\">Descargar y limpiar el Dataset</a>  \n",
        "4. <a href=\"#item34\">SMOTE Algorithm</a>  \n",
        "5. <a href=\"#item34\">Decision Trees</a>  \n",
        "7. <a href=\"#item34\">Cross Validation y GridSearch</a>  \n",
        "6. <a href=\"#item34\">Random Forest</a>  \n",
        "8. <a href=\"#item34\">AdaBoost</a>  \n",
        "9. <a href=\"#item34\">XGBoost</a> \n",
        "10. <a href=\"#item34\">RandomSearch</a> \n",
        "11. <a href=\"#item34\">¿Cómo implementar un modelo?</a>  \n",
        "\n",
        "</font>\n",
        "</div>"
      ]
    },
    {
      "cell_type": "markdown",
      "metadata": {
        "button": false,
        "deletable": true,
        "new_sheet": false,
        "run_control": {
          "read_only": false
        },
        "id": "R_NIQeNlLo19"
      },
      "source": [
        "## Introducción\n"
      ]
    },
    {
      "cell_type": "markdown",
      "metadata": {
        "id": "g7LRGuxBHMpw"
      },
      "source": [
        "En este laboratorio, aprenderá a usar python para construir modelos de ensemble."
      ]
    },
    {
      "cell_type": "markdown",
      "metadata": {
        "id": "yFB_r2dkHMp7"
      },
      "source": [
        "\n",
        "<h3>Objetivo de este Notebook<h3>    \n",
        "<h5> 1. Como construir e interpretar un modelo de ensemble.</h5>\n",
        "<h5> 2. Descargar y limpiar un Dataset </h5>\n",
        "<h5> 3. Realizar los pasos necesarios previos a la etapa de modelamiento </h5>\n",
        "<h5> 4. Entrenar y Testear modelo </h5>     "
      ]
    },
    {
      "cell_type": "markdown",
      "metadata": {
        "id": "cWBGqVX6HMp8"
      },
      "source": [
        "Primero, importemos algunos módulos que necesitaremos para el análisis y construcción del modelo."
      ]
    },
    {
      "cell_type": "code",
      "metadata": {
        "id": "PEMIsurDJf4M"
      },
      "source": [
        "\n",
        "# Scikit-Learn \n",
        "import sklearn\n",
        "assert sklearn.__version__ >= \"0.20\"\n",
        "\n",
        "# Imports comunes\n",
        "import pandas as pd\n",
        "import numpy as np\n",
        "import os\n",
        "\n",
        "# Configuración de tamaño de gráficos matplotlib\n",
        "%matplotlib inline\n",
        "import matplotlib as mpl\n",
        "import matplotlib.pyplot as plt\n",
        "\n",
        "mpl.rc('axes', labelsize=14)\n",
        "mpl.rc('xtick', labelsize=12)\n",
        "mpl.rc('ytick', labelsize=12)\n",
        "\n",
        "# Ignore las advertencias poco útiles\n",
        "import warnings\n",
        "warnings.filterwarnings(action=\"ignore\", message=\"^internal gelsd\")"
      ],
      "execution_count": 1,
      "outputs": []
    },
    {
      "cell_type": "markdown",
      "metadata": {
        "id": "rtJhMpGIoKSg"
      },
      "source": [
        "## Santander Customer Satisfaction"
      ]
    },
    {
      "cell_type": "markdown",
      "metadata": {
        "id": "KZwf0QHnLBB6"
      },
      "source": [
        "\n",
        "Desde los equipos de soporte de primera línea hasta los ejecutivos, la satisfacción del cliente es una medida clave del éxito de una empresa. Los clientes insatisfechos no se quedan. Es más, los clientes insatisfechos rara vez expresan su insatisfacción antes de irse.\n",
        "\n",
        "El banco Santander está pidiendo a la comunidad data scientist que los ayude a identificar clientes insatisfechos desde su primera interacción. Hacerlo permitiría a Santander tomar medidas proactivas para mejorar la felicidad de un cliente antes de que sea demasiado tarde.\n",
        "\n",
        "En este laboratorio, trabajará con cientos de variables anónimas para predecir si un cliente está satisfecho o insatisfecho con su experiencia bancaria."
      ]
    },
    {
      "cell_type": "markdown",
      "metadata": {
        "id": "WMTTs7KsMZIF"
      },
      "source": [
        "<img src=\"https://storage.googleapis.com/kaggle-competitions/kaggle/4986/media/santander_custsat_red.png\" alt=\"HTML5 Icon\" style=\"width: 600px; height: 450px;\">\n",
        "<div style=\"text-align: center\">¿Qué clientes son clientes satisfechos? </div>"
      ]
    },
    {
      "cell_type": "markdown",
      "metadata": {
        "id": "RA0bDOj5LtM7"
      },
      "source": [
        "\n",
        "<b>Descripción de datos</b>\n",
        "\n",
        "El data frame de Santander tiene 76,020 filas y 371 columnas.\n",
        "\n",
        "\n",
        "---\n",
        "\n",
        "Se le proporciona un conjunto de datos anónimos que contiene una gran cantidad de variables numéricas. La columna <b>\"OBJETIVO\"</b> es la variable a predecir. Es igual a uno para clientes insatisfechos y 0 para clientes satisfechos.\n",
        "\n",
        "La tarea consiste en predecir la probabilidad de que cada cliente del conjunto de prueba sea un cliente insatisfecho.\n",
        "\n",
        "\n",
        "---\n",
        "\n",
        "\n",
        "<strong>Puede consultar este [link](https://www.kaggle.com/c/santander-customer-satisfaction/overview) para leer más sobre la fuente de datos Santander.</strong>\n"
      ]
    },
    {
      "cell_type": "markdown",
      "metadata": {
        "button": false,
        "deletable": true,
        "new_sheet": false,
        "run_control": {
          "read_only": false
        },
        "id": "_dC4JellLo2B"
      },
      "source": [
        "## Descargar y limpiar Dataset\n"
      ]
    },
    {
      "cell_type": "code",
      "metadata": {
        "id": "5NynpymMcdab",
        "outputId": "da79d4ca-cd30-4a45-a872-f6a39a2f8117",
        "colab": {
          "base_uri": "https://localhost:8080/",
          "height": 299
        }
      },
      "source": [
        "# Cargar Data\n",
        "import pandas as pd\n",
        "pddf = pd.read_csv(\"/santander.csv\")\n",
        "pddf.head()"
      ],
      "execution_count": 2,
      "outputs": [
        {
          "output_type": "execute_result",
          "data": {
            "text/plain": [
              "   ID  var3  var15  imp_ent_var16_ult1  imp_op_var39_comer_ult1  \\\n",
              "0   1     2     23                 0.0                      0.0   \n",
              "1   3     2     34                 0.0                      0.0   \n",
              "2   4     2     23                 0.0                      0.0   \n",
              "3   8     2     37                 0.0                    195.0   \n",
              "4  10     2     39                 0.0                      0.0   \n",
              "\n",
              "   imp_op_var39_comer_ult3  imp_op_var40_comer_ult1  imp_op_var40_comer_ult3  \\\n",
              "0                      0.0                      0.0                      0.0   \n",
              "1                      0.0                      0.0                      0.0   \n",
              "2                      0.0                      0.0                      0.0   \n",
              "3                    195.0                      0.0                      0.0   \n",
              "4                      0.0                      0.0                      0.0   \n",
              "\n",
              "   imp_op_var40_efect_ult1  imp_op_var40_efect_ult3  ...  \\\n",
              "0                      0.0                      0.0  ...   \n",
              "1                      0.0                      0.0  ...   \n",
              "2                      0.0                      0.0  ...   \n",
              "3                      0.0                      0.0  ...   \n",
              "4                      0.0                      0.0  ...   \n",
              "\n",
              "   saldo_medio_var33_hace2  saldo_medio_var33_hace3  saldo_medio_var33_ult1  \\\n",
              "0                      0.0                      0.0                     0.0   \n",
              "1                      0.0                      0.0                     0.0   \n",
              "2                      0.0                      0.0                     0.0   \n",
              "3                      0.0                      0.0                     0.0   \n",
              "4                      0.0                      0.0                     0.0   \n",
              "\n",
              "   saldo_medio_var33_ult3  saldo_medio_var44_hace2  saldo_medio_var44_hace3  \\\n",
              "0                     0.0                      0.0                      0.0   \n",
              "1                     0.0                      0.0                      0.0   \n",
              "2                     0.0                      0.0                      0.0   \n",
              "3                     0.0                      0.0                      0.0   \n",
              "4                     0.0                      0.0                      0.0   \n",
              "\n",
              "   saldo_medio_var44_ult1  saldo_medio_var44_ult3          var38  TARGET  \n",
              "0                     0.0                     0.0   39205.170000       0  \n",
              "1                     0.0                     0.0   49278.030000       0  \n",
              "2                     0.0                     0.0   67333.770000       0  \n",
              "3                     0.0                     0.0   64007.970000       0  \n",
              "4                     0.0                     0.0  117310.979016       0  \n",
              "\n",
              "[5 rows x 371 columns]"
            ],
            "text/html": [
              "\n",
              "  <div id=\"df-6f5ca7f1-8293-44fe-98b1-4dbc06c059a8\">\n",
              "    <div class=\"colab-df-container\">\n",
              "      <div>\n",
              "<style scoped>\n",
              "    .dataframe tbody tr th:only-of-type {\n",
              "        vertical-align: middle;\n",
              "    }\n",
              "\n",
              "    .dataframe tbody tr th {\n",
              "        vertical-align: top;\n",
              "    }\n",
              "\n",
              "    .dataframe thead th {\n",
              "        text-align: right;\n",
              "    }\n",
              "</style>\n",
              "<table border=\"1\" class=\"dataframe\">\n",
              "  <thead>\n",
              "    <tr style=\"text-align: right;\">\n",
              "      <th></th>\n",
              "      <th>ID</th>\n",
              "      <th>var3</th>\n",
              "      <th>var15</th>\n",
              "      <th>imp_ent_var16_ult1</th>\n",
              "      <th>imp_op_var39_comer_ult1</th>\n",
              "      <th>imp_op_var39_comer_ult3</th>\n",
              "      <th>imp_op_var40_comer_ult1</th>\n",
              "      <th>imp_op_var40_comer_ult3</th>\n",
              "      <th>imp_op_var40_efect_ult1</th>\n",
              "      <th>imp_op_var40_efect_ult3</th>\n",
              "      <th>...</th>\n",
              "      <th>saldo_medio_var33_hace2</th>\n",
              "      <th>saldo_medio_var33_hace3</th>\n",
              "      <th>saldo_medio_var33_ult1</th>\n",
              "      <th>saldo_medio_var33_ult3</th>\n",
              "      <th>saldo_medio_var44_hace2</th>\n",
              "      <th>saldo_medio_var44_hace3</th>\n",
              "      <th>saldo_medio_var44_ult1</th>\n",
              "      <th>saldo_medio_var44_ult3</th>\n",
              "      <th>var38</th>\n",
              "      <th>TARGET</th>\n",
              "    </tr>\n",
              "  </thead>\n",
              "  <tbody>\n",
              "    <tr>\n",
              "      <th>0</th>\n",
              "      <td>1</td>\n",
              "      <td>2</td>\n",
              "      <td>23</td>\n",
              "      <td>0.0</td>\n",
              "      <td>0.0</td>\n",
              "      <td>0.0</td>\n",
              "      <td>0.0</td>\n",
              "      <td>0.0</td>\n",
              "      <td>0.0</td>\n",
              "      <td>0.0</td>\n",
              "      <td>...</td>\n",
              "      <td>0.0</td>\n",
              "      <td>0.0</td>\n",
              "      <td>0.0</td>\n",
              "      <td>0.0</td>\n",
              "      <td>0.0</td>\n",
              "      <td>0.0</td>\n",
              "      <td>0.0</td>\n",
              "      <td>0.0</td>\n",
              "      <td>39205.170000</td>\n",
              "      <td>0</td>\n",
              "    </tr>\n",
              "    <tr>\n",
              "      <th>1</th>\n",
              "      <td>3</td>\n",
              "      <td>2</td>\n",
              "      <td>34</td>\n",
              "      <td>0.0</td>\n",
              "      <td>0.0</td>\n",
              "      <td>0.0</td>\n",
              "      <td>0.0</td>\n",
              "      <td>0.0</td>\n",
              "      <td>0.0</td>\n",
              "      <td>0.0</td>\n",
              "      <td>...</td>\n",
              "      <td>0.0</td>\n",
              "      <td>0.0</td>\n",
              "      <td>0.0</td>\n",
              "      <td>0.0</td>\n",
              "      <td>0.0</td>\n",
              "      <td>0.0</td>\n",
              "      <td>0.0</td>\n",
              "      <td>0.0</td>\n",
              "      <td>49278.030000</td>\n",
              "      <td>0</td>\n",
              "    </tr>\n",
              "    <tr>\n",
              "      <th>2</th>\n",
              "      <td>4</td>\n",
              "      <td>2</td>\n",
              "      <td>23</td>\n",
              "      <td>0.0</td>\n",
              "      <td>0.0</td>\n",
              "      <td>0.0</td>\n",
              "      <td>0.0</td>\n",
              "      <td>0.0</td>\n",
              "      <td>0.0</td>\n",
              "      <td>0.0</td>\n",
              "      <td>...</td>\n",
              "      <td>0.0</td>\n",
              "      <td>0.0</td>\n",
              "      <td>0.0</td>\n",
              "      <td>0.0</td>\n",
              "      <td>0.0</td>\n",
              "      <td>0.0</td>\n",
              "      <td>0.0</td>\n",
              "      <td>0.0</td>\n",
              "      <td>67333.770000</td>\n",
              "      <td>0</td>\n",
              "    </tr>\n",
              "    <tr>\n",
              "      <th>3</th>\n",
              "      <td>8</td>\n",
              "      <td>2</td>\n",
              "      <td>37</td>\n",
              "      <td>0.0</td>\n",
              "      <td>195.0</td>\n",
              "      <td>195.0</td>\n",
              "      <td>0.0</td>\n",
              "      <td>0.0</td>\n",
              "      <td>0.0</td>\n",
              "      <td>0.0</td>\n",
              "      <td>...</td>\n",
              "      <td>0.0</td>\n",
              "      <td>0.0</td>\n",
              "      <td>0.0</td>\n",
              "      <td>0.0</td>\n",
              "      <td>0.0</td>\n",
              "      <td>0.0</td>\n",
              "      <td>0.0</td>\n",
              "      <td>0.0</td>\n",
              "      <td>64007.970000</td>\n",
              "      <td>0</td>\n",
              "    </tr>\n",
              "    <tr>\n",
              "      <th>4</th>\n",
              "      <td>10</td>\n",
              "      <td>2</td>\n",
              "      <td>39</td>\n",
              "      <td>0.0</td>\n",
              "      <td>0.0</td>\n",
              "      <td>0.0</td>\n",
              "      <td>0.0</td>\n",
              "      <td>0.0</td>\n",
              "      <td>0.0</td>\n",
              "      <td>0.0</td>\n",
              "      <td>...</td>\n",
              "      <td>0.0</td>\n",
              "      <td>0.0</td>\n",
              "      <td>0.0</td>\n",
              "      <td>0.0</td>\n",
              "      <td>0.0</td>\n",
              "      <td>0.0</td>\n",
              "      <td>0.0</td>\n",
              "      <td>0.0</td>\n",
              "      <td>117310.979016</td>\n",
              "      <td>0</td>\n",
              "    </tr>\n",
              "  </tbody>\n",
              "</table>\n",
              "<p>5 rows × 371 columns</p>\n",
              "</div>\n",
              "      <button class=\"colab-df-convert\" onclick=\"convertToInteractive('df-6f5ca7f1-8293-44fe-98b1-4dbc06c059a8')\"\n",
              "              title=\"Convert this dataframe to an interactive table.\"\n",
              "              style=\"display:none;\">\n",
              "        \n",
              "  <svg xmlns=\"http://www.w3.org/2000/svg\" height=\"24px\"viewBox=\"0 0 24 24\"\n",
              "       width=\"24px\">\n",
              "    <path d=\"M0 0h24v24H0V0z\" fill=\"none\"/>\n",
              "    <path d=\"M18.56 5.44l.94 2.06.94-2.06 2.06-.94-2.06-.94-.94-2.06-.94 2.06-2.06.94zm-11 1L8.5 8.5l.94-2.06 2.06-.94-2.06-.94L8.5 2.5l-.94 2.06-2.06.94zm10 10l.94 2.06.94-2.06 2.06-.94-2.06-.94-.94-2.06-.94 2.06-2.06.94z\"/><path d=\"M17.41 7.96l-1.37-1.37c-.4-.4-.92-.59-1.43-.59-.52 0-1.04.2-1.43.59L10.3 9.45l-7.72 7.72c-.78.78-.78 2.05 0 2.83L4 21.41c.39.39.9.59 1.41.59.51 0 1.02-.2 1.41-.59l7.78-7.78 2.81-2.81c.8-.78.8-2.07 0-2.86zM5.41 20L4 18.59l7.72-7.72 1.47 1.35L5.41 20z\"/>\n",
              "  </svg>\n",
              "      </button>\n",
              "      \n",
              "  <style>\n",
              "    .colab-df-container {\n",
              "      display:flex;\n",
              "      flex-wrap:wrap;\n",
              "      gap: 12px;\n",
              "    }\n",
              "\n",
              "    .colab-df-convert {\n",
              "      background-color: #E8F0FE;\n",
              "      border: none;\n",
              "      border-radius: 50%;\n",
              "      cursor: pointer;\n",
              "      display: none;\n",
              "      fill: #1967D2;\n",
              "      height: 32px;\n",
              "      padding: 0 0 0 0;\n",
              "      width: 32px;\n",
              "    }\n",
              "\n",
              "    .colab-df-convert:hover {\n",
              "      background-color: #E2EBFA;\n",
              "      box-shadow: 0px 1px 2px rgba(60, 64, 67, 0.3), 0px 1px 3px 1px rgba(60, 64, 67, 0.15);\n",
              "      fill: #174EA6;\n",
              "    }\n",
              "\n",
              "    [theme=dark] .colab-df-convert {\n",
              "      background-color: #3B4455;\n",
              "      fill: #D2E3FC;\n",
              "    }\n",
              "\n",
              "    [theme=dark] .colab-df-convert:hover {\n",
              "      background-color: #434B5C;\n",
              "      box-shadow: 0px 1px 3px 1px rgba(0, 0, 0, 0.15);\n",
              "      filter: drop-shadow(0px 1px 2px rgba(0, 0, 0, 0.3));\n",
              "      fill: #FFFFFF;\n",
              "    }\n",
              "  </style>\n",
              "\n",
              "      <script>\n",
              "        const buttonEl =\n",
              "          document.querySelector('#df-6f5ca7f1-8293-44fe-98b1-4dbc06c059a8 button.colab-df-convert');\n",
              "        buttonEl.style.display =\n",
              "          google.colab.kernel.accessAllowed ? 'block' : 'none';\n",
              "\n",
              "        async function convertToInteractive(key) {\n",
              "          const element = document.querySelector('#df-6f5ca7f1-8293-44fe-98b1-4dbc06c059a8');\n",
              "          const dataTable =\n",
              "            await google.colab.kernel.invokeFunction('convertToInteractive',\n",
              "                                                     [key], {});\n",
              "          if (!dataTable) return;\n",
              "\n",
              "          const docLinkHtml = 'Like what you see? Visit the ' +\n",
              "            '<a target=\"_blank\" href=https://colab.research.google.com/notebooks/data_table.ipynb>data table notebook</a>'\n",
              "            + ' to learn more about interactive tables.';\n",
              "          element.innerHTML = '';\n",
              "          dataTable['output_type'] = 'display_data';\n",
              "          await google.colab.output.renderOutput(dataTable, element);\n",
              "          const docLink = document.createElement('div');\n",
              "          docLink.innerHTML = docLinkHtml;\n",
              "          element.appendChild(docLink);\n",
              "        }\n",
              "      </script>\n",
              "    </div>\n",
              "  </div>\n",
              "  "
            ]
          },
          "metadata": {},
          "execution_count": 2
        }
      ]
    },
    {
      "cell_type": "code",
      "metadata": {
        "id": "9uoUNKzPhEEx",
        "colab": {
          "base_uri": "https://localhost:8080/"
        },
        "outputId": "9155ada9-0b79-4c06-9358-737e85d02435"
      },
      "source": [
        "pddf.shape"
      ],
      "execution_count": 3,
      "outputs": [
        {
          "output_type": "execute_result",
          "data": {
            "text/plain": [
              "(76020, 371)"
            ]
          },
          "metadata": {},
          "execution_count": 3
        }
      ]
    },
    {
      "cell_type": "code",
      "metadata": {
        "id": "4tuDnh9shR1u"
      },
      "source": [
        "# Cargar seaborn \n",
        "import seaborn as sns\n",
        "sns.set(style=\"whitegrid\", color_codes = True)\n",
        "sns.set(rc={'figure.figsize':(10,6)})"
      ],
      "execution_count": 4,
      "outputs": []
    },
    {
      "cell_type": "code",
      "metadata": {
        "id": "5FRnVO_GhTwz",
        "outputId": "6f5fade9-469a-4b15-937b-6abcebda301a",
        "colab": {
          "base_uri": "https://localhost:8080/",
          "height": 567
        }
      },
      "source": [
        "# Analizando el target \n",
        "sns.countplot(x = 'TARGET', data = pddf, palette = 'hls')\n"
      ],
      "execution_count": 5,
      "outputs": [
        {
          "output_type": "execute_result",
          "data": {
            "text/plain": [
              "<Axes: xlabel='TARGET', ylabel='count'>"
            ]
          },
          "metadata": {},
          "execution_count": 5
        },
        {
          "output_type": "display_data",
          "data": {
            "text/plain": [
              "<Figure size 1000x600 with 1 Axes>"
            ],
            "image/png": "[encoded data removed]"
          },
          "metadata": {}
        }
      ]
    },
    {
      "cell_type": "code",
      "source": [
        "pddf.groupby('TARGET')['ID'].count()"
      ],
      "metadata": {
        "colab": {
          "base_uri": "https://localhost:8080/"
        },
        "id": "-mR9zrqmjXIl",
        "outputId": "b2086a1e-0f83-41dc-fd36-0479a2a741da"
      },
      "execution_count": 6,
      "outputs": [
        {
          "output_type": "execute_result",
          "data": {
            "text/plain": [
              "TARGET\n",
              "0    73012\n",
              "1     3008\n",
              "Name: ID, dtype: int64"
            ]
          },
          "metadata": {},
          "execution_count": 6
        }
      ]
    },
    {
      "cell_type": "code",
      "metadata": {
        "id": "IXN9cJ2H2JZQ",
        "outputId": "550f1a5d-f1b3-4135-eff8-e95064bbfda1",
        "colab": {
          "base_uri": "https://localhost:8080/",
          "height": 300
        }
      },
      "source": [
        "pddf[['TARGET']].describe()"
      ],
      "execution_count": 7,
      "outputs": [
        {
          "output_type": "execute_result",
          "data": {
            "text/plain": [
              "             TARGET\n",
              "count  76020.000000\n",
              "mean       0.039569\n",
              "std        0.194945\n",
              "min        0.000000\n",
              "25%        0.000000\n",
              "50%        0.000000\n",
              "75%        0.000000\n",
              "max        1.000000"
            ],
            "text/html": [
              "\n",
              "  <div id=\"df-2d20d172-0ddd-4b0a-84ef-f271a232df71\">\n",
              "    <div class=\"colab-df-container\">\n",
              "      <div>\n",
              "<style scoped>\n",
              "    .dataframe tbody tr th:only-of-type {\n",
              "        vertical-align: middle;\n",
              "    }\n",
              "\n",
              "    .dataframe tbody tr th {\n",
              "        vertical-align: top;\n",
              "    }\n",
              "\n",
              "    .dataframe thead th {\n",
              "        text-align: right;\n",
              "    }\n",
              "</style>\n",
              "<table border=\"1\" class=\"dataframe\">\n",
              "  <thead>\n",
              "    <tr style=\"text-align: right;\">\n",
              "      <th></th>\n",
              "      <th>TARGET</th>\n",
              "    </tr>\n",
              "  </thead>\n",
              "  <tbody>\n",
              "    <tr>\n",
              "      <th>count</th>\n",
              "      <td>76020.000000</td>\n",
              "    </tr>\n",
              "    <tr>\n",
              "      <th>mean</th>\n",
              "      <td>0.039569</td>\n",
              "    </tr>\n",
              "    <tr>\n",
              "      <th>std</th>\n",
              "      <td>0.194945</td>\n",
              "    </tr>\n",
              "    <tr>\n",
              "      <th>min</th>\n",
              "      <td>0.000000</td>\n",
              "    </tr>\n",
              "    <tr>\n",
              "      <th>25%</th>\n",
              "      <td>0.000000</td>\n",
              "    </tr>\n",
              "    <tr>\n",
              "      <th>50%</th>\n",
              "      <td>0.000000</td>\n",
              "    </tr>\n",
              "    <tr>\n",
              "      <th>75%</th>\n",
              "      <td>0.000000</td>\n",
              "    </tr>\n",
              "    <tr>\n",
              "      <th>max</th>\n",
              "      <td>1.000000</td>\n",
              "    </tr>\n",
              "  </tbody>\n",
              "</table>\n",
              "</div>\n",
              "      <button class=\"colab-df-convert\" onclick=\"convertToInteractive('df-2d20d172-0ddd-4b0a-84ef-f271a232df71')\"\n",
              "              title=\"Convert this dataframe to an interactive table.\"\n",
              "              style=\"display:none;\">\n",
              "        \n",
              "  <svg xmlns=\"http://www.w3.org/2000/svg\" height=\"24px\"viewBox=\"0 0 24 24\"\n",
              "       width=\"24px\">\n",
              "    <path d=\"M0 0h24v24H0V0z\" fill=\"none\"/>\n",
              "    <path d=\"M18.56 5.44l.94 2.06.94-2.06 2.06-.94-2.06-.94-.94-2.06-.94 2.06-2.06.94zm-11 1L8.5 8.5l.94-2.06 2.06-.94-2.06-.94L8.5 2.5l-.94 2.06-2.06.94zm10 10l.94 2.06.94-2.06 2.06-.94-2.06-.94-.94-2.06-.94 2.06-2.06.94z\"/><path d=\"M17.41 7.96l-1.37-1.37c-.4-.4-.92-.59-1.43-.59-.52 0-1.04.2-1.43.59L10.3 9.45l-7.72 7.72c-.78.78-.78 2.05 0 2.83L4 21.41c.39.39.9.59 1.41.59.51 0 1.02-.2 1.41-.59l7.78-7.78 2.81-2.81c.8-.78.8-2.07 0-2.86zM5.41 20L4 18.59l7.72-7.72 1.47 1.35L5.41 20z\"/>\n",
              "  </svg>\n",
              "      </button>\n",
              "      \n",
              "  <style>\n",
              "    .colab-df-container {\n",
              "      display:flex;\n",
              "      flex-wrap:wrap;\n",
              "      gap: 12px;\n",
              "    }\n",
              "\n",
              "    .colab-df-convert {\n",
              "      background-color: #E8F0FE;\n",
              "      border: none;\n",
              "      border-radius: 50%;\n",
              "      cursor: pointer;\n",
              "      display: none;\n",
              "      fill: #1967D2;\n",
              "      height: 32px;\n",
              "      padding: 0 0 0 0;\n",
              "      width: 32px;\n",
              "    }\n",
              "\n",
              "    .colab-df-convert:hover {\n",
              "      background-color: #E2EBFA;\n",
              "      box-shadow: 0px 1px 2px rgba(60, 64, 67, 0.3), 0px 1px 3px 1px rgba(60, 64, 67, 0.15);\n",
              "      fill: #174EA6;\n",
              "    }\n",
              "\n",
              "    [theme=dark] .colab-df-convert {\n",
              "      background-color: #3B4455;\n",
              "      fill: #D2E3FC;\n",
              "    }\n",
              "\n",
              "    [theme=dark] .colab-df-convert:hover {\n",
              "      background-color: #434B5C;\n",
              "      box-shadow: 0px 1px 3px 1px rgba(0, 0, 0, 0.15);\n",
              "      filter: drop-shadow(0px 1px 2px rgba(0, 0, 0, 0.3));\n",
              "      fill: #FFFFFF;\n",
              "    }\n",
              "  </style>\n",
              "\n",
              "      <script>\n",
              "        const buttonEl =\n",
              "          document.querySelector('#df-2d20d172-0ddd-4b0a-84ef-f271a232df71 button.colab-df-convert');\n",
              "        buttonEl.style.display =\n",
              "          google.colab.kernel.accessAllowed ? 'block' : 'none';\n",
              "\n",
              "        async function convertToInteractive(key) {\n",
              "          const element = document.querySelector('#df-2d20d172-0ddd-4b0a-84ef-f271a232df71');\n",
              "          const dataTable =\n",
              "            await google.colab.kernel.invokeFunction('convertToInteractive',\n",
              "                                                     [key], {});\n",
              "          if (!dataTable) return;\n",
              "\n",
              "          const docLinkHtml = 'Like what you see? Visit the ' +\n",
              "            '<a target=\"_blank\" href=https://colab.research.google.com/notebooks/data_table.ipynb>data table notebook</a>'\n",
              "            + ' to learn more about interactive tables.';\n",
              "          element.innerHTML = '';\n",
              "          dataTable['output_type'] = 'display_data';\n",
              "          await google.colab.output.renderOutput(dataTable, element);\n",
              "          const docLink = document.createElement('div');\n",
              "          docLink.innerHTML = docLinkHtml;\n",
              "          element.appendChild(docLink);\n",
              "        }\n",
              "      </script>\n",
              "    </div>\n",
              "  </div>\n",
              "  "
            ]
          },
          "metadata": {},
          "execution_count": 7
        }
      ]
    },
    {
      "cell_type": "code",
      "metadata": {
        "id": "Gp3tJewWi2Al",
        "outputId": "d173fab8-0a1c-4c62-d453-7973caf50cbb",
        "colab": {
          "base_uri": "https://localhost:8080/"
        }
      },
      "source": [
        "# Indentificar las variables \n",
        "\n",
        "features = list(set(pddf.columns.tolist()) - set(['ID','TARGET']))\n",
        "features"
      ],
      "execution_count": 4,
      "outputs": [
        {
          "output_type": "execute_result",
          "data": {
            "text/plain": [
              "['saldo_var41',\n",
              " 'num_var13',\n",
              " 'num_var39_0',\n",
              " 'num_var45_hace2',\n",
              " 'delta_imp_reemb_var33_1y3',\n",
              " 'ind_var13_0',\n",
              " 'var3',\n",
              " 'num_op_var41_hace2',\n",
              " 'saldo_var32',\n",
              " 'num_var24',\n",
              " 'num_aport_var13_ult1',\n",
              " 'num_var37',\n",
              " 'saldo_medio_var44_ult3',\n",
              " 'imp_aport_var33_hace3',\n",
              " 'saldo_var2_ult1',\n",
              " 'ind_var13_largo_0',\n",
              " 'delta_num_trasp_var33_in_1y3',\n",
              " 'delta_num_aport_var33_1y3',\n",
              " 'delta_imp_aport_var13_1y3',\n",
              " 'num_var5',\n",
              " 'ind_var12_0',\n",
              " 'num_var18_0',\n",
              " 'imp_aport_var17_hace3',\n",
              " 'delta_imp_compra_var44_1y3',\n",
              " 'num_var26',\n",
              " 'saldo_var26',\n",
              " 'num_var1',\n",
              " 'num_var37_0',\n",
              " 'imp_amort_var34_hace3',\n",
              " 'imp_trasp_var17_in_hace3',\n",
              " 'ind_var20',\n",
              " 'saldo_medio_var29_hace2',\n",
              " 'num_var13_medio',\n",
              " 'num_var45_ult1',\n",
              " 'delta_num_aport_var13_1y3',\n",
              " 'saldo_medio_var12_hace3',\n",
              " 'saldo_var14',\n",
              " 'num_var43_emit_ult1',\n",
              " 'delta_imp_trasp_var17_out_1y3',\n",
              " 'delta_num_trasp_var17_in_1y3',\n",
              " 'num_op_var40_ult1',\n",
              " 'num_trasp_var33_out_hace3',\n",
              " 'saldo_medio_var8_ult3',\n",
              " 'num_var34_0',\n",
              " 'num_var25',\n",
              " 'num_var5_0',\n",
              " 'num_var28_0',\n",
              " 'num_op_var39_comer_ult3',\n",
              " 'num_reemb_var13_ult1',\n",
              " 'num_var8',\n",
              " 'saldo_var25',\n",
              " 'num_sal_var16_ult1',\n",
              " 'imp_op_var41_efect_ult3',\n",
              " 'num_var42',\n",
              " 'num_var22_ult3',\n",
              " 'ind_var17_0',\n",
              " 'saldo_var42',\n",
              " 'saldo_medio_var5_ult1',\n",
              " 'imp_trasp_var33_out_ult1',\n",
              " 'num_var13_largo',\n",
              " 'num_var39',\n",
              " 'num_trasp_var33_in_hace3',\n",
              " 'delta_imp_trasp_var33_out_1y3',\n",
              " 'num_op_var41_efect_ult3',\n",
              " 'num_var29_0',\n",
              " 'saldo_var17',\n",
              " 'ind_var34',\n",
              " 'imp_var7_emit_ult1',\n",
              " 'num_op_var40_hace2',\n",
              " 'imp_trasp_var17_out_hace3',\n",
              " 'imp_op_var39_efect_ult3',\n",
              " 'imp_trasp_var33_in_ult1',\n",
              " 'ind_var1_0',\n",
              " 'num_op_var39_hace3',\n",
              " 'imp_op_var40_efect_ult1',\n",
              " 'num_var31_0',\n",
              " 'imp_op_var41_comer_ult3',\n",
              " 'ind_var33',\n",
              " 'imp_op_var39_comer_ult3',\n",
              " 'imp_op_var41_ult1',\n",
              " 'num_var24_0',\n",
              " 'num_reemb_var17_ult1',\n",
              " 'imp_reemb_var33_hace3',\n",
              " 'ind_var31_0',\n",
              " 'num_op_var39_ult1',\n",
              " 'ind_var27',\n",
              " 'imp_op_var40_comer_ult1',\n",
              " 'ind_var37_0',\n",
              " 'imp_compra_var44_ult1',\n",
              " 'num_meses_var12_ult3',\n",
              " 'delta_num_aport_var17_1y3',\n",
              " 'ind_var25',\n",
              " 'saldo_medio_var8_hace3',\n",
              " 'ind_var40_0',\n",
              " 'saldo_medio_var33_ult1',\n",
              " 'ind_var34_0',\n",
              " 'saldo_var44',\n",
              " 'delta_imp_aport_var17_1y3',\n",
              " 'ind_var1',\n",
              " 'num_var27',\n",
              " 'num_var40',\n",
              " 'ind_var25_cte',\n",
              " 'num_reemb_var33_ult1',\n",
              " 'delta_imp_reemb_var13_1y3',\n",
              " 'ind_var27_0',\n",
              " 'num_aport_var17_ult1',\n",
              " 'num_var33_0',\n",
              " 'delta_num_venta_var44_1y3',\n",
              " 'delta_num_reemb_var33_1y3',\n",
              " 'num_aport_var13_hace3',\n",
              " 'num_meses_var17_ult3',\n",
              " 'saldo_medio_var17_ult1',\n",
              " 'num_op_var41_ult1',\n",
              " 'num_meses_var13_corto_ult3',\n",
              " 'ind_var26',\n",
              " 'num_op_var39_comer_ult1',\n",
              " 'imp_trans_var37_ult1',\n",
              " 'saldo_var28',\n",
              " 'saldo_var46',\n",
              " 'saldo_var37',\n",
              " 'num_var46',\n",
              " 'num_var37_med_ult2',\n",
              " 'num_var29',\n",
              " 'num_op_var40_comer_ult3',\n",
              " 'num_var44_0',\n",
              " 'imp_aport_var33_ult1',\n",
              " 'saldo_var33',\n",
              " 'delta_imp_amort_var18_1y3',\n",
              " 'num_op_var40_comer_ult1',\n",
              " 'num_var7_recib_ult1',\n",
              " 'num_reemb_var17_hace3',\n",
              " 'saldo_var13_corto',\n",
              " 'saldo_medio_var13_corto_hace3',\n",
              " 'num_op_var39_hace2',\n",
              " 'ind_var14_0',\n",
              " 'saldo_var6',\n",
              " 'saldo_var8',\n",
              " 'ind_var39_0',\n",
              " 'ind_var43_emit_ult1',\n",
              " 'imp_reemb_var17_ult1',\n",
              " 'ind_var14',\n",
              " 'num_op_var41_comer_ult3',\n",
              " 'saldo_var1',\n",
              " 'saldo_medio_var17_hace2',\n",
              " 'imp_op_var41_comer_ult1',\n",
              " 'num_op_var39_ult3',\n",
              " 'ind_var37',\n",
              " 'num_op_var40_efect_ult1',\n",
              " 'num_var13_largo_0',\n",
              " 'imp_aport_var17_ult1',\n",
              " 'imp_trasp_var17_out_ult1',\n",
              " 'ind_var43_recib_ult1',\n",
              " 'num_op_var41_ult3',\n",
              " 'num_op_var41_efect_ult1',\n",
              " 'num_var13_0',\n",
              " 'saldo_var5',\n",
              " 'imp_amort_var18_hace3',\n",
              " 'ind_var28',\n",
              " 'num_op_var40_efect_ult3',\n",
              " 'delta_num_reemb_var17_1y3',\n",
              " 'saldo_var24',\n",
              " 'num_op_var40_ult3',\n",
              " 'num_var6_0',\n",
              " 'num_var17_0',\n",
              " 'num_var12_0',\n",
              " 'num_meses_var44_ult3',\n",
              " 'saldo_medio_var13_largo_ult3',\n",
              " 'saldo_medio_var44_hace3',\n",
              " 'num_var25_0',\n",
              " 'num_var6',\n",
              " 'ind_var30_0',\n",
              " 'delta_imp_trasp_var33_in_1y3',\n",
              " 'num_var8_0',\n",
              " 'num_var46_0',\n",
              " 'imp_var43_emit_ult1',\n",
              " 'num_med_var22_ult3',\n",
              " 'imp_reemb_var17_hace3',\n",
              " 'delta_imp_aport_var33_1y3',\n",
              " 'imp_trasp_var33_out_hace3',\n",
              " 'num_op_var41_comer_ult1',\n",
              " 'ind_var7_emit_ult1',\n",
              " 'delta_imp_trasp_var17_in_1y3',\n",
              " 'saldo_medio_var13_largo_hace2',\n",
              " 'saldo_medio_var5_hace2',\n",
              " 'saldo_medio_var13_corto_ult1',\n",
              " 'num_op_var41_hace3',\n",
              " 'ind_var19',\n",
              " 'ind_var8',\n",
              " 'saldo_medio_var33_hace2',\n",
              " 'imp_op_var39_efect_ult1',\n",
              " 'delta_num_compra_var44_1y3',\n",
              " 'num_var1_0',\n",
              " 'ind_var37_cte',\n",
              " 'imp_op_var40_efect_ult3',\n",
              " 'saldo_var13_largo',\n",
              " 'imp_aport_var13_ult1',\n",
              " 'ind_var46',\n",
              " 'ind_var29_0',\n",
              " 'num_var7_emit_ult1',\n",
              " 'ind_var24_0',\n",
              " 'saldo_medio_var17_ult3',\n",
              " 'var21',\n",
              " 'imp_ent_var16_ult1',\n",
              " 'num_med_var45_ult3',\n",
              " 'saldo_medio_var12_hace2',\n",
              " 'saldo_medio_var13_medio_ult1',\n",
              " 'num_var2_ult1',\n",
              " 'num_var45_hace3',\n",
              " 'ind_var26_cte',\n",
              " 'ind_var25_0',\n",
              " 'ind_var32_cte',\n",
              " 'num_var32',\n",
              " 'ind_var30',\n",
              " 'num_reemb_var13_hace3',\n",
              " 'num_var32_0',\n",
              " 'num_op_var39_efect_ult1',\n",
              " 'saldo_medio_var13_corto_ult3',\n",
              " 'num_var34',\n",
              " 'imp_aport_var13_hace3',\n",
              " 'imp_op_var40_comer_ult3',\n",
              " 'imp_var7_recib_ult1',\n",
              " 'num_trasp_var17_in_hace3',\n",
              " 'saldo_var40',\n",
              " 'num_var14_0',\n",
              " 'num_meses_var5_ult3',\n",
              " 'num_reemb_var33_hace3',\n",
              " 'ind_var2',\n",
              " 'num_aport_var33_hace3',\n",
              " 'imp_sal_var16_ult1',\n",
              " 'num_meses_var29_ult3',\n",
              " 'ind_var33_0',\n",
              " 'num_op_var40_hace3',\n",
              " 'saldo_medio_var33_hace3',\n",
              " 'imp_amort_var34_ult1',\n",
              " 'saldo_medio_var5_ult3',\n",
              " 'var36',\n",
              " 'ind_var44_0',\n",
              " 'num_trasp_var17_out_hace3',\n",
              " 'imp_op_var39_ult1',\n",
              " 'saldo_medio_var33_ult3',\n",
              " 'ind_var41',\n",
              " 'delta_num_trasp_var17_out_1y3',\n",
              " 'num_var43_recib_ult1',\n",
              " 'saldo_medio_var29_hace3',\n",
              " 'delta_imp_venta_var44_1y3',\n",
              " 'ind_var5_0',\n",
              " 'saldo_medio_var44_ult1',\n",
              " 'ind_var32',\n",
              " 'ind_var13_medio',\n",
              " 'ind_var40',\n",
              " 'ind_var13_corto',\n",
              " 'ind_var12',\n",
              " 'saldo_medio_var8_hace2',\n",
              " 'num_var45_ult3',\n",
              " 'saldo_medio_var12_ult1',\n",
              " 'saldo_medio_var13_largo_hace3',\n",
              " 'ind_var9_cte_ult1',\n",
              " 'ind_var29',\n",
              " 'imp_op_var41_efect_ult1',\n",
              " 'num_var2_0_ult1',\n",
              " 'ind_var18',\n",
              " 'imp_compra_var44_hace3',\n",
              " 'num_trasp_var11_ult1',\n",
              " 'imp_op_var39_comer_ult1',\n",
              " 'num_venta_var44_hace3',\n",
              " 'ind_var13_largo',\n",
              " 'ind_var32_0',\n",
              " 'saldo_medio_var29_ult1',\n",
              " 'num_var30',\n",
              " 'ind_var13_corto_0',\n",
              " 'ind_var44',\n",
              " 'num_var13_corto',\n",
              " 'ind_var41_0',\n",
              " 'ind_var7_recib_ult1',\n",
              " 'delta_imp_reemb_var17_1y3',\n",
              " 'imp_venta_var44_hace3',\n",
              " 'saldo_medio_var13_medio_hace3',\n",
              " 'num_var44',\n",
              " 'num_var13_medio_0',\n",
              " 'num_aport_var17_hace3',\n",
              " 'ind_var18_0',\n",
              " 'num_ent_var16_ult1',\n",
              " 'num_aport_var33_ult1',\n",
              " 'num_var42_0',\n",
              " 'num_var26_0',\n",
              " 'saldo_var20',\n",
              " 'num_meses_var13_largo_ult3',\n",
              " 'delta_num_trasp_var33_out_1y3',\n",
              " 'num_var17',\n",
              " 'num_op_var39_efect_ult3',\n",
              " 'num_venta_var44_ult1',\n",
              " 'imp_trasp_var17_in_ult1',\n",
              " 'num_var40_0',\n",
              " 'num_var14',\n",
              " 'num_var4',\n",
              " 'ind_var10_ult1',\n",
              " 'saldo_medio_var12_ult3',\n",
              " 'ind_var28_0',\n",
              " 'num_var20',\n",
              " 'num_var22_hace3',\n",
              " 'num_trasp_var33_out_ult1',\n",
              " 'num_meses_var8_ult3',\n",
              " 'num_compra_var44_ult1',\n",
              " 'num_var18',\n",
              " 'saldo_var31',\n",
              " 'ind_var10cte_ult1',\n",
              " 'num_compra_var44_hace3',\n",
              " 'imp_reemb_var33_ult1',\n",
              " 'num_var28',\n",
              " 'saldo_var18',\n",
              " 'saldo_var13',\n",
              " 'saldo_medio_var44_hace2',\n",
              " 'num_meses_var39_vig_ult3',\n",
              " 'delta_imp_amort_var34_1y3',\n",
              " 'saldo_var27',\n",
              " 'ind_var20_0',\n",
              " 'ind_var8_0',\n",
              " 'saldo_var34',\n",
              " 'ind_var26_0',\n",
              " 'num_var31',\n",
              " 'imp_reemb_var13_ult1',\n",
              " 'ind_var46_0',\n",
              " 'num_var12',\n",
              " 'ind_var2_0',\n",
              " 'imp_reemb_var13_hace3',\n",
              " 'imp_amort_var18_ult1',\n",
              " 'num_var22_hace2',\n",
              " 'num_var33',\n",
              " 'saldo_medio_var13_largo_ult1',\n",
              " 'imp_op_var40_ult1',\n",
              " 'num_var41',\n",
              " 'num_var13_corto_0',\n",
              " 'num_trasp_var33_in_ult1',\n",
              " 'num_meses_var33_ult3',\n",
              " 'imp_venta_var44_ult1',\n",
              " 'saldo_medio_var5_hace3',\n",
              " 'saldo_var12',\n",
              " 'ind_var6',\n",
              " 'num_var41_0',\n",
              " 'num_var22_ult1',\n",
              " 'var38',\n",
              " 'ind_var13',\n",
              " 'saldo_var13_medio',\n",
              " 'saldo_medio_var8_ult1',\n",
              " 'ind_var17',\n",
              " 'delta_num_reemb_var13_1y3',\n",
              " 'ind_var13_medio_0',\n",
              " 'num_var27_0',\n",
              " 'num_meses_var13_medio_ult3',\n",
              " 'saldo_medio_var13_corto_hace2',\n",
              " 'imp_trasp_var33_in_hace3',\n",
              " 'ind_var9_ult1',\n",
              " 'ind_var31',\n",
              " 'saldo_medio_var29_ult3',\n",
              " 'ind_var24',\n",
              " 'ind_var39',\n",
              " 'saldo_medio_var13_medio_ult3',\n",
              " 'saldo_medio_var17_hace3',\n",
              " 'num_trasp_var17_in_ult1',\n",
              " 'num_var35',\n",
              " 'saldo_var29',\n",
              " 'ind_var5',\n",
              " 'num_trasp_var17_out_ult1',\n",
              " 'num_var30_0',\n",
              " 'ind_var6_0',\n",
              " 'num_var20_0',\n",
              " 'var15',\n",
              " 'saldo_medio_var13_medio_hace2',\n",
              " 'saldo_var30']"
            ]
          },
          "metadata": {},
          "execution_count": 4
        }
      ]
    },
    {
      "cell_type": "code",
      "metadata": {
        "id": "S3f-viEzjfAu"
      },
      "source": [
        "# Determinando matrices de datos\n",
        "\n",
        "X = pddf[features]\n",
        "y = pddf.TARGET\n"
      ],
      "execution_count": 5,
      "outputs": []
    },
    {
      "cell_type": "code",
      "metadata": {
        "id": "mzy50oqNjwPG"
      },
      "source": [
        "# Muestreo de data\n",
        "\n",
        "from sklearn.model_selection import train_test_split\n",
        "\n",
        "X_train, X_test, y_train, y_test = train_test_split(X, y, \n",
        "                                                    stratify = y,\n",
        "                                                    test_size = 0.3,\n",
        "                                                    random_state = 123)\n"
      ],
      "execution_count": 10,
      "outputs": []
    },
    {
      "cell_type": "code",
      "source": [
        "y_train.mean()"
      ],
      "metadata": {
        "id": "1mBfZirX71EU",
        "outputId": "853d2927-837c-47fc-e9fb-5d535b0b6eb2",
        "colab": {
          "base_uri": "https://localhost:8080/"
        }
      },
      "execution_count": 11,
      "outputs": [
        {
          "output_type": "execute_result",
          "data": {
            "text/plain": [
              "0.039576051415041155"
            ]
          },
          "metadata": {},
          "execution_count": 11
        }
      ]
    },
    {
      "cell_type": "code",
      "source": [
        "y_test.mean()"
      ],
      "metadata": {
        "id": "5NdPLei379rp",
        "outputId": "d3f43c47-1caf-42d2-bd6d-809a54a6d8cd",
        "colab": {
          "base_uri": "https://localhost:8080/"
        }
      },
      "execution_count": 12,
      "outputs": [
        {
          "output_type": "execute_result",
          "data": {
            "text/plain": [
              "0.03955099535210033"
            ]
          },
          "metadata": {},
          "execution_count": 12
        }
      ]
    },
    {
      "cell_type": "markdown",
      "metadata": {
        "id": "acYMp0BJbTca"
      },
      "source": [
        "# SMOTE Algorithm"
      ]
    },
    {
      "cell_type": "markdown",
      "metadata": {
        "id": "lmJ90AeP1a2L"
      },
      "source": [
        "\n",
        "<b>Synthetic Minority Oversampling Technique</b>\n",
        "\n",
        "Es uno de los métodos de sobremuestreo más utilizados para resolver el problema del desbalanceo.\n",
        "Su objetivo es equilibrar la distribución de clases aumentando aleatoriamente los ejemplos de clases minoritarias al replicarlos."
      ]
    },
    {
      "cell_type": "markdown",
      "metadata": {
        "id": "xMphbZhrkadV"
      },
      "source": [
        "\n",
        "SMOTE sintetiza nuevas instancias minoritarias entre instancias minoritarias existentes. Genera los registros de entrenamiento virtual por interpolación lineal para la clase minoritaria. Estos registros de entrenamiento sintéticos se generan seleccionando aleatoriamente uno o más de los k vecinos más cercanos para cada ejemplo en la clase minoritaria. Después del proceso de sobremuestreo, los datos se reconstruyen y se pueden aplicar varios modelos de clasificación para los datos procesados.\n",
        "¡Más información detallada sobre cómo funciona el algoritmo SMOTE!\n",
        "\n",
        "<strong>Puede consultar este [link](https://imbalanced-learn.org/stable/generated/imblearn.over_sampling.SMOTE.html) para leer más sobre SMOTE.</strong>\n",
        "\n",
        "<img src=\"https://i.ytimg.com/vi/U3X98xZ4_no/maxresdefault.jpg\" alt=\"HTML5 Icon\" style=\"width: 400px; height: 250px;\">\n",
        "\n",
        "\n",
        "\n"
      ]
    },
    {
      "cell_type": "code",
      "metadata": {
        "id": "33eQ1J8BillH"
      },
      "source": [
        "# Aplicando SMOTE para oversampling\n",
        "\n",
        "from imblearn.over_sampling import SMOTE\n"
      ],
      "execution_count": 13,
      "outputs": []
    },
    {
      "cell_type": "code",
      "source": [
        "sm = SMOTE(random_state = 123)\n",
        "X_train_res, y_train_res = sm.fit_resample(X_train, y_train.ravel())\n"
      ],
      "metadata": {
        "id": "PU3B7ZNUqu0M"
      },
      "execution_count": 14,
      "outputs": []
    },
    {
      "cell_type": "code",
      "metadata": {
        "colab": {
          "base_uri": "https://localhost:8080/",
          "height": 544
        },
        "id": "5dN-0BsBFjpB",
        "outputId": "60092a9f-22ca-4d25-c0d6-d8868794415b"
      },
      "source": [
        "# Analizando el target \n",
        "sns.countplot(x = y_train_res, palette = 'hls')"
      ],
      "execution_count": 15,
      "outputs": [
        {
          "output_type": "execute_result",
          "data": {
            "text/plain": [
              "<Axes: ylabel='count'>"
            ]
          },
          "metadata": {},
          "execution_count": 15
        },
        {
          "output_type": "display_data",
          "data": {
            "text/plain": [
              "<Figure size 1000x600 with 1 Axes>"
            ],
            "image/png": "[encoded data removed]"
          },
          "metadata": {}
        }
      ]
    },
    {
      "cell_type": "markdown",
      "metadata": {
        "id": "yIKZh3IJ_w6B"
      },
      "source": [
        "# Decision Tree"
      ]
    },
    {
      "cell_type": "code",
      "metadata": {
        "id": "5wwflOn2M1xa"
      },
      "source": [
        "# Cargar librerías \n",
        "\n",
        "from sklearn.tree import DecisionTreeClassifier #para clasificacion\n",
        "from sklearn.tree import DecisionTreeRegressor #para regresion\n"
      ],
      "execution_count": 16,
      "outputs": []
    },
    {
      "cell_type": "code",
      "metadata": {
        "colab": {
          "base_uri": "https://localhost:8080/",
          "height": 74
        },
        "id": "ji5YxHcwM6Rv",
        "outputId": "643586a3-d9c3-48b3-d2dc-4240258d3542"
      },
      "source": [
        "# Definiendo modelo\n",
        "\n",
        "\n",
        "dtree = DecisionTreeClassifier(max_depth = 5, #profundidad\n",
        "                               #criterion = \"entropy\", por defecto se corta mediante gini, si deseo le pongo la entropia\n",
        "                               #class_weight = {0: 1, 1: 25.272},\n",
        "                               min_samples_leaf = 0.05,#cantidad minima de observaciones en cada nodo, si pones menos de 1 el algoritmo lo entiende como porcentaje y si es mas de uno lo entiende como cantidad\n",
        "                               random_state = 123)\n",
        "\n",
        "dtree = dtree.fit(X_train_res, y_train_res)\n",
        "    \n",
        "dtree"
      ],
      "execution_count": 17,
      "outputs": [
        {
          "output_type": "execute_result",
          "data": {
            "text/plain": [
              "DecisionTreeClassifier(max_depth=5, min_samples_leaf=0.05, random_state=123)"
            ],
            "text/html": [
              "<style>#sk-container-id-1 {color: black;background-color: white;}#sk-container-id-1 pre{padding: 0;}#sk-container-id-1 div.sk-toggleable {background-color: white;}#sk-container-id-1 label.sk-toggleable__label {cursor: pointer;display: block;width: 100%;margin-bottom: 0;padding: 0.3em;box-sizing: border-box;text-align: center;}#sk-container-id-1 label.sk-toggleable__label-arrow:before {content: \"▸\";float: left;margin-right: 0.25em;color: #696969;}#sk-container-id-1 label.sk-toggleable__label-arrow:hover:before {color: black;}#sk-container-id-1 div.sk-estimator:hover label.sk-toggleable__label-arrow:before {color: black;}#sk-container-id-1 div.sk-toggleable__content {max-height: 0;max-width: 0;overflow: hidden;text-align: left;background-color: #f0f8ff;}#sk-container-id-1 div.sk-toggleable__content pre {margin: 0.2em;color: black;border-radius: 0.25em;background-color: #f0f8ff;}#sk-container-id-1 input.sk-toggleable__control:checked~div.sk-toggleable__content {max-height: 200px;max-width: 100%;overflow: auto;}#sk-container-id-1 input.sk-toggleable__control:checked~label.sk-toggleable__label-arrow:before {content: \"▾\";}#sk-container-id-1 div.sk-estimator input.sk-toggleable__control:checked~label.sk-toggleable__label {background-color: #d4ebff;}#sk-container-id-1 div.sk-label input.sk-toggleable__control:checked~label.sk-toggleable__label {background-color: #d4ebff;}#sk-container-id-1 input.sk-hidden--visually {border: 0;clip: rect(1px 1px 1px 1px);clip: rect(1px, 1px, 1px, 1px);height: 1px;margin: -1px;overflow: hidden;padding: 0;position: absolute;width: 1px;}#sk-container-id-1 div.sk-estimator {font-family: monospace;background-color: #f0f8ff;border: 1px dotted black;border-radius: 0.25em;box-sizing: border-box;margin-bottom: 0.5em;}#sk-container-id-1 div.sk-estimator:hover {background-color: #d4ebff;}#sk-container-id-1 div.sk-parallel-item::after {content: \"\";width: 100%;border-bottom: 1px solid gray;flex-grow: 1;}#sk-container-id-1 div.sk-label:hover label.sk-toggleable__label {background-color: #d4ebff;}#sk-container-id-1 div.sk-serial::before {content: \"\";position: absolute;border-left: 1px solid gray;box-sizing: border-box;top: 0;bottom: 0;left: 50%;z-index: 0;}#sk-container-id-1 div.sk-serial {display: flex;flex-direction: column;align-items: center;background-color: white;padding-right: 0.2em;padding-left: 0.2em;position: relative;}#sk-container-id-1 div.sk-item {position: relative;z-index: 1;}#sk-container-id-1 div.sk-parallel {display: flex;align-items: stretch;justify-content: center;background-color: white;position: relative;}#sk-container-id-1 div.sk-item::before, #sk-container-id-1 div.sk-parallel-item::before {content: \"\";position: absolute;border-left: 1px solid gray;box-sizing: border-box;top: 0;bottom: 0;left: 50%;z-index: -1;}#sk-container-id-1 div.sk-parallel-item {display: flex;flex-direction: column;z-index: 1;position: relative;background-color: white;}#sk-container-id-1 div.sk-parallel-item:first-child::after {align-self: flex-end;width: 50%;}#sk-container-id-1 div.sk-parallel-item:last-child::after {align-self: flex-start;width: 50%;}#sk-container-id-1 div.sk-parallel-item:only-child::after {width: 0;}#sk-container-id-1 div.sk-dashed-wrapped {border: 1px dashed gray;margin: 0 0.4em 0.5em 0.4em;box-sizing: border-box;padding-bottom: 0.4em;background-color: white;}#sk-container-id-1 div.sk-label label {font-family: monospace;font-weight: bold;display: inline-block;line-height: 1.2em;}#sk-container-id-1 div.sk-label-container {text-align: center;}#sk-container-id-1 div.sk-container {/* jupyter's `normalize.less` sets `[hidden] { display: none; }` but bootstrap.min.css set `[hidden] { display: none !important; }` so we also need the `!important` here to be able to override the default hidden behavior on the sphinx rendered scikit-learn.org. See: https://github.com/scikit-learn/scikit-learn/issues/21755 */display: inline-block !important;position: relative;}#sk-container-id-1 div.sk-text-repr-fallback {display: none;}</style><div id=\"sk-container-id-1\" class=\"sk-top-container\"><div class=\"sk-text-repr-fallback\"><pre>DecisionTreeClassifier(max_depth=5, min_samples_leaf=0.05, random_state=123)</pre><b>In a Jupyter environment, please rerun this cell to show the HTML representation or trust the notebook. <br />On GitHub, the HTML representation is unable to render, please try loading this page with nbviewer.org.</b></div><div class=\"sk-container\" hidden><div class=\"sk-item\"><div class=\"sk-estimator sk-toggleable\"><input class=\"sk-toggleable__control sk-hidden--visually\" id=\"sk-estimator-id-1\" type=\"checkbox\" checked><label for=\"sk-estimator-id-1\" class=\"sk-toggleable__label sk-toggleable__label-arrow\">DecisionTreeClassifier</label><div class=\"sk-toggleable__content\"><pre>DecisionTreeClassifier(max_depth=5, min_samples_leaf=0.05, random_state=123)</pre></div></div></div></div></div>"
            ]
          },
          "metadata": {},
          "execution_count": 17
        }
      ]
    },
    {
      "cell_type": "code",
      "metadata": {
        "colab": {
          "base_uri": "https://localhost:8080/"
        },
        "id": "fueCZLMlM9bm",
        "outputId": "1f4538eb-4efb-45f1-e12f-dbb7e11ed8ba"
      },
      "source": [
        "# Graficando resultados\n",
        "\n",
        "from sklearn.tree import export_graphviz\n",
        "from pydotplus import graph_from_dot_data\n",
        "\n",
        "dot_data = export_graphviz(dtree,\n",
        "                           feature_names = features,\n",
        "                           filled = True,\n",
        "                           rounded = True,\n",
        "                           special_characters = True)\n",
        "\n",
        "graph = graph_from_dot_data(dot_data)\n",
        "graph.write_png('/tree.png')\n",
        "print(graph)\n"
      ],
      "execution_count": 18,
      "outputs": [
        {
          "output_type": "stream",
          "name": "stdout",
          "text": [
            "<pydotplus.graphviz.Dot object at 0x7f1dba919480>\n"
          ]
        }
      ]
    },
    {
      "cell_type": "markdown",
      "metadata": {
        "id": "G6VZANgBNsvr"
      },
      "source": [
        "<b>Bondad de ajuste</b>"
      ]
    },
    {
      "cell_type": "code",
      "metadata": {
        "id": "W1FA5RrONrrC"
      },
      "source": [
        "# Usando el modelo para predecir\n",
        "\n",
        "X_train['probability'] = dtree.predict_proba(X_train[features])[:,1]\n",
        "X_test['probability']  = dtree.predict_proba(X_test[features])[:,1]\n",
        "\n",
        "X_train['prediction'] = dtree.predict(X_train[features])\n",
        "X_test['prediction']  = dtree.predict(X_test[features])"
      ],
      "execution_count": 19,
      "outputs": []
    },
    {
      "cell_type": "code",
      "metadata": {
        "id": "-ERcxSdUN33K",
        "colab": {
          "base_uri": "https://localhost:8080/",
          "height": 237
        },
        "outputId": "65046e1e-fed2-4e96-f24e-f8941179b0ad"
      },
      "source": [
        "#Resumen de todas las métricas del modelo\n",
        "from sklearn.metrics import *\n",
        "\n",
        "metricsDtree_smote = pd.DataFrame({'metric':['AUC','Gini','Accuracy','Precision','Recall','F1-score'],\n",
        "                                'dTree_smote_train':[roc_auc_score(y_train, X_train.probability),\n",
        "                                        (roc_auc_score(y_train, X_train.probability)*2-1),\n",
        "                                        accuracy_score(y_train, X_train.prediction),\n",
        "                                        precision_score(y_train, X_train.prediction),\n",
        "                                        recall_score(y_train, X_train.prediction),\n",
        "                                        f1_score(y_train, X_train.prediction)],\n",
        "\n",
        "                                'dTree_smote_test':[roc_auc_score(y_test, X_test.probability),\n",
        "                                        (roc_auc_score(y_test, X_test.probability)*2-1),\n",
        "                                        accuracy_score(y_test, X_test.prediction),\n",
        "                                        precision_score(y_test, X_test.prediction),\n",
        "                                        recall_score(y_test, X_test.prediction),\n",
        "                                        f1_score(y_test, X_test.prediction)]})\n",
        "\n",
        "metricsDtree_smote"
      ],
      "execution_count": 20,
      "outputs": [
        {
          "output_type": "execute_result",
          "data": {
            "text/plain": [
              "      metric  dTree_smote_train  dTree_smote_test\n",
              "0        AUC           0.800894          0.799110\n",
              "1       Gini           0.601789          0.598221\n",
              "2   Accuracy           0.783309          0.788389\n",
              "3  Precision           0.112491          0.115143\n",
              "4     Recall           0.649573          0.650776\n",
              "5   F1-score           0.191771          0.195667"
            ],
            "text/html": [
              "\n",
              "  <div id=\"df-480468cb-cab6-4c37-9d0b-1d65527b842b\">\n",
              "    <div class=\"colab-df-container\">\n",
              "      <div>\n",
              "<style scoped>\n",
              "    .dataframe tbody tr th:only-of-type {\n",
              "        vertical-align: middle;\n",
              "    }\n",
              "\n",
              "    .dataframe tbody tr th {\n",
              "        vertical-align: top;\n",
              "    }\n",
              "\n",
              "    .dataframe thead th {\n",
              "        text-align: right;\n",
              "    }\n",
              "</style>\n",
              "<table border=\"1\" class=\"dataframe\">\n",
              "  <thead>\n",
              "    <tr style=\"text-align: right;\">\n",
              "      <th></th>\n",
              "      <th>metric</th>\n",
              "      <th>dTree_smote_train</th>\n",
              "      <th>dTree_smote_test</th>\n",
              "    </tr>\n",
              "  </thead>\n",
              "  <tbody>\n",
              "    <tr>\n",
              "      <th>0</th>\n",
              "      <td>AUC</td>\n",
              "      <td>0.800894</td>\n",
              "      <td>0.799110</td>\n",
              "    </tr>\n",
              "    <tr>\n",
              "      <th>1</th>\n",
              "      <td>Gini</td>\n",
              "      <td>0.601789</td>\n",
              "      <td>0.598221</td>\n",
              "    </tr>\n",
              "    <tr>\n",
              "      <th>2</th>\n",
              "      <td>Accuracy</td>\n",
              "      <td>0.783309</td>\n",
              "      <td>0.788389</td>\n",
              "    </tr>\n",
              "    <tr>\n",
              "      <th>3</th>\n",
              "      <td>Precision</td>\n",
              "      <td>0.112491</td>\n",
              "      <td>0.115143</td>\n",
              "    </tr>\n",
              "    <tr>\n",
              "      <th>4</th>\n",
              "      <td>Recall</td>\n",
              "      <td>0.649573</td>\n",
              "      <td>0.650776</td>\n",
              "    </tr>\n",
              "    <tr>\n",
              "      <th>5</th>\n",
              "      <td>F1-score</td>\n",
              "      <td>0.191771</td>\n",
              "      <td>0.195667</td>\n",
              "    </tr>\n",
              "  </tbody>\n",
              "</table>\n",
              "</div>\n",
              "      <button class=\"colab-df-convert\" onclick=\"convertToInteractive('df-480468cb-cab6-4c37-9d0b-1d65527b842b')\"\n",
              "              title=\"Convert this dataframe to an interactive table.\"\n",
              "              style=\"display:none;\">\n",
              "        \n",
              "  <svg xmlns=\"http://www.w3.org/2000/svg\" height=\"24px\"viewBox=\"0 0 24 24\"\n",
              "       width=\"24px\">\n",
              "    <path d=\"M0 0h24v24H0V0z\" fill=\"none\"/>\n",
              "    <path d=\"M18.56 5.44l.94 2.06.94-2.06 2.06-.94-2.06-.94-.94-2.06-.94 2.06-2.06.94zm-11 1L8.5 8.5l.94-2.06 2.06-.94-2.06-.94L8.5 2.5l-.94 2.06-2.06.94zm10 10l.94 2.06.94-2.06 2.06-.94-2.06-.94-.94-2.06-.94 2.06-2.06.94z\"/><path d=\"M17.41 7.96l-1.37-1.37c-.4-.4-.92-.59-1.43-.59-.52 0-1.04.2-1.43.59L10.3 9.45l-7.72 7.72c-.78.78-.78 2.05 0 2.83L4 21.41c.39.39.9.59 1.41.59.51 0 1.02-.2 1.41-.59l7.78-7.78 2.81-2.81c.8-.78.8-2.07 0-2.86zM5.41 20L4 18.59l7.72-7.72 1.47 1.35L5.41 20z\"/>\n",
              "  </svg>\n",
              "      </button>\n",
              "      \n",
              "  <style>\n",
              "    .colab-df-container {\n",
              "      display:flex;\n",
              "      flex-wrap:wrap;\n",
              "      gap: 12px;\n",
              "    }\n",
              "\n",
              "    .colab-df-convert {\n",
              "      background-color: #E8F0FE;\n",
              "      border: none;\n",
              "      border-radius: 50%;\n",
              "      cursor: pointer;\n",
              "      display: none;\n",
              "      fill: #1967D2;\n",
              "      height: 32px;\n",
              "      padding: 0 0 0 0;\n",
              "      width: 32px;\n",
              "    }\n",
              "\n",
              "    .colab-df-convert:hover {\n",
              "      background-color: #E2EBFA;\n",
              "      box-shadow: 0px 1px 2px rgba(60, 64, 67, 0.3), 0px 1px 3px 1px rgba(60, 64, 67, 0.15);\n",
              "      fill: #174EA6;\n",
              "    }\n",
              "\n",
              "    [theme=dark] .colab-df-convert {\n",
              "      background-color: #3B4455;\n",
              "      fill: #D2E3FC;\n",
              "    }\n",
              "\n",
              "    [theme=dark] .colab-df-convert:hover {\n",
              "      background-color: #434B5C;\n",
              "      box-shadow: 0px 1px 3px 1px rgba(0, 0, 0, 0.15);\n",
              "      filter: drop-shadow(0px 1px 2px rgba(0, 0, 0, 0.3));\n",
              "      fill: #FFFFFF;\n",
              "    }\n",
              "  </style>\n",
              "\n",
              "      <script>\n",
              "        const buttonEl =\n",
              "          document.querySelector('#df-480468cb-cab6-4c37-9d0b-1d65527b842b button.colab-df-convert');\n",
              "        buttonEl.style.display =\n",
              "          google.colab.kernel.accessAllowed ? 'block' : 'none';\n",
              "\n",
              "        async function convertToInteractive(key) {\n",
              "          const element = document.querySelector('#df-480468cb-cab6-4c37-9d0b-1d65527b842b');\n",
              "          const dataTable =\n",
              "            await google.colab.kernel.invokeFunction('convertToInteractive',\n",
              "                                                     [key], {});\n",
              "          if (!dataTable) return;\n",
              "\n",
              "          const docLinkHtml = 'Like what you see? Visit the ' +\n",
              "            '<a target=\"_blank\" href=https://colab.research.google.com/notebooks/data_table.ipynb>data table notebook</a>'\n",
              "            + ' to learn more about interactive tables.';\n",
              "          element.innerHTML = '';\n",
              "          dataTable['output_type'] = 'display_data';\n",
              "          await google.colab.output.renderOutput(dataTable, element);\n",
              "          const docLink = document.createElement('div');\n",
              "          docLink.innerHTML = docLinkHtml;\n",
              "          element.appendChild(docLink);\n",
              "        }\n",
              "      </script>\n",
              "    </div>\n",
              "  </div>\n",
              "  "
            ]
          },
          "metadata": {},
          "execution_count": 20
        }
      ]
    },
    {
      "cell_type": "markdown",
      "source": [
        "### balanceo por pesos"
      ],
      "metadata": {
        "id": "HWFSMtPOs26a"
      }
    },
    {
      "cell_type": "code",
      "source": [
        "# Muestreo de data\n",
        "from sklearn.model_selection import train_test_split\n",
        "\n",
        "X_train, X_test, y_train, y_test = train_test_split(X, y, \n",
        "                                                    stratify = y,\n",
        "                                                    test_size = 0.3,\n",
        "                                                    random_state = 123)\n"
      ],
      "metadata": {
        "id": "j7ca0VxwupBW"
      },
      "execution_count": 21,
      "outputs": []
    },
    {
      "cell_type": "code",
      "source": [
        "y_train.shape[0] - y_train.sum()"
      ],
      "metadata": {
        "colab": {
          "base_uri": "https://localhost:8080/"
        },
        "id": "T7GFotgi1xNr",
        "outputId": "f5b72d9a-9371-4fb1-d279-e6ce28a7c8a3"
      },
      "execution_count": 22,
      "outputs": [
        {
          "output_type": "execute_result",
          "data": {
            "text/plain": [
              "51108"
            ]
          },
          "metadata": {},
          "execution_count": 22
        }
      ]
    },
    {
      "cell_type": "code",
      "source": [
        "y_train.sum()"
      ],
      "metadata": {
        "colab": {
          "base_uri": "https://localhost:8080/"
        },
        "id": "l633NoTQ1r2A",
        "outputId": "1fa1db01-d837-43d2-f186-7ab49290cba0"
      },
      "execution_count": 23,
      "outputs": [
        {
          "output_type": "execute_result",
          "data": {
            "text/plain": [
              "2106"
            ]
          },
          "metadata": {},
          "execution_count": 23
        }
      ]
    },
    {
      "cell_type": "code",
      "source": [
        "(y_train.shape[0] - y_train.sum())/y_train.sum()"
      ],
      "metadata": {
        "colab": {
          "base_uri": "https://localhost:8080/"
        },
        "id": "aGMl7HzE16Ll",
        "outputId": "1e38ab0f-0b67-49e4-e096-533e3092726c"
      },
      "execution_count": 24,
      "outputs": [
        {
          "output_type": "execute_result",
          "data": {
            "text/plain": [
              "24.267806267806268"
            ]
          },
          "metadata": {},
          "execution_count": 24
        }
      ]
    },
    {
      "cell_type": "code",
      "metadata": {
        "colab": {
          "base_uri": "https://localhost:8080/",
          "height": 92
        },
        "id": "uIz4-gQv9I5h",
        "outputId": "377525b1-8d01-45ec-c90f-7702ab4203c5"
      },
      "source": [
        "# Definiendo modelo\n",
        "\n",
        "\n",
        "dtree = DecisionTreeClassifier(max_depth = 5, \n",
        "                               class_weight = {0: 1, 1: 24.267},#le pongo pesos al cero o al 1\n",
        "                               min_samples_leaf = 0.05,\n",
        "                               random_state = 123)\n",
        "\n",
        "dtree = dtree.fit(X_train, y_train)\n",
        "    \n",
        "dtree"
      ],
      "execution_count": 25,
      "outputs": [
        {
          "output_type": "execute_result",
          "data": {
            "text/plain": [
              "DecisionTreeClassifier(class_weight={0: 1, 1: 24.267}, max_depth=5,\n",
              "                       min_samples_leaf=0.05, random_state=123)"
            ],
            "text/html": [
              "<style>#sk-container-id-2 {color: black;background-color: white;}#sk-container-id-2 pre{padding: 0;}#sk-container-id-2 div.sk-toggleable {background-color: white;}#sk-container-id-2 label.sk-toggleable__label {cursor: pointer;display: block;width: 100%;margin-bottom: 0;padding: 0.3em;box-sizing: border-box;text-align: center;}#sk-container-id-2 label.sk-toggleable__label-arrow:before {content: \"▸\";float: left;margin-right: 0.25em;color: #696969;}#sk-container-id-2 label.sk-toggleable__label-arrow:hover:before {color: black;}#sk-container-id-2 div.sk-estimator:hover label.sk-toggleable__label-arrow:before {color: black;}#sk-container-id-2 div.sk-toggleable__content {max-height: 0;max-width: 0;overflow: hidden;text-align: left;background-color: #f0f8ff;}#sk-container-id-2 div.sk-toggleable__content pre {margin: 0.2em;color: black;border-radius: 0.25em;background-color: #f0f8ff;}#sk-container-id-2 input.sk-toggleable__control:checked~div.sk-toggleable__content {max-height: 200px;max-width: 100%;overflow: auto;}#sk-container-id-2 input.sk-toggleable__control:checked~label.sk-toggleable__label-arrow:before {content: \"▾\";}#sk-container-id-2 div.sk-estimator input.sk-toggleable__control:checked~label.sk-toggleable__label {background-color: #d4ebff;}#sk-container-id-2 div.sk-label input.sk-toggleable__control:checked~label.sk-toggleable__label {background-color: #d4ebff;}#sk-container-id-2 input.sk-hidden--visually {border: 0;clip: rect(1px 1px 1px 1px);clip: rect(1px, 1px, 1px, 1px);height: 1px;margin: -1px;overflow: hidden;padding: 0;position: absolute;width: 1px;}#sk-container-id-2 div.sk-estimator {font-family: monospace;background-color: #f0f8ff;border: 1px dotted black;border-radius: 0.25em;box-sizing: border-box;margin-bottom: 0.5em;}#sk-container-id-2 div.sk-estimator:hover {background-color: #d4ebff;}#sk-container-id-2 div.sk-parallel-item::after {content: \"\";width: 100%;border-bottom: 1px solid gray;flex-grow: 1;}#sk-container-id-2 div.sk-label:hover label.sk-toggleable__label {background-color: #d4ebff;}#sk-container-id-2 div.sk-serial::before {content: \"\";position: absolute;border-left: 1px solid gray;box-sizing: border-box;top: 0;bottom: 0;left: 50%;z-index: 0;}#sk-container-id-2 div.sk-serial {display: flex;flex-direction: column;align-items: center;background-color: white;padding-right: 0.2em;padding-left: 0.2em;position: relative;}#sk-container-id-2 div.sk-item {position: relative;z-index: 1;}#sk-container-id-2 div.sk-parallel {display: flex;align-items: stretch;justify-content: center;background-color: white;position: relative;}#sk-container-id-2 div.sk-item::before, #sk-container-id-2 div.sk-parallel-item::before {content: \"\";position: absolute;border-left: 1px solid gray;box-sizing: border-box;top: 0;bottom: 0;left: 50%;z-index: -1;}#sk-container-id-2 div.sk-parallel-item {display: flex;flex-direction: column;z-index: 1;position: relative;background-color: white;}#sk-container-id-2 div.sk-parallel-item:first-child::after {align-self: flex-end;width: 50%;}#sk-container-id-2 div.sk-parallel-item:last-child::after {align-self: flex-start;width: 50%;}#sk-container-id-2 div.sk-parallel-item:only-child::after {width: 0;}#sk-container-id-2 div.sk-dashed-wrapped {border: 1px dashed gray;margin: 0 0.4em 0.5em 0.4em;box-sizing: border-box;padding-bottom: 0.4em;background-color: white;}#sk-container-id-2 div.sk-label label {font-family: monospace;font-weight: bold;display: inline-block;line-height: 1.2em;}#sk-container-id-2 div.sk-label-container {text-align: center;}#sk-container-id-2 div.sk-container {/* jupyter's `normalize.less` sets `[hidden] { display: none; }` but bootstrap.min.css set `[hidden] { display: none !important; }` so we also need the `!important` here to be able to override the default hidden behavior on the sphinx rendered scikit-learn.org. See: https://github.com/scikit-learn/scikit-learn/issues/21755 */display: inline-block !important;position: relative;}#sk-container-id-2 div.sk-text-repr-fallback {display: none;}</style><div id=\"sk-container-id-2\" class=\"sk-top-container\"><div class=\"sk-text-repr-fallback\"><pre>DecisionTreeClassifier(class_weight={0: 1, 1: 24.267}, max_depth=5,\n",
              "                       min_samples_leaf=0.05, random_state=123)</pre><b>In a Jupyter environment, please rerun this cell to show the HTML representation or trust the notebook. <br />On GitHub, the HTML representation is unable to render, please try loading this page with nbviewer.org.</b></div><div class=\"sk-container\" hidden><div class=\"sk-item\"><div class=\"sk-estimator sk-toggleable\"><input class=\"sk-toggleable__control sk-hidden--visually\" id=\"sk-estimator-id-2\" type=\"checkbox\" checked><label for=\"sk-estimator-id-2\" class=\"sk-toggleable__label sk-toggleable__label-arrow\">DecisionTreeClassifier</label><div class=\"sk-toggleable__content\"><pre>DecisionTreeClassifier(class_weight={0: 1, 1: 24.267}, max_depth=5,\n",
              "                       min_samples_leaf=0.05, random_state=123)</pre></div></div></div></div></div>"
            ]
          },
          "metadata": {},
          "execution_count": 25
        }
      ]
    },
    {
      "cell_type": "code",
      "metadata": {
        "id": "8bZkXPOOG-4u"
      },
      "source": [
        "# Usando el modelo para predecir\n",
        "\n",
        "X_train['probability'] = dtree.predict_proba(X_train[features])[:,1]\n",
        "X_test['probability']  = dtree.predict_proba(X_test[features])[:,1]\n",
        "\n",
        "X_train['prediction'] = dtree.predict(X_train[features])\n",
        "X_test['prediction']  = dtree.predict(X_test[features])"
      ],
      "execution_count": 26,
      "outputs": []
    },
    {
      "cell_type": "code",
      "source": [
        "#Resumen de todas las métricas del modelo\n",
        "from sklearn.metrics import *\n",
        "\n",
        "metricsDtree_w = pd.DataFrame({'metric':['AUC','Gini','Accuracy','Precision','Recall','F1-score'],\n",
        "                                'dTree_w_train':[roc_auc_score(y_train, X_train.probability),\n",
        "                                        (roc_auc_score(y_train, X_train.probability)*2-1),\n",
        "                                        accuracy_score(y_train, X_train.prediction),\n",
        "                                        precision_score(y_train, X_train.prediction),\n",
        "                                        recall_score(y_train, X_train.prediction),\n",
        "                                        f1_score(y_train, X_train.prediction)],\n",
        "\n",
        "                                'dTree_w_test':[roc_auc_score(y_test, X_test.probability),\n",
        "                                        (roc_auc_score(y_test, X_test.probability)*2-1),\n",
        "                                        accuracy_score(y_test, X_test.prediction),\n",
        "                                        precision_score(y_test, X_test.prediction),\n",
        "                                        recall_score(y_test, X_test.prediction),\n",
        "                                        f1_score(y_test, X_test.prediction)]})\n",
        "\n",
        "metricsDtree_w"
      ],
      "metadata": {
        "colab": {
          "base_uri": "https://localhost:8080/",
          "height": 237
        },
        "id": "HC7kRVzRusZy",
        "outputId": "1f90e590-4d21-43d7-b4a2-4299647bdd58"
      },
      "execution_count": 27,
      "outputs": [
        {
          "output_type": "execute_result",
          "data": {
            "text/plain": [
              "      metric  dTree_w_train  dTree_w_test\n",
              "0        AUC       0.820066      0.803175\n",
              "1       Gini       0.640132      0.606351\n",
              "2   Accuracy       0.704645      0.707402\n",
              "3  Precision       0.099323      0.095472\n",
              "4     Recall       0.801045      0.754989\n",
              "5   F1-score       0.176732      0.169508"
            ],
            "text/html": [
              "\n",
              "  <div id=\"df-037d8dac-cc21-400a-8356-7463802eb96a\">\n",
              "    <div class=\"colab-df-container\">\n",
              "      <div>\n",
              "<style scoped>\n",
              "    .dataframe tbody tr th:only-of-type {\n",
              "        vertical-align: middle;\n",
              "    }\n",
              "\n",
              "    .dataframe tbody tr th {\n",
              "        vertical-align: top;\n",
              "    }\n",
              "\n",
              "    .dataframe thead th {\n",
              "        text-align: right;\n",
              "    }\n",
              "</style>\n",
              "<table border=\"1\" class=\"dataframe\">\n",
              "  <thead>\n",
              "    <tr style=\"text-align: right;\">\n",
              "      <th></th>\n",
              "      <th>metric</th>\n",
              "      <th>dTree_w_train</th>\n",
              "      <th>dTree_w_test</th>\n",
              "    </tr>\n",
              "  </thead>\n",
              "  <tbody>\n",
              "    <tr>\n",
              "      <th>0</th>\n",
              "      <td>AUC</td>\n",
              "      <td>0.820066</td>\n",
              "      <td>0.803175</td>\n",
              "    </tr>\n",
              "    <tr>\n",
              "      <th>1</th>\n",
              "      <td>Gini</td>\n",
              "      <td>0.640132</td>\n",
              "      <td>0.606351</td>\n",
              "    </tr>\n",
              "    <tr>\n",
              "      <th>2</th>\n",
              "      <td>Accuracy</td>\n",
              "      <td>0.704645</td>\n",
              "      <td>0.707402</td>\n",
              "    </tr>\n",
              "    <tr>\n",
              "      <th>3</th>\n",
              "      <td>Precision</td>\n",
              "      <td>0.099323</td>\n",
              "      <td>0.095472</td>\n",
              "    </tr>\n",
              "    <tr>\n",
              "      <th>4</th>\n",
              "      <td>Recall</td>\n",
              "      <td>0.801045</td>\n",
              "      <td>0.754989</td>\n",
              "    </tr>\n",
              "    <tr>\n",
              "      <th>5</th>\n",
              "      <td>F1-score</td>\n",
              "      <td>0.176732</td>\n",
              "      <td>0.169508</td>\n",
              "    </tr>\n",
              "  </tbody>\n",
              "</table>\n",
              "</div>\n",
              "      <button class=\"colab-df-convert\" onclick=\"convertToInteractive('df-037d8dac-cc21-400a-8356-7463802eb96a')\"\n",
              "              title=\"Convert this dataframe to an interactive table.\"\n",
              "              style=\"display:none;\">\n",
              "        \n",
              "  <svg xmlns=\"http://www.w3.org/2000/svg\" height=\"24px\"viewBox=\"0 0 24 24\"\n",
              "       width=\"24px\">\n",
              "    <path d=\"M0 0h24v24H0V0z\" fill=\"none\"/>\n",
              "    <path d=\"M18.56 5.44l.94 2.06.94-2.06 2.06-.94-2.06-.94-.94-2.06-.94 2.06-2.06.94zm-11 1L8.5 8.5l.94-2.06 2.06-.94-2.06-.94L8.5 2.5l-.94 2.06-2.06.94zm10 10l.94 2.06.94-2.06 2.06-.94-2.06-.94-.94-2.06-.94 2.06-2.06.94z\"/><path d=\"M17.41 7.96l-1.37-1.37c-.4-.4-.92-.59-1.43-.59-.52 0-1.04.2-1.43.59L10.3 9.45l-7.72 7.72c-.78.78-.78 2.05 0 2.83L4 21.41c.39.39.9.59 1.41.59.51 0 1.02-.2 1.41-.59l7.78-7.78 2.81-2.81c.8-.78.8-2.07 0-2.86zM5.41 20L4 18.59l7.72-7.72 1.47 1.35L5.41 20z\"/>\n",
              "  </svg>\n",
              "      </button>\n",
              "      \n",
              "  <style>\n",
              "    .colab-df-container {\n",
              "      display:flex;\n",
              "      flex-wrap:wrap;\n",
              "      gap: 12px;\n",
              "    }\n",
              "\n",
              "    .colab-df-convert {\n",
              "      background-color: #E8F0FE;\n",
              "      border: none;\n",
              "      border-radius: 50%;\n",
              "      cursor: pointer;\n",
              "      display: none;\n",
              "      fill: #1967D2;\n",
              "      height: 32px;\n",
              "      padding: 0 0 0 0;\n",
              "      width: 32px;\n",
              "    }\n",
              "\n",
              "    .colab-df-convert:hover {\n",
              "      background-color: #E2EBFA;\n",
              "      box-shadow: 0px 1px 2px rgba(60, 64, 67, 0.3), 0px 1px 3px 1px rgba(60, 64, 67, 0.15);\n",
              "      fill: #174EA6;\n",
              "    }\n",
              "\n",
              "    [theme=dark] .colab-df-convert {\n",
              "      background-color: #3B4455;\n",
              "      fill: #D2E3FC;\n",
              "    }\n",
              "\n",
              "    [theme=dark] .colab-df-convert:hover {\n",
              "      background-color: #434B5C;\n",
              "      box-shadow: 0px 1px 3px 1px rgba(0, 0, 0, 0.15);\n",
              "      filter: drop-shadow(0px 1px 2px rgba(0, 0, 0, 0.3));\n",
              "      fill: #FFFFFF;\n",
              "    }\n",
              "  </style>\n",
              "\n",
              "      <script>\n",
              "        const buttonEl =\n",
              "          document.querySelector('#df-037d8dac-cc21-400a-8356-7463802eb96a button.colab-df-convert');\n",
              "        buttonEl.style.display =\n",
              "          google.colab.kernel.accessAllowed ? 'block' : 'none';\n",
              "\n",
              "        async function convertToInteractive(key) {\n",
              "          const element = document.querySelector('#df-037d8dac-cc21-400a-8356-7463802eb96a');\n",
              "          const dataTable =\n",
              "            await google.colab.kernel.invokeFunction('convertToInteractive',\n",
              "                                                     [key], {});\n",
              "          if (!dataTable) return;\n",
              "\n",
              "          const docLinkHtml = 'Like what you see? Visit the ' +\n",
              "            '<a target=\"_blank\" href=https://colab.research.google.com/notebooks/data_table.ipynb>data table notebook</a>'\n",
              "            + ' to learn more about interactive tables.';\n",
              "          element.innerHTML = '';\n",
              "          dataTable['output_type'] = 'display_data';\n",
              "          await google.colab.output.renderOutput(dataTable, element);\n",
              "          const docLink = document.createElement('div');\n",
              "          docLink.innerHTML = docLinkHtml;\n",
              "          element.appendChild(docLink);\n",
              "        }\n",
              "      </script>\n",
              "    </div>\n",
              "  </div>\n",
              "  "
            ]
          },
          "metadata": {},
          "execution_count": 27
        }
      ]
    },
    {
      "cell_type": "code",
      "source": [
        "# Definiendo modelo\n",
        "\n",
        "dtree_unb = DecisionTreeClassifier(max_depth = 5, \n",
        "                               min_samples_leaf = 0.05,\n",
        "                               random_state = 123)\n",
        "\n",
        "dtree_unb = dtree_unb.fit(X_train[features], y_train)\n",
        "    \n",
        "# Usando el modelo para predecir\n",
        "\n",
        "X_train['probability_unb'] = dtree_unb.predict_proba(X_train[features])[:,1]\n",
        "X_test['probability_unb']  = dtree_unb.predict_proba(X_test[features])[:,1]\n",
        "\n",
        "X_train['prediction_unb'] = dtree_unb.predict(X_train[features])\n",
        "X_test['prediction_unb']  = dtree_unb.predict(X_test[features])\n",
        "\n",
        "#Resumen de todas las métricas del modelo\n",
        "metricsDtree_unb = pd.DataFrame({'metric':['AUC','Gini','Accuracy','Precision','Recall','F1-score'],\n",
        "                                'dTree_unb_train':[roc_auc_score(y_train, X_train.probability_unb),\n",
        "                                        (roc_auc_score(y_train, X_train.probability_unb)*2-1),\n",
        "                                        accuracy_score(y_train, X_train.prediction_unb),\n",
        "                                        precision_score(y_train, X_train.prediction_unb),\n",
        "                                        recall_score(y_train, X_train.prediction_unb),\n",
        "                                        f1_score(y_train, X_train.prediction_unb)],\n",
        "\n",
        "                                'dTree_unb_test':[roc_auc_score(y_test, X_test.probability_unb),\n",
        "                                        (roc_auc_score(y_test, X_test.probability_unb)*2-1),\n",
        "                                        accuracy_score(y_test, X_test.prediction_unb),\n",
        "                                        precision_score(y_test, X_test.prediction_unb),\n",
        "                                        recall_score(y_test, X_test.prediction_unb),\n",
        "                                        f1_score(y_test, X_test.prediction_unb)]})\n"
      ],
      "metadata": {
        "id": "JXaUiMmD-yTE",
        "outputId": "23710f61-9286-46cb-d8b8-554ca6eac09c",
        "colab": {
          "base_uri": "https://localhost:8080/"
        }
      },
      "execution_count": 28,
      "outputs": [
        {
          "output_type": "stream",
          "name": "stderr",
          "text": [
            "/usr/local/lib/python3.10/dist-packages/sklearn/metrics/_classification.py:1344: UndefinedMetricWarning: Precision is ill-defined and being set to 0.0 due to no predicted samples. Use `zero_division` parameter to control this behavior.\n",
            "  _warn_prf(average, modifier, msg_start, len(result))\n",
            "/usr/local/lib/python3.10/dist-packages/sklearn/metrics/_classification.py:1344: UndefinedMetricWarning: Precision is ill-defined and being set to 0.0 due to no predicted samples. Use `zero_division` parameter to control this behavior.\n",
            "  _warn_prf(average, modifier, msg_start, len(result))\n"
          ]
        }
      ]
    },
    {
      "cell_type": "code",
      "source": [
        "temp = pd.merge(metricsDtree_smote, metricsDtree_w, on = ['metric'], how= 'left')\n",
        "pd.merge(temp, metricsDtree_unb, on = ['metric'], how= 'left')\n",
        "\n"
      ],
      "metadata": {
        "colab": {
          "base_uri": "https://localhost:8080/",
          "height": 237
        },
        "id": "rJpM3Q17u3DP",
        "outputId": "d5bbfa17-fc49-48e3-8a6f-e50ec0c969ec"
      },
      "execution_count": 29,
      "outputs": [
        {
          "output_type": "execute_result",
          "data": {
            "text/plain": [
              "      metric  dTree_smote_train  dTree_smote_test  dTree_w_train  \\\n",
              "0        AUC           0.800894          0.799110       0.820066   \n",
              "1       Gini           0.601789          0.598221       0.640132   \n",
              "2   Accuracy           0.783309          0.788389       0.704645   \n",
              "3  Precision           0.112491          0.115143       0.099323   \n",
              "4     Recall           0.649573          0.650776       0.801045   \n",
              "5   F1-score           0.191771          0.195667       0.176732   \n",
              "\n",
              "   dTree_w_test  dTree_unb_train  dTree_unb_test  \n",
              "0      0.803175         0.823127        0.805164  \n",
              "1      0.606351         0.646253        0.610328  \n",
              "2      0.707402         0.960424        0.960449  \n",
              "3      0.095472         0.000000        0.000000  \n",
              "4      0.754989         0.000000        0.000000  \n",
              "5      0.169508         0.000000        0.000000  "
            ],
            "text/html": [
              "\n",
              "  <div id=\"df-4ad116ac-dcfd-44a3-a027-fd546f19bed0\">\n",
              "    <div class=\"colab-df-container\">\n",
              "      <div>\n",
              "<style scoped>\n",
              "    .dataframe tbody tr th:only-of-type {\n",
              "        vertical-align: middle;\n",
              "    }\n",
              "\n",
              "    .dataframe tbody tr th {\n",
              "        vertical-align: top;\n",
              "    }\n",
              "\n",
              "    .dataframe thead th {\n",
              "        text-align: right;\n",
              "    }\n",
              "</style>\n",
              "<table border=\"1\" class=\"dataframe\">\n",
              "  <thead>\n",
              "    <tr style=\"text-align: right;\">\n",
              "      <th></th>\n",
              "      <th>metric</th>\n",
              "      <th>dTree_smote_train</th>\n",
              "      <th>dTree_smote_test</th>\n",
              "      <th>dTree_w_train</th>\n",
              "      <th>dTree_w_test</th>\n",
              "      <th>dTree_unb_train</th>\n",
              "      <th>dTree_unb_test</th>\n",
              "    </tr>\n",
              "  </thead>\n",
              "  <tbody>\n",
              "    <tr>\n",
              "      <th>0</th>\n",
              "      <td>AUC</td>\n",
              "      <td>0.800894</td>\n",
              "      <td>0.799110</td>\n",
              "      <td>0.820066</td>\n",
              "      <td>0.803175</td>\n",
              "      <td>0.823127</td>\n",
              "      <td>0.805164</td>\n",
              "    </tr>\n",
              "    <tr>\n",
              "      <th>1</th>\n",
              "      <td>Gini</td>\n",
              "      <td>0.601789</td>\n",
              "      <td>0.598221</td>\n",
              "      <td>0.640132</td>\n",
              "      <td>0.606351</td>\n",
              "      <td>0.646253</td>\n",
              "      <td>0.610328</td>\n",
              "    </tr>\n",
              "    <tr>\n",
              "      <th>2</th>\n",
              "      <td>Accuracy</td>\n",
              "      <td>0.783309</td>\n",
              "      <td>0.788389</td>\n",
              "      <td>0.704645</td>\n",
              "      <td>0.707402</td>\n",
              "      <td>0.960424</td>\n",
              "      <td>0.960449</td>\n",
              "    </tr>\n",
              "    <tr>\n",
              "      <th>3</th>\n",
              "      <td>Precision</td>\n",
              "      <td>0.112491</td>\n",
              "      <td>0.115143</td>\n",
              "      <td>0.099323</td>\n",
              "      <td>0.095472</td>\n",
              "      <td>0.000000</td>\n",
              "      <td>0.000000</td>\n",
              "    </tr>\n",
              "    <tr>\n",
              "      <th>4</th>\n",
              "      <td>Recall</td>\n",
              "      <td>0.649573</td>\n",
              "      <td>0.650776</td>\n",
              "      <td>0.801045</td>\n",
              "      <td>0.754989</td>\n",
              "      <td>0.000000</td>\n",
              "      <td>0.000000</td>\n",
              "    </tr>\n",
              "    <tr>\n",
              "      <th>5</th>\n",
              "      <td>F1-score</td>\n",
              "      <td>0.191771</td>\n",
              "      <td>0.195667</td>\n",
              "      <td>0.176732</td>\n",
              "      <td>0.169508</td>\n",
              "      <td>0.000000</td>\n",
              "      <td>0.000000</td>\n",
              "    </tr>\n",
              "  </tbody>\n",
              "</table>\n",
              "</div>\n",
              "      <button class=\"colab-df-convert\" onclick=\"convertToInteractive('df-4ad116ac-dcfd-44a3-a027-fd546f19bed0')\"\n",
              "              title=\"Convert this dataframe to an interactive table.\"\n",
              "              style=\"display:none;\">\n",
              "        \n",
              "  <svg xmlns=\"http://www.w3.org/2000/svg\" height=\"24px\"viewBox=\"0 0 24 24\"\n",
              "       width=\"24px\">\n",
              "    <path d=\"M0 0h24v24H0V0z\" fill=\"none\"/>\n",
              "    <path d=\"M18.56 5.44l.94 2.06.94-2.06 2.06-.94-2.06-.94-.94-2.06-.94 2.06-2.06.94zm-11 1L8.5 8.5l.94-2.06 2.06-.94-2.06-.94L8.5 2.5l-.94 2.06-2.06.94zm10 10l.94 2.06.94-2.06 2.06-.94-2.06-.94-.94-2.06-.94 2.06-2.06.94z\"/><path d=\"M17.41 7.96l-1.37-1.37c-.4-.4-.92-.59-1.43-.59-.52 0-1.04.2-1.43.59L10.3 9.45l-7.72 7.72c-.78.78-.78 2.05 0 2.83L4 21.41c.39.39.9.59 1.41.59.51 0 1.02-.2 1.41-.59l7.78-7.78 2.81-2.81c.8-.78.8-2.07 0-2.86zM5.41 20L4 18.59l7.72-7.72 1.47 1.35L5.41 20z\"/>\n",
              "  </svg>\n",
              "      </button>\n",
              "      \n",
              "  <style>\n",
              "    .colab-df-container {\n",
              "      display:flex;\n",
              "      flex-wrap:wrap;\n",
              "      gap: 12px;\n",
              "    }\n",
              "\n",
              "    .colab-df-convert {\n",
              "      background-color: #E8F0FE;\n",
              "      border: none;\n",
              "      border-radius: 50%;\n",
              "      cursor: pointer;\n",
              "      display: none;\n",
              "      fill: #1967D2;\n",
              "      height: 32px;\n",
              "      padding: 0 0 0 0;\n",
              "      width: 32px;\n",
              "    }\n",
              "\n",
              "    .colab-df-convert:hover {\n",
              "      background-color: #E2EBFA;\n",
              "      box-shadow: 0px 1px 2px rgba(60, 64, 67, 0.3), 0px 1px 3px 1px rgba(60, 64, 67, 0.15);\n",
              "      fill: #174EA6;\n",
              "    }\n",
              "\n",
              "    [theme=dark] .colab-df-convert {\n",
              "      background-color: #3B4455;\n",
              "      fill: #D2E3FC;\n",
              "    }\n",
              "\n",
              "    [theme=dark] .colab-df-convert:hover {\n",
              "      background-color: #434B5C;\n",
              "      box-shadow: 0px 1px 3px 1px rgba(0, 0, 0, 0.15);\n",
              "      filter: drop-shadow(0px 1px 2px rgba(0, 0, 0, 0.3));\n",
              "      fill: #FFFFFF;\n",
              "    }\n",
              "  </style>\n",
              "\n",
              "      <script>\n",
              "        const buttonEl =\n",
              "          document.querySelector('#df-4ad116ac-dcfd-44a3-a027-fd546f19bed0 button.colab-df-convert');\n",
              "        buttonEl.style.display =\n",
              "          google.colab.kernel.accessAllowed ? 'block' : 'none';\n",
              "\n",
              "        async function convertToInteractive(key) {\n",
              "          const element = document.querySelector('#df-4ad116ac-dcfd-44a3-a027-fd546f19bed0');\n",
              "          const dataTable =\n",
              "            await google.colab.kernel.invokeFunction('convertToInteractive',\n",
              "                                                     [key], {});\n",
              "          if (!dataTable) return;\n",
              "\n",
              "          const docLinkHtml = 'Like what you see? Visit the ' +\n",
              "            '<a target=\"_blank\" href=https://colab.research.google.com/notebooks/data_table.ipynb>data table notebook</a>'\n",
              "            + ' to learn more about interactive tables.';\n",
              "          element.innerHTML = '';\n",
              "          dataTable['output_type'] = 'display_data';\n",
              "          await google.colab.output.renderOutput(dataTable, element);\n",
              "          const docLink = document.createElement('div');\n",
              "          docLink.innerHTML = docLinkHtml;\n",
              "          element.appendChild(docLink);\n",
              "        }\n",
              "      </script>\n",
              "    </div>\n",
              "  </div>\n",
              "  "
            ]
          },
          "metadata": {},
          "execution_count": 29
        }
      ]
    },
    {
      "cell_type": "code",
      "source": [
        "X_train['TARGET'] = y_train"
      ],
      "metadata": {
        "id": "2c1JABVUBU_3"
      },
      "execution_count": 30,
      "outputs": []
    },
    {
      "cell_type": "code",
      "source": [
        "X_train.probability_unb.hist(bins = 30)"
      ],
      "metadata": {
        "id": "K6wSrnhr_8Oo",
        "outputId": "30aa7c33-4aaa-4a1b-9d9c-bbbd30c9d456",
        "colab": {
          "base_uri": "https://localhost:8080/",
          "height": 544
        }
      },
      "execution_count": 31,
      "outputs": [
        {
          "output_type": "execute_result",
          "data": {
            "text/plain": [
              "<Axes: >"
            ]
          },
          "metadata": {},
          "execution_count": 31
        },
        {
          "output_type": "display_data",
          "data": {
            "text/plain": [
              "<Figure size 1000x600 with 1 Axes>"
            ],
            "image/png": "[encoded data removed]"
          },
          "metadata": {}
        }
      ]
    },
    {
      "cell_type": "code",
      "source": [
        "X_train.loc[X_train.probability_unb < 0.04].TARGET.mean()"
      ],
      "metadata": {
        "id": "NvCNlaCkBp2w",
        "outputId": "02c5a37e-e32a-49ec-cb86-5ac6842d6ee4",
        "colab": {
          "base_uri": "https://localhost:8080/"
        }
      },
      "execution_count": 32,
      "outputs": [
        {
          "output_type": "execute_result",
          "data": {
            "text/plain": [
              "0.016576626494897724"
            ]
          },
          "metadata": {},
          "execution_count": 32
        }
      ]
    },
    {
      "cell_type": "code",
      "source": [
        "X_train.probability.hist(bins = 30)"
      ],
      "metadata": {
        "id": "OuEUEOP5-kj1",
        "outputId": "131de2eb-36e8-4a59-86c4-118e310b119b",
        "colab": {
          "base_uri": "https://localhost:8080/",
          "height": 544
        }
      },
      "execution_count": 33,
      "outputs": [
        {
          "output_type": "execute_result",
          "data": {
            "text/plain": [
              "<Axes: >"
            ]
          },
          "metadata": {},
          "execution_count": 33
        },
        {
          "output_type": "display_data",
          "data": {
            "text/plain": [
              "<Figure size 1000x600 with 1 Axes>"
            ],
            "image/png": "[encoded data removed]"
          },
          "metadata": {}
        }
      ]
    },
    {
      "cell_type": "code",
      "source": [
        "X_train.loc[X_train.probability < 0.04].TARGET.mean()"
      ],
      "metadata": {
        "id": "PXXCMCuhA8cx",
        "outputId": "06cab9fe-3696-449c-8d38-eab3862f8d2c",
        "colab": {
          "base_uri": "https://localhost:8080/"
        }
      },
      "execution_count": 34,
      "outputs": [
        {
          "output_type": "execute_result",
          "data": {
            "text/plain": [
              "0.0007365126127784938"
            ]
          },
          "metadata": {},
          "execution_count": 34
        }
      ]
    },
    {
      "cell_type": "markdown",
      "metadata": {
        "id": "-12F-kygbFlA"
      },
      "source": [
        "# Cross Validation"
      ]
    },
    {
      "cell_type": "markdown",
      "metadata": {
        "id": "017Hk3aQ1gxe"
      },
      "source": [
        "\n",
        "\n",
        "<b>evaluar el desempeño del estimador</b>\n",
        " \n",
        " ---\n",
        "\n",
        "Aprender los parámetros de una función de predicción y probarlos con los mismos datos es un error metodológico: un modelo que simplemente repetiría las etiquetas de las muestras que acaba de ver tendría una puntuación perfecta, pero no podría predecir nada útil datos no vistos.\n",
        "Esta situación se llama Overfitting. Para evitarlo, es una práctica común cuando se realiza un modelo de machine learning (supervisado) mantener parte de los datos disponibles como un conjunto de pruebas X_test, y_test. \n"
      ]
    },
    {
      "cell_type": "markdown",
      "metadata": {
        "id": "B-8dUcfU1rBK"
      },
      "source": [
        "\n",
        "Al evaluar diferentes configuraciones (\"hiperparámetros\") para estimadores, todavía existe el riesgo de Overfitting en el conjunto de prueba porque los parámetros se pueden ajustar hasta que el estimador funcione de manera óptima. De esta manera, el conocimiento sobre el conjunto de pruebas puede \"filtrarse\" en el modelo y las métricas de evaluación ya no informan sobre el desempeño de generalización. Para resolver este problema, se puede presentar otra parte del conjunto de datos como el llamado \"conjunto de validación\": el entrenamiento continúa en el conjunto de entrenamiento, después de lo cual se realiza la evaluación en el conjunto de validación y cuando el experimento parece tener éxito , la evaluación final se puede realizar en el equipo de prueba.\n",
        " "
      ]
    },
    {
      "cell_type": "markdown",
      "metadata": {
        "id": "4a9DL3JGxmf_"
      },
      "source": [
        "\n",
        "\n",
        " \n",
        "Sin embargo, al dividir los datos disponibles en tres conjuntos, reducimos drásticamente la cantidad de muestras que se pueden usar para aprender el modelo, y los resultados pueden depender de una elección aleatoria particular para el par de conjuntos (entrenamiento, validación).\n",
        "\n",
        "\n",
        "Una solución a este problema es un procedimiento llamado validación cruzada. Un conjunto de prueba aún debe mantenerse para la evaluación final, pero el conjunto de validación ya no es necesario al hacer CV. En el enfoque básico, llamado k-fold CV, el conjunto de entrenamiento se divide en k conjuntos más pequeños . Se sigue el siguiente procedimiento para cada uno de los k \"folds\":\n",
        "\n",
        "\n",
        "\n",
        "\n",
        "\n",
        "\n",
        "\n",
        "1.   Se entrena un modelo utilizando los folds como datos de entrenamiento\n",
        "\n",
        "2.   El modelo resultante se valida en la parte restante de los datos (es decir, se utiliza como un conjunto de prueba para calcular una medida de rendimiento como la precisión)\n",
        "\n",
        "\n",
        "<img src=\"https://scikit-learn.org/stable/_images/grid_search_cross_validation.png\" alt=\"HTML5 Icon\" style=\"width: 400px; height: 250px;\">\n",
        "\n",
        "---\n",
        "\n",
        "La medida de rendimiento informada por la validación cruzada de k veces es el promedio de los valores calculados en el ciclo. Este enfoque puede ser computacionalmente costoso, pero no desperdicia demasiados datos (como es el caso cuando se fija un conjunto de validación arbitrario), lo cual es una gran ventaja en problemas como la inferencia inversa donde el número de muestras es muy pequeño.\n",
        "\n",
        "---\n",
        "\n",
        "\n",
        "<strong>Puede consultar este [link](https://scikit-learn.org/stable/modules/cross_validation.html) para leer más sobre CrossValidation.</strong>\n",
        "\n",
        "\n",
        "\n",
        "\n",
        "\n"
      ]
    },
    {
      "cell_type": "code",
      "metadata": {
        "id": "lsgndgPM_0pW"
      },
      "source": [
        "# Cargar librerías para grid search\n",
        "\n",
        "from sklearn.model_selection import GridSearchCV\n",
        "from sklearn.metrics import *\n"
      ],
      "execution_count": 35,
      "outputs": []
    },
    {
      "cell_type": "code",
      "metadata": {
        "id": "WcPPbO8XpsMV"
      },
      "source": [
        "# Definiendo grid de los parámetros a probar\n",
        "\n",
        "parameters = {'max_depth': np.linspace(2, 15, 14),\n",
        "              'min_samples_leaf' : np.array([0.01, 0.025, 0.05, 0.1, 0.2])}\n"
      ],
      "execution_count": 36,
      "outputs": []
    },
    {
      "cell_type": "code",
      "metadata": {
        "id": "JXR3A7CK_165"
      },
      "source": [
        "# Definiendo modelo\n",
        "\n",
        "dtree = DecisionTreeClassifier(random_state = 123)\n"
      ],
      "execution_count": 37,
      "outputs": []
    },
    {
      "cell_type": "code",
      "metadata": {
        "id": "gJmYXBZXrrOc",
        "colab": {
          "base_uri": "https://localhost:8080/",
          "height": 1000
        },
        "outputId": "df4ac970-e38e-4bf4-f46d-49f3e61e7380"
      },
      "source": [
        "# Ejecutando grid search con 5 folds\n",
        "\n",
        "GridSearch = GridSearchCV(dtree, parameters, cv = 5, verbose = 5, n_jobs = 5,\n",
        "                          refit = 'AUC',\n",
        "                          return_train_score = True)\n",
        "\n",
        "GridSearch.fit(X_train_res, y_train_res.ravel())\n",
        "#elapsed:  4.6min finished\n"
      ],
      "execution_count": 38,
      "outputs": [
        {
          "output_type": "stream",
          "name": "stdout",
          "text": [
            "Fitting 5 folds for each of 70 candidates, totalling 350 fits\n"
          ]
        },
        {
          "output_type": "error",
          "ename": "ValueError",
          "evalue": "ignored",
          "traceback": [
            "\u001b[0;31m---------------------------------------------------------------------------\u001b[0m",
            "\u001b[0;31mValueError\u001b[0m                                Traceback (most recent call last)",
            "\u001b[0;32m<ipython-input-38-fe7ab1016ce6>\u001b[0m in \u001b[0;36m<cell line: 7>\u001b[0;34m()\u001b[0m\n\u001b[1;32m      5\u001b[0m                           return_train_score = True)\n\u001b[1;32m      6\u001b[0m \u001b[0;34m\u001b[0m\u001b[0m\n\u001b[0;32m----> 7\u001b[0;31m \u001b[0mGridSearch\u001b[0m\u001b[0;34m.\u001b[0m\u001b[0mfit\u001b[0m\u001b[0;34m(\u001b[0m\u001b[0mX_train_res\u001b[0m\u001b[0;34m,\u001b[0m \u001b[0my_train_res\u001b[0m\u001b[0;34m.\u001b[0m\u001b[0mravel\u001b[0m\u001b[0;34m(\u001b[0m\u001b[0;34m)\u001b[0m\u001b[0;34m)\u001b[0m\u001b[0;34m\u001b[0m\u001b[0;34m\u001b[0m\u001b[0m\n\u001b[0m\u001b[1;32m      8\u001b[0m \u001b[0;31m#elapsed:  4.6min finished\u001b[0m\u001b[0;34m\u001b[0m\u001b[0;34m\u001b[0m\u001b[0m\n",
            "\u001b[0;32m/usr/local/lib/python3.10/dist-packages/sklearn/model_selection/_search.py\u001b[0m in \u001b[0;36mfit\u001b[0;34m(self, X, y, groups, **fit_params)\u001b[0m\n\u001b[1;32m    872\u001b[0m                 \u001b[0;32mreturn\u001b[0m \u001b[0mresults\u001b[0m\u001b[0;34m\u001b[0m\u001b[0;34m\u001b[0m\u001b[0m\n\u001b[1;32m    873\u001b[0m \u001b[0;34m\u001b[0m\u001b[0m\n\u001b[0;32m--> 874\u001b[0;31m             \u001b[0mself\u001b[0m\u001b[0;34m.\u001b[0m\u001b[0m_run_search\u001b[0m\u001b[0;34m(\u001b[0m\u001b[0mevaluate_candidates\u001b[0m\u001b[0;34m)\u001b[0m\u001b[0;34m\u001b[0m\u001b[0;34m\u001b[0m\u001b[0m\n\u001b[0m\u001b[1;32m    875\u001b[0m \u001b[0;34m\u001b[0m\u001b[0m\n\u001b[1;32m    876\u001b[0m             \u001b[0;31m# multimetric is determined here because in the case of a callable\u001b[0m\u001b[0;34m\u001b[0m\u001b[0;34m\u001b[0m\u001b[0m\n",
            "\u001b[0;32m/usr/local/lib/python3.10/dist-packages/sklearn/model_selection/_search.py\u001b[0m in \u001b[0;36m_run_search\u001b[0;34m(self, evaluate_candidates)\u001b[0m\n\u001b[1;32m   1386\u001b[0m     \u001b[0;32mdef\u001b[0m \u001b[0m_run_search\u001b[0m\u001b[0;34m(\u001b[0m\u001b[0mself\u001b[0m\u001b[0;34m,\u001b[0m \u001b[0mevaluate_candidates\u001b[0m\u001b[0;34m)\u001b[0m\u001b[0;34m:\u001b[0m\u001b[0;34m\u001b[0m\u001b[0;34m\u001b[0m\u001b[0m\n\u001b[1;32m   1387\u001b[0m         \u001b[0;34m\"\"\"Search all candidates in param_grid\"\"\"\u001b[0m\u001b[0;34m\u001b[0m\u001b[0;34m\u001b[0m\u001b[0m\n\u001b[0;32m-> 1388\u001b[0;31m         \u001b[0mevaluate_candidates\u001b[0m\u001b[0;34m(\u001b[0m\u001b[0mParameterGrid\u001b[0m\u001b[0;34m(\u001b[0m\u001b[0mself\u001b[0m\u001b[0;34m.\u001b[0m\u001b[0mparam_grid\u001b[0m\u001b[0;34m)\u001b[0m\u001b[0;34m)\u001b[0m\u001b[0;34m\u001b[0m\u001b[0;34m\u001b[0m\u001b[0m\n\u001b[0m\u001b[1;32m   1389\u001b[0m \u001b[0;34m\u001b[0m\u001b[0m\n\u001b[1;32m   1390\u001b[0m \u001b[0;34m\u001b[0m\u001b[0m\n",
            "\u001b[0;32m/usr/local/lib/python3.10/dist-packages/sklearn/model_selection/_search.py\u001b[0m in \u001b[0;36mevaluate_candidates\u001b[0;34m(candidate_params, cv, more_results)\u001b[0m\n\u001b[1;32m    849\u001b[0m                     )\n\u001b[1;32m    850\u001b[0m \u001b[0;34m\u001b[0m\u001b[0m\n\u001b[0;32m--> 851\u001b[0;31m                 \u001b[0m_warn_or_raise_about_fit_failures\u001b[0m\u001b[0;34m(\u001b[0m\u001b[0mout\u001b[0m\u001b[0;34m,\u001b[0m \u001b[0mself\u001b[0m\u001b[0;34m.\u001b[0m\u001b[0merror_score\u001b[0m\u001b[0;34m)\u001b[0m\u001b[0;34m\u001b[0m\u001b[0;34m\u001b[0m\u001b[0m\n\u001b[0m\u001b[1;32m    852\u001b[0m \u001b[0;34m\u001b[0m\u001b[0m\n\u001b[1;32m    853\u001b[0m                 \u001b[0;31m# For callable self.scoring, the return type is only know after\u001b[0m\u001b[0;34m\u001b[0m\u001b[0;34m\u001b[0m\u001b[0m\n",
            "\u001b[0;32m/usr/local/lib/python3.10/dist-packages/sklearn/model_selection/_validation.py\u001b[0m in \u001b[0;36m_warn_or_raise_about_fit_failures\u001b[0;34m(results, error_score)\u001b[0m\n\u001b[1;32m    365\u001b[0m                 \u001b[0;34mf\"Below are more details about the failures:\\n{fit_errors_summary}\"\u001b[0m\u001b[0;34m\u001b[0m\u001b[0;34m\u001b[0m\u001b[0m\n\u001b[1;32m    366\u001b[0m             )\n\u001b[0;32m--> 367\u001b[0;31m             \u001b[0;32mraise\u001b[0m \u001b[0mValueError\u001b[0m\u001b[0;34m(\u001b[0m\u001b[0mall_fits_failed_message\u001b[0m\u001b[0;34m)\u001b[0m\u001b[0;34m\u001b[0m\u001b[0;34m\u001b[0m\u001b[0m\n\u001b[0m\u001b[1;32m    368\u001b[0m \u001b[0;34m\u001b[0m\u001b[0m\n\u001b[1;32m    369\u001b[0m         \u001b[0;32melse\u001b[0m\u001b[0;34m:\u001b[0m\u001b[0;34m\u001b[0m\u001b[0;34m\u001b[0m\u001b[0m\n",
            "\u001b[0;31mValueError\u001b[0m: \nAll the 350 fits failed.\nIt is very likely that your model is misconfigured.\nYou can try to debug the error by setting error_score='raise'.\n\nBelow are more details about the failures:\n--------------------------------------------------------------------------------\n25 fits failed with the following error:\nTraceback (most recent call last):\n  File \"/usr/local/lib/python3.10/dist-packages/sklearn/model_selection/_validation.py\", line 686, in _fit_and_score\n    estimator.fit(X_train, y_train, **fit_params)\n  File \"/usr/local/lib/python3.10/dist-packages/sklearn/tree/_classes.py\", line 889, in fit\n    super().fit(\n  File \"/usr/local/lib/python3.10/dist-packages/sklearn/tree/_classes.py\", line 177, in fit\n    self._validate_params()\n  File \"/usr/local/lib/python3.10/dist-packages/sklearn/base.py\", line 600, in _validate_params\n    validate_parameter_constraints(\n  File \"/usr/local/lib/python3.10/dist-packages/sklearn/utils/_param_validation.py\", line 97, in validate_parameter_constraints\n    raise InvalidParameterError(\nsklearn.utils._param_validation.InvalidParameterError: The 'max_depth' parameter of DecisionTreeClassifier must be an int in the range [1, inf) or None. Got 2.0 instead.\n\n--------------------------------------------------------------------------------\n25 fits failed with the following error:\nTraceback (most recent call last):\n  File \"/usr/local/lib/python3.10/dist-packages/sklearn/model_selection/_validation.py\", line 686, in _fit_and_score\n    estimator.fit(X_train, y_train, **fit_params)\n  File \"/usr/local/lib/python3.10/dist-packages/sklearn/tree/_classes.py\", line 889, in fit\n    super().fit(\n  File \"/usr/local/lib/python3.10/dist-packages/sklearn/tree/_classes.py\", line 177, in fit\n    self._validate_params()\n  File \"/usr/local/lib/python3.10/dist-packages/sklearn/base.py\", line 600, in _validate_params\n    validate_parameter_constraints(\n  File \"/usr/local/lib/python3.10/dist-packages/sklearn/utils/_param_validation.py\", line 97, in validate_parameter_constraints\n    raise InvalidParameterError(\nsklearn.utils._param_validation.InvalidParameterError: The 'max_depth' parameter of DecisionTreeClassifier must be an int in the range [1, inf) or None. Got 3.0 instead.\n\n--------------------------------------------------------------------------------\n25 fits failed with the following error:\nTraceback (most recent call last):\n  File \"/usr/local/lib/python3.10/dist-packages/sklearn/model_selection/_validation.py\", line 686, in _fit_and_score\n    estimator.fit(X_train, y_train, **fit_params)\n  File \"/usr/local/lib/python3.10/dist-packages/sklearn/tree/_classes.py\", line 889, in fit\n    super().fit(\n  File \"/usr/local/lib/python3.10/dist-packages/sklearn/tree/_classes.py\", line 177, in fit\n    self._validate_params()\n  File \"/usr/local/lib/python3.10/dist-packages/sklearn/base.py\", line 600, in _validate_params\n    validate_parameter_constraints(\n  File \"/usr/local/lib/python3.10/dist-packages/sklearn/utils/_param_validation.py\", line 97, in validate_parameter_constraints\n    raise InvalidParameterError(\nsklearn.utils._param_validation.InvalidParameterError: The 'max_depth' parameter of DecisionTreeClassifier must be an int in the range [1, inf) or None. Got 4.0 instead.\n\n--------------------------------------------------------------------------------\n25 fits failed with the following error:\nTraceback (most recent call last):\n  File \"/usr/local/lib/python3.10/dist-packages/sklearn/model_selection/_validation.py\", line 686, in _fit_and_score\n    estimator.fit(X_train, y_train, **fit_params)\n  File \"/usr/local/lib/python3.10/dist-packages/sklearn/tree/_classes.py\", line 889, in fit\n    super().fit(\n  File \"/usr/local/lib/python3.10/dist-packages/sklearn/tree/_classes.py\", line 177, in fit\n    self._validate_params()\n  File \"/usr/local/lib/python3.10/dist-packages/sklearn/base.py\", line 600, in _validate_params\n    validate_parameter_constraints(\n  File \"/usr/local/lib/python3.10/dist-packages/sklearn/utils/_param_validation.py\", line 97, in validate_parameter_constraints\n    raise InvalidParameterError(\nsklearn.utils._param_validation.InvalidParameterError: The 'max_depth' parameter of DecisionTreeClassifier must be an int in the range [1, inf) or None. Got 5.0 instead.\n\n--------------------------------------------------------------------------------\n25 fits failed with the following error:\nTraceback (most recent call last):\n  File \"/usr/local/lib/python3.10/dist-packages/sklearn/model_selection/_validation.py\", line 686, in _fit_and_score\n    estimator.fit(X_train, y_train, **fit_params)\n  File \"/usr/local/lib/python3.10/dist-packages/sklearn/tree/_classes.py\", line 889, in fit\n    super().fit(\n  File \"/usr/local/lib/python3.10/dist-packages/sklearn/tree/_classes.py\", line 177, in fit\n    self._validate_params()\n  File \"/usr/local/lib/python3.10/dist-packages/sklearn/base.py\", line 600, in _validate_params\n    validate_parameter_constraints(\n  File \"/usr/local/lib/python3.10/dist-packages/sklearn/utils/_param_validation.py\", line 97, in validate_parameter_constraints\n    raise InvalidParameterError(\nsklearn.utils._param_validation.InvalidParameterError: The 'max_depth' parameter of DecisionTreeClassifier must be an int in the range [1, inf) or None. Got 6.0 instead.\n\n--------------------------------------------------------------------------------\n25 fits failed with the following error:\nTraceback (most recent call last):\n  File \"/usr/local/lib/python3.10/dist-packages/sklearn/model_selection/_validation.py\", line 686, in _fit_and_score\n    estimator.fit(X_train, y_train, **fit_params)\n  File \"/usr/local/lib/python3.10/dist-packages/sklearn/tree/_classes.py\", line 889, in fit\n    super().fit(\n  File \"/usr/local/lib/python3.10/dist-packages/sklearn/tree/_classes.py\", line 177, in fit\n    self._validate_params()\n  File \"/usr/local/lib/python3.10/dist-packages/sklearn/base.py\", line 600, in _validate_params\n    validate_parameter_constraints(\n  File \"/usr/local/lib/python3.10/dist-packages/sklearn/utils/_param_validation.py\", line 97, in validate_parameter_constraints\n    raise InvalidParameterError(\nsklearn.utils._param_validation.InvalidParameterError: The 'max_depth' parameter of DecisionTreeClassifier must be an int in the range [1, inf) or None. Got 7.0 instead.\n\n--------------------------------------------------------------------------------\n25 fits failed with the following error:\nTraceback (most recent call last):\n  File \"/usr/local/lib/python3.10/dist-packages/sklearn/model_selection/_validation.py\", line 686, in _fit_and_score\n    estimator.fit(X_train, y_train, **fit_params)\n  File \"/usr/local/lib/python3.10/dist-packages/sklearn/tree/_classes.py\", line 889, in fit\n    super().fit(\n  File \"/usr/local/lib/python3.10/dist-packages/sklearn/tree/_classes.py\", line 177, in fit\n    self._validate_params()\n  File \"/usr/local/lib/python3.10/dist-packages/sklearn/base.py\", line 600, in _validate_params\n    validate_parameter_constraints(\n  File \"/usr/local/lib/python3.10/dist-packages/sklearn/utils/_param_validation.py\", line 97, in validate_parameter_constraints\n    raise InvalidParameterError(\nsklearn.utils._param_validation.InvalidParameterError: The 'max_depth' parameter of DecisionTreeClassifier must be an int in the range [1, inf) or None. Got 8.0 instead.\n\n--------------------------------------------------------------------------------\n25 fits failed with the following error:\nTraceback (most recent call last):\n  File \"/usr/local/lib/python3.10/dist-packages/sklearn/model_selection/_validation.py\", line 686, in _fit_and_score\n    estimator.fit(X_train, y_train, **fit_params)\n  File \"/usr/local/lib/python3.10/dist-packages/sklearn/tree/_classes.py\", line 889, in fit\n    super().fit(\n  File \"/usr/local/lib/python3.10/dist-packages/sklearn/tree/_classes.py\", line 177, in fit\n    self._validate_params()\n  File \"/usr/local/lib/python3.10/dist-packages/sklearn/base.py\", line 600, in _validate_params\n    validate_parameter_constraints(\n  File \"/usr/local/lib/python3.10/dist-packages/sklearn/utils/_param_validation.py\", line 97, in validate_parameter_constraints\n    raise InvalidParameterError(\nsklearn.utils._param_validation.InvalidParameterError: The 'max_depth' parameter of DecisionTreeClassifier must be an int in the range [1, inf) or None. Got 9.0 instead.\n\n--------------------------------------------------------------------------------\n25 fits failed with the following error:\nTraceback (most recent call last):\n  File \"/usr/local/lib/python3.10/dist-packages/sklearn/model_selection/_validation.py\", line 686, in _fit_and_score\n    estimator.fit(X_train, y_train, **fit_params)\n  File \"/usr/local/lib/python3.10/dist-packages/sklearn/tree/_classes.py\", line 889, in fit\n    super().fit(\n  File \"/usr/local/lib/python3.10/dist-packages/sklearn/tree/_classes.py\", line 177, in fit\n    self._validate_params()\n  File \"/usr/local/lib/python3.10/dist-packages/sklearn/base.py\", line 600, in _validate_params\n    validate_parameter_constraints(\n  File \"/usr/local/lib/python3.10/dist-packages/sklearn/utils/_param_validation.py\", line 97, in validate_parameter_constraints\n    raise InvalidParameterError(\nsklearn.utils._param_validation.InvalidParameterError: The 'max_depth' parameter of DecisionTreeClassifier must be an int in the range [1, inf) or None. Got 10.0 instead.\n\n--------------------------------------------------------------------------------\n25 fits failed with the following error:\nTraceback (most recent call last):\n  File \"/usr/local/lib/python3.10/dist-packages/sklearn/model_selection/_validation.py\", line 686, in _fit_and_score\n    estimator.fit(X_train, y_train, **fit_params)\n  File \"/usr/local/lib/python3.10/dist-packages/sklearn/tree/_classes.py\", line 889, in fit\n    super().fit(\n  File \"/usr/local/lib/python3.10/dist-packages/sklearn/tree/_classes.py\", line 177, in fit\n    self._validate_params()\n  File \"/usr/local/lib/python3.10/dist-packages/sklearn/base.py\", line 600, in _validate_params\n    validate_parameter_constraints(\n  File \"/usr/local/lib/python3.10/dist-packages/sklearn/utils/_param_validation.py\", line 97, in validate_parameter_constraints\n    raise InvalidParameterError(\nsklearn.utils._param_validation.InvalidParameterError: The 'max_depth' parameter of DecisionTreeClassifier must be an int in the range [1, inf) or None. Got 11.0 instead.\n\n--------------------------------------------------------------------------------\n25 fits failed with the following error:\nTraceback (most recent call last):\n  File \"/usr/local/lib/python3.10/dist-packages/sklearn/model_selection/_validation.py\", line 686, in _fit_and_score\n    estimator.fit(X_train, y_train, **fit_params)\n  File \"/usr/local/lib/python3.10/dist-packages/sklearn/tree/_classes.py\", line 889, in fit\n    super().fit(\n  File \"/usr/local/lib/python3.10/dist-packages/sklearn/tree/_classes.py\", line 177, in fit\n    self._validate_params()\n  File \"/usr/local/lib/python3.10/dist-packages/sklearn/base.py\", line 600, in _validate_params\n    validate_parameter_constraints(\n  File \"/usr/local/lib/python3.10/dist-packages/sklearn/utils/_param_validation.py\", line 97, in validate_parameter_constraints\n    raise InvalidParameterError(\nsklearn.utils._param_validation.InvalidParameterError: The 'max_depth' parameter of DecisionTreeClassifier must be an int in the range [1, inf) or None. Got 12.0 instead.\n\n--------------------------------------------------------------------------------\n25 fits failed with the following error:\nTraceback (most recent call last):\n  File \"/usr/local/lib/python3.10/dist-packages/sklearn/model_selection/_validation.py\", line 686, in _fit_and_score\n    estimator.fit(X_train, y_train, **fit_params)\n  File \"/usr/local/lib/python3.10/dist-packages/sklearn/tree/_classes.py\", line 889, in fit\n    super().fit(\n  File \"/usr/local/lib/python3.10/dist-packages/sklearn/tree/_classes.py\", line 177, in fit\n    self._validate_params()\n  File \"/usr/local/lib/python3.10/dist-packages/sklearn/base.py\", line 600, in _validate_params\n    validate_parameter_constraints(\n  File \"/usr/local/lib/python3.10/dist-packages/sklearn/utils/_param_validation.py\", line 97, in validate_parameter_constraints\n    raise InvalidParameterError(\nsklearn.utils._param_validation.InvalidParameterError: The 'max_depth' parameter of DecisionTreeClassifier must be an int in the range [1, inf) or None. Got 13.0 instead.\n\n--------------------------------------------------------------------------------\n25 fits failed with the following error:\nTraceback (most recent call last):\n  File \"/usr/local/lib/python3.10/dist-packages/sklearn/model_selection/_validation.py\", line 686, in _fit_and_score\n    estimator.fit(X_train, y_train, **fit_params)\n  File \"/usr/local/lib/python3.10/dist-packages/sklearn/tree/_classes.py\", line 889, in fit\n    super().fit(\n  File \"/usr/local/lib/python3.10/dist-packages/sklearn/tree/_classes.py\", line 177, in fit\n    self._validate_params()\n  File \"/usr/local/lib/python3.10/dist-packages/sklearn/base.py\", line 600, in _validate_params\n    validate_parameter_constraints(\n  File \"/usr/local/lib/python3.10/dist-packages/sklearn/utils/_param_validation.py\", line 97, in validate_parameter_constraints\n    raise InvalidParameterError(\nsklearn.utils._param_validation.InvalidParameterError: The 'max_depth' parameter of DecisionTreeClassifier must be an int in the range [1, inf) or None. Got 14.0 instead.\n\n--------------------------------------------------------------------------------\n25 fits failed with the following error:\nTraceback (most recent call last):\n  File \"/usr/local/lib/python3.10/dist-packages/sklearn/model_selection/_validation.py\", line 686, in _fit_and_score\n    estimator.fit(X_train, y_train, **fit_params)\n  File \"/usr/local/lib/python3.10/dist-packages/sklearn/tree/_classes.py\", line 889, in fit\n    super().fit(\n  File \"/usr/local/lib/python3.10/dist-packages/sklearn/tree/_classes.py\", line 177, in fit\n    self._validate_params()\n  File \"/usr/local/lib/python3.10/dist-packages/sklearn/base.py\", line 600, in _validate_params\n    validate_parameter_constraints(\n  File \"/usr/local/lib/python3.10/dist-packages/sklearn/utils/_param_validation.py\", line 97, in validate_parameter_constraints\n    raise InvalidParameterError(\nsklearn.utils._param_validation.InvalidParameterError: The 'max_depth' parameter of DecisionTreeClassifier must be an int in the range [1, inf) or None. Got 15.0 instead.\n"
          ]
        }
      ]
    },
    {
      "cell_type": "code",
      "metadata": {
        "id": "6Ed2TLBPwhdq"
      },
      "source": [
        "GridSearch.best_params_"
      ],
      "execution_count": null,
      "outputs": []
    },
    {
      "cell_type": "code",
      "metadata": {
        "id": "Beqga9lp3yKn"
      },
      "source": [
        "def plot_search_results(grid):\n",
        "    \"\"\"\n",
        "    Params: \n",
        "        grid: A trained GridSearchCV object.\n",
        "    \"\"\"\n",
        "    ## Results from grid search\n",
        "    results = grid.cv_results_\n",
        "    means_test = results['mean_test_score']\n",
        "    stds_test = results['std_test_score']\n",
        "    means_train = results['mean_train_score']\n",
        "    stds_train = results['std_train_score']\n",
        "\n",
        "    ## Getting indexes of values per hyper-parameter\n",
        "    masks=[]\n",
        "    masks_names= list(grid.best_params_.keys())\n",
        "    for p_k, p_v in grid.best_params_.items():\n",
        "        masks.append(list(results['param_'+p_k].data==p_v))\n",
        "\n",
        "    params=grid.param_grid\n",
        "\n",
        "    ## Ploting results\n",
        "    fig, ax = plt.subplots(1,len(params),sharex='none', sharey='all',figsize=(20,5))\n",
        "    fig.suptitle('Score per parameter')\n",
        "    fig.text(0.04, 0.5, 'MEAN SCORE', va='center', rotation='vertical')\n",
        "    pram_preformace_in_best = {}\n",
        "    for i, p in enumerate(masks_names):\n",
        "        m = np.stack(masks[:i] + masks[i+1:])\n",
        "        pram_preformace_in_best\n",
        "        best_parms_mask = m.all(axis=0)\n",
        "        best_index = np.where(best_parms_mask)[0]\n",
        "        x = np.array(params[p])\n",
        "        y_1 = np.array(means_test[best_index])\n",
        "        e_1 = np.array(stds_test[best_index])\n",
        "        y_2 = np.array(means_train[best_index])\n",
        "        e_2 = np.array(stds_train[best_index])\n",
        "        ax[i].errorbar(x, y_1, e_1, linestyle='--', marker='o', label='test')\n",
        "        ax[i].errorbar(x, y_2, e_2, linestyle='-', marker='^',label='train' )\n",
        "        ax[i].set_xlabel(p.upper())\n",
        "\n",
        "    plt.legend()\n",
        "    plt.show()"
      ],
      "execution_count": null,
      "outputs": []
    },
    {
      "cell_type": "code",
      "metadata": {
        "id": "MNRLjWmi4TH_"
      },
      "source": [
        "\n",
        "# Calling Method \n",
        "plot_search_results(GridSearch)\n"
      ],
      "execution_count": null,
      "outputs": []
    },
    {
      "cell_type": "code",
      "metadata": {
        "id": "8ma6g_3-wxD5",
        "colab": {
          "base_uri": "https://localhost:8080/",
          "height": 74
        },
        "outputId": "77db4d93-a39f-48db-f07a-959d37e54f83"
      },
      "source": [
        "# Entrenamiento Óptimizado\n",
        "\n",
        "dtree = DecisionTreeClassifier(max_depth = 6, \n",
        "                               min_samples_leaf = 0.01,\n",
        "                               random_state = 123)\n",
        "\n",
        "dtree = dtree.fit(X_train_res, y_train_res)\n",
        "    \n",
        "dtree"
      ],
      "execution_count": 39,
      "outputs": [
        {
          "output_type": "execute_result",
          "data": {
            "text/plain": [
              "DecisionTreeClassifier(max_depth=6, min_samples_leaf=0.01, random_state=123)"
            ],
            "text/html": [
              "<style>#sk-container-id-3 {color: black;background-color: white;}#sk-container-id-3 pre{padding: 0;}#sk-container-id-3 div.sk-toggleable {background-color: white;}#sk-container-id-3 label.sk-toggleable__label {cursor: pointer;display: block;width: 100%;margin-bottom: 0;padding: 0.3em;box-sizing: border-box;text-align: center;}#sk-container-id-3 label.sk-toggleable__label-arrow:before {content: \"▸\";float: left;margin-right: 0.25em;color: #696969;}#sk-container-id-3 label.sk-toggleable__label-arrow:hover:before {color: black;}#sk-container-id-3 div.sk-estimator:hover label.sk-toggleable__label-arrow:before {color: black;}#sk-container-id-3 div.sk-toggleable__content {max-height: 0;max-width: 0;overflow: hidden;text-align: left;background-color: #f0f8ff;}#sk-container-id-3 div.sk-toggleable__content pre {margin: 0.2em;color: black;border-radius: 0.25em;background-color: #f0f8ff;}#sk-container-id-3 input.sk-toggleable__control:checked~div.sk-toggleable__content {max-height: 200px;max-width: 100%;overflow: auto;}#sk-container-id-3 input.sk-toggleable__control:checked~label.sk-toggleable__label-arrow:before {content: \"▾\";}#sk-container-id-3 div.sk-estimator input.sk-toggleable__control:checked~label.sk-toggleable__label {background-color: #d4ebff;}#sk-container-id-3 div.sk-label input.sk-toggleable__control:checked~label.sk-toggleable__label {background-color: #d4ebff;}#sk-container-id-3 input.sk-hidden--visually {border: 0;clip: rect(1px 1px 1px 1px);clip: rect(1px, 1px, 1px, 1px);height: 1px;margin: -1px;overflow: hidden;padding: 0;position: absolute;width: 1px;}#sk-container-id-3 div.sk-estimator {font-family: monospace;background-color: #f0f8ff;border: 1px dotted black;border-radius: 0.25em;box-sizing: border-box;margin-bottom: 0.5em;}#sk-container-id-3 div.sk-estimator:hover {background-color: #d4ebff;}#sk-container-id-3 div.sk-parallel-item::after {content: \"\";width: 100%;border-bottom: 1px solid gray;flex-grow: 1;}#sk-container-id-3 div.sk-label:hover label.sk-toggleable__label {background-color: #d4ebff;}#sk-container-id-3 div.sk-serial::before {content: \"\";position: absolute;border-left: 1px solid gray;box-sizing: border-box;top: 0;bottom: 0;left: 50%;z-index: 0;}#sk-container-id-3 div.sk-serial {display: flex;flex-direction: column;align-items: center;background-color: white;padding-right: 0.2em;padding-left: 0.2em;position: relative;}#sk-container-id-3 div.sk-item {position: relative;z-index: 1;}#sk-container-id-3 div.sk-parallel {display: flex;align-items: stretch;justify-content: center;background-color: white;position: relative;}#sk-container-id-3 div.sk-item::before, #sk-container-id-3 div.sk-parallel-item::before {content: \"\";position: absolute;border-left: 1px solid gray;box-sizing: border-box;top: 0;bottom: 0;left: 50%;z-index: -1;}#sk-container-id-3 div.sk-parallel-item {display: flex;flex-direction: column;z-index: 1;position: relative;background-color: white;}#sk-container-id-3 div.sk-parallel-item:first-child::after {align-self: flex-end;width: 50%;}#sk-container-id-3 div.sk-parallel-item:last-child::after {align-self: flex-start;width: 50%;}#sk-container-id-3 div.sk-parallel-item:only-child::after {width: 0;}#sk-container-id-3 div.sk-dashed-wrapped {border: 1px dashed gray;margin: 0 0.4em 0.5em 0.4em;box-sizing: border-box;padding-bottom: 0.4em;background-color: white;}#sk-container-id-3 div.sk-label label {font-family: monospace;font-weight: bold;display: inline-block;line-height: 1.2em;}#sk-container-id-3 div.sk-label-container {text-align: center;}#sk-container-id-3 div.sk-container {/* jupyter's `normalize.less` sets `[hidden] { display: none; }` but bootstrap.min.css set `[hidden] { display: none !important; }` so we also need the `!important` here to be able to override the default hidden behavior on the sphinx rendered scikit-learn.org. See: https://github.com/scikit-learn/scikit-learn/issues/21755 */display: inline-block !important;position: relative;}#sk-container-id-3 div.sk-text-repr-fallback {display: none;}</style><div id=\"sk-container-id-3\" class=\"sk-top-container\"><div class=\"sk-text-repr-fallback\"><pre>DecisionTreeClassifier(max_depth=6, min_samples_leaf=0.01, random_state=123)</pre><b>In a Jupyter environment, please rerun this cell to show the HTML representation or trust the notebook. <br />On GitHub, the HTML representation is unable to render, please try loading this page with nbviewer.org.</b></div><div class=\"sk-container\" hidden><div class=\"sk-item\"><div class=\"sk-estimator sk-toggleable\"><input class=\"sk-toggleable__control sk-hidden--visually\" id=\"sk-estimator-id-3\" type=\"checkbox\" checked><label for=\"sk-estimator-id-3\" class=\"sk-toggleable__label sk-toggleable__label-arrow\">DecisionTreeClassifier</label><div class=\"sk-toggleable__content\"><pre>DecisionTreeClassifier(max_depth=6, min_samples_leaf=0.01, random_state=123)</pre></div></div></div></div></div>"
            ]
          },
          "metadata": {},
          "execution_count": 39
        }
      ]
    },
    {
      "cell_type": "code",
      "metadata": {
        "id": "VcJQAjQkAt06",
        "outputId": "5e31540f-531f-461a-9a68-7e7969960838",
        "colab": {
          "base_uri": "https://localhost:8080/"
        }
      },
      "source": [
        "# Graficando resultados\n",
        "\n",
        "from sklearn.tree import export_graphviz\n",
        "from pydotplus import graph_from_dot_data\n",
        "\n",
        "dot_data = export_graphviz(dtree,\n",
        "                           feature_names = features,\n",
        "                           filled = True,\n",
        "                           rounded = True,\n",
        "                           special_characters = True)\n",
        "\n",
        "graph = graph_from_dot_data(dot_data)\n",
        "graph.write_png('tree.png')\n",
        "print(graph)"
      ],
      "execution_count": 40,
      "outputs": [
        {
          "output_type": "stream",
          "name": "stdout",
          "text": [
            "<pydotplus.graphviz.Dot object at 0x7f1dc3e41bd0>\n"
          ]
        }
      ]
    },
    {
      "cell_type": "markdown",
      "metadata": {
        "id": "Nx2FhGCj139S"
      },
      "source": [
        "<b>Bondad de ajuste</b>"
      ]
    },
    {
      "cell_type": "code",
      "metadata": {
        "id": "ZRo01-D713Lv"
      },
      "source": [
        "# Usando el modelo para predecir\n",
        "\n",
        "X_train['probability'] = dtree.predict_proba(X_train[features])[:,1]\n",
        "X_test['probability']  = dtree.predict_proba(X_test[features])[:,1]\n",
        "\n",
        "X_train['prediction'] = dtree.predict(X_train[features])\n",
        "X_test['prediction']  = dtree.predict(X_test[features])\n"
      ],
      "execution_count": 41,
      "outputs": []
    },
    {
      "cell_type": "code",
      "metadata": {
        "id": "H_1Osv5N1_kO",
        "colab": {
          "base_uri": "https://localhost:8080/",
          "height": 237
        },
        "outputId": "549f0635-e48c-4561-b6c5-e7e2655b1b07"
      },
      "source": [
        "#Resumen de todas las métricas del modelo\n",
        "\n",
        "metricsDtreeOpt = pd.DataFrame({'metric':['AUC','Gini','Accuracy','Precision','Recall','F1-score'],\n",
        "                                'dTree_train':[roc_auc_score(y_train, X_train.probability),\n",
        "                                        (roc_auc_score(y_train, X_train.probability)*2-1),\n",
        "                                        accuracy_score(y_train, X_train.prediction),\n",
        "                                        precision_score(y_train, X_train.prediction),\n",
        "                                        recall_score(y_train, X_train.prediction),\n",
        "                                        f1_score(y_train, X_train.prediction)],\n",
        "\n",
        "                                'dTree_test':[roc_auc_score(y_test, X_test.probability),\n",
        "                                        (roc_auc_score(y_test, X_test.probability)*2-1),\n",
        "                                        accuracy_score(y_test, X_test.prediction),\n",
        "                                        precision_score(y_test, X_test.prediction),\n",
        "                                        recall_score(y_test, X_test.prediction),\n",
        "                                        f1_score(y_test, X_test.prediction)]})\n",
        "\n",
        "metricsDtreeOpt          "
      ],
      "execution_count": 42,
      "outputs": [
        {
          "output_type": "execute_result",
          "data": {
            "text/plain": [
              "      metric  dTree_train  dTree_test\n",
              "0        AUC     0.808715    0.798743\n",
              "1       Gini     0.617431    0.597487\n",
              "2   Accuracy     0.819127    0.818776\n",
              "3  Precision     0.133041    0.129727\n",
              "4     Recall     0.647198    0.627494\n",
              "5   F1-score     0.220711    0.215005"
            ],
            "text/html": [
              "\n",
              "  <div id=\"df-974b490c-fc01-43b4-b791-b479c72a007e\">\n",
              "    <div class=\"colab-df-container\">\n",
              "      <div>\n",
              "<style scoped>\n",
              "    .dataframe tbody tr th:only-of-type {\n",
              "        vertical-align: middle;\n",
              "    }\n",
              "\n",
              "    .dataframe tbody tr th {\n",
              "        vertical-align: top;\n",
              "    }\n",
              "\n",
              "    .dataframe thead th {\n",
              "        text-align: right;\n",
              "    }\n",
              "</style>\n",
              "<table border=\"1\" class=\"dataframe\">\n",
              "  <thead>\n",
              "    <tr style=\"text-align: right;\">\n",
              "      <th></th>\n",
              "      <th>metric</th>\n",
              "      <th>dTree_train</th>\n",
              "      <th>dTree_test</th>\n",
              "    </tr>\n",
              "  </thead>\n",
              "  <tbody>\n",
              "    <tr>\n",
              "      <th>0</th>\n",
              "      <td>AUC</td>\n",
              "      <td>0.808715</td>\n",
              "      <td>0.798743</td>\n",
              "    </tr>\n",
              "    <tr>\n",
              "      <th>1</th>\n",
              "      <td>Gini</td>\n",
              "      <td>0.617431</td>\n",
              "      <td>0.597487</td>\n",
              "    </tr>\n",
              "    <tr>\n",
              "      <th>2</th>\n",
              "      <td>Accuracy</td>\n",
              "      <td>0.819127</td>\n",
              "      <td>0.818776</td>\n",
              "    </tr>\n",
              "    <tr>\n",
              "      <th>3</th>\n",
              "      <td>Precision</td>\n",
              "      <td>0.133041</td>\n",
              "      <td>0.129727</td>\n",
              "    </tr>\n",
              "    <tr>\n",
              "      <th>4</th>\n",
              "      <td>Recall</td>\n",
              "      <td>0.647198</td>\n",
              "      <td>0.627494</td>\n",
              "    </tr>\n",
              "    <tr>\n",
              "      <th>5</th>\n",
              "      <td>F1-score</td>\n",
              "      <td>0.220711</td>\n",
              "      <td>0.215005</td>\n",
              "    </tr>\n",
              "  </tbody>\n",
              "</table>\n",
              "</div>\n",
              "      <button class=\"colab-df-convert\" onclick=\"convertToInteractive('df-974b490c-fc01-43b4-b791-b479c72a007e')\"\n",
              "              title=\"Convert this dataframe to an interactive table.\"\n",
              "              style=\"display:none;\">\n",
              "        \n",
              "  <svg xmlns=\"http://www.w3.org/2000/svg\" height=\"24px\"viewBox=\"0 0 24 24\"\n",
              "       width=\"24px\">\n",
              "    <path d=\"M0 0h24v24H0V0z\" fill=\"none\"/>\n",
              "    <path d=\"M18.56 5.44l.94 2.06.94-2.06 2.06-.94-2.06-.94-.94-2.06-.94 2.06-2.06.94zm-11 1L8.5 8.5l.94-2.06 2.06-.94-2.06-.94L8.5 2.5l-.94 2.06-2.06.94zm10 10l.94 2.06.94-2.06 2.06-.94-2.06-.94-.94-2.06-.94 2.06-2.06.94z\"/><path d=\"M17.41 7.96l-1.37-1.37c-.4-.4-.92-.59-1.43-.59-.52 0-1.04.2-1.43.59L10.3 9.45l-7.72 7.72c-.78.78-.78 2.05 0 2.83L4 21.41c.39.39.9.59 1.41.59.51 0 1.02-.2 1.41-.59l7.78-7.78 2.81-2.81c.8-.78.8-2.07 0-2.86zM5.41 20L4 18.59l7.72-7.72 1.47 1.35L5.41 20z\"/>\n",
              "  </svg>\n",
              "      </button>\n",
              "      \n",
              "  <style>\n",
              "    .colab-df-container {\n",
              "      display:flex;\n",
              "      flex-wrap:wrap;\n",
              "      gap: 12px;\n",
              "    }\n",
              "\n",
              "    .colab-df-convert {\n",
              "      background-color: #E8F0FE;\n",
              "      border: none;\n",
              "      border-radius: 50%;\n",
              "      cursor: pointer;\n",
              "      display: none;\n",
              "      fill: #1967D2;\n",
              "      height: 32px;\n",
              "      padding: 0 0 0 0;\n",
              "      width: 32px;\n",
              "    }\n",
              "\n",
              "    .colab-df-convert:hover {\n",
              "      background-color: #E2EBFA;\n",
              "      box-shadow: 0px 1px 2px rgba(60, 64, 67, 0.3), 0px 1px 3px 1px rgba(60, 64, 67, 0.15);\n",
              "      fill: #174EA6;\n",
              "    }\n",
              "\n",
              "    [theme=dark] .colab-df-convert {\n",
              "      background-color: #3B4455;\n",
              "      fill: #D2E3FC;\n",
              "    }\n",
              "\n",
              "    [theme=dark] .colab-df-convert:hover {\n",
              "      background-color: #434B5C;\n",
              "      box-shadow: 0px 1px 3px 1px rgba(0, 0, 0, 0.15);\n",
              "      filter: drop-shadow(0px 1px 2px rgba(0, 0, 0, 0.3));\n",
              "      fill: #FFFFFF;\n",
              "    }\n",
              "  </style>\n",
              "\n",
              "      <script>\n",
              "        const buttonEl =\n",
              "          document.querySelector('#df-974b490c-fc01-43b4-b791-b479c72a007e button.colab-df-convert');\n",
              "        buttonEl.style.display =\n",
              "          google.colab.kernel.accessAllowed ? 'block' : 'none';\n",
              "\n",
              "        async function convertToInteractive(key) {\n",
              "          const element = document.querySelector('#df-974b490c-fc01-43b4-b791-b479c72a007e');\n",
              "          const dataTable =\n",
              "            await google.colab.kernel.invokeFunction('convertToInteractive',\n",
              "                                                     [key], {});\n",
              "          if (!dataTable) return;\n",
              "\n",
              "          const docLinkHtml = 'Like what you see? Visit the ' +\n",
              "            '<a target=\"_blank\" href=https://colab.research.google.com/notebooks/data_table.ipynb>data table notebook</a>'\n",
              "            + ' to learn more about interactive tables.';\n",
              "          element.innerHTML = '';\n",
              "          dataTable['output_type'] = 'display_data';\n",
              "          await google.colab.output.renderOutput(dataTable, element);\n",
              "          const docLink = document.createElement('div');\n",
              "          docLink.innerHTML = docLinkHtml;\n",
              "          element.appendChild(docLink);\n",
              "        }\n",
              "      </script>\n",
              "    </div>\n",
              "  </div>\n",
              "  "
            ]
          },
          "metadata": {},
          "execution_count": 42
        }
      ]
    },
    {
      "cell_type": "code",
      "source": [
        "pd.merge(metricsDtree_smote, metricsDtreeOpt, on = 'metric', how='left')"
      ],
      "metadata": {
        "colab": {
          "base_uri": "https://localhost:8080/",
          "height": 237
        },
        "id": "5U3JYapA_fOy",
        "outputId": "66723b0e-e0f3-4187-e925-0af483aa52c4"
      },
      "execution_count": 43,
      "outputs": [
        {
          "output_type": "execute_result",
          "data": {
            "text/plain": [
              "      metric  dTree_smote_train  dTree_smote_test  dTree_train  dTree_test\n",
              "0        AUC           0.800894          0.799110     0.808715    0.798743\n",
              "1       Gini           0.601789          0.598221     0.617431    0.597487\n",
              "2   Accuracy           0.783309          0.788389     0.819127    0.818776\n",
              "3  Precision           0.112491          0.115143     0.133041    0.129727\n",
              "4     Recall           0.649573          0.650776     0.647198    0.627494\n",
              "5   F1-score           0.191771          0.195667     0.220711    0.215005"
            ],
            "text/html": [
              "\n",
              "  <div id=\"df-2db4cf06-2a5e-4677-8cb8-774dc8fa8683\">\n",
              "    <div class=\"colab-df-container\">\n",
              "      <div>\n",
              "<style scoped>\n",
              "    .dataframe tbody tr th:only-of-type {\n",
              "        vertical-align: middle;\n",
              "    }\n",
              "\n",
              "    .dataframe tbody tr th {\n",
              "        vertical-align: top;\n",
              "    }\n",
              "\n",
              "    .dataframe thead th {\n",
              "        text-align: right;\n",
              "    }\n",
              "</style>\n",
              "<table border=\"1\" class=\"dataframe\">\n",
              "  <thead>\n",
              "    <tr style=\"text-align: right;\">\n",
              "      <th></th>\n",
              "      <th>metric</th>\n",
              "      <th>dTree_smote_train</th>\n",
              "      <th>dTree_smote_test</th>\n",
              "      <th>dTree_train</th>\n",
              "      <th>dTree_test</th>\n",
              "    </tr>\n",
              "  </thead>\n",
              "  <tbody>\n",
              "    <tr>\n",
              "      <th>0</th>\n",
              "      <td>AUC</td>\n",
              "      <td>0.800894</td>\n",
              "      <td>0.799110</td>\n",
              "      <td>0.808715</td>\n",
              "      <td>0.798743</td>\n",
              "    </tr>\n",
              "    <tr>\n",
              "      <th>1</th>\n",
              "      <td>Gini</td>\n",
              "      <td>0.601789</td>\n",
              "      <td>0.598221</td>\n",
              "      <td>0.617431</td>\n",
              "      <td>0.597487</td>\n",
              "    </tr>\n",
              "    <tr>\n",
              "      <th>2</th>\n",
              "      <td>Accuracy</td>\n",
              "      <td>0.783309</td>\n",
              "      <td>0.788389</td>\n",
              "      <td>0.819127</td>\n",
              "      <td>0.818776</td>\n",
              "    </tr>\n",
              "    <tr>\n",
              "      <th>3</th>\n",
              "      <td>Precision</td>\n",
              "      <td>0.112491</td>\n",
              "      <td>0.115143</td>\n",
              "      <td>0.133041</td>\n",
              "      <td>0.129727</td>\n",
              "    </tr>\n",
              "    <tr>\n",
              "      <th>4</th>\n",
              "      <td>Recall</td>\n",
              "      <td>0.649573</td>\n",
              "      <td>0.650776</td>\n",
              "      <td>0.647198</td>\n",
              "      <td>0.627494</td>\n",
              "    </tr>\n",
              "    <tr>\n",
              "      <th>5</th>\n",
              "      <td>F1-score</td>\n",
              "      <td>0.191771</td>\n",
              "      <td>0.195667</td>\n",
              "      <td>0.220711</td>\n",
              "      <td>0.215005</td>\n",
              "    </tr>\n",
              "  </tbody>\n",
              "</table>\n",
              "</div>\n",
              "      <button class=\"colab-df-convert\" onclick=\"convertToInteractive('df-2db4cf06-2a5e-4677-8cb8-774dc8fa8683')\"\n",
              "              title=\"Convert this dataframe to an interactive table.\"\n",
              "              style=\"display:none;\">\n",
              "        \n",
              "  <svg xmlns=\"http://www.w3.org/2000/svg\" height=\"24px\"viewBox=\"0 0 24 24\"\n",
              "       width=\"24px\">\n",
              "    <path d=\"M0 0h24v24H0V0z\" fill=\"none\"/>\n",
              "    <path d=\"M18.56 5.44l.94 2.06.94-2.06 2.06-.94-2.06-.94-.94-2.06-.94 2.06-2.06.94zm-11 1L8.5 8.5l.94-2.06 2.06-.94-2.06-.94L8.5 2.5l-.94 2.06-2.06.94zm10 10l.94 2.06.94-2.06 2.06-.94-2.06-.94-.94-2.06-.94 2.06-2.06.94z\"/><path d=\"M17.41 7.96l-1.37-1.37c-.4-.4-.92-.59-1.43-.59-.52 0-1.04.2-1.43.59L10.3 9.45l-7.72 7.72c-.78.78-.78 2.05 0 2.83L4 21.41c.39.39.9.59 1.41.59.51 0 1.02-.2 1.41-.59l7.78-7.78 2.81-2.81c.8-.78.8-2.07 0-2.86zM5.41 20L4 18.59l7.72-7.72 1.47 1.35L5.41 20z\"/>\n",
              "  </svg>\n",
              "      </button>\n",
              "      \n",
              "  <style>\n",
              "    .colab-df-container {\n",
              "      display:flex;\n",
              "      flex-wrap:wrap;\n",
              "      gap: 12px;\n",
              "    }\n",
              "\n",
              "    .colab-df-convert {\n",
              "      background-color: #E8F0FE;\n",
              "      border: none;\n",
              "      border-radius: 50%;\n",
              "      cursor: pointer;\n",
              "      display: none;\n",
              "      fill: #1967D2;\n",
              "      height: 32px;\n",
              "      padding: 0 0 0 0;\n",
              "      width: 32px;\n",
              "    }\n",
              "\n",
              "    .colab-df-convert:hover {\n",
              "      background-color: #E2EBFA;\n",
              "      box-shadow: 0px 1px 2px rgba(60, 64, 67, 0.3), 0px 1px 3px 1px rgba(60, 64, 67, 0.15);\n",
              "      fill: #174EA6;\n",
              "    }\n",
              "\n",
              "    [theme=dark] .colab-df-convert {\n",
              "      background-color: #3B4455;\n",
              "      fill: #D2E3FC;\n",
              "    }\n",
              "\n",
              "    [theme=dark] .colab-df-convert:hover {\n",
              "      background-color: #434B5C;\n",
              "      box-shadow: 0px 1px 3px 1px rgba(0, 0, 0, 0.15);\n",
              "      filter: drop-shadow(0px 1px 2px rgba(0, 0, 0, 0.3));\n",
              "      fill: #FFFFFF;\n",
              "    }\n",
              "  </style>\n",
              "\n",
              "      <script>\n",
              "        const buttonEl =\n",
              "          document.querySelector('#df-2db4cf06-2a5e-4677-8cb8-774dc8fa8683 button.colab-df-convert');\n",
              "        buttonEl.style.display =\n",
              "          google.colab.kernel.accessAllowed ? 'block' : 'none';\n",
              "\n",
              "        async function convertToInteractive(key) {\n",
              "          const element = document.querySelector('#df-2db4cf06-2a5e-4677-8cb8-774dc8fa8683');\n",
              "          const dataTable =\n",
              "            await google.colab.kernel.invokeFunction('convertToInteractive',\n",
              "                                                     [key], {});\n",
              "          if (!dataTable) return;\n",
              "\n",
              "          const docLinkHtml = 'Like what you see? Visit the ' +\n",
              "            '<a target=\"_blank\" href=https://colab.research.google.com/notebooks/data_table.ipynb>data table notebook</a>'\n",
              "            + ' to learn more about interactive tables.';\n",
              "          element.innerHTML = '';\n",
              "          dataTable['output_type'] = 'display_data';\n",
              "          await google.colab.output.renderOutput(dataTable, element);\n",
              "          const docLink = document.createElement('div');\n",
              "          docLink.innerHTML = docLinkHtml;\n",
              "          element.appendChild(docLink);\n",
              "        }\n",
              "      </script>\n",
              "    </div>\n",
              "  </div>\n",
              "  "
            ]
          },
          "metadata": {},
          "execution_count": 43
        }
      ]
    },
    {
      "cell_type": "markdown",
      "metadata": {
        "id": "GmVIV52EEYRj"
      },
      "source": [
        "<b>Importancias del modelo</b>"
      ]
    },
    {
      "cell_type": "code",
      "metadata": {
        "id": "lAjdljBUSFDp"
      },
      "source": [
        "# Muestreo de data\n",
        "\n",
        "from sklearn.model_selection import train_test_split\n",
        "\n",
        "X_train, X_test, y_train, y_test = train_test_split(X, y, \n",
        "                                                    stratify = y,\n",
        "                                                    test_size = 0.3,\n",
        "                                                    random_state = 123)"
      ],
      "execution_count": 44,
      "outputs": []
    },
    {
      "cell_type": "code",
      "metadata": {
        "id": "M6x8uQXSEYwf",
        "colab": {
          "base_uri": "https://localhost:8080/",
          "height": 551
        },
        "outputId": "8ac0e983-5135-4e95-ad51-d705e503940a"
      },
      "source": [
        "\n",
        "importances = pd.DataFrame({'features' : X_train.columns.tolist() ,\n",
        "                            'importance' : dtree.feature_importances_}).sort_values('importance', ascending = False)\n",
        "\n",
        "importances.loc[importances.importance > 0]"
      ],
      "execution_count": 45,
      "outputs": [
        {
          "output_type": "execute_result",
          "data": {
            "text/plain": [
              "                     features  importance\n",
              "349                 ind_var30    0.489990\n",
              "291                     var15    0.279996\n",
              "162               saldo_var30    0.068183\n",
              "98    imp_op_var41_efect_ult3    0.044417\n",
              "93                      var38    0.039043\n",
              "234               saldo_var37    0.021746\n",
              "249             ind_var37_cte    0.018887\n",
              "306            num_var22_ult3    0.015889\n",
              "367            num_var22_ult1    0.006266\n",
              "59                   num_var4    0.005826\n",
              "149                     var36    0.003204\n",
              "11   num_meses_var39_vig_ult3    0.002604\n",
              "96     saldo_medio_var5_hace3    0.002280\n",
              "60        num_meses_var5_ult3    0.001586\n",
              "322     saldo_medio_var5_ult3    0.000058\n",
              "87                ind_var41_0    0.000026"
            ],
            "text/html": [
              "\n",
              "  <div id=\"df-7ad8c5a3-420a-4848-940b-641299c203ed\">\n",
              "    <div class=\"colab-df-container\">\n",
              "      <div>\n",
              "<style scoped>\n",
              "    .dataframe tbody tr th:only-of-type {\n",
              "        vertical-align: middle;\n",
              "    }\n",
              "\n",
              "    .dataframe tbody tr th {\n",
              "        vertical-align: top;\n",
              "    }\n",
              "\n",
              "    .dataframe thead th {\n",
              "        text-align: right;\n",
              "    }\n",
              "</style>\n",
              "<table border=\"1\" class=\"dataframe\">\n",
              "  <thead>\n",
              "    <tr style=\"text-align: right;\">\n",
              "      <th></th>\n",
              "      <th>features</th>\n",
              "      <th>importance</th>\n",
              "    </tr>\n",
              "  </thead>\n",
              "  <tbody>\n",
              "    <tr>\n",
              "      <th>349</th>\n",
              "      <td>ind_var30</td>\n",
              "      <td>0.489990</td>\n",
              "    </tr>\n",
              "    <tr>\n",
              "      <th>291</th>\n",
              "      <td>var15</td>\n",
              "      <td>0.279996</td>\n",
              "    </tr>\n",
              "    <tr>\n",
              "      <th>162</th>\n",
              "      <td>saldo_var30</td>\n",
              "      <td>0.068183</td>\n",
              "    </tr>\n",
              "    <tr>\n",
              "      <th>98</th>\n",
              "      <td>imp_op_var41_efect_ult3</td>\n",
              "      <td>0.044417</td>\n",
              "    </tr>\n",
              "    <tr>\n",
              "      <th>93</th>\n",
              "      <td>var38</td>\n",
              "      <td>0.039043</td>\n",
              "    </tr>\n",
              "    <tr>\n",
              "      <th>234</th>\n",
              "      <td>saldo_var37</td>\n",
              "      <td>0.021746</td>\n",
              "    </tr>\n",
              "    <tr>\n",
              "      <th>249</th>\n",
              "      <td>ind_var37_cte</td>\n",
              "      <td>0.018887</td>\n",
              "    </tr>\n",
              "    <tr>\n",
              "      <th>306</th>\n",
              "      <td>num_var22_ult3</td>\n",
              "      <td>0.015889</td>\n",
              "    </tr>\n",
              "    <tr>\n",
              "      <th>367</th>\n",
              "      <td>num_var22_ult1</td>\n",
              "      <td>0.006266</td>\n",
              "    </tr>\n",
              "    <tr>\n",
              "      <th>59</th>\n",
              "      <td>num_var4</td>\n",
              "      <td>0.005826</td>\n",
              "    </tr>\n",
              "    <tr>\n",
              "      <th>149</th>\n",
              "      <td>var36</td>\n",
              "      <td>0.003204</td>\n",
              "    </tr>\n",
              "    <tr>\n",
              "      <th>11</th>\n",
              "      <td>num_meses_var39_vig_ult3</td>\n",
              "      <td>0.002604</td>\n",
              "    </tr>\n",
              "    <tr>\n",
              "      <th>96</th>\n",
              "      <td>saldo_medio_var5_hace3</td>\n",
              "      <td>0.002280</td>\n",
              "    </tr>\n",
              "    <tr>\n",
              "      <th>60</th>\n",
              "      <td>num_meses_var5_ult3</td>\n",
              "      <td>0.001586</td>\n",
              "    </tr>\n",
              "    <tr>\n",
              "      <th>322</th>\n",
              "      <td>saldo_medio_var5_ult3</td>\n",
              "      <td>0.000058</td>\n",
              "    </tr>\n",
              "    <tr>\n",
              "      <th>87</th>\n",
              "      <td>ind_var41_0</td>\n",
              "      <td>0.000026</td>\n",
              "    </tr>\n",
              "  </tbody>\n",
              "</table>\n",
              "</div>\n",
              "      <button class=\"colab-df-convert\" onclick=\"convertToInteractive('df-7ad8c5a3-420a-4848-940b-641299c203ed')\"\n",
              "              title=\"Convert this dataframe to an interactive table.\"\n",
              "              style=\"display:none;\">\n",
              "        \n",
              "  <svg xmlns=\"http://www.w3.org/2000/svg\" height=\"24px\"viewBox=\"0 0 24 24\"\n",
              "       width=\"24px\">\n",
              "    <path d=\"M0 0h24v24H0V0z\" fill=\"none\"/>\n",
              "    <path d=\"M18.56 5.44l.94 2.06.94-2.06 2.06-.94-2.06-.94-.94-2.06-.94 2.06-2.06.94zm-11 1L8.5 8.5l.94-2.06 2.06-.94-2.06-.94L8.5 2.5l-.94 2.06-2.06.94zm10 10l.94 2.06.94-2.06 2.06-.94-2.06-.94-.94-2.06-.94 2.06-2.06.94z\"/><path d=\"M17.41 7.96l-1.37-1.37c-.4-.4-.92-.59-1.43-.59-.52 0-1.04.2-1.43.59L10.3 9.45l-7.72 7.72c-.78.78-.78 2.05 0 2.83L4 21.41c.39.39.9.59 1.41.59.51 0 1.02-.2 1.41-.59l7.78-7.78 2.81-2.81c.8-.78.8-2.07 0-2.86zM5.41 20L4 18.59l7.72-7.72 1.47 1.35L5.41 20z\"/>\n",
              "  </svg>\n",
              "      </button>\n",
              "      \n",
              "  <style>\n",
              "    .colab-df-container {\n",
              "      display:flex;\n",
              "      flex-wrap:wrap;\n",
              "      gap: 12px;\n",
              "    }\n",
              "\n",
              "    .colab-df-convert {\n",
              "      background-color: #E8F0FE;\n",
              "      border: none;\n",
              "      border-radius: 50%;\n",
              "      cursor: pointer;\n",
              "      display: none;\n",
              "      fill: #1967D2;\n",
              "      height: 32px;\n",
              "      padding: 0 0 0 0;\n",
              "      width: 32px;\n",
              "    }\n",
              "\n",
              "    .colab-df-convert:hover {\n",
              "      background-color: #E2EBFA;\n",
              "      box-shadow: 0px 1px 2px rgba(60, 64, 67, 0.3), 0px 1px 3px 1px rgba(60, 64, 67, 0.15);\n",
              "      fill: #174EA6;\n",
              "    }\n",
              "\n",
              "    [theme=dark] .colab-df-convert {\n",
              "      background-color: #3B4455;\n",
              "      fill: #D2E3FC;\n",
              "    }\n",
              "\n",
              "    [theme=dark] .colab-df-convert:hover {\n",
              "      background-color: #434B5C;\n",
              "      box-shadow: 0px 1px 3px 1px rgba(0, 0, 0, 0.15);\n",
              "      filter: drop-shadow(0px 1px 2px rgba(0, 0, 0, 0.3));\n",
              "      fill: #FFFFFF;\n",
              "    }\n",
              "  </style>\n",
              "\n",
              "      <script>\n",
              "        const buttonEl =\n",
              "          document.querySelector('#df-7ad8c5a3-420a-4848-940b-641299c203ed button.colab-df-convert');\n",
              "        buttonEl.style.display =\n",
              "          google.colab.kernel.accessAllowed ? 'block' : 'none';\n",
              "\n",
              "        async function convertToInteractive(key) {\n",
              "          const element = document.querySelector('#df-7ad8c5a3-420a-4848-940b-641299c203ed');\n",
              "          const dataTable =\n",
              "            await google.colab.kernel.invokeFunction('convertToInteractive',\n",
              "                                                     [key], {});\n",
              "          if (!dataTable) return;\n",
              "\n",
              "          const docLinkHtml = 'Like what you see? Visit the ' +\n",
              "            '<a target=\"_blank\" href=https://colab.research.google.com/notebooks/data_table.ipynb>data table notebook</a>'\n",
              "            + ' to learn more about interactive tables.';\n",
              "          element.innerHTML = '';\n",
              "          dataTable['output_type'] = 'display_data';\n",
              "          await google.colab.output.renderOutput(dataTable, element);\n",
              "          const docLink = document.createElement('div');\n",
              "          docLink.innerHTML = docLinkHtml;\n",
              "          element.appendChild(docLink);\n",
              "        }\n",
              "      </script>\n",
              "    </div>\n",
              "  </div>\n",
              "  "
            ]
          },
          "metadata": {},
          "execution_count": 45
        }
      ]
    },
    {
      "cell_type": "markdown",
      "metadata": {
        "id": "WVj_S8JYEVdt"
      },
      "source": [
        "# Random Forest"
      ]
    },
    {
      "cell_type": "code",
      "metadata": {
        "id": "Gzp9XSwgQGen"
      },
      "source": [
        "# Muestreo de data\n",
        "\n",
        "from sklearn.model_selection import train_test_split\n",
        "\n",
        "X_train, X_test, y_train, y_test = train_test_split(X, y, \n",
        "                                                    stratify = y,\n",
        "                                                    test_size = 0.3,\n",
        "                                                    random_state = 123)\n",
        "\n"
      ],
      "execution_count": 46,
      "outputs": []
    },
    {
      "cell_type": "code",
      "metadata": {
        "id": "1iDJJfkx6Rk1"
      },
      "source": [
        "# Cargando librerías\n",
        "\n",
        "from sklearn.ensemble import RandomForestClassifier\n",
        "from sklearn.ensemble import RandomForestRegressor\n",
        "import time\n"
      ],
      "execution_count": 47,
      "outputs": []
    },
    {
      "cell_type": "code",
      "metadata": {
        "id": "y147KKmj6UOz"
      },
      "source": [
        "# Configurando modelo de random forest\n",
        "\n",
        "rfc = RandomForestClassifier(n_estimators = 100,#numero de arboles\n",
        "                             max_depth = 8, #profundidad\n",
        "                             min_samples_leaf = 0.01,#porcentaje de evidencias en cada nodo\n",
        "                             class_weight = {0: 1, 1: 24.267},\n",
        "                             oob_score = True,\n",
        "                             verbose = 1, #cada cuantos itreaciones quieres q te arroje resultado\n",
        "                             n_jobs = 4,#cantidad de paralelizaciones, puedes trabajar 4 arboles de decision a la vez, avanza de 4 en 4 hasta llegar a 100\n",
        "                             random_state = 123)#semilla aleatoria\n",
        "\n",
        "#oob_score: Out of bagging score, es el desempeño del modelo en la muestra que se \n",
        "#queda fuera del proceso de extraccion de subespacios de la data\n",
        "#es importante analizarlo por si el modelo deja fuera algunas caracteristicas importantes de la data"
      ],
      "execution_count": 48,
      "outputs": []
    },
    {
      "cell_type": "code",
      "source": [
        "import multiprocessing\n",
        "multiprocessing.cpu_count()"
      ],
      "metadata": {
        "colab": {
          "base_uri": "https://localhost:8080/"
        },
        "id": "OODpcooYY95W",
        "outputId": "1f84ac62-627e-44e4-ee32-9b6ae9a1172e"
      },
      "execution_count": 49,
      "outputs": [
        {
          "output_type": "execute_result",
          "data": {
            "text/plain": [
              "4"
            ]
          },
          "metadata": {},
          "execution_count": 49
        }
      ]
    },
    {
      "cell_type": "code",
      "metadata": {
        "colab": {
          "base_uri": "https://localhost:8080/"
        },
        "id": "96K6OPOfAQbK",
        "outputId": "8d5c982a-0c7e-4a89-a275-0f3d077e6efe"
      },
      "source": [
        "\n",
        "start_time = time.time()\n",
        "rfc = rfc.fit(X_train, y_train)\n",
        "print(\"----%s seconds ---\" % ((time.time() - start_time)))\n"
      ],
      "execution_count": 50,
      "outputs": [
        {
          "output_type": "stream",
          "name": "stderr",
          "text": [
            "[Parallel(n_jobs=4)]: Using backend ThreadingBackend with 4 concurrent workers.\n",
            "[Parallel(n_jobs=4)]: Done  42 tasks      | elapsed:    0.5s\n",
            "[Parallel(n_jobs=4)]: Done 100 out of 100 | elapsed:    1.2s finished\n"
          ]
        },
        {
          "output_type": "stream",
          "name": "stdout",
          "text": [
            "----2.9279532432556152 seconds ---\n"
          ]
        }
      ]
    },
    {
      "cell_type": "code",
      "metadata": {
        "id": "Wmr96VSSMLaD",
        "colab": {
          "base_uri": "https://localhost:8080/",
          "height": 423
        },
        "outputId": "6a9e2e78-4a91-43db-f9b7-1e0aeb842127"
      },
      "source": [
        "importances = pd.DataFrame({'features' : X_train.columns.tolist() ,\n",
        "                            'importance' : rfc.feature_importances_}).sort_values('importance', ascending = False)\n",
        "\n",
        "importances.loc[importances.importance > 0]"
      ],
      "execution_count": 51,
      "outputs": [
        {
          "output_type": "execute_result",
          "data": {
            "text/plain": [
              "        features    importance\n",
              "291        var15  1.749353e-01\n",
              "275   saldo_var5  7.476310e-02\n",
              "286  saldo_var42  6.883922e-02\n",
              "162  saldo_var30  6.396901e-02\n",
              "75     num_var35  6.087023e-02\n",
              "..           ...           ...\n",
              "278  num_var14_0  7.882419e-05\n",
              "102  ind_var25_0  7.608827e-05\n",
              "122  ind_var37_0  4.612764e-05\n",
              "20     num_var37  1.475249e-05\n",
              "324    num_var25  2.195036e-07\n",
              "\n",
              "[127 rows x 2 columns]"
            ],
            "text/html": [
              "\n",
              "  <div id=\"df-45d5a948-ffe1-4fd8-86b3-4726197419a3\">\n",
              "    <div class=\"colab-df-container\">\n",
              "      <div>\n",
              "<style scoped>\n",
              "    .dataframe tbody tr th:only-of-type {\n",
              "        vertical-align: middle;\n",
              "    }\n",
              "\n",
              "    .dataframe tbody tr th {\n",
              "        vertical-align: top;\n",
              "    }\n",
              "\n",
              "    .dataframe thead th {\n",
              "        text-align: right;\n",
              "    }\n",
              "</style>\n",
              "<table border=\"1\" class=\"dataframe\">\n",
              "  <thead>\n",
              "    <tr style=\"text-align: right;\">\n",
              "      <th></th>\n",
              "      <th>features</th>\n",
              "      <th>importance</th>\n",
              "    </tr>\n",
              "  </thead>\n",
              "  <tbody>\n",
              "    <tr>\n",
              "      <th>291</th>\n",
              "      <td>var15</td>\n",
              "      <td>1.749353e-01</td>\n",
              "    </tr>\n",
              "    <tr>\n",
              "      <th>275</th>\n",
              "      <td>saldo_var5</td>\n",
              "      <td>7.476310e-02</td>\n",
              "    </tr>\n",
              "    <tr>\n",
              "      <th>286</th>\n",
              "      <td>saldo_var42</td>\n",
              "      <td>6.883922e-02</td>\n",
              "    </tr>\n",
              "    <tr>\n",
              "      <th>162</th>\n",
              "      <td>saldo_var30</td>\n",
              "      <td>6.396901e-02</td>\n",
              "    </tr>\n",
              "    <tr>\n",
              "      <th>75</th>\n",
              "      <td>num_var35</td>\n",
              "      <td>6.087023e-02</td>\n",
              "    </tr>\n",
              "    <tr>\n",
              "      <th>...</th>\n",
              "      <td>...</td>\n",
              "      <td>...</td>\n",
              "    </tr>\n",
              "    <tr>\n",
              "      <th>278</th>\n",
              "      <td>num_var14_0</td>\n",
              "      <td>7.882419e-05</td>\n",
              "    </tr>\n",
              "    <tr>\n",
              "      <th>102</th>\n",
              "      <td>ind_var25_0</td>\n",
              "      <td>7.608827e-05</td>\n",
              "    </tr>\n",
              "    <tr>\n",
              "      <th>122</th>\n",
              "      <td>ind_var37_0</td>\n",
              "      <td>4.612764e-05</td>\n",
              "    </tr>\n",
              "    <tr>\n",
              "      <th>20</th>\n",
              "      <td>num_var37</td>\n",
              "      <td>1.475249e-05</td>\n",
              "    </tr>\n",
              "    <tr>\n",
              "      <th>324</th>\n",
              "      <td>num_var25</td>\n",
              "      <td>2.195036e-07</td>\n",
              "    </tr>\n",
              "  </tbody>\n",
              "</table>\n",
              "<p>127 rows × 2 columns</p>\n",
              "</div>\n",
              "      <button class=\"colab-df-convert\" onclick=\"convertToInteractive('df-45d5a948-ffe1-4fd8-86b3-4726197419a3')\"\n",
              "              title=\"Convert this dataframe to an interactive table.\"\n",
              "              style=\"display:none;\">\n",
              "        \n",
              "  <svg xmlns=\"http://www.w3.org/2000/svg\" height=\"24px\"viewBox=\"0 0 24 24\"\n",
              "       width=\"24px\">\n",
              "    <path d=\"M0 0h24v24H0V0z\" fill=\"none\"/>\n",
              "    <path d=\"M18.56 5.44l.94 2.06.94-2.06 2.06-.94-2.06-.94-.94-2.06-.94 2.06-2.06.94zm-11 1L8.5 8.5l.94-2.06 2.06-.94-2.06-.94L8.5 2.5l-.94 2.06-2.06.94zm10 10l.94 2.06.94-2.06 2.06-.94-2.06-.94-.94-2.06-.94 2.06-2.06.94z\"/><path d=\"M17.41 7.96l-1.37-1.37c-.4-.4-.92-.59-1.43-.59-.52 0-1.04.2-1.43.59L10.3 9.45l-7.72 7.72c-.78.78-.78 2.05 0 2.83L4 21.41c.39.39.9.59 1.41.59.51 0 1.02-.2 1.41-.59l7.78-7.78 2.81-2.81c.8-.78.8-2.07 0-2.86zM5.41 20L4 18.59l7.72-7.72 1.47 1.35L5.41 20z\"/>\n",
              "  </svg>\n",
              "      </button>\n",
              "      \n",
              "  <style>\n",
              "    .colab-df-container {\n",
              "      display:flex;\n",
              "      flex-wrap:wrap;\n",
              "      gap: 12px;\n",
              "    }\n",
              "\n",
              "    .colab-df-convert {\n",
              "      background-color: #E8F0FE;\n",
              "      border: none;\n",
              "      border-radius: 50%;\n",
              "      cursor: pointer;\n",
              "      display: none;\n",
              "      fill: #1967D2;\n",
              "      height: 32px;\n",
              "      padding: 0 0 0 0;\n",
              "      width: 32px;\n",
              "    }\n",
              "\n",
              "    .colab-df-convert:hover {\n",
              "      background-color: #E2EBFA;\n",
              "      box-shadow: 0px 1px 2px rgba(60, 64, 67, 0.3), 0px 1px 3px 1px rgba(60, 64, 67, 0.15);\n",
              "      fill: #174EA6;\n",
              "    }\n",
              "\n",
              "    [theme=dark] .colab-df-convert {\n",
              "      background-color: #3B4455;\n",
              "      fill: #D2E3FC;\n",
              "    }\n",
              "\n",
              "    [theme=dark] .colab-df-convert:hover {\n",
              "      background-color: #434B5C;\n",
              "      box-shadow: 0px 1px 3px 1px rgba(0, 0, 0, 0.15);\n",
              "      filter: drop-shadow(0px 1px 2px rgba(0, 0, 0, 0.3));\n",
              "      fill: #FFFFFF;\n",
              "    }\n",
              "  </style>\n",
              "\n",
              "      <script>\n",
              "        const buttonEl =\n",
              "          document.querySelector('#df-45d5a948-ffe1-4fd8-86b3-4726197419a3 button.colab-df-convert');\n",
              "        buttonEl.style.display =\n",
              "          google.colab.kernel.accessAllowed ? 'block' : 'none';\n",
              "\n",
              "        async function convertToInteractive(key) {\n",
              "          const element = document.querySelector('#df-45d5a948-ffe1-4fd8-86b3-4726197419a3');\n",
              "          const dataTable =\n",
              "            await google.colab.kernel.invokeFunction('convertToInteractive',\n",
              "                                                     [key], {});\n",
              "          if (!dataTable) return;\n",
              "\n",
              "          const docLinkHtml = 'Like what you see? Visit the ' +\n",
              "            '<a target=\"_blank\" href=https://colab.research.google.com/notebooks/data_table.ipynb>data table notebook</a>'\n",
              "            + ' to learn more about interactive tables.';\n",
              "          element.innerHTML = '';\n",
              "          dataTable['output_type'] = 'display_data';\n",
              "          await google.colab.output.renderOutput(dataTable, element);\n",
              "          const docLink = document.createElement('div');\n",
              "          docLink.innerHTML = docLinkHtml;\n",
              "          element.appendChild(docLink);\n",
              "        }\n",
              "      </script>\n",
              "    </div>\n",
              "  </div>\n",
              "  "
            ]
          },
          "metadata": {},
          "execution_count": 51
        }
      ]
    },
    {
      "cell_type": "code",
      "metadata": {
        "id": "vl3qXL3JAmKv",
        "colab": {
          "base_uri": "https://localhost:8080/"
        },
        "outputId": "338c72fb-54aa-4579-de34-014747de0c52"
      },
      "source": [
        "# Usando el modelo para predecir\n",
        "\n",
        "X_train['probability'] = rfc.predict_proba(X_train[features])[:,1]\n",
        "X_test['probability']  = rfc.predict_proba(X_test[features])[:,1]\n",
        "\n",
        "X_train['prediction'] = rfc.predict(X_train[features])\n",
        "X_test['prediction']  = rfc.predict(X_test[features])\n",
        "\n"
      ],
      "execution_count": 52,
      "outputs": [
        {
          "output_type": "stream",
          "name": "stderr",
          "text": [
            "[Parallel(n_jobs=4)]: Using backend ThreadingBackend with 4 concurrent workers.\n",
            "[Parallel(n_jobs=4)]: Done  42 tasks      | elapsed:    0.1s\n",
            "[Parallel(n_jobs=4)]: Done 100 out of 100 | elapsed:    0.1s finished\n",
            "[Parallel(n_jobs=4)]: Using backend ThreadingBackend with 4 concurrent workers.\n",
            "[Parallel(n_jobs=4)]: Done  42 tasks      | elapsed:    0.0s\n",
            "[Parallel(n_jobs=4)]: Done 100 out of 100 | elapsed:    0.1s finished\n",
            "[Parallel(n_jobs=4)]: Using backend ThreadingBackend with 4 concurrent workers.\n",
            "[Parallel(n_jobs=4)]: Done  42 tasks      | elapsed:    0.1s\n",
            "[Parallel(n_jobs=4)]: Done 100 out of 100 | elapsed:    0.1s finished\n",
            "[Parallel(n_jobs=4)]: Using backend ThreadingBackend with 4 concurrent workers.\n",
            "[Parallel(n_jobs=4)]: Done  42 tasks      | elapsed:    0.0s\n",
            "[Parallel(n_jobs=4)]: Done 100 out of 100 | elapsed:    0.1s finished\n"
          ]
        }
      ]
    },
    {
      "cell_type": "code",
      "metadata": {
        "id": "4ffk7L4xBGIb",
        "colab": {
          "base_uri": "https://localhost:8080/",
          "height": 237
        },
        "outputId": "f6df14cf-2a87-40f2-82c3-1ad053ce8237"
      },
      "source": [
        "#Resumen de todas las métricas del modelo\n",
        "\n",
        "metricsRfc = pd.DataFrame({'metric':['AUC','Gini','Accuracy','Precision','Recall','F1-score'],\n",
        "                                'rfc_train':[roc_auc_score(y_train, X_train.probability),\n",
        "                                        (roc_auc_score(y_train, X_train.probability)*2-1),\n",
        "                                        accuracy_score(y_train, X_train.prediction),\n",
        "                                        precision_score(y_train, X_train.prediction),\n",
        "                                        recall_score(y_train, X_train.prediction),\n",
        "                                        f1_score(y_train, X_train.prediction)],\n",
        "\n",
        "                                'rfc_test':[roc_auc_score(y_test, X_test.probability),\n",
        "                                        (roc_auc_score(y_test, X_test.probability)*2-1),\n",
        "                                        accuracy_score(y_test, X_test.prediction),\n",
        "                                        precision_score(y_test, X_test.prediction),\n",
        "                                        recall_score(y_test, X_test.prediction),\n",
        "                                        f1_score(y_test, X_test.prediction)]})\n",
        "\n",
        " \n",
        "metricsRes = pd.merge(metricsDtree_smote, metricsRfc, on = 'metric', how='left') \n",
        "metricsRes        "
      ],
      "execution_count": 53,
      "outputs": [
        {
          "output_type": "execute_result",
          "data": {
            "text/plain": [
              "      metric  dTree_smote_train  dTree_smote_test  rfc_train  rfc_test\n",
              "0        AUC           0.800894          0.799110   0.809338  0.803944\n",
              "1       Gini           0.601789          0.598221   0.618676  0.607888\n",
              "2   Accuracy           0.783309          0.788389   0.704702  0.704902\n",
              "3  Precision           0.112491          0.115143   0.090909  0.091075\n",
              "4     Recall           0.649573          0.650776   0.717949  0.719512\n",
              "5   F1-score           0.191771          0.195667   0.161383  0.161684"
            ],
            "text/html": [
              "\n",
              "  <div id=\"df-5c01f689-b8df-4bad-b9de-74a9f8a500c6\">\n",
              "    <div class=\"colab-df-container\">\n",
              "      <div>\n",
              "<style scoped>\n",
              "    .dataframe tbody tr th:only-of-type {\n",
              "        vertical-align: middle;\n",
              "    }\n",
              "\n",
              "    .dataframe tbody tr th {\n",
              "        vertical-align: top;\n",
              "    }\n",
              "\n",
              "    .dataframe thead th {\n",
              "        text-align: right;\n",
              "    }\n",
              "</style>\n",
              "<table border=\"1\" class=\"dataframe\">\n",
              "  <thead>\n",
              "    <tr style=\"text-align: right;\">\n",
              "      <th></th>\n",
              "      <th>metric</th>\n",
              "      <th>dTree_smote_train</th>\n",
              "      <th>dTree_smote_test</th>\n",
              "      <th>rfc_train</th>\n",
              "      <th>rfc_test</th>\n",
              "    </tr>\n",
              "  </thead>\n",
              "  <tbody>\n",
              "    <tr>\n",
              "      <th>0</th>\n",
              "      <td>AUC</td>\n",
              "      <td>0.800894</td>\n",
              "      <td>0.799110</td>\n",
              "      <td>0.809338</td>\n",
              "      <td>0.803944</td>\n",
              "    </tr>\n",
              "    <tr>\n",
              "      <th>1</th>\n",
              "      <td>Gini</td>\n",
              "      <td>0.601789</td>\n",
              "      <td>0.598221</td>\n",
              "      <td>0.618676</td>\n",
              "      <td>0.607888</td>\n",
              "    </tr>\n",
              "    <tr>\n",
              "      <th>2</th>\n",
              "      <td>Accuracy</td>\n",
              "      <td>0.783309</td>\n",
              "      <td>0.788389</td>\n",
              "      <td>0.704702</td>\n",
              "      <td>0.704902</td>\n",
              "    </tr>\n",
              "    <tr>\n",
              "      <th>3</th>\n",
              "      <td>Precision</td>\n",
              "      <td>0.112491</td>\n",
              "      <td>0.115143</td>\n",
              "      <td>0.090909</td>\n",
              "      <td>0.091075</td>\n",
              "    </tr>\n",
              "    <tr>\n",
              "      <th>4</th>\n",
              "      <td>Recall</td>\n",
              "      <td>0.649573</td>\n",
              "      <td>0.650776</td>\n",
              "      <td>0.717949</td>\n",
              "      <td>0.719512</td>\n",
              "    </tr>\n",
              "    <tr>\n",
              "      <th>5</th>\n",
              "      <td>F1-score</td>\n",
              "      <td>0.191771</td>\n",
              "      <td>0.195667</td>\n",
              "      <td>0.161383</td>\n",
              "      <td>0.161684</td>\n",
              "    </tr>\n",
              "  </tbody>\n",
              "</table>\n",
              "</div>\n",
              "      <button class=\"colab-df-convert\" onclick=\"convertToInteractive('df-5c01f689-b8df-4bad-b9de-74a9f8a500c6')\"\n",
              "              title=\"Convert this dataframe to an interactive table.\"\n",
              "              style=\"display:none;\">\n",
              "        \n",
              "  <svg xmlns=\"http://www.w3.org/2000/svg\" height=\"24px\"viewBox=\"0 0 24 24\"\n",
              "       width=\"24px\">\n",
              "    <path d=\"M0 0h24v24H0V0z\" fill=\"none\"/>\n",
              "    <path d=\"M18.56 5.44l.94 2.06.94-2.06 2.06-.94-2.06-.94-.94-2.06-.94 2.06-2.06.94zm-11 1L8.5 8.5l.94-2.06 2.06-.94-2.06-.94L8.5 2.5l-.94 2.06-2.06.94zm10 10l.94 2.06.94-2.06 2.06-.94-2.06-.94-.94-2.06-.94 2.06-2.06.94z\"/><path d=\"M17.41 7.96l-1.37-1.37c-.4-.4-.92-.59-1.43-.59-.52 0-1.04.2-1.43.59L10.3 9.45l-7.72 7.72c-.78.78-.78 2.05 0 2.83L4 21.41c.39.39.9.59 1.41.59.51 0 1.02-.2 1.41-.59l7.78-7.78 2.81-2.81c.8-.78.8-2.07 0-2.86zM5.41 20L4 18.59l7.72-7.72 1.47 1.35L5.41 20z\"/>\n",
              "  </svg>\n",
              "      </button>\n",
              "      \n",
              "  <style>\n",
              "    .colab-df-container {\n",
              "      display:flex;\n",
              "      flex-wrap:wrap;\n",
              "      gap: 12px;\n",
              "    }\n",
              "\n",
              "    .colab-df-convert {\n",
              "      background-color: #E8F0FE;\n",
              "      border: none;\n",
              "      border-radius: 50%;\n",
              "      cursor: pointer;\n",
              "      display: none;\n",
              "      fill: #1967D2;\n",
              "      height: 32px;\n",
              "      padding: 0 0 0 0;\n",
              "      width: 32px;\n",
              "    }\n",
              "\n",
              "    .colab-df-convert:hover {\n",
              "      background-color: #E2EBFA;\n",
              "      box-shadow: 0px 1px 2px rgba(60, 64, 67, 0.3), 0px 1px 3px 1px rgba(60, 64, 67, 0.15);\n",
              "      fill: #174EA6;\n",
              "    }\n",
              "\n",
              "    [theme=dark] .colab-df-convert {\n",
              "      background-color: #3B4455;\n",
              "      fill: #D2E3FC;\n",
              "    }\n",
              "\n",
              "    [theme=dark] .colab-df-convert:hover {\n",
              "      background-color: #434B5C;\n",
              "      box-shadow: 0px 1px 3px 1px rgba(0, 0, 0, 0.15);\n",
              "      filter: drop-shadow(0px 1px 2px rgba(0, 0, 0, 0.3));\n",
              "      fill: #FFFFFF;\n",
              "    }\n",
              "  </style>\n",
              "\n",
              "      <script>\n",
              "        const buttonEl =\n",
              "          document.querySelector('#df-5c01f689-b8df-4bad-b9de-74a9f8a500c6 button.colab-df-convert');\n",
              "        buttonEl.style.display =\n",
              "          google.colab.kernel.accessAllowed ? 'block' : 'none';\n",
              "\n",
              "        async function convertToInteractive(key) {\n",
              "          const element = document.querySelector('#df-5c01f689-b8df-4bad-b9de-74a9f8a500c6');\n",
              "          const dataTable =\n",
              "            await google.colab.kernel.invokeFunction('convertToInteractive',\n",
              "                                                     [key], {});\n",
              "          if (!dataTable) return;\n",
              "\n",
              "          const docLinkHtml = 'Like what you see? Visit the ' +\n",
              "            '<a target=\"_blank\" href=https://colab.research.google.com/notebooks/data_table.ipynb>data table notebook</a>'\n",
              "            + ' to learn more about interactive tables.';\n",
              "          element.innerHTML = '';\n",
              "          dataTable['output_type'] = 'display_data';\n",
              "          await google.colab.output.renderOutput(dataTable, element);\n",
              "          const docLink = document.createElement('div');\n",
              "          docLink.innerHTML = docLinkHtml;\n",
              "          element.appendChild(docLink);\n",
              "        }\n",
              "      </script>\n",
              "    </div>\n",
              "  </div>\n",
              "  "
            ]
          },
          "metadata": {},
          "execution_count": 53
        }
      ]
    },
    {
      "cell_type": "markdown",
      "metadata": {
        "id": "O2fNkkfZ6K2I"
      },
      "source": []
    },
    {
      "cell_type": "markdown",
      "metadata": {
        "id": "V1LDuvW4qm9_"
      },
      "source": [
        "# AdaBoost"
      ]
    },
    {
      "cell_type": "code",
      "metadata": {
        "id": "yJ98Ze3jR7Hz"
      },
      "source": [
        "# Muestreo de data\n",
        "\n",
        "from sklearn.model_selection import train_test_split\n",
        "\n",
        "X_train, X_test, y_train, y_test = train_test_split(X, y, \n",
        "                                                    stratify = y,\n",
        "                                                    test_size = 0.3,\n",
        "                                                    random_state = 123)\n"
      ],
      "execution_count": null,
      "outputs": []
    },
    {
      "cell_type": "code",
      "metadata": {
        "id": "wVu1x48_RYgW"
      },
      "source": [
        "# Cargando librerías\n",
        "\n",
        "from sklearn.ensemble import AdaBoostClassifier\n",
        "from sklearn.tree import DecisionTreeClassifier\n",
        "import time\n"
      ],
      "execution_count": null,
      "outputs": []
    },
    {
      "cell_type": "code",
      "metadata": {
        "id": "teVH6RQmRfnm"
      },
      "source": [
        "# Configuramos el modelo de adaboost\n",
        "\n",
        "ada_clf = AdaBoostClassifier(\n",
        "          DecisionTreeClassifier(max_depth = 1),\n",
        "          n_estimators = 200,\n",
        "          algorithm = 'SAMME.R',\n",
        "          learning_rate = 0.5,#ratio de aprendizaje en cada arbol\n",
        "          random_state = 123)\n"
      ],
      "execution_count": null,
      "outputs": []
    },
    {
      "cell_type": "code",
      "metadata": {
        "colab": {
          "base_uri": "https://localhost:8080/"
        },
        "id": "nsuLZk2AR3qT",
        "outputId": "31ef94a4-693b-4947-9da1-bfb09e58cbdf"
      },
      "source": [
        "start_time = time.time()\n",
        "ada_clf.fit(X_train, y_train)\n",
        "print(\"----%s seconds ---\" % ((time.time() - start_time)))\n"
      ],
      "execution_count": null,
      "outputs": [
        {
          "output_type": "stream",
          "name": "stdout",
          "text": [
            "----50.273513317108154 seconds ---\n"
          ]
        }
      ]
    },
    {
      "cell_type": "code",
      "metadata": {
        "id": "W6Djb2INTCqA",
        "colab": {
          "base_uri": "https://localhost:8080/",
          "height": 424
        },
        "outputId": "a4953b30-4b7c-4012-81c4-ba13fe9082ab"
      },
      "source": [
        "importances = pd.DataFrame({'features' : X_train.columns.tolist() ,\n",
        "                            'importance' : ada_clf.feature_importances_}).sort_values('importance', ascending = False)\n",
        "\n",
        "importances.loc[importances.importance > 0]"
      ],
      "execution_count": null,
      "outputs": [
        {
          "output_type": "execute_result",
          "data": {
            "text/plain": [
              "                          features  importance\n",
              "345                          var38       0.075\n",
              "173                          var15       0.065\n",
              "41                     saldo_var30       0.050\n",
              "180         saldo_medio_var5_hace3       0.050\n",
              "26         imp_op_var39_comer_ult1       0.040\n",
              "..                             ...         ...\n",
              "342                    saldo_var17       0.005\n",
              "35         saldo_medio_var12_hace3       0.005\n",
              "40                     saldo_var31       0.005\n",
              "176  saldo_medio_var13_corto_hace3       0.005\n",
              "42         imp_op_var39_efect_ult3       0.005\n",
              "\n",
              "[64 rows x 2 columns]"
            ],
            "text/html": [
              "\n",
              "  <div id=\"df-39f7eebf-9578-4722-9296-ad4ce6d08e7c\">\n",
              "    <div class=\"colab-df-container\">\n",
              "      <div>\n",
              "<style scoped>\n",
              "    .dataframe tbody tr th:only-of-type {\n",
              "        vertical-align: middle;\n",
              "    }\n",
              "\n",
              "    .dataframe tbody tr th {\n",
              "        vertical-align: top;\n",
              "    }\n",
              "\n",
              "    .dataframe thead th {\n",
              "        text-align: right;\n",
              "    }\n",
              "</style>\n",
              "<table border=\"1\" class=\"dataframe\">\n",
              "  <thead>\n",
              "    <tr style=\"text-align: right;\">\n",
              "      <th></th>\n",
              "      <th>features</th>\n",
              "      <th>importance</th>\n",
              "    </tr>\n",
              "  </thead>\n",
              "  <tbody>\n",
              "    <tr>\n",
              "      <th>345</th>\n",
              "      <td>var38</td>\n",
              "      <td>0.075</td>\n",
              "    </tr>\n",
              "    <tr>\n",
              "      <th>173</th>\n",
              "      <td>var15</td>\n",
              "      <td>0.065</td>\n",
              "    </tr>\n",
              "    <tr>\n",
              "      <th>41</th>\n",
              "      <td>saldo_var30</td>\n",
              "      <td>0.050</td>\n",
              "    </tr>\n",
              "    <tr>\n",
              "      <th>180</th>\n",
              "      <td>saldo_medio_var5_hace3</td>\n",
              "      <td>0.050</td>\n",
              "    </tr>\n",
              "    <tr>\n",
              "      <th>26</th>\n",
              "      <td>imp_op_var39_comer_ult1</td>\n",
              "      <td>0.040</td>\n",
              "    </tr>\n",
              "    <tr>\n",
              "      <th>...</th>\n",
              "      <td>...</td>\n",
              "      <td>...</td>\n",
              "    </tr>\n",
              "    <tr>\n",
              "      <th>342</th>\n",
              "      <td>saldo_var17</td>\n",
              "      <td>0.005</td>\n",
              "    </tr>\n",
              "    <tr>\n",
              "      <th>35</th>\n",
              "      <td>saldo_medio_var12_hace3</td>\n",
              "      <td>0.005</td>\n",
              "    </tr>\n",
              "    <tr>\n",
              "      <th>40</th>\n",
              "      <td>saldo_var31</td>\n",
              "      <td>0.005</td>\n",
              "    </tr>\n",
              "    <tr>\n",
              "      <th>176</th>\n",
              "      <td>saldo_medio_var13_corto_hace3</td>\n",
              "      <td>0.005</td>\n",
              "    </tr>\n",
              "    <tr>\n",
              "      <th>42</th>\n",
              "      <td>imp_op_var39_efect_ult3</td>\n",
              "      <td>0.005</td>\n",
              "    </tr>\n",
              "  </tbody>\n",
              "</table>\n",
              "<p>64 rows × 2 columns</p>\n",
              "</div>\n",
              "      <button class=\"colab-df-convert\" onclick=\"convertToInteractive('df-39f7eebf-9578-4722-9296-ad4ce6d08e7c')\"\n",
              "              title=\"Convert this dataframe to an interactive table.\"\n",
              "              style=\"display:none;\">\n",
              "        \n",
              "  <svg xmlns=\"http://www.w3.org/2000/svg\" height=\"24px\"viewBox=\"0 0 24 24\"\n",
              "       width=\"24px\">\n",
              "    <path d=\"M0 0h24v24H0V0z\" fill=\"none\"/>\n",
              "    <path d=\"M18.56 5.44l.94 2.06.94-2.06 2.06-.94-2.06-.94-.94-2.06-.94 2.06-2.06.94zm-11 1L8.5 8.5l.94-2.06 2.06-.94-2.06-.94L8.5 2.5l-.94 2.06-2.06.94zm10 10l.94 2.06.94-2.06 2.06-.94-2.06-.94-.94-2.06-.94 2.06-2.06.94z\"/><path d=\"M17.41 7.96l-1.37-1.37c-.4-.4-.92-.59-1.43-.59-.52 0-1.04.2-1.43.59L10.3 9.45l-7.72 7.72c-.78.78-.78 2.05 0 2.83L4 21.41c.39.39.9.59 1.41.59.51 0 1.02-.2 1.41-.59l7.78-7.78 2.81-2.81c.8-.78.8-2.07 0-2.86zM5.41 20L4 18.59l7.72-7.72 1.47 1.35L5.41 20z\"/>\n",
              "  </svg>\n",
              "      </button>\n",
              "      \n",
              "  <style>\n",
              "    .colab-df-container {\n",
              "      display:flex;\n",
              "      flex-wrap:wrap;\n",
              "      gap: 12px;\n",
              "    }\n",
              "\n",
              "    .colab-df-convert {\n",
              "      background-color: #E8F0FE;\n",
              "      border: none;\n",
              "      border-radius: 50%;\n",
              "      cursor: pointer;\n",
              "      display: none;\n",
              "      fill: #1967D2;\n",
              "      height: 32px;\n",
              "      padding: 0 0 0 0;\n",
              "      width: 32px;\n",
              "    }\n",
              "\n",
              "    .colab-df-convert:hover {\n",
              "      background-color: #E2EBFA;\n",
              "      box-shadow: 0px 1px 2px rgba(60, 64, 67, 0.3), 0px 1px 3px 1px rgba(60, 64, 67, 0.15);\n",
              "      fill: #174EA6;\n",
              "    }\n",
              "\n",
              "    [theme=dark] .colab-df-convert {\n",
              "      background-color: #3B4455;\n",
              "      fill: #D2E3FC;\n",
              "    }\n",
              "\n",
              "    [theme=dark] .colab-df-convert:hover {\n",
              "      background-color: #434B5C;\n",
              "      box-shadow: 0px 1px 3px 1px rgba(0, 0, 0, 0.15);\n",
              "      filter: drop-shadow(0px 1px 2px rgba(0, 0, 0, 0.3));\n",
              "      fill: #FFFFFF;\n",
              "    }\n",
              "  </style>\n",
              "\n",
              "      <script>\n",
              "        const buttonEl =\n",
              "          document.querySelector('#df-39f7eebf-9578-4722-9296-ad4ce6d08e7c button.colab-df-convert');\n",
              "        buttonEl.style.display =\n",
              "          google.colab.kernel.accessAllowed ? 'block' : 'none';\n",
              "\n",
              "        async function convertToInteractive(key) {\n",
              "          const element = document.querySelector('#df-39f7eebf-9578-4722-9296-ad4ce6d08e7c');\n",
              "          const dataTable =\n",
              "            await google.colab.kernel.invokeFunction('convertToInteractive',\n",
              "                                                     [key], {});\n",
              "          if (!dataTable) return;\n",
              "\n",
              "          const docLinkHtml = 'Like what you see? Visit the ' +\n",
              "            '<a target=\"_blank\" href=https://colab.research.google.com/notebooks/data_table.ipynb>data table notebook</a>'\n",
              "            + ' to learn more about interactive tables.';\n",
              "          element.innerHTML = '';\n",
              "          dataTable['output_type'] = 'display_data';\n",
              "          await google.colab.output.renderOutput(dataTable, element);\n",
              "          const docLink = document.createElement('div');\n",
              "          docLink.innerHTML = docLinkHtml;\n",
              "          element.appendChild(docLink);\n",
              "        }\n",
              "      </script>\n",
              "    </div>\n",
              "  </div>\n",
              "  "
            ]
          },
          "metadata": {},
          "execution_count": 61
        }
      ]
    },
    {
      "cell_type": "code",
      "metadata": {
        "id": "KH8IEp0BTHr0"
      },
      "source": [
        "# Usando el modelo para predecir\n",
        "\n",
        "X_train['probability'] = ada_clf.predict_proba(X_train[features])[:,1]\n",
        "X_test['probability']  = ada_clf.predict_proba(X_test[features])[:,1]\n",
        "\n",
        "X_train['prediction'] = ada_clf.predict(X_train[features])\n",
        "X_test['prediction']  = ada_clf.predict(X_test[features])\n",
        "\n"
      ],
      "execution_count": null,
      "outputs": []
    },
    {
      "cell_type": "code",
      "metadata": {
        "colab": {
          "base_uri": "https://localhost:8080/",
          "height": 238
        },
        "id": "4sciIpB0TP1T",
        "outputId": "da206f33-1b26-4c76-c0ff-7220d6198ff1"
      },
      "source": [
        "#Resumen de todas las métricas del modelo\n",
        "\n",
        "metricsAdab = pd.DataFrame({'metric':['AUC','Gini','Accuracy','Precision','Recall','F1-score'],\n",
        "                                'adab_train':[roc_auc_score(y_train, X_train.probability),\n",
        "                                        (roc_auc_score(y_train, X_train.probability)*2-1),\n",
        "                                        accuracy_score(y_train, X_train.prediction),\n",
        "                                        precision_score(y_train, X_train.prediction),\n",
        "                                        recall_score(y_train, X_train.prediction),\n",
        "                                        f1_score(y_train, X_train.prediction)],\n",
        "\n",
        "                                'adab_test':[roc_auc_score(y_test, X_test.probability),\n",
        "                                        (roc_auc_score(y_test, X_test.probability)*2-1),\n",
        "                                        accuracy_score(y_test, X_test.prediction),\n",
        "                                        precision_score(y_test, X_test.prediction),\n",
        "                                        recall_score(y_test, X_test.prediction),\n",
        "                                        f1_score(y_test, X_test.prediction)]})\n",
        "\n",
        " \n",
        "metricsRes = pd.merge(metricsRes, metricsAdab, on = 'metric', how='left') \n",
        "metricsRes        "
      ],
      "execution_count": null,
      "outputs": [
        {
          "output_type": "execute_result",
          "data": {
            "text/plain": [
              "      metric  dTree_smote_train  dTree_smote_test  rfc_train  rfc_test  \\\n",
              "0        AUC           0.800894          0.799110   0.802236  0.800265   \n",
              "1       Gini           0.601789          0.598221   0.604472  0.600530   \n",
              "2   Accuracy           0.783309          0.788389   0.708009  0.707928   \n",
              "3  Precision           0.112491          0.115143   0.089687  0.089990   \n",
              "4     Recall           0.649573          0.650776   0.697056  0.700665   \n",
              "5   F1-score           0.191771          0.195667   0.158926  0.159495   \n",
              "\n",
              "   adab_train  adab_test  \n",
              "0    0.858622   0.821658  \n",
              "1    0.717244   0.643317  \n",
              "2    0.960631   0.960405  \n",
              "3    0.720000   0.444444  \n",
              "4    0.008547   0.004435  \n",
              "5    0.016893   0.008782  "
            ],
            "text/html": [
              "\n",
              "  <div id=\"df-38439223-32a0-43f3-9b2f-694d47c60f40\">\n",
              "    <div class=\"colab-df-container\">\n",
              "      <div>\n",
              "<style scoped>\n",
              "    .dataframe tbody tr th:only-of-type {\n",
              "        vertical-align: middle;\n",
              "    }\n",
              "\n",
              "    .dataframe tbody tr th {\n",
              "        vertical-align: top;\n",
              "    }\n",
              "\n",
              "    .dataframe thead th {\n",
              "        text-align: right;\n",
              "    }\n",
              "</style>\n",
              "<table border=\"1\" class=\"dataframe\">\n",
              "  <thead>\n",
              "    <tr style=\"text-align: right;\">\n",
              "      <th></th>\n",
              "      <th>metric</th>\n",
              "      <th>dTree_smote_train</th>\n",
              "      <th>dTree_smote_test</th>\n",
              "      <th>rfc_train</th>\n",
              "      <th>rfc_test</th>\n",
              "      <th>adab_train</th>\n",
              "      <th>adab_test</th>\n",
              "    </tr>\n",
              "  </thead>\n",
              "  <tbody>\n",
              "    <tr>\n",
              "      <th>0</th>\n",
              "      <td>AUC</td>\n",
              "      <td>0.800894</td>\n",
              "      <td>0.799110</td>\n",
              "      <td>0.802236</td>\n",
              "      <td>0.800265</td>\n",
              "      <td>0.858622</td>\n",
              "      <td>0.821658</td>\n",
              "    </tr>\n",
              "    <tr>\n",
              "      <th>1</th>\n",
              "      <td>Gini</td>\n",
              "      <td>0.601789</td>\n",
              "      <td>0.598221</td>\n",
              "      <td>0.604472</td>\n",
              "      <td>0.600530</td>\n",
              "      <td>0.717244</td>\n",
              "      <td>0.643317</td>\n",
              "    </tr>\n",
              "    <tr>\n",
              "      <th>2</th>\n",
              "      <td>Accuracy</td>\n",
              "      <td>0.783309</td>\n",
              "      <td>0.788389</td>\n",
              "      <td>0.708009</td>\n",
              "      <td>0.707928</td>\n",
              "      <td>0.960631</td>\n",
              "      <td>0.960405</td>\n",
              "    </tr>\n",
              "    <tr>\n",
              "      <th>3</th>\n",
              "      <td>Precision</td>\n",
              "      <td>0.112491</td>\n",
              "      <td>0.115143</td>\n",
              "      <td>0.089687</td>\n",
              "      <td>0.089990</td>\n",
              "      <td>0.720000</td>\n",
              "      <td>0.444444</td>\n",
              "    </tr>\n",
              "    <tr>\n",
              "      <th>4</th>\n",
              "      <td>Recall</td>\n",
              "      <td>0.649573</td>\n",
              "      <td>0.650776</td>\n",
              "      <td>0.697056</td>\n",
              "      <td>0.700665</td>\n",
              "      <td>0.008547</td>\n",
              "      <td>0.004435</td>\n",
              "    </tr>\n",
              "    <tr>\n",
              "      <th>5</th>\n",
              "      <td>F1-score</td>\n",
              "      <td>0.191771</td>\n",
              "      <td>0.195667</td>\n",
              "      <td>0.158926</td>\n",
              "      <td>0.159495</td>\n",
              "      <td>0.016893</td>\n",
              "      <td>0.008782</td>\n",
              "    </tr>\n",
              "  </tbody>\n",
              "</table>\n",
              "</div>\n",
              "      <button class=\"colab-df-convert\" onclick=\"convertToInteractive('df-38439223-32a0-43f3-9b2f-694d47c60f40')\"\n",
              "              title=\"Convert this dataframe to an interactive table.\"\n",
              "              style=\"display:none;\">\n",
              "        \n",
              "  <svg xmlns=\"http://www.w3.org/2000/svg\" height=\"24px\"viewBox=\"0 0 24 24\"\n",
              "       width=\"24px\">\n",
              "    <path d=\"M0 0h24v24H0V0z\" fill=\"none\"/>\n",
              "    <path d=\"M18.56 5.44l.94 2.06.94-2.06 2.06-.94-2.06-.94-.94-2.06-.94 2.06-2.06.94zm-11 1L8.5 8.5l.94-2.06 2.06-.94-2.06-.94L8.5 2.5l-.94 2.06-2.06.94zm10 10l.94 2.06.94-2.06 2.06-.94-2.06-.94-.94-2.06-.94 2.06-2.06.94z\"/><path d=\"M17.41 7.96l-1.37-1.37c-.4-.4-.92-.59-1.43-.59-.52 0-1.04.2-1.43.59L10.3 9.45l-7.72 7.72c-.78.78-.78 2.05 0 2.83L4 21.41c.39.39.9.59 1.41.59.51 0 1.02-.2 1.41-.59l7.78-7.78 2.81-2.81c.8-.78.8-2.07 0-2.86zM5.41 20L4 18.59l7.72-7.72 1.47 1.35L5.41 20z\"/>\n",
              "  </svg>\n",
              "      </button>\n",
              "      \n",
              "  <style>\n",
              "    .colab-df-container {\n",
              "      display:flex;\n",
              "      flex-wrap:wrap;\n",
              "      gap: 12px;\n",
              "    }\n",
              "\n",
              "    .colab-df-convert {\n",
              "      background-color: #E8F0FE;\n",
              "      border: none;\n",
              "      border-radius: 50%;\n",
              "      cursor: pointer;\n",
              "      display: none;\n",
              "      fill: #1967D2;\n",
              "      height: 32px;\n",
              "      padding: 0 0 0 0;\n",
              "      width: 32px;\n",
              "    }\n",
              "\n",
              "    .colab-df-convert:hover {\n",
              "      background-color: #E2EBFA;\n",
              "      box-shadow: 0px 1px 2px rgba(60, 64, 67, 0.3), 0px 1px 3px 1px rgba(60, 64, 67, 0.15);\n",
              "      fill: #174EA6;\n",
              "    }\n",
              "\n",
              "    [theme=dark] .colab-df-convert {\n",
              "      background-color: #3B4455;\n",
              "      fill: #D2E3FC;\n",
              "    }\n",
              "\n",
              "    [theme=dark] .colab-df-convert:hover {\n",
              "      background-color: #434B5C;\n",
              "      box-shadow: 0px 1px 3px 1px rgba(0, 0, 0, 0.15);\n",
              "      filter: drop-shadow(0px 1px 2px rgba(0, 0, 0, 0.3));\n",
              "      fill: #FFFFFF;\n",
              "    }\n",
              "  </style>\n",
              "\n",
              "      <script>\n",
              "        const buttonEl =\n",
              "          document.querySelector('#df-38439223-32a0-43f3-9b2f-694d47c60f40 button.colab-df-convert');\n",
              "        buttonEl.style.display =\n",
              "          google.colab.kernel.accessAllowed ? 'block' : 'none';\n",
              "\n",
              "        async function convertToInteractive(key) {\n",
              "          const element = document.querySelector('#df-38439223-32a0-43f3-9b2f-694d47c60f40');\n",
              "          const dataTable =\n",
              "            await google.colab.kernel.invokeFunction('convertToInteractive',\n",
              "                                                     [key], {});\n",
              "          if (!dataTable) return;\n",
              "\n",
              "          const docLinkHtml = 'Like what you see? Visit the ' +\n",
              "            '<a target=\"_blank\" href=https://colab.research.google.com/notebooks/data_table.ipynb>data table notebook</a>'\n",
              "            + ' to learn more about interactive tables.';\n",
              "          element.innerHTML = '';\n",
              "          dataTable['output_type'] = 'display_data';\n",
              "          await google.colab.output.renderOutput(dataTable, element);\n",
              "          const docLink = document.createElement('div');\n",
              "          docLink.innerHTML = docLinkHtml;\n",
              "          element.appendChild(docLink);\n",
              "        }\n",
              "      </script>\n",
              "    </div>\n",
              "  </div>\n",
              "  "
            ]
          },
          "metadata": {},
          "execution_count": 63
        }
      ]
    },
    {
      "cell_type": "markdown",
      "metadata": {
        "id": "k22vTC0X1nLV"
      },
      "source": [
        "# XGBoost"
      ]
    },
    {
      "cell_type": "code",
      "metadata": {
        "id": "5hmm0d4tTyir"
      },
      "source": [
        "# Muestreo de data\n",
        "#Train 60%  Test 20% WatchList 20%\n",
        "#El WatchList es para hacer seguimiento al error\n",
        "\n",
        "from sklearn.model_selection import train_test_split\n",
        "\n",
        "X_train, X_test, y_train, y_test = train_test_split(X, y, \n",
        "                                                    stratify = y,#para cuando se muestree se mantenga la misma proporcion de 0 y 1 en train y test\n",
        "                                                    train_size = 0.6,\n",
        "                                                    random_state = 123)\n",
        "\n",
        "X_watch, X_test, y_watch, y_test = train_test_split(X_test, y_test, \n",
        "                                                    stratify = y_test,\n",
        "                                                    train_size = 0.5,\n",
        "                                                    random_state = 123)\n"
      ],
      "execution_count": 6,
      "outputs": []
    },
    {
      "cell_type": "code",
      "metadata": {
        "id": "iFg_jH_oTshe"
      },
      "source": [
        "# Cargando librerías\n",
        "\n",
        "import numpy as np\n",
        "import xgboost as xgb\n"
      ],
      "execution_count": 7,
      "outputs": []
    },
    {
      "cell_type": "code",
      "metadata": {
        "id": "wBuS6S3CT2Ji"
      },
      "source": [
        "\n",
        "dtrain = xgb.DMatrix(X_train, label = y_train)\n",
        "dwatch = xgb.DMatrix(X_watch, label = y_watch)\n",
        "dtest  = xgb.DMatrix(X_test, label = y_test)\n"
      ],
      "execution_count": 8,
      "outputs": []
    },
    {
      "cell_type": "code",
      "metadata": {
        "id": "mp_hF3TNUBlQ"
      },
      "source": [
        "# Definiendo parámetros\n",
        "\n",
        "param = {'objetive' : 'binary_logistic',#tipo del modelo, en este caso es un modelo de target logistico\n",
        "         'max_depth' : 8,#profundidad\n",
        "         'learning_rate': 0.05,#cuanto va a aprender el modelo nuevo del modelo anterior, cuanto del modelado del error del arbol pasado le voy a creer y lo voy a utilizar en el arbol siguiente\n",
        "         'min_data_leaf' : 0.05,# cuantas observaciones en las hojas finales del arbol en porcentaje\n",
        "         'grow_policy' : 'lossguide',\n",
        "         'seed' : 123}\n",
        "\n",
        "param['eval_metric'] = 'auc' #metrica de evaluacion, que en modelos de de clasificacion el AUC es lo mas indicado\n",
        "num_round = 300   #numero de arboles a evaluar      \n",
        "evallist = [(dtrain,'train'), (dwatch,'watchlist')]\n",
        "\n"
      ],
      "execution_count": 11,
      "outputs": []
    },
    {
      "cell_type": "code",
      "metadata": {
        "id": "nsoCfJBDT8_k",
        "colab": {
          "base_uri": "https://localhost:8080/"
        },
        "outputId": "11adf70c-789b-44fd-d4bc-17a2c012536a"
      },
      "source": [
        "import time\n",
        "\n",
        "start_time = time.time()\n",
        "xgBoost = xgb.train(param, dtrain, num_round, evallist)#, \n",
        "                   # early_stopping_rounds = 5)\n",
        "print(\"----%s seconds ---\" % ((time.time() - start_time)))\n"
      ],
      "execution_count": 12,
      "outputs": [
        {
          "output_type": "stream",
          "name": "stderr",
          "text": [
            "/usr/local/lib/python3.10/dist-packages/xgboost/core.py:617: FutureWarning: Pass `evals` as keyword args.\n",
            "  warnings.warn(msg, FutureWarning)\n"
          ]
        },
        {
          "output_type": "stream",
          "name": "stdout",
          "text": [
            "[04:53:29] WARNING: ../src/learner.cc:767: \n",
            "Parameters: { \"min_data_leaf\", \"objetive\" } are not used.\n",
            "\n",
            "[0]\ttrain-auc:0.84292\twatchlist-auc:0.80072\n",
            "[1]\ttrain-auc:0.84437\twatchlist-auc:0.80096\n",
            "[2]\ttrain-auc:0.84804\twatchlist-auc:0.80306\n",
            "[3]\ttrain-auc:0.84918\twatchlist-auc:0.80403\n",
            "[4]\ttrain-auc:0.85069\twatchlist-auc:0.80350\n",
            "[5]\ttrain-auc:0.85591\twatchlist-auc:0.80377\n",
            "[6]\ttrain-auc:0.85652\twatchlist-auc:0.80264\n",
            "[7]\ttrain-auc:0.85795\twatchlist-auc:0.80349\n",
            "[8]\ttrain-auc:0.86179\twatchlist-auc:0.80597\n",
            "[9]\ttrain-auc:0.86267\twatchlist-auc:0.80595\n",
            "[10]\ttrain-auc:0.86425\twatchlist-auc:0.80619\n",
            "[11]\ttrain-auc:0.86506\twatchlist-auc:0.80702\n",
            "[12]\ttrain-auc:0.86616\twatchlist-auc:0.80650\n",
            "[13]\ttrain-auc:0.86798\twatchlist-auc:0.80651\n",
            "[14]\ttrain-auc:0.86896\twatchlist-auc:0.80707\n",
            "[15]\ttrain-auc:0.86957\twatchlist-auc:0.80735\n",
            "[16]\ttrain-auc:0.87061\twatchlist-auc:0.80757\n",
            "[17]\ttrain-auc:0.87221\twatchlist-auc:0.80996\n",
            "[18]\ttrain-auc:0.87357\twatchlist-auc:0.81013\n",
            "[19]\ttrain-auc:0.87427\twatchlist-auc:0.81044\n",
            "[20]\ttrain-auc:0.87696\twatchlist-auc:0.81182\n",
            "[21]\ttrain-auc:0.87858\twatchlist-auc:0.81290\n",
            "[22]\ttrain-auc:0.87958\twatchlist-auc:0.81294\n",
            "[23]\ttrain-auc:0.88080\twatchlist-auc:0.81404\n",
            "[24]\ttrain-auc:0.88160\twatchlist-auc:0.81459\n",
            "[25]\ttrain-auc:0.88290\twatchlist-auc:0.81435\n",
            "[26]\ttrain-auc:0.88366\twatchlist-auc:0.81420\n",
            "[27]\ttrain-auc:0.88618\twatchlist-auc:0.81447\n",
            "[28]\ttrain-auc:0.88779\twatchlist-auc:0.81456\n",
            "[29]\ttrain-auc:0.88845\twatchlist-auc:0.81475\n",
            "[30]\ttrain-auc:0.88963\twatchlist-auc:0.81470\n",
            "[31]\ttrain-auc:0.89058\twatchlist-auc:0.81476\n",
            "[32]\ttrain-auc:0.89183\twatchlist-auc:0.81529\n",
            "[33]\ttrain-auc:0.89334\twatchlist-auc:0.81574\n",
            "[34]\ttrain-auc:0.89395\twatchlist-auc:0.81558\n",
            "[35]\ttrain-auc:0.89483\twatchlist-auc:0.81565\n",
            "[36]\ttrain-auc:0.89644\twatchlist-auc:0.81576\n",
            "[37]\ttrain-auc:0.89717\twatchlist-auc:0.81590\n",
            "[38]\ttrain-auc:0.89764\twatchlist-auc:0.81657\n",
            "[39]\ttrain-auc:0.89870\twatchlist-auc:0.81630\n",
            "[40]\ttrain-auc:0.89924\twatchlist-auc:0.81650\n",
            "[41]\ttrain-auc:0.90002\twatchlist-auc:0.81643\n",
            "[42]\ttrain-auc:0.90107\twatchlist-auc:0.81599\n",
            "[43]\ttrain-auc:0.90182\twatchlist-auc:0.81595\n",
            "[44]\ttrain-auc:0.90263\twatchlist-auc:0.81556\n",
            "[45]\ttrain-auc:0.90303\twatchlist-auc:0.81548\n",
            "[46]\ttrain-auc:0.90385\twatchlist-auc:0.81537\n",
            "[47]\ttrain-auc:0.90474\twatchlist-auc:0.81539\n",
            "[48]\ttrain-auc:0.90572\twatchlist-auc:0.81589\n",
            "[49]\ttrain-auc:0.90598\twatchlist-auc:0.81562\n",
            "[50]\ttrain-auc:0.90759\twatchlist-auc:0.81578\n",
            "[51]\ttrain-auc:0.90789\twatchlist-auc:0.81566\n",
            "[52]\ttrain-auc:0.90836\twatchlist-auc:0.81586\n",
            "[53]\ttrain-auc:0.90893\twatchlist-auc:0.81579\n",
            "[54]\ttrain-auc:0.90914\twatchlist-auc:0.81591\n",
            "[55]\ttrain-auc:0.90934\twatchlist-auc:0.81545\n",
            "[56]\ttrain-auc:0.90953\twatchlist-auc:0.81553\n",
            "[57]\ttrain-auc:0.90991\twatchlist-auc:0.81554\n",
            "[58]\ttrain-auc:0.91056\twatchlist-auc:0.81552\n",
            "[59]\ttrain-auc:0.91101\twatchlist-auc:0.81536\n",
            "[60]\ttrain-auc:0.91132\twatchlist-auc:0.81526\n",
            "[61]\ttrain-auc:0.91148\twatchlist-auc:0.81500\n",
            "[62]\ttrain-auc:0.91197\twatchlist-auc:0.81497\n",
            "[63]\ttrain-auc:0.91217\twatchlist-auc:0.81493\n",
            "[64]\ttrain-auc:0.91238\twatchlist-auc:0.81476\n",
            "[65]\ttrain-auc:0.91260\twatchlist-auc:0.81483\n",
            "[66]\ttrain-auc:0.91281\twatchlist-auc:0.81471\n",
            "[67]\ttrain-auc:0.91324\twatchlist-auc:0.81484\n",
            "[68]\ttrain-auc:0.91334\twatchlist-auc:0.81485\n",
            "[69]\ttrain-auc:0.91354\twatchlist-auc:0.81479\n",
            "[70]\ttrain-auc:0.91385\twatchlist-auc:0.81464\n",
            "[71]\ttrain-auc:0.91416\twatchlist-auc:0.81459\n",
            "[72]\ttrain-auc:0.91461\twatchlist-auc:0.81457\n",
            "[73]\ttrain-auc:0.91475\twatchlist-auc:0.81461\n",
            "[74]\ttrain-auc:0.91508\twatchlist-auc:0.81449\n",
            "[75]\ttrain-auc:0.91517\twatchlist-auc:0.81446\n",
            "[76]\ttrain-auc:0.91531\twatchlist-auc:0.81439\n",
            "[77]\ttrain-auc:0.91538\twatchlist-auc:0.81441\n",
            "[78]\ttrain-auc:0.91580\twatchlist-auc:0.81418\n",
            "[79]\ttrain-auc:0.91593\twatchlist-auc:0.81429\n",
            "[80]\ttrain-auc:0.91629\twatchlist-auc:0.81444\n",
            "[81]\ttrain-auc:0.91636\twatchlist-auc:0.81448\n",
            "[82]\ttrain-auc:0.91655\twatchlist-auc:0.81458\n",
            "[83]\ttrain-auc:0.91661\twatchlist-auc:0.81458\n",
            "[84]\ttrain-auc:0.91663\twatchlist-auc:0.81433\n",
            "[85]\ttrain-auc:0.91667\twatchlist-auc:0.81427\n",
            "[86]\ttrain-auc:0.91675\twatchlist-auc:0.81417\n",
            "[87]\ttrain-auc:0.91689\twatchlist-auc:0.81420\n",
            "[88]\ttrain-auc:0.91711\twatchlist-auc:0.81425\n",
            "[89]\ttrain-auc:0.91732\twatchlist-auc:0.81415\n",
            "[90]\ttrain-auc:0.91751\twatchlist-auc:0.81410\n",
            "[91]\ttrain-auc:0.91763\twatchlist-auc:0.81405\n",
            "[92]\ttrain-auc:0.91760\twatchlist-auc:0.81400\n",
            "[93]\ttrain-auc:0.91766\twatchlist-auc:0.81401\n",
            "[94]\ttrain-auc:0.91772\twatchlist-auc:0.81396\n",
            "[95]\ttrain-auc:0.91777\twatchlist-auc:0.81394\n",
            "[96]\ttrain-auc:0.91777\twatchlist-auc:0.81387\n",
            "[97]\ttrain-auc:0.91788\twatchlist-auc:0.81388\n",
            "[98]\ttrain-auc:0.91796\twatchlist-auc:0.81389\n",
            "[99]\ttrain-auc:0.91805\twatchlist-auc:0.81388\n",
            "[100]\ttrain-auc:0.91808\twatchlist-auc:0.81391\n",
            "[101]\ttrain-auc:0.91811\twatchlist-auc:0.81385\n",
            "[102]\ttrain-auc:0.91813\twatchlist-auc:0.81381\n",
            "[103]\ttrain-auc:0.91857\twatchlist-auc:0.81437\n",
            "[104]\ttrain-auc:0.91859\twatchlist-auc:0.81440\n",
            "[105]\ttrain-auc:0.91885\twatchlist-auc:0.81460\n",
            "[106]\ttrain-auc:0.91897\twatchlist-auc:0.81438\n",
            "[107]\ttrain-auc:0.91975\twatchlist-auc:0.81433\n",
            "[108]\ttrain-auc:0.92015\twatchlist-auc:0.81424\n",
            "[109]\ttrain-auc:0.92164\twatchlist-auc:0.81398\n",
            "[110]\ttrain-auc:0.92166\twatchlist-auc:0.81400\n",
            "[111]\ttrain-auc:0.92167\twatchlist-auc:0.81389\n",
            "[112]\ttrain-auc:0.92169\twatchlist-auc:0.81372\n",
            "[113]\ttrain-auc:0.92200\twatchlist-auc:0.81354\n",
            "[114]\ttrain-auc:0.92236\twatchlist-auc:0.81365\n",
            "[115]\ttrain-auc:0.92238\twatchlist-auc:0.81367\n",
            "[116]\ttrain-auc:0.92253\twatchlist-auc:0.81338\n",
            "[117]\ttrain-auc:0.92255\twatchlist-auc:0.81334\n",
            "[118]\ttrain-auc:0.92262\twatchlist-auc:0.81330\n",
            "[119]\ttrain-auc:0.92346\twatchlist-auc:0.81310\n",
            "[120]\ttrain-auc:0.92352\twatchlist-auc:0.81314\n",
            "[121]\ttrain-auc:0.92351\twatchlist-auc:0.81313\n",
            "[122]\ttrain-auc:0.92359\twatchlist-auc:0.81264\n",
            "[123]\ttrain-auc:0.92381\twatchlist-auc:0.81264\n",
            "[124]\ttrain-auc:0.92383\twatchlist-auc:0.81266\n",
            "[125]\ttrain-auc:0.92391\twatchlist-auc:0.81268\n",
            "[126]\ttrain-auc:0.92445\twatchlist-auc:0.81262\n",
            "[127]\ttrain-auc:0.92482\twatchlist-auc:0.81233\n",
            "[128]\ttrain-auc:0.92560\twatchlist-auc:0.81219\n",
            "[129]\ttrain-auc:0.92562\twatchlist-auc:0.81222\n",
            "[130]\ttrain-auc:0.92563\twatchlist-auc:0.81221\n",
            "[131]\ttrain-auc:0.92577\twatchlist-auc:0.81200\n",
            "[132]\ttrain-auc:0.92585\twatchlist-auc:0.81209\n",
            "[133]\ttrain-auc:0.92588\twatchlist-auc:0.81203\n",
            "[134]\ttrain-auc:0.92586\twatchlist-auc:0.81197\n",
            "[135]\ttrain-auc:0.92588\twatchlist-auc:0.81199\n",
            "[136]\ttrain-auc:0.92612\twatchlist-auc:0.81192\n",
            "[137]\ttrain-auc:0.92618\twatchlist-auc:0.81182\n",
            "[138]\ttrain-auc:0.92619\twatchlist-auc:0.81183\n",
            "[139]\ttrain-auc:0.92624\twatchlist-auc:0.81170\n",
            "[140]\ttrain-auc:0.92625\twatchlist-auc:0.81169\n",
            "[141]\ttrain-auc:0.92629\twatchlist-auc:0.81172\n",
            "[142]\ttrain-auc:0.92659\twatchlist-auc:0.81161\n",
            "[143]\ttrain-auc:0.92663\twatchlist-auc:0.81145\n",
            "[144]\ttrain-auc:0.92677\twatchlist-auc:0.81167\n",
            "[145]\ttrain-auc:0.92704\twatchlist-auc:0.81144\n",
            "[146]\ttrain-auc:0.92754\twatchlist-auc:0.81163\n",
            "[147]\ttrain-auc:0.92759\twatchlist-auc:0.81148\n",
            "[148]\ttrain-auc:0.92761\twatchlist-auc:0.81147\n",
            "[149]\ttrain-auc:0.92775\twatchlist-auc:0.81140\n",
            "[150]\ttrain-auc:0.92776\twatchlist-auc:0.81141\n",
            "[151]\ttrain-auc:0.92794\twatchlist-auc:0.81120\n",
            "[152]\ttrain-auc:0.92796\twatchlist-auc:0.81105\n",
            "[153]\ttrain-auc:0.92805\twatchlist-auc:0.81105\n",
            "[154]\ttrain-auc:0.92811\twatchlist-auc:0.81104\n",
            "[155]\ttrain-auc:0.92818\twatchlist-auc:0.81097\n",
            "[156]\ttrain-auc:0.92819\twatchlist-auc:0.81071\n",
            "[157]\ttrain-auc:0.92873\twatchlist-auc:0.81046\n",
            "[158]\ttrain-auc:0.92910\twatchlist-auc:0.81025\n",
            "[159]\ttrain-auc:0.92961\twatchlist-auc:0.81035\n",
            "[160]\ttrain-auc:0.92965\twatchlist-auc:0.81022\n",
            "[161]\ttrain-auc:0.92972\twatchlist-auc:0.81009\n",
            "[162]\ttrain-auc:0.92974\twatchlist-auc:0.81010\n",
            "[163]\ttrain-auc:0.92974\twatchlist-auc:0.81009\n",
            "[164]\ttrain-auc:0.92978\twatchlist-auc:0.80993\n",
            "[165]\ttrain-auc:0.92992\twatchlist-auc:0.80991\n",
            "[166]\ttrain-auc:0.92997\twatchlist-auc:0.80972\n",
            "[167]\ttrain-auc:0.93001\twatchlist-auc:0.80965\n",
            "[168]\ttrain-auc:0.93004\twatchlist-auc:0.80975\n",
            "[169]\ttrain-auc:0.93004\twatchlist-auc:0.80977\n",
            "[170]\ttrain-auc:0.93006\twatchlist-auc:0.80978\n",
            "[171]\ttrain-auc:0.93008\twatchlist-auc:0.80985\n",
            "[172]\ttrain-auc:0.93019\twatchlist-auc:0.80975\n",
            "[173]\ttrain-auc:0.93024\twatchlist-auc:0.80966\n",
            "[174]\ttrain-auc:0.93033\twatchlist-auc:0.80968\n",
            "[175]\ttrain-auc:0.93042\twatchlist-auc:0.80992\n",
            "[176]\ttrain-auc:0.93053\twatchlist-auc:0.80982\n",
            "[177]\ttrain-auc:0.93067\twatchlist-auc:0.80961\n",
            "[178]\ttrain-auc:0.93072\twatchlist-auc:0.80956\n",
            "[179]\ttrain-auc:0.93139\twatchlist-auc:0.80969\n",
            "[180]\ttrain-auc:0.93183\twatchlist-auc:0.80980\n",
            "[181]\ttrain-auc:0.93184\twatchlist-auc:0.80982\n",
            "[182]\ttrain-auc:0.93221\twatchlist-auc:0.80979\n",
            "[183]\ttrain-auc:0.93259\twatchlist-auc:0.80956\n",
            "[184]\ttrain-auc:0.93286\twatchlist-auc:0.80966\n",
            "[185]\ttrain-auc:0.93298\twatchlist-auc:0.80967\n",
            "[186]\ttrain-auc:0.93314\twatchlist-auc:0.80956\n",
            "[187]\ttrain-auc:0.93322\twatchlist-auc:0.80911\n",
            "[188]\ttrain-auc:0.93324\twatchlist-auc:0.80908\n",
            "[189]\ttrain-auc:0.93328\twatchlist-auc:0.80925\n",
            "[190]\ttrain-auc:0.93331\twatchlist-auc:0.80916\n",
            "[191]\ttrain-auc:0.93333\twatchlist-auc:0.80916\n",
            "[192]\ttrain-auc:0.93353\twatchlist-auc:0.80936\n",
            "[193]\ttrain-auc:0.93358\twatchlist-auc:0.80942\n",
            "[194]\ttrain-auc:0.93396\twatchlist-auc:0.80929\n",
            "[195]\ttrain-auc:0.93467\twatchlist-auc:0.80925\n",
            "[196]\ttrain-auc:0.93480\twatchlist-auc:0.80902\n",
            "[197]\ttrain-auc:0.93481\twatchlist-auc:0.80901\n",
            "[198]\ttrain-auc:0.93485\twatchlist-auc:0.80904\n",
            "[199]\ttrain-auc:0.93512\twatchlist-auc:0.80893\n",
            "[200]\ttrain-auc:0.93517\twatchlist-auc:0.80895\n",
            "[201]\ttrain-auc:0.93557\twatchlist-auc:0.80842\n",
            "[202]\ttrain-auc:0.93568\twatchlist-auc:0.80834\n",
            "[203]\ttrain-auc:0.93573\twatchlist-auc:0.80818\n",
            "[204]\ttrain-auc:0.93574\twatchlist-auc:0.80818\n",
            "[205]\ttrain-auc:0.93581\twatchlist-auc:0.80796\n",
            "[206]\ttrain-auc:0.93584\twatchlist-auc:0.80793\n",
            "[207]\ttrain-auc:0.93585\twatchlist-auc:0.80789\n",
            "[208]\ttrain-auc:0.93587\twatchlist-auc:0.80784\n",
            "[209]\ttrain-auc:0.93592\twatchlist-auc:0.80772\n",
            "[210]\ttrain-auc:0.93604\twatchlist-auc:0.80775\n",
            "[211]\ttrain-auc:0.93615\twatchlist-auc:0.80791\n",
            "[212]\ttrain-auc:0.93617\twatchlist-auc:0.80820\n",
            "[213]\ttrain-auc:0.93621\twatchlist-auc:0.80816\n",
            "[214]\ttrain-auc:0.93641\twatchlist-auc:0.80819\n",
            "[215]\ttrain-auc:0.93658\twatchlist-auc:0.80800\n",
            "[216]\ttrain-auc:0.93682\twatchlist-auc:0.80819\n",
            "[217]\ttrain-auc:0.93688\twatchlist-auc:0.80821\n",
            "[218]\ttrain-auc:0.93700\twatchlist-auc:0.80815\n",
            "[219]\ttrain-auc:0.93702\twatchlist-auc:0.80806\n",
            "[220]\ttrain-auc:0.93709\twatchlist-auc:0.80786\n",
            "[221]\ttrain-auc:0.93715\twatchlist-auc:0.80772\n",
            "[222]\ttrain-auc:0.93718\twatchlist-auc:0.80760\n",
            "[223]\ttrain-auc:0.93721\twatchlist-auc:0.80759\n",
            "[224]\ttrain-auc:0.93729\twatchlist-auc:0.80755\n",
            "[225]\ttrain-auc:0.93731\twatchlist-auc:0.80755\n",
            "[226]\ttrain-auc:0.93739\twatchlist-auc:0.80749\n",
            "[227]\ttrain-auc:0.93747\twatchlist-auc:0.80775\n",
            "[228]\ttrain-auc:0.93759\twatchlist-auc:0.80783\n",
            "[229]\ttrain-auc:0.93759\twatchlist-auc:0.80789\n",
            "[230]\ttrain-auc:0.93766\twatchlist-auc:0.80795\n",
            "[231]\ttrain-auc:0.93774\twatchlist-auc:0.80789\n",
            "[232]\ttrain-auc:0.93795\twatchlist-auc:0.80831\n",
            "[233]\ttrain-auc:0.93801\twatchlist-auc:0.80811\n",
            "[234]\ttrain-auc:0.93806\twatchlist-auc:0.80832\n",
            "[235]\ttrain-auc:0.93810\twatchlist-auc:0.80798\n",
            "[236]\ttrain-auc:0.93817\twatchlist-auc:0.80792\n",
            "[237]\ttrain-auc:0.93818\twatchlist-auc:0.80792\n",
            "[238]\ttrain-auc:0.93830\twatchlist-auc:0.80781\n",
            "[239]\ttrain-auc:0.93843\twatchlist-auc:0.80787\n",
            "[240]\ttrain-auc:0.93865\twatchlist-auc:0.80780\n",
            "[241]\ttrain-auc:0.93870\twatchlist-auc:0.80772\n",
            "[242]\ttrain-auc:0.93872\twatchlist-auc:0.80768\n",
            "[243]\ttrain-auc:0.93879\twatchlist-auc:0.80762\n",
            "[244]\ttrain-auc:0.93891\twatchlist-auc:0.80765\n",
            "[245]\ttrain-auc:0.93897\twatchlist-auc:0.80752\n",
            "[246]\ttrain-auc:0.93902\twatchlist-auc:0.80748\n",
            "[247]\ttrain-auc:0.93909\twatchlist-auc:0.80742\n",
            "[248]\ttrain-auc:0.93913\twatchlist-auc:0.80740\n",
            "[249]\ttrain-auc:0.93924\twatchlist-auc:0.80745\n",
            "[250]\ttrain-auc:0.93925\twatchlist-auc:0.80742\n",
            "[251]\ttrain-auc:0.93947\twatchlist-auc:0.80733\n",
            "[252]\ttrain-auc:0.93951\twatchlist-auc:0.80728\n",
            "[253]\ttrain-auc:0.93980\twatchlist-auc:0.80810\n",
            "[254]\ttrain-auc:0.93981\twatchlist-auc:0.80808\n",
            "[255]\ttrain-auc:0.93985\twatchlist-auc:0.80821\n",
            "[256]\ttrain-auc:0.94006\twatchlist-auc:0.80845\n",
            "[257]\ttrain-auc:0.94019\twatchlist-auc:0.80878\n",
            "[258]\ttrain-auc:0.94032\twatchlist-auc:0.80890\n",
            "[259]\ttrain-auc:0.94035\twatchlist-auc:0.80865\n",
            "[260]\ttrain-auc:0.94038\twatchlist-auc:0.80864\n",
            "[261]\ttrain-auc:0.94088\twatchlist-auc:0.80849\n",
            "[262]\ttrain-auc:0.94090\twatchlist-auc:0.80881\n",
            "[263]\ttrain-auc:0.94114\twatchlist-auc:0.80876\n",
            "[264]\ttrain-auc:0.94137\twatchlist-auc:0.80914\n",
            "[265]\ttrain-auc:0.94139\twatchlist-auc:0.80911\n",
            "[266]\ttrain-auc:0.94181\twatchlist-auc:0.80935\n",
            "[267]\ttrain-auc:0.94196\twatchlist-auc:0.80937\n",
            "[268]\ttrain-auc:0.94213\twatchlist-auc:0.80928\n",
            "[269]\ttrain-auc:0.94262\twatchlist-auc:0.80924\n",
            "[270]\ttrain-auc:0.94280\twatchlist-auc:0.80926\n",
            "[271]\ttrain-auc:0.94333\twatchlist-auc:0.80898\n",
            "[272]\ttrain-auc:0.94348\twatchlist-auc:0.80882\n",
            "[273]\ttrain-auc:0.94358\twatchlist-auc:0.80875\n",
            "[274]\ttrain-auc:0.94364\twatchlist-auc:0.80879\n",
            "[275]\ttrain-auc:0.94367\twatchlist-auc:0.80886\n",
            "[276]\ttrain-auc:0.94382\twatchlist-auc:0.80875\n",
            "[277]\ttrain-auc:0.94387\twatchlist-auc:0.80829\n",
            "[278]\ttrain-auc:0.94407\twatchlist-auc:0.80818\n",
            "[279]\ttrain-auc:0.94418\twatchlist-auc:0.80824\n",
            "[280]\ttrain-auc:0.94427\twatchlist-auc:0.80816\n",
            "[281]\ttrain-auc:0.94447\twatchlist-auc:0.80813\n",
            "[282]\ttrain-auc:0.94460\twatchlist-auc:0.80796\n",
            "[283]\ttrain-auc:0.94466\twatchlist-auc:0.80775\n",
            "[284]\ttrain-auc:0.94469\twatchlist-auc:0.80818\n",
            "[285]\ttrain-auc:0.94535\twatchlist-auc:0.80810\n",
            "[286]\ttrain-auc:0.94539\twatchlist-auc:0.80810\n",
            "[287]\ttrain-auc:0.94547\twatchlist-auc:0.80812\n",
            "[288]\ttrain-auc:0.94562\twatchlist-auc:0.80825\n",
            "[289]\ttrain-auc:0.94586\twatchlist-auc:0.80846\n",
            "[290]\ttrain-auc:0.94591\twatchlist-auc:0.80829\n",
            "[291]\ttrain-auc:0.94604\twatchlist-auc:0.80863\n",
            "[292]\ttrain-auc:0.94608\twatchlist-auc:0.80857\n",
            "[293]\ttrain-auc:0.94619\twatchlist-auc:0.80871\n",
            "[294]\ttrain-auc:0.94644\twatchlist-auc:0.80862\n",
            "[295]\ttrain-auc:0.94654\twatchlist-auc:0.80860\n",
            "[296]\ttrain-auc:0.94657\twatchlist-auc:0.80873\n",
            "[297]\ttrain-auc:0.94670\twatchlist-auc:0.80871\n",
            "[298]\ttrain-auc:0.94671\twatchlist-auc:0.80871\n",
            "[299]\ttrain-auc:0.94672\twatchlist-auc:0.80872\n",
            "----155.70572662353516 seconds ---\n"
          ]
        }
      ]
    },
    {
      "cell_type": "code",
      "source": [
        "import time\n",
        "\n",
        "start_time = time.time()\n",
        "xgBoost = xgb.train(param, dtrain, num_round, evallist, \n",
        "                    early_stopping_rounds = 5)#me dice que cuando decae el auc 5 veces seguidas ahi para las iteraciones\n",
        "print(\"----%s seconds ---\" % ((time.time() - start_time)))\n"
      ],
      "metadata": {
        "id": "Yisdo4LKxM0-",
        "outputId": "93fe06c4-9650-4eb8-e9d1-5c06725270ca",
        "colab": {
          "base_uri": "https://localhost:8080/"
        }
      },
      "execution_count": 13,
      "outputs": [
        {
          "output_type": "stream",
          "name": "stdout",
          "text": [
            "[04:56:24] WARNING: ../src/learner.cc:767: \n",
            "Parameters: { \"min_data_leaf\", \"objetive\" } are not used.\n",
            "\n",
            "[0]\ttrain-auc:0.84292\twatchlist-auc:0.80072\n",
            "[1]\ttrain-auc:0.84437\twatchlist-auc:0.80096\n",
            "[2]\ttrain-auc:0.84804\twatchlist-auc:0.80306\n",
            "[3]\ttrain-auc:0.84918\twatchlist-auc:0.80403\n",
            "[4]\ttrain-auc:0.85069\twatchlist-auc:0.80350\n",
            "[5]\ttrain-auc:0.85591\twatchlist-auc:0.80377\n",
            "[6]\ttrain-auc:0.85652\twatchlist-auc:0.80264\n",
            "[7]\ttrain-auc:0.85795\twatchlist-auc:0.80349\n",
            "[8]\ttrain-auc:0.86179\twatchlist-auc:0.80597\n",
            "[9]\ttrain-auc:0.86267\twatchlist-auc:0.80595\n",
            "[10]\ttrain-auc:0.86425\twatchlist-auc:0.80619\n",
            "[11]\ttrain-auc:0.86506\twatchlist-auc:0.80702\n",
            "[12]\ttrain-auc:0.86616\twatchlist-auc:0.80650\n",
            "[13]\ttrain-auc:0.86798\twatchlist-auc:0.80651\n",
            "[14]\ttrain-auc:0.86896\twatchlist-auc:0.80707\n",
            "[15]\ttrain-auc:0.86957\twatchlist-auc:0.80735\n",
            "[16]\ttrain-auc:0.87061\twatchlist-auc:0.80757\n",
            "[17]\ttrain-auc:0.87221\twatchlist-auc:0.80996\n",
            "[18]\ttrain-auc:0.87357\twatchlist-auc:0.81013\n",
            "[19]\ttrain-auc:0.87427\twatchlist-auc:0.81044\n",
            "[20]\ttrain-auc:0.87696\twatchlist-auc:0.81182\n",
            "[21]\ttrain-auc:0.87858\twatchlist-auc:0.81290\n",
            "[22]\ttrain-auc:0.87958\twatchlist-auc:0.81294\n",
            "[23]\ttrain-auc:0.88080\twatchlist-auc:0.81404\n",
            "[24]\ttrain-auc:0.88160\twatchlist-auc:0.81459\n",
            "[25]\ttrain-auc:0.88290\twatchlist-auc:0.81435\n",
            "[26]\ttrain-auc:0.88366\twatchlist-auc:0.81420\n",
            "[27]\ttrain-auc:0.88618\twatchlist-auc:0.81447\n",
            "[28]\ttrain-auc:0.88779\twatchlist-auc:0.81456\n",
            "[29]\ttrain-auc:0.88845\twatchlist-auc:0.81475\n",
            "[30]\ttrain-auc:0.88963\twatchlist-auc:0.81470\n",
            "[31]\ttrain-auc:0.89058\twatchlist-auc:0.81476\n",
            "[32]\ttrain-auc:0.89183\twatchlist-auc:0.81529\n",
            "[33]\ttrain-auc:0.89334\twatchlist-auc:0.81574\n",
            "[34]\ttrain-auc:0.89395\twatchlist-auc:0.81558\n",
            "[35]\ttrain-auc:0.89483\twatchlist-auc:0.81565\n",
            "[36]\ttrain-auc:0.89644\twatchlist-auc:0.81576\n",
            "[37]\ttrain-auc:0.89717\twatchlist-auc:0.81590\n",
            "[38]\ttrain-auc:0.89764\twatchlist-auc:0.81657\n",
            "[39]\ttrain-auc:0.89870\twatchlist-auc:0.81630\n",
            "[40]\ttrain-auc:0.89924\twatchlist-auc:0.81650\n",
            "[41]\ttrain-auc:0.90002\twatchlist-auc:0.81643\n",
            "[42]\ttrain-auc:0.90107\twatchlist-auc:0.81599\n",
            "[43]\ttrain-auc:0.90182\twatchlist-auc:0.81595\n",
            "----21.68965435028076 seconds ---\n"
          ]
        }
      ]
    },
    {
      "cell_type": "markdown",
      "metadata": {
        "id": "C4z0wIVH-MIX"
      },
      "source": [
        "<b>Variables del Modelo</b>"
      ]
    },
    {
      "cell_type": "code",
      "metadata": {
        "id": "H4AWrUcz-Q3K",
        "colab": {
          "base_uri": "https://localhost:8080/"
        },
        "outputId": "6838f348-37c5-4a5b-9828-a449780b34af"
      },
      "source": [
        "importance = xgBoost.get_score(importance_type = 'total_gain')#gain es cuanto la variable ha impactado en corregir el error en su respectivo modelo\n",
        "importance"
      ],
      "execution_count": 15,
      "outputs": [
        {
          "output_type": "execute_result",
          "data": {
            "text/plain": [
              "{'num_var13': 1.0761183500289917,\n",
              " 'num_var39_0': 24.77056884765625,\n",
              " 'num_var45_hace2': 99.45491027832031,\n",
              " 'ind_var13_0': 0.3383767604827881,\n",
              " 'var3': 32.405208587646484,\n",
              " 'num_op_var41_hace2': 32.970272064208984,\n",
              " 'saldo_var32': 2.452594518661499,\n",
              " 'num_var24': 2.774078607559204,\n",
              " 'num_aport_var13_ult1': 1.5094387531280518,\n",
              " 'num_var37': 21.025476455688477,\n",
              " 'imp_aport_var33_hace3': 0.8739044070243835,\n",
              " 'delta_imp_aport_var13_1y3': 0.38469427824020386,\n",
              " 'num_var5': 8.333758354187012,\n",
              " 'ind_var12_0': 4.169057369232178,\n",
              " 'num_var26': 5.848977088928223,\n",
              " 'saldo_var26': 13.339614868164062,\n",
              " 'num_var1': 0.19826769828796387,\n",
              " 'num_var45_ult1': 42.718971252441406,\n",
              " 'saldo_medio_var12_hace3': 6.300219535827637,\n",
              " 'saldo_var14': 2.7729032039642334,\n",
              " 'num_var43_emit_ult1': 9.976556777954102,\n",
              " 'num_op_var40_ult1': 3.156261682510376,\n",
              " 'saldo_medio_var8_ult3': 40.92430114746094,\n",
              " 'num_var25': 0.1977081298828125,\n",
              " 'num_var5_0': 13.837916374206543,\n",
              " 'num_op_var39_comer_ult3': 21.02069854736328,\n",
              " 'saldo_var25': 6.759655952453613,\n",
              " 'num_sal_var16_ult1': 8.097282409667969,\n",
              " 'imp_op_var41_efect_ult3': 52.58860397338867,\n",
              " 'num_var42': 1.9154038429260254,\n",
              " 'num_var22_ult3': 67.96151733398438,\n",
              " 'ind_var17_0': 6.070533752441406,\n",
              " 'saldo_var42': 97.47750854492188,\n",
              " 'saldo_medio_var5_ult1': 51.818748474121094,\n",
              " 'num_op_var41_efect_ult3': 10.421710968017578,\n",
              " 'num_op_var40_hace2': 2.563565731048584,\n",
              " 'imp_op_var39_efect_ult3': 2.509019374847412,\n",
              " 'ind_var1_0': 11.500924110412598,\n",
              " 'num_op_var39_hace3': 8.259427070617676,\n",
              " 'imp_op_var40_efect_ult1': 13.24525260925293,\n",
              " 'imp_op_var41_comer_ult3': 12.765445709228516,\n",
              " 'imp_op_var39_comer_ult3': 2.9532244205474854,\n",
              " 'imp_op_var41_ult1': 30.461772918701172,\n",
              " 'num_var24_0': 3.538710594177246,\n",
              " 'num_op_var39_ult1': 17.244216918945312,\n",
              " 'num_meses_var12_ult3': 0.5315303802490234,\n",
              " 'saldo_medio_var8_hace3': 7.941455364227295,\n",
              " 'ind_var40_0': 0.2529076337814331,\n",
              " 'ind_var25_cte': 1.7719988822937012,\n",
              " 'num_op_var41_ult1': 0.8289351463317871,\n",
              " 'num_op_var39_comer_ult1': 2.793765068054199,\n",
              " 'imp_trans_var37_ult1': 10.223851203918457,\n",
              " 'saldo_var37': 34.75502014160156,\n",
              " 'num_var37_med_ult2': 5.4166975021362305,\n",
              " 'num_var7_recib_ult1': 7.141698837280273,\n",
              " 'saldo_var13_corto': 1.888185977935791,\n",
              " 'saldo_medio_var13_corto_hace3': 9.872093200683594,\n",
              " 'num_op_var39_hace2': 0.7357406616210938,\n",
              " 'ind_var14_0': 0.7782968282699585,\n",
              " 'saldo_var8': 19.561168670654297,\n",
              " 'num_op_var41_comer_ult3': 2.7023608684539795,\n",
              " 'saldo_var1': 0.964202880859375,\n",
              " 'imp_op_var41_comer_ult1': 16.648151397705078,\n",
              " 'num_op_var39_ult3': 10.32555103302002,\n",
              " 'num_op_var41_ult3': 2.545424461364746,\n",
              " 'num_op_var41_efect_ult1': 15.784845352172852,\n",
              " 'saldo_var5': 24.65517807006836,\n",
              " 'num_var12_0': 3.4719417095184326,\n",
              " 'num_var8_0': 8.083730697631836,\n",
              " 'imp_var43_emit_ult1': 26.991769790649414,\n",
              " 'num_op_var41_comer_ult1': 0.7561143636703491,\n",
              " 'saldo_medio_var5_hace2': 97.47377014160156,\n",
              " 'num_op_var41_hace3': 0.0720219612121582,\n",
              " 'imp_op_var39_efect_ult1': 15.491342544555664,\n",
              " 'ind_var37_cte': 0.8896300792694092,\n",
              " 'imp_op_var40_efect_ult3': 1.0532722473144531,\n",
              " 'imp_aport_var13_ult1': 0.341094970703125,\n",
              " 'var21': 0.9732730388641357,\n",
              " 'imp_ent_var16_ult1': 30.470703125,\n",
              " 'num_med_var45_ult3': 27.145986557006836,\n",
              " 'saldo_medio_var12_hace2': 1.4793996810913086,\n",
              " 'num_var45_hace3': 54.091068267822266,\n",
              " 'ind_var26_cte': 34.59442138671875,\n",
              " 'ind_var32_cte': 1.855377197265625,\n",
              " 'num_var32': 0.6171760559082031,\n",
              " 'ind_var30': 0.31532981991767883,\n",
              " 'saldo_medio_var13_corto_ult3': 1.5848536491394043,\n",
              " 'imp_var7_recib_ult1': 0.6584663391113281,\n",
              " 'num_meses_var5_ult3': 14.317352294921875,\n",
              " 'imp_sal_var16_ult1': 0.9187088012695312,\n",
              " 'saldo_medio_var5_ult3': 45.065364837646484,\n",
              " 'var36': 13.289200782775879,\n",
              " 'imp_op_var39_ult1': 5.12612247467041,\n",
              " 'num_var43_recib_ult1': 5.845086097717285,\n",
              " 'saldo_medio_var8_hace2': 9.007614135742188,\n",
              " 'num_var45_ult3': 32.556671142578125,\n",
              " 'ind_var9_cte_ult1': 1.6856129169464111,\n",
              " 'imp_op_var41_efect_ult1': 12.564834594726562,\n",
              " 'num_trasp_var11_ult1': 2.093473434448242,\n",
              " 'imp_op_var39_comer_ult1': 2.8548941612243652,\n",
              " 'ind_var41_0': 4.3713836669921875,\n",
              " 'num_ent_var16_ult1': 9.239866256713867,\n",
              " 'num_var42_0': 18.432260513305664,\n",
              " 'num_op_var39_efect_ult3': 2.6887712478637695,\n",
              " 'num_var4': 6.683725833892822,\n",
              " 'num_var22_hace3': 34.933631896972656,\n",
              " 'num_meses_var8_ult3': 12.530174255371094,\n",
              " 'ind_var10cte_ult1': 8.641910552978516,\n",
              " 'num_meses_var39_vig_ult3': 28.85089874267578,\n",
              " 'num_var22_hace2': 41.06803894042969,\n",
              " 'saldo_medio_var5_hace3': 73.80960083007812,\n",
              " 'saldo_var12': 0.7349853515625,\n",
              " 'num_var22_ult1': 52.10957336425781,\n",
              " 'var38': 503.9647216796875,\n",
              " 'saldo_medio_var8_ult1': 21.524553298950195,\n",
              " 'saldo_medio_var13_corto_hace2': 1.0493507385253906,\n",
              " 'ind_var9_ult1': 0.4742238521575928,\n",
              " 'num_var35': 6.404890060424805,\n",
              " 'var15': 845.2383422851562,\n",
              " 'saldo_var30': 491.652099609375}"
            ]
          },
          "metadata": {},
          "execution_count": 15
        }
      ]
    },
    {
      "cell_type": "code",
      "metadata": {
        "id": "yg81nbtE_WzY",
        "colab": {
          "base_uri": "https://localhost:8080/",
          "height": 498
        },
        "outputId": "a72c4c5a-52de-49ea-ec3d-b71c34643319"
      },
      "source": [
        "xgb.plot_importance(xgBoost, max_num_features=20, importance_type = 'total_gain')"
      ],
      "execution_count": 16,
      "outputs": [
        {
          "output_type": "execute_result",
          "data": {
            "text/plain": [
              "<Axes: title={'center': 'Feature importance'}, xlabel='F score', ylabel='Features'>"
            ]
          },
          "metadata": {},
          "execution_count": 16
        },
        {
          "output_type": "display_data",
          "data": {
            "text/plain": [
              "<Figure size 640x480 with 1 Axes>"
            ],
            "image/png": "[encoded data removed]"
          },
          "metadata": {}
        }
      ]
    },
    {
      "cell_type": "code",
      "metadata": {
        "id": "1GIK4-wkOdWm",
        "colab": {
          "base_uri": "https://localhost:8080/",
          "height": 423
        },
        "outputId": "35c7476e-ac6a-4b92-9a3a-9396463655dd"
      },
      "source": [
        "pdVarImp = pd.DataFrame({'Feature': list(importance.keys()),\n",
        "                         'Importance' : list(importance.values())}).sort_values('Importance', ascending = False)\n",
        "\n",
        "pdVarImp['C'] = np.arange(len(pdVarImp)) + 1\n",
        "pdVarImp"
      ],
      "execution_count": 17,
      "outputs": [
        {
          "output_type": "execute_result",
          "data": {
            "text/plain": [
              "                Feature  Importance    C\n",
              "118               var15  845.238342    1\n",
              "113               var38  503.964722    2\n",
              "119         saldo_var30  491.652100    3\n",
              "2       num_var45_hace2   99.454910    4\n",
              "32          saldo_var42   97.477509    5\n",
              "..                  ...         ...  ...\n",
              "85            ind_var30    0.315330  116\n",
              "47          ind_var40_0    0.252908  117\n",
              "16             num_var1    0.198268  118\n",
              "23            num_var25    0.197708  119\n",
              "72   num_op_var41_hace3    0.072022  120\n",
              "\n",
              "[120 rows x 3 columns]"
            ],
            "text/html": [
              "\n",
              "  <div id=\"df-26218342-6066-4808-b5dd-b3589626499a\">\n",
              "    <div class=\"colab-df-container\">\n",
              "      <div>\n",
              "<style scoped>\n",
              "    .dataframe tbody tr th:only-of-type {\n",
              "        vertical-align: middle;\n",
              "    }\n",
              "\n",
              "    .dataframe tbody tr th {\n",
              "        vertical-align: top;\n",
              "    }\n",
              "\n",
              "    .dataframe thead th {\n",
              "        text-align: right;\n",
              "    }\n",
              "</style>\n",
              "<table border=\"1\" class=\"dataframe\">\n",
              "  <thead>\n",
              "    <tr style=\"text-align: right;\">\n",
              "      <th></th>\n",
              "      <th>Feature</th>\n",
              "      <th>Importance</th>\n",
              "      <th>C</th>\n",
              "    </tr>\n",
              "  </thead>\n",
              "  <tbody>\n",
              "    <tr>\n",
              "      <th>118</th>\n",
              "      <td>var15</td>\n",
              "      <td>845.238342</td>\n",
              "      <td>1</td>\n",
              "    </tr>\n",
              "    <tr>\n",
              "      <th>113</th>\n",
              "      <td>var38</td>\n",
              "      <td>503.964722</td>\n",
              "      <td>2</td>\n",
              "    </tr>\n",
              "    <tr>\n",
              "      <th>119</th>\n",
              "      <td>saldo_var30</td>\n",
              "      <td>491.652100</td>\n",
              "      <td>3</td>\n",
              "    </tr>\n",
              "    <tr>\n",
              "      <th>2</th>\n",
              "      <td>num_var45_hace2</td>\n",
              "      <td>99.454910</td>\n",
              "      <td>4</td>\n",
              "    </tr>\n",
              "    <tr>\n",
              "      <th>32</th>\n",
              "      <td>saldo_var42</td>\n",
              "      <td>97.477509</td>\n",
              "      <td>5</td>\n",
              "    </tr>\n",
              "    <tr>\n",
              "      <th>...</th>\n",
              "      <td>...</td>\n",
              "      <td>...</td>\n",
              "      <td>...</td>\n",
              "    </tr>\n",
              "    <tr>\n",
              "      <th>85</th>\n",
              "      <td>ind_var30</td>\n",
              "      <td>0.315330</td>\n",
              "      <td>116</td>\n",
              "    </tr>\n",
              "    <tr>\n",
              "      <th>47</th>\n",
              "      <td>ind_var40_0</td>\n",
              "      <td>0.252908</td>\n",
              "      <td>117</td>\n",
              "    </tr>\n",
              "    <tr>\n",
              "      <th>16</th>\n",
              "      <td>num_var1</td>\n",
              "      <td>0.198268</td>\n",
              "      <td>118</td>\n",
              "    </tr>\n",
              "    <tr>\n",
              "      <th>23</th>\n",
              "      <td>num_var25</td>\n",
              "      <td>0.197708</td>\n",
              "      <td>119</td>\n",
              "    </tr>\n",
              "    <tr>\n",
              "      <th>72</th>\n",
              "      <td>num_op_var41_hace3</td>\n",
              "      <td>0.072022</td>\n",
              "      <td>120</td>\n",
              "    </tr>\n",
              "  </tbody>\n",
              "</table>\n",
              "<p>120 rows × 3 columns</p>\n",
              "</div>\n",
              "      <button class=\"colab-df-convert\" onclick=\"convertToInteractive('df-26218342-6066-4808-b5dd-b3589626499a')\"\n",
              "              title=\"Convert this dataframe to an interactive table.\"\n",
              "              style=\"display:none;\">\n",
              "        \n",
              "  <svg xmlns=\"http://www.w3.org/2000/svg\" height=\"24px\"viewBox=\"0 0 24 24\"\n",
              "       width=\"24px\">\n",
              "    <path d=\"M0 0h24v24H0V0z\" fill=\"none\"/>\n",
              "    <path d=\"M18.56 5.44l.94 2.06.94-2.06 2.06-.94-2.06-.94-.94-2.06-.94 2.06-2.06.94zm-11 1L8.5 8.5l.94-2.06 2.06-.94-2.06-.94L8.5 2.5l-.94 2.06-2.06.94zm10 10l.94 2.06.94-2.06 2.06-.94-2.06-.94-.94-2.06-.94 2.06-2.06.94z\"/><path d=\"M17.41 7.96l-1.37-1.37c-.4-.4-.92-.59-1.43-.59-.52 0-1.04.2-1.43.59L10.3 9.45l-7.72 7.72c-.78.78-.78 2.05 0 2.83L4 21.41c.39.39.9.59 1.41.59.51 0 1.02-.2 1.41-.59l7.78-7.78 2.81-2.81c.8-.78.8-2.07 0-2.86zM5.41 20L4 18.59l7.72-7.72 1.47 1.35L5.41 20z\"/>\n",
              "  </svg>\n",
              "      </button>\n",
              "      \n",
              "  <style>\n",
              "    .colab-df-container {\n",
              "      display:flex;\n",
              "      flex-wrap:wrap;\n",
              "      gap: 12px;\n",
              "    }\n",
              "\n",
              "    .colab-df-convert {\n",
              "      background-color: #E8F0FE;\n",
              "      border: none;\n",
              "      border-radius: 50%;\n",
              "      cursor: pointer;\n",
              "      display: none;\n",
              "      fill: #1967D2;\n",
              "      height: 32px;\n",
              "      padding: 0 0 0 0;\n",
              "      width: 32px;\n",
              "    }\n",
              "\n",
              "    .colab-df-convert:hover {\n",
              "      background-color: #E2EBFA;\n",
              "      box-shadow: 0px 1px 2px rgba(60, 64, 67, 0.3), 0px 1px 3px 1px rgba(60, 64, 67, 0.15);\n",
              "      fill: #174EA6;\n",
              "    }\n",
              "\n",
              "    [theme=dark] .colab-df-convert {\n",
              "      background-color: #3B4455;\n",
              "      fill: #D2E3FC;\n",
              "    }\n",
              "\n",
              "    [theme=dark] .colab-df-convert:hover {\n",
              "      background-color: #434B5C;\n",
              "      box-shadow: 0px 1px 3px 1px rgba(0, 0, 0, 0.15);\n",
              "      filter: drop-shadow(0px 1px 2px rgba(0, 0, 0, 0.3));\n",
              "      fill: #FFFFFF;\n",
              "    }\n",
              "  </style>\n",
              "\n",
              "      <script>\n",
              "        const buttonEl =\n",
              "          document.querySelector('#df-26218342-6066-4808-b5dd-b3589626499a button.colab-df-convert');\n",
              "        buttonEl.style.display =\n",
              "          google.colab.kernel.accessAllowed ? 'block' : 'none';\n",
              "\n",
              "        async function convertToInteractive(key) {\n",
              "          const element = document.querySelector('#df-26218342-6066-4808-b5dd-b3589626499a');\n",
              "          const dataTable =\n",
              "            await google.colab.kernel.invokeFunction('convertToInteractive',\n",
              "                                                     [key], {});\n",
              "          if (!dataTable) return;\n",
              "\n",
              "          const docLinkHtml = 'Like what you see? Visit the ' +\n",
              "            '<a target=\"_blank\" href=https://colab.research.google.com/notebooks/data_table.ipynb>data table notebook</a>'\n",
              "            + ' to learn more about interactive tables.';\n",
              "          element.innerHTML = '';\n",
              "          dataTable['output_type'] = 'display_data';\n",
              "          await google.colab.output.renderOutput(dataTable, element);\n",
              "          const docLink = document.createElement('div');\n",
              "          docLink.innerHTML = docLinkHtml;\n",
              "          element.appendChild(docLink);\n",
              "        }\n",
              "      </script>\n",
              "    </div>\n",
              "  </div>\n",
              "  "
            ]
          },
          "metadata": {},
          "execution_count": 17
        }
      ]
    },
    {
      "cell_type": "code",
      "metadata": {
        "id": "ADGsicCEP67k",
        "colab": {
          "base_uri": "https://localhost:8080/",
          "height": 451
        },
        "outputId": "2ad99553-4f12-4714-d314-4d38b5835609"
      },
      "source": [
        "plt.plot(pdVarImp.C,pdVarImp.Importance.cumsum(axis=0))"
      ],
      "execution_count": 18,
      "outputs": [
        {
          "output_type": "execute_result",
          "data": {
            "text/plain": [
              "[<matplotlib.lines.Line2D at 0x7f521233d210>]"
            ]
          },
          "metadata": {},
          "execution_count": 18
        },
        {
          "output_type": "display_data",
          "data": {
            "text/plain": [
              "<Figure size 640x480 with 1 Axes>"
            ],
            "image/png": "[encoded data removed]"
          },
          "metadata": {}
        }
      ]
    },
    {
      "cell_type": "code",
      "metadata": {
        "id": "cWZjq9vHQS2H",
        "colab": {
          "base_uri": "https://localhost:8080/",
          "height": 451
        },
        "outputId": "ae6568ff-f31b-4b4e-d882-beee7a8bf588"
      },
      "source": [
        "pdVarImp['porc_gain'] = pdVarImp.Importance.apply(lambda x: x/pdVarImp.Importance.sum())\n",
        "plt.plot(pdVarImp.C,pdVarImp.porc_gain.cumsum(axis=0))"
      ],
      "execution_count": 19,
      "outputs": [
        {
          "output_type": "execute_result",
          "data": {
            "text/plain": [
              "[<matplotlib.lines.Line2D at 0x7f52123a3400>]"
            ]
          },
          "metadata": {},
          "execution_count": 19
        },
        {
          "output_type": "display_data",
          "data": {
            "text/plain": [
              "<Figure size 640x480 with 1 Axes>"
            ],
            "image/png": "[encoded data removed]"
          },
          "metadata": {}
        }
      ]
    },
    {
      "cell_type": "code",
      "metadata": {
        "id": "bgIOmJGnRelh"
      },
      "source": [
        "pdVarImp['porc_gain_acum'] = pdVarImp.porc_gain.cumsum(axis = 0)\n"
      ],
      "execution_count": 20,
      "outputs": []
    },
    {
      "cell_type": "code",
      "metadata": {
        "id": "3Vc3JuvLRiIY",
        "colab": {
          "base_uri": "https://localhost:8080/",
          "height": 299
        },
        "outputId": "0ce277cc-e2d9-4731-ec72-e55561cc1f5d"
      },
      "source": [
        "pdVarImp.transpose()"
      ],
      "execution_count": 21,
      "outputs": [
        {
          "output_type": "execute_result",
          "data": {
            "text/plain": [
              "                       118         113          119              2    \\\n",
              "Feature              var15       var38  saldo_var30  num_var45_hace2   \n",
              "Importance      845.238342  503.964722     491.6521         99.45491   \n",
              "C                        1           2            3                4   \n",
              "porc_gain         0.234968    0.140098     0.136675         0.027648   \n",
              "porc_gain_acum    0.234968    0.375066     0.511741         0.539388   \n",
              "\n",
              "                        32                      71                      110  \\\n",
              "Feature         saldo_var42  saldo_medio_var5_hace2  saldo_medio_var5_hace3   \n",
              "Importance        97.477509                97.47377               73.809601   \n",
              "C                         5                       6                       7   \n",
              "porc_gain          0.027098                0.027097                0.020518   \n",
              "porc_gain_acum     0.566486                0.593583                0.614101   \n",
              "\n",
              "                           30               81                       28   ...  \\\n",
              "Feature         num_var22_ult3  num_var45_hace3  imp_op_var41_efect_ult3  ...   \n",
              "Importance           67.961517        54.091068                52.588604  ...   \n",
              "C                            8                9                       10  ...   \n",
              "porc_gain             0.018893         0.015037                 0.014619  ...   \n",
              "porc_gain_acum        0.632994         0.648031                  0.66265  ...   \n",
              "\n",
              "                                 45             116  \\\n",
              "Feature         num_meses_var12_ult3  ind_var9_ult1   \n",
              "Importance                   0.53153       0.474224   \n",
              "C                                111            112   \n",
              "porc_gain                   0.000148       0.000132   \n",
              "porc_gain_acum              0.999284       0.999416   \n",
              "\n",
              "                                      11                    76           3    \\\n",
              "Feature         delta_imp_aport_var13_1y3  imp_aport_var13_ult1  ind_var13_0   \n",
              "Importance                       0.384694              0.341095     0.338377   \n",
              "C                                     113                   114          115   \n",
              "porc_gain                        0.000107              0.000095     0.000094   \n",
              "porc_gain_acum                   0.999523              0.999618     0.999712   \n",
              "\n",
              "                      85           47        16         23   \\\n",
              "Feature         ind_var30  ind_var40_0  num_var1  num_var25   \n",
              "Importance        0.31533     0.252908  0.198268   0.197708   \n",
              "C                     116          117       118        119   \n",
              "porc_gain        0.000088      0.00007  0.000055   0.000055   \n",
              "porc_gain_acum     0.9998      0.99987  0.999925    0.99998   \n",
              "\n",
              "                               72   \n",
              "Feature         num_op_var41_hace3  \n",
              "Importance                0.072022  \n",
              "C                              120  \n",
              "porc_gain                  0.00002  \n",
              "porc_gain_acum                 1.0  \n",
              "\n",
              "[5 rows x 120 columns]"
            ],
            "text/html": [
              "\n",
              "  <div id=\"df-5350bee3-9277-4698-9186-a1f0409be7e7\">\n",
              "    <div class=\"colab-df-container\">\n",
              "      <div>\n",
              "<style scoped>\n",
              "    .dataframe tbody tr th:only-of-type {\n",
              "        vertical-align: middle;\n",
              "    }\n",
              "\n",
              "    .dataframe tbody tr th {\n",
              "        vertical-align: top;\n",
              "    }\n",
              "\n",
              "    .dataframe thead th {\n",
              "        text-align: right;\n",
              "    }\n",
              "</style>\n",
              "<table border=\"1\" class=\"dataframe\">\n",
              "  <thead>\n",
              "    <tr style=\"text-align: right;\">\n",
              "      <th></th>\n",
              "      <th>118</th>\n",
              "      <th>113</th>\n",
              "      <th>119</th>\n",
              "      <th>2</th>\n",
              "      <th>32</th>\n",
              "      <th>71</th>\n",
              "      <th>110</th>\n",
              "      <th>30</th>\n",
              "      <th>81</th>\n",
              "      <th>28</th>\n",
              "      <th>...</th>\n",
              "      <th>45</th>\n",
              "      <th>116</th>\n",
              "      <th>11</th>\n",
              "      <th>76</th>\n",
              "      <th>3</th>\n",
              "      <th>85</th>\n",
              "      <th>47</th>\n",
              "      <th>16</th>\n",
              "      <th>23</th>\n",
              "      <th>72</th>\n",
              "    </tr>\n",
              "  </thead>\n",
              "  <tbody>\n",
              "    <tr>\n",
              "      <th>Feature</th>\n",
              "      <td>var15</td>\n",
              "      <td>var38</td>\n",
              "      <td>saldo_var30</td>\n",
              "      <td>num_var45_hace2</td>\n",
              "      <td>saldo_var42</td>\n",
              "      <td>saldo_medio_var5_hace2</td>\n",
              "      <td>saldo_medio_var5_hace3</td>\n",
              "      <td>num_var22_ult3</td>\n",
              "      <td>num_var45_hace3</td>\n",
              "      <td>imp_op_var41_efect_ult3</td>\n",
              "      <td>...</td>\n",
              "      <td>num_meses_var12_ult3</td>\n",
              "      <td>ind_var9_ult1</td>\n",
              "      <td>delta_imp_aport_var13_1y3</td>\n",
              "      <td>imp_aport_var13_ult1</td>\n",
              "      <td>ind_var13_0</td>\n",
              "      <td>ind_var30</td>\n",
              "      <td>ind_var40_0</td>\n",
              "      <td>num_var1</td>\n",
              "      <td>num_var25</td>\n",
              "      <td>num_op_var41_hace3</td>\n",
              "    </tr>\n",
              "    <tr>\n",
              "      <th>Importance</th>\n",
              "      <td>845.238342</td>\n",
              "      <td>503.964722</td>\n",
              "      <td>491.6521</td>\n",
              "      <td>99.45491</td>\n",
              "      <td>97.477509</td>\n",
              "      <td>97.47377</td>\n",
              "      <td>73.809601</td>\n",
              "      <td>67.961517</td>\n",
              "      <td>54.091068</td>\n",
              "      <td>52.588604</td>\n",
              "      <td>...</td>\n",
              "      <td>0.53153</td>\n",
              "      <td>0.474224</td>\n",
              "      <td>0.384694</td>\n",
              "      <td>0.341095</td>\n",
              "      <td>0.338377</td>\n",
              "      <td>0.31533</td>\n",
              "      <td>0.252908</td>\n",
              "      <td>0.198268</td>\n",
              "      <td>0.197708</td>\n",
              "      <td>0.072022</td>\n",
              "    </tr>\n",
              "    <tr>\n",
              "      <th>C</th>\n",
              "      <td>1</td>\n",
              "      <td>2</td>\n",
              "      <td>3</td>\n",
              "      <td>4</td>\n",
              "      <td>5</td>\n",
              "      <td>6</td>\n",
              "      <td>7</td>\n",
              "      <td>8</td>\n",
              "      <td>9</td>\n",
              "      <td>10</td>\n",
              "      <td>...</td>\n",
              "      <td>111</td>\n",
              "      <td>112</td>\n",
              "      <td>113</td>\n",
              "      <td>114</td>\n",
              "      <td>115</td>\n",
              "      <td>116</td>\n",
              "      <td>117</td>\n",
              "      <td>118</td>\n",
              "      <td>119</td>\n",
              "      <td>120</td>\n",
              "    </tr>\n",
              "    <tr>\n",
              "      <th>porc_gain</th>\n",
              "      <td>0.234968</td>\n",
              "      <td>0.140098</td>\n",
              "      <td>0.136675</td>\n",
              "      <td>0.027648</td>\n",
              "      <td>0.027098</td>\n",
              "      <td>0.027097</td>\n",
              "      <td>0.020518</td>\n",
              "      <td>0.018893</td>\n",
              "      <td>0.015037</td>\n",
              "      <td>0.014619</td>\n",
              "      <td>...</td>\n",
              "      <td>0.000148</td>\n",
              "      <td>0.000132</td>\n",
              "      <td>0.000107</td>\n",
              "      <td>0.000095</td>\n",
              "      <td>0.000094</td>\n",
              "      <td>0.000088</td>\n",
              "      <td>0.00007</td>\n",
              "      <td>0.000055</td>\n",
              "      <td>0.000055</td>\n",
              "      <td>0.00002</td>\n",
              "    </tr>\n",
              "    <tr>\n",
              "      <th>porc_gain_acum</th>\n",
              "      <td>0.234968</td>\n",
              "      <td>0.375066</td>\n",
              "      <td>0.511741</td>\n",
              "      <td>0.539388</td>\n",
              "      <td>0.566486</td>\n",
              "      <td>0.593583</td>\n",
              "      <td>0.614101</td>\n",
              "      <td>0.632994</td>\n",
              "      <td>0.648031</td>\n",
              "      <td>0.66265</td>\n",
              "      <td>...</td>\n",
              "      <td>0.999284</td>\n",
              "      <td>0.999416</td>\n",
              "      <td>0.999523</td>\n",
              "      <td>0.999618</td>\n",
              "      <td>0.999712</td>\n",
              "      <td>0.9998</td>\n",
              "      <td>0.99987</td>\n",
              "      <td>0.999925</td>\n",
              "      <td>0.99998</td>\n",
              "      <td>1.0</td>\n",
              "    </tr>\n",
              "  </tbody>\n",
              "</table>\n",
              "<p>5 rows × 120 columns</p>\n",
              "</div>\n",
              "      <button class=\"colab-df-convert\" onclick=\"convertToInteractive('df-5350bee3-9277-4698-9186-a1f0409be7e7')\"\n",
              "              title=\"Convert this dataframe to an interactive table.\"\n",
              "              style=\"display:none;\">\n",
              "        \n",
              "  <svg xmlns=\"http://www.w3.org/2000/svg\" height=\"24px\"viewBox=\"0 0 24 24\"\n",
              "       width=\"24px\">\n",
              "    <path d=\"M0 0h24v24H0V0z\" fill=\"none\"/>\n",
              "    <path d=\"M18.56 5.44l.94 2.06.94-2.06 2.06-.94-2.06-.94-.94-2.06-.94 2.06-2.06.94zm-11 1L8.5 8.5l.94-2.06 2.06-.94-2.06-.94L8.5 2.5l-.94 2.06-2.06.94zm10 10l.94 2.06.94-2.06 2.06-.94-2.06-.94-.94-2.06-.94 2.06-2.06.94z\"/><path d=\"M17.41 7.96l-1.37-1.37c-.4-.4-.92-.59-1.43-.59-.52 0-1.04.2-1.43.59L10.3 9.45l-7.72 7.72c-.78.78-.78 2.05 0 2.83L4 21.41c.39.39.9.59 1.41.59.51 0 1.02-.2 1.41-.59l7.78-7.78 2.81-2.81c.8-.78.8-2.07 0-2.86zM5.41 20L4 18.59l7.72-7.72 1.47 1.35L5.41 20z\"/>\n",
              "  </svg>\n",
              "      </button>\n",
              "      \n",
              "  <style>\n",
              "    .colab-df-container {\n",
              "      display:flex;\n",
              "      flex-wrap:wrap;\n",
              "      gap: 12px;\n",
              "    }\n",
              "\n",
              "    .colab-df-convert {\n",
              "      background-color: #E8F0FE;\n",
              "      border: none;\n",
              "      border-radius: 50%;\n",
              "      cursor: pointer;\n",
              "      display: none;\n",
              "      fill: #1967D2;\n",
              "      height: 32px;\n",
              "      padding: 0 0 0 0;\n",
              "      width: 32px;\n",
              "    }\n",
              "\n",
              "    .colab-df-convert:hover {\n",
              "      background-color: #E2EBFA;\n",
              "      box-shadow: 0px 1px 2px rgba(60, 64, 67, 0.3), 0px 1px 3px 1px rgba(60, 64, 67, 0.15);\n",
              "      fill: #174EA6;\n",
              "    }\n",
              "\n",
              "    [theme=dark] .colab-df-convert {\n",
              "      background-color: #3B4455;\n",
              "      fill: #D2E3FC;\n",
              "    }\n",
              "\n",
              "    [theme=dark] .colab-df-convert:hover {\n",
              "      background-color: #434B5C;\n",
              "      box-shadow: 0px 1px 3px 1px rgba(0, 0, 0, 0.15);\n",
              "      filter: drop-shadow(0px 1px 2px rgba(0, 0, 0, 0.3));\n",
              "      fill: #FFFFFF;\n",
              "    }\n",
              "  </style>\n",
              "\n",
              "      <script>\n",
              "        const buttonEl =\n",
              "          document.querySelector('#df-5350bee3-9277-4698-9186-a1f0409be7e7 button.colab-df-convert');\n",
              "        buttonEl.style.display =\n",
              "          google.colab.kernel.accessAllowed ? 'block' : 'none';\n",
              "\n",
              "        async function convertToInteractive(key) {\n",
              "          const element = document.querySelector('#df-5350bee3-9277-4698-9186-a1f0409be7e7');\n",
              "          const dataTable =\n",
              "            await google.colab.kernel.invokeFunction('convertToInteractive',\n",
              "                                                     [key], {});\n",
              "          if (!dataTable) return;\n",
              "\n",
              "          const docLinkHtml = 'Like what you see? Visit the ' +\n",
              "            '<a target=\"_blank\" href=https://colab.research.google.com/notebooks/data_table.ipynb>data table notebook</a>'\n",
              "            + ' to learn more about interactive tables.';\n",
              "          element.innerHTML = '';\n",
              "          dataTable['output_type'] = 'display_data';\n",
              "          await google.colab.output.renderOutput(dataTable, element);\n",
              "          const docLink = document.createElement('div');\n",
              "          docLink.innerHTML = docLinkHtml;\n",
              "          element.appendChild(docLink);\n",
              "        }\n",
              "      </script>\n",
              "    </div>\n",
              "  </div>\n",
              "  "
            ]
          },
          "metadata": {},
          "execution_count": 21
        }
      ]
    },
    {
      "cell_type": "code",
      "metadata": {
        "id": "XgocmyNHVsb9"
      },
      "source": [
        "# Usando el modelo para predecir\n",
        "\n",
        "X_train['probability']  = xgBoost.predict(xgb.DMatrix(X_train[features], label = y_train))\n",
        "X_test['probability'] = xgBoost.predict(xgb.DMatrix(X_test[features], label = y_test))\n",
        "\n",
        "X_train['prediction']  = X_train.probability.apply(lambda x: 1 if x > 0.5 else 0)\n",
        "X_test['prediction'] = X_test.probability.apply(lambda x: 1 if x > 0.5 else 0)"
      ],
      "execution_count": 22,
      "outputs": []
    },
    {
      "cell_type": "code",
      "metadata": {
        "id": "i12M9tBeVsWK",
        "colab": {
          "base_uri": "https://localhost:8080/",
          "height": 237
        },
        "outputId": "28ef768f-bbac-47a7-ab5e-4853d3322c9a"
      },
      "source": [
        "#Resumen de todas las métricas del modelo\n",
        "from sklearn.metrics import *\n",
        "\n",
        "metricsXGB = pd.DataFrame({'metric':['AUC','Gini','Accuracy','Precision','Recall','F1-score'],\n",
        "                                'xgb_train':[roc_auc_score(y_train, X_train.probability),\n",
        "                                        (roc_auc_score(y_train, X_train.probability)*2-1),\n",
        "                                        accuracy_score(y_train, X_train.prediction),\n",
        "                                        precision_score(y_train, X_train.prediction),\n",
        "                                        recall_score(y_train, X_train.prediction),\n",
        "                                        f1_score(y_train, X_train.prediction)],\n",
        "\n",
        "                                'xgb_test':[roc_auc_score(y_test, X_test.probability),\n",
        "                                        (roc_auc_score(y_test, X_test.probability)*2-1),\n",
        "                                        accuracy_score(y_test, X_test.prediction),\n",
        "                                        precision_score(y_test, X_test.prediction),\n",
        "                                        recall_score(y_test, X_test.prediction),\n",
        "                                        f1_score(y_test, X_test.prediction)]})\n",
        "\n",
        "metricsXGB\n",
        "#metricsRes = pd.merge(metricsRes, metricsXGB, on = 'metric', how='left') \n",
        "#metricsRes       "
      ],
      "execution_count": 23,
      "outputs": [
        {
          "output_type": "execute_result",
          "data": {
            "text/plain": [
              "      metric  xgb_train  xgb_test\n",
              "0        AUC   0.901820  0.846318\n",
              "1       Gini   0.803639  0.692636\n",
              "2   Accuracy   0.963058  0.960142\n",
              "3  Precision   1.000000  0.272727\n",
              "4     Recall   0.066482  0.004992\n",
              "5   F1-score   0.124675  0.009804"
            ],
            "text/html": [
              "\n",
              "  <div id=\"df-4cc693d8-dd4e-4035-ac20-f0e2b411c33a\">\n",
              "    <div class=\"colab-df-container\">\n",
              "      <div>\n",
              "<style scoped>\n",
              "    .dataframe tbody tr th:only-of-type {\n",
              "        vertical-align: middle;\n",
              "    }\n",
              "\n",
              "    .dataframe tbody tr th {\n",
              "        vertical-align: top;\n",
              "    }\n",
              "\n",
              "    .dataframe thead th {\n",
              "        text-align: right;\n",
              "    }\n",
              "</style>\n",
              "<table border=\"1\" class=\"dataframe\">\n",
              "  <thead>\n",
              "    <tr style=\"text-align: right;\">\n",
              "      <th></th>\n",
              "      <th>metric</th>\n",
              "      <th>xgb_train</th>\n",
              "      <th>xgb_test</th>\n",
              "    </tr>\n",
              "  </thead>\n",
              "  <tbody>\n",
              "    <tr>\n",
              "      <th>0</th>\n",
              "      <td>AUC</td>\n",
              "      <td>0.901820</td>\n",
              "      <td>0.846318</td>\n",
              "    </tr>\n",
              "    <tr>\n",
              "      <th>1</th>\n",
              "      <td>Gini</td>\n",
              "      <td>0.803639</td>\n",
              "      <td>0.692636</td>\n",
              "    </tr>\n",
              "    <tr>\n",
              "      <th>2</th>\n",
              "      <td>Accuracy</td>\n",
              "      <td>0.963058</td>\n",
              "      <td>0.960142</td>\n",
              "    </tr>\n",
              "    <tr>\n",
              "      <th>3</th>\n",
              "      <td>Precision</td>\n",
              "      <td>1.000000</td>\n",
              "      <td>0.272727</td>\n",
              "    </tr>\n",
              "    <tr>\n",
              "      <th>4</th>\n",
              "      <td>Recall</td>\n",
              "      <td>0.066482</td>\n",
              "      <td>0.004992</td>\n",
              "    </tr>\n",
              "    <tr>\n",
              "      <th>5</th>\n",
              "      <td>F1-score</td>\n",
              "      <td>0.124675</td>\n",
              "      <td>0.009804</td>\n",
              "    </tr>\n",
              "  </tbody>\n",
              "</table>\n",
              "</div>\n",
              "      <button class=\"colab-df-convert\" onclick=\"convertToInteractive('df-4cc693d8-dd4e-4035-ac20-f0e2b411c33a')\"\n",
              "              title=\"Convert this dataframe to an interactive table.\"\n",
              "              style=\"display:none;\">\n",
              "        \n",
              "  <svg xmlns=\"http://www.w3.org/2000/svg\" height=\"24px\"viewBox=\"0 0 24 24\"\n",
              "       width=\"24px\">\n",
              "    <path d=\"M0 0h24v24H0V0z\" fill=\"none\"/>\n",
              "    <path d=\"M18.56 5.44l.94 2.06.94-2.06 2.06-.94-2.06-.94-.94-2.06-.94 2.06-2.06.94zm-11 1L8.5 8.5l.94-2.06 2.06-.94-2.06-.94L8.5 2.5l-.94 2.06-2.06.94zm10 10l.94 2.06.94-2.06 2.06-.94-2.06-.94-.94-2.06-.94 2.06-2.06.94z\"/><path d=\"M17.41 7.96l-1.37-1.37c-.4-.4-.92-.59-1.43-.59-.52 0-1.04.2-1.43.59L10.3 9.45l-7.72 7.72c-.78.78-.78 2.05 0 2.83L4 21.41c.39.39.9.59 1.41.59.51 0 1.02-.2 1.41-.59l7.78-7.78 2.81-2.81c.8-.78.8-2.07 0-2.86zM5.41 20L4 18.59l7.72-7.72 1.47 1.35L5.41 20z\"/>\n",
              "  </svg>\n",
              "      </button>\n",
              "      \n",
              "  <style>\n",
              "    .colab-df-container {\n",
              "      display:flex;\n",
              "      flex-wrap:wrap;\n",
              "      gap: 12px;\n",
              "    }\n",
              "\n",
              "    .colab-df-convert {\n",
              "      background-color: #E8F0FE;\n",
              "      border: none;\n",
              "      border-radius: 50%;\n",
              "      cursor: pointer;\n",
              "      display: none;\n",
              "      fill: #1967D2;\n",
              "      height: 32px;\n",
              "      padding: 0 0 0 0;\n",
              "      width: 32px;\n",
              "    }\n",
              "\n",
              "    .colab-df-convert:hover {\n",
              "      background-color: #E2EBFA;\n",
              "      box-shadow: 0px 1px 2px rgba(60, 64, 67, 0.3), 0px 1px 3px 1px rgba(60, 64, 67, 0.15);\n",
              "      fill: #174EA6;\n",
              "    }\n",
              "\n",
              "    [theme=dark] .colab-df-convert {\n",
              "      background-color: #3B4455;\n",
              "      fill: #D2E3FC;\n",
              "    }\n",
              "\n",
              "    [theme=dark] .colab-df-convert:hover {\n",
              "      background-color: #434B5C;\n",
              "      box-shadow: 0px 1px 3px 1px rgba(0, 0, 0, 0.15);\n",
              "      filter: drop-shadow(0px 1px 2px rgba(0, 0, 0, 0.3));\n",
              "      fill: #FFFFFF;\n",
              "    }\n",
              "  </style>\n",
              "\n",
              "      <script>\n",
              "        const buttonEl =\n",
              "          document.querySelector('#df-4cc693d8-dd4e-4035-ac20-f0e2b411c33a button.colab-df-convert');\n",
              "        buttonEl.style.display =\n",
              "          google.colab.kernel.accessAllowed ? 'block' : 'none';\n",
              "\n",
              "        async function convertToInteractive(key) {\n",
              "          const element = document.querySelector('#df-4cc693d8-dd4e-4035-ac20-f0e2b411c33a');\n",
              "          const dataTable =\n",
              "            await google.colab.kernel.invokeFunction('convertToInteractive',\n",
              "                                                     [key], {});\n",
              "          if (!dataTable) return;\n",
              "\n",
              "          const docLinkHtml = 'Like what you see? Visit the ' +\n",
              "            '<a target=\"_blank\" href=https://colab.research.google.com/notebooks/data_table.ipynb>data table notebook</a>'\n",
              "            + ' to learn more about interactive tables.';\n",
              "          element.innerHTML = '';\n",
              "          dataTable['output_type'] = 'display_data';\n",
              "          await google.colab.output.renderOutput(dataTable, element);\n",
              "          const docLink = document.createElement('div');\n",
              "          docLink.innerHTML = docLinkHtml;\n",
              "          element.appendChild(docLink);\n",
              "        }\n",
              "      </script>\n",
              "    </div>\n",
              "  </div>\n",
              "  "
            ]
          },
          "metadata": {},
          "execution_count": 23
        }
      ]
    },
    {
      "cell_type": "markdown",
      "metadata": {
        "id": "FttmZ9QVR5q4"
      },
      "source": [
        "# Random Search"
      ]
    },
    {
      "cell_type": "code",
      "metadata": {
        "id": "DSmFXeYTZ6Ou"
      },
      "source": [
        "# Muestreo de data\n",
        "\n",
        "from sklearn.model_selection import train_test_split\n",
        "\n",
        "X_train, X_test, y_train, y_test = train_test_split(X, y, \n",
        "                                                    stratify = y,\n",
        "                                                    test_size = 0.3,\n",
        "                                                    random_state = 123)\n"
      ],
      "execution_count": 25,
      "outputs": []
    },
    {
      "cell_type": "code",
      "metadata": {
        "id": "Mhcz2Zj1SmaL"
      },
      "source": [
        "# setear valores iniciales\n",
        "\n",
        "paramGrid = {'objetive' : ['binary_logistic'],\n",
        "         'max_depth' : [2,3,4,5,6,7,8,9,10,11,12],\n",
        "         'learning_rate': [0.01, 0.02, 0.05, 0.1, 0.2],\n",
        "         'seed' : [123],\n",
        "         'max_leaves' : [2, 4, 8],\n",
        "         'min_data_leaf' : [0.01, 0.02, 0.05, 0.08, 0.1, 0.15, 0.2],\n",
        "         'grow_policy' : ['lossguide'],\n",
        "         'min_child_weight' : [1,2,3,4,5,6,7,8,9,10]}\n",
        "\n",
        "param['eval_metric'] = 'auc'\n",
        "num_round = 100\n",
        "\n",
        "pdResults = pd.DataFrame()\n",
        "\n"
      ],
      "execution_count": 27,
      "outputs": []
    },
    {
      "cell_type": "code",
      "metadata": {
        "id": "MWM4-xnrUaZs"
      },
      "source": [
        "dtrain = xgb.DMatrix(X_train, label = y_train)\n",
        "dtest  = xgb.DMatrix(X_test, label = y_test)"
      ],
      "execution_count": 28,
      "outputs": []
    },
    {
      "cell_type": "code",
      "metadata": {
        "id": "bklFI4QqUvwv",
        "colab": {
          "base_uri": "https://localhost:8080/"
        },
        "outputId": "1e1e4611-5feb-4148-ad06-c0f469fc44e5"
      },
      "source": [
        "# Iniciar iteración de Hyperparámetros\n",
        "import random\n",
        "\n",
        "for i in range(100):\n",
        "  print(\"****** Iteration : \" + str(i))\n",
        "  param = {}\n",
        "  for paramName, paramValue in paramGrid.items():\n",
        "    param[paramName] = random.choice(paramValue)\n",
        "  param['eval_metric' ] = 'auc'\n",
        "  evallist = [(dtrain,'train'),(dtest,'valid')]\n",
        "  num_round = 10     \n",
        "\n",
        "  bst = xgb.train(param, dtrain, num_round, evallist, verbose_eval = 5)\n",
        "\n",
        "  y_train_pred = bst.predict(dtrain)\n",
        "  y_test_pred = bst.predict(dtest)\n",
        "\n",
        "  giniTrain = ((roc_auc_score(y_train, y_train_pred) - 0.5)*200)\n",
        "  giniTest =  ((roc_auc_score(y_test, y_test_pred) - 0.5)*200)\n",
        "\n",
        "  pdResults = pdResults.append(pd.DataFrame({'iter' : i,\n",
        "                                             'paramName': list(param.keys()),\n",
        "                                             'paramValue': list(param.values()),\n",
        "                                             'giniTrain' : giniTrain,\n",
        "                                             'giniTest' : giniTest}))\n",
        "\n",
        "  pdResults.to_csv('HyperParamSearch.csv', index = False)"
      ],
      "execution_count": 29,
      "outputs": [
        {
          "output_type": "stream",
          "name": "stdout",
          "text": [
            "****** Iteration : 0\n",
            "[05:13:02] WARNING: ../src/learner.cc:767: \n",
            "Parameters: { \"min_data_leaf\", \"objetive\" } are not used.\n",
            "\n"
          ]
        },
        {
          "output_type": "stream",
          "name": "stderr",
          "text": [
            "/usr/local/lib/python3.10/dist-packages/xgboost/core.py:617: FutureWarning: Pass `evals` as keyword args.\n",
            "  warnings.warn(msg, FutureWarning)\n"
          ]
        },
        {
          "output_type": "stream",
          "name": "stdout",
          "text": [
            "[0]\ttrain-auc:0.82040\tvalid-auc:0.79848\n",
            "[5]\ttrain-auc:0.83994\tvalid-auc:0.81854\n",
            "[9]\ttrain-auc:0.84401\tvalid-auc:0.82307\n",
            "****** Iteration : 1\n",
            "[05:13:05] WARNING: ../src/learner.cc:767: \n",
            "Parameters: { \"min_data_leaf\", \"objetive\" } are not used.\n",
            "\n"
          ]
        },
        {
          "output_type": "stream",
          "name": "stderr",
          "text": [
            "<ipython-input-29-2345e3e9b7ee>:21: FutureWarning: The frame.append method is deprecated and will be removed from pandas in a future version. Use pandas.concat instead.\n",
            "  pdResults = pdResults.append(pd.DataFrame({'iter' : i,\n",
            "/usr/local/lib/python3.10/dist-packages/xgboost/core.py:617: FutureWarning: Pass `evals` as keyword args.\n",
            "  warnings.warn(msg, FutureWarning)\n"
          ]
        },
        {
          "output_type": "stream",
          "name": "stdout",
          "text": [
            "[0]\ttrain-auc:0.83872\tvalid-auc:0.81357\n",
            "[5]\ttrain-auc:0.84860\tvalid-auc:0.81993\n",
            "[9]\ttrain-auc:0.85393\tvalid-auc:0.82444\n",
            "****** Iteration : 2\n",
            "[05:13:09] WARNING: ../src/learner.cc:767: \n",
            "Parameters: { \"min_data_leaf\", \"objetive\" } are not used.\n",
            "\n"
          ]
        },
        {
          "output_type": "stream",
          "name": "stderr",
          "text": [
            "<ipython-input-29-2345e3e9b7ee>:21: FutureWarning: The frame.append method is deprecated and will be removed from pandas in a future version. Use pandas.concat instead.\n",
            "  pdResults = pdResults.append(pd.DataFrame({'iter' : i,\n",
            "/usr/local/lib/python3.10/dist-packages/xgboost/core.py:617: FutureWarning: Pass `evals` as keyword args.\n",
            "  warnings.warn(msg, FutureWarning)\n"
          ]
        },
        {
          "output_type": "stream",
          "name": "stdout",
          "text": [
            "[0]\ttrain-auc:0.83267\tvalid-auc:0.80796\n",
            "[5]\ttrain-auc:0.84241\tvalid-auc:0.81655\n",
            "[9]\ttrain-auc:0.84534\tvalid-auc:0.82097\n",
            "****** Iteration : 3\n",
            "[05:13:14] WARNING: ../src/learner.cc:767: \n",
            "Parameters: { \"min_data_leaf\", \"objetive\" } are not used.\n",
            "\n"
          ]
        },
        {
          "output_type": "stream",
          "name": "stderr",
          "text": [
            "<ipython-input-29-2345e3e9b7ee>:21: FutureWarning: The frame.append method is deprecated and will be removed from pandas in a future version. Use pandas.concat instead.\n",
            "  pdResults = pdResults.append(pd.DataFrame({'iter' : i,\n",
            "/usr/local/lib/python3.10/dist-packages/xgboost/core.py:617: FutureWarning: Pass `evals` as keyword args.\n",
            "  warnings.warn(msg, FutureWarning)\n"
          ]
        },
        {
          "output_type": "stream",
          "name": "stdout",
          "text": [
            "[0]\ttrain-auc:0.83267\tvalid-auc:0.80796\n",
            "[5]\ttrain-auc:0.84977\tvalid-auc:0.82105\n",
            "[9]\ttrain-auc:0.85819\tvalid-auc:0.82610\n",
            "****** Iteration : 4\n",
            "[05:13:18] WARNING: ../src/learner.cc:767: \n",
            "Parameters: { \"min_data_leaf\", \"objetive\" } are not used.\n",
            "\n"
          ]
        },
        {
          "output_type": "stream",
          "name": "stderr",
          "text": [
            "<ipython-input-29-2345e3e9b7ee>:21: FutureWarning: The frame.append method is deprecated and will be removed from pandas in a future version. Use pandas.concat instead.\n",
            "  pdResults = pdResults.append(pd.DataFrame({'iter' : i,\n",
            "/usr/local/lib/python3.10/dist-packages/xgboost/core.py:617: FutureWarning: Pass `evals` as keyword args.\n",
            "  warnings.warn(msg, FutureWarning)\n"
          ]
        },
        {
          "output_type": "stream",
          "name": "stdout",
          "text": [
            "[0]\ttrain-auc:0.84269\tvalid-auc:0.81079\n",
            "[5]\ttrain-auc:0.86819\tvalid-auc:0.82574\n",
            "[9]\ttrain-auc:0.87725\tvalid-auc:0.82900\n",
            "****** Iteration : 5\n"
          ]
        },
        {
          "output_type": "stream",
          "name": "stderr",
          "text": [
            "<ipython-input-29-2345e3e9b7ee>:21: FutureWarning: The frame.append method is deprecated and will be removed from pandas in a future version. Use pandas.concat instead.\n",
            "  pdResults = pdResults.append(pd.DataFrame({'iter' : i,\n",
            "/usr/local/lib/python3.10/dist-packages/xgboost/core.py:617: FutureWarning: Pass `evals` as keyword args.\n",
            "  warnings.warn(msg, FutureWarning)\n"
          ]
        },
        {
          "output_type": "stream",
          "name": "stdout",
          "text": [
            "[05:13:24] WARNING: ../src/learner.cc:767: \n",
            "Parameters: { \"min_data_leaf\", \"objetive\" } are not used.\n",
            "\n",
            "[0]\ttrain-auc:0.85132\tvalid-auc:0.81079\n",
            "[5]\ttrain-auc:0.86402\tvalid-auc:0.81459\n",
            "[9]\ttrain-auc:0.87379\tvalid-auc:0.81862\n",
            "****** Iteration : 6\n",
            "[05:13:30] WARNING: ../src/learner.cc:767: \n",
            "Parameters: { \"min_data_leaf\", \"objetive\" } are not used.\n",
            "\n"
          ]
        },
        {
          "output_type": "stream",
          "name": "stderr",
          "text": [
            "<ipython-input-29-2345e3e9b7ee>:21: FutureWarning: The frame.append method is deprecated and will be removed from pandas in a future version. Use pandas.concat instead.\n",
            "  pdResults = pdResults.append(pd.DataFrame({'iter' : i,\n",
            "/usr/local/lib/python3.10/dist-packages/xgboost/core.py:617: FutureWarning: Pass `evals` as keyword args.\n",
            "  warnings.warn(msg, FutureWarning)\n"
          ]
        },
        {
          "output_type": "stream",
          "name": "stdout",
          "text": [
            "[0]\ttrain-auc:0.86572\tvalid-auc:0.79900\n",
            "[5]\ttrain-auc:0.86941\tvalid-auc:0.80606\n",
            "[9]\ttrain-auc:0.87153\tvalid-auc:0.80802\n",
            "****** Iteration : 7\n",
            "[05:13:40] WARNING: ../src/learner.cc:767: \n",
            "Parameters: { \"min_data_leaf\", \"objetive\" } are not used.\n",
            "\n"
          ]
        },
        {
          "output_type": "stream",
          "name": "stderr",
          "text": [
            "<ipython-input-29-2345e3e9b7ee>:21: FutureWarning: The frame.append method is deprecated and will be removed from pandas in a future version. Use pandas.concat instead.\n",
            "  pdResults = pdResults.append(pd.DataFrame({'iter' : i,\n",
            "/usr/local/lib/python3.10/dist-packages/xgboost/core.py:617: FutureWarning: Pass `evals` as keyword args.\n",
            "  warnings.warn(msg, FutureWarning)\n"
          ]
        },
        {
          "output_type": "stream",
          "name": "stdout",
          "text": [
            "[0]\ttrain-auc:0.83176\tvalid-auc:0.80842\n",
            "[5]\ttrain-auc:0.83299\tvalid-auc:0.81006\n",
            "[9]\ttrain-auc:0.83297\tvalid-auc:0.81017\n",
            "****** Iteration : 8\n",
            "[05:13:44] WARNING: ../src/learner.cc:767: \n",
            "Parameters: { \"min_data_leaf\", \"objetive\" } are not used.\n",
            "\n",
            "[0]\ttrain-auc:0.77464\tvalid-auc:0.76449\n"
          ]
        },
        {
          "output_type": "stream",
          "name": "stderr",
          "text": [
            "<ipython-input-29-2345e3e9b7ee>:21: FutureWarning: The frame.append method is deprecated and will be removed from pandas in a future version. Use pandas.concat instead.\n",
            "  pdResults = pdResults.append(pd.DataFrame({'iter' : i,\n",
            "/usr/local/lib/python3.10/dist-packages/xgboost/core.py:617: FutureWarning: Pass `evals` as keyword args.\n",
            "  warnings.warn(msg, FutureWarning)\n"
          ]
        },
        {
          "output_type": "stream",
          "name": "stdout",
          "text": [
            "[5]\ttrain-auc:0.78331\tvalid-auc:0.77223\n",
            "[9]\ttrain-auc:0.78380\tvalid-auc:0.77468\n",
            "****** Iteration : 9\n",
            "[05:13:46] WARNING: ../src/learner.cc:767: \n",
            "Parameters: { \"min_data_leaf\", \"objetive\" } are not used.\n",
            "\n"
          ]
        },
        {
          "output_type": "stream",
          "name": "stderr",
          "text": [
            "<ipython-input-29-2345e3e9b7ee>:21: FutureWarning: The frame.append method is deprecated and will be removed from pandas in a future version. Use pandas.concat instead.\n",
            "  pdResults = pdResults.append(pd.DataFrame({'iter' : i,\n",
            "/usr/local/lib/python3.10/dist-packages/xgboost/core.py:617: FutureWarning: Pass `evals` as keyword args.\n",
            "  warnings.warn(msg, FutureWarning)\n"
          ]
        },
        {
          "output_type": "stream",
          "name": "stdout",
          "text": [
            "[0]\ttrain-auc:0.86096\tvalid-auc:0.80566\n",
            "[5]\ttrain-auc:0.86695\tvalid-auc:0.81022\n",
            "[9]\ttrain-auc:0.87172\tvalid-auc:0.81238\n",
            "****** Iteration : 10\n",
            "[05:13:55] WARNING: ../src/learner.cc:767: \n",
            "Parameters: { \"min_data_leaf\", \"objetive\" } are not used.\n",
            "\n"
          ]
        },
        {
          "output_type": "stream",
          "name": "stderr",
          "text": [
            "<ipython-input-29-2345e3e9b7ee>:21: FutureWarning: The frame.append method is deprecated and will be removed from pandas in a future version. Use pandas.concat instead.\n",
            "  pdResults = pdResults.append(pd.DataFrame({'iter' : i,\n",
            "/usr/local/lib/python3.10/dist-packages/xgboost/core.py:617: FutureWarning: Pass `evals` as keyword args.\n",
            "  warnings.warn(msg, FutureWarning)\n"
          ]
        },
        {
          "output_type": "stream",
          "name": "stdout",
          "text": [
            "[0]\ttrain-auc:0.83267\tvalid-auc:0.80796\n",
            "[5]\ttrain-auc:0.83446\tvalid-auc:0.81113\n",
            "[9]\ttrain-auc:0.83459\tvalid-auc:0.81168\n",
            "****** Iteration : 11\n",
            "[05:13:58] WARNING: ../src/learner.cc:767: \n",
            "Parameters: { \"min_data_leaf\", \"objetive\" } are not used.\n",
            "\n"
          ]
        },
        {
          "output_type": "stream",
          "name": "stderr",
          "text": [
            "<ipython-input-29-2345e3e9b7ee>:21: FutureWarning: The frame.append method is deprecated and will be removed from pandas in a future version. Use pandas.concat instead.\n",
            "  pdResults = pdResults.append(pd.DataFrame({'iter' : i,\n",
            "/usr/local/lib/python3.10/dist-packages/xgboost/core.py:617: FutureWarning: Pass `evals` as keyword args.\n",
            "  warnings.warn(msg, FutureWarning)\n"
          ]
        },
        {
          "output_type": "stream",
          "name": "stdout",
          "text": [
            "[0]\ttrain-auc:0.84197\tvalid-auc:0.80856\n",
            "[5]\ttrain-auc:0.86101\tvalid-auc:0.82088\n",
            "[9]\ttrain-auc:0.86698\tvalid-auc:0.82633\n",
            "****** Iteration : 12\n",
            "[05:14:05] WARNING: ../src/learner.cc:767: \n",
            "Parameters: { \"min_data_leaf\", \"objetive\" } are not used.\n",
            "\n"
          ]
        },
        {
          "output_type": "stream",
          "name": "stderr",
          "text": [
            "<ipython-input-29-2345e3e9b7ee>:21: FutureWarning: The frame.append method is deprecated and will be removed from pandas in a future version. Use pandas.concat instead.\n",
            "  pdResults = pdResults.append(pd.DataFrame({'iter' : i,\n",
            "/usr/local/lib/python3.10/dist-packages/xgboost/core.py:617: FutureWarning: Pass `evals` as keyword args.\n",
            "  warnings.warn(msg, FutureWarning)\n"
          ]
        },
        {
          "output_type": "stream",
          "name": "stdout",
          "text": [
            "[0]\ttrain-auc:0.85220\tvalid-auc:0.81217\n",
            "[5]\ttrain-auc:0.87744\tvalid-auc:0.81882\n",
            "[9]\ttrain-auc:0.89023\tvalid-auc:0.82362\n",
            "****** Iteration : 13\n",
            "[05:14:12] WARNING: ../src/learner.cc:767: \n",
            "Parameters: { \"min_data_leaf\", \"objetive\" } are not used.\n",
            "\n"
          ]
        },
        {
          "output_type": "stream",
          "name": "stderr",
          "text": [
            "<ipython-input-29-2345e3e9b7ee>:21: FutureWarning: The frame.append method is deprecated and will be removed from pandas in a future version. Use pandas.concat instead.\n",
            "  pdResults = pdResults.append(pd.DataFrame({'iter' : i,\n",
            "/usr/local/lib/python3.10/dist-packages/xgboost/core.py:617: FutureWarning: Pass `evals` as keyword args.\n",
            "  warnings.warn(msg, FutureWarning)\n"
          ]
        },
        {
          "output_type": "stream",
          "name": "stdout",
          "text": [
            "[0]\ttrain-auc:0.85604\tvalid-auc:0.81141\n",
            "[5]\ttrain-auc:0.88568\tvalid-auc:0.81963\n",
            "[9]\ttrain-auc:0.89892\tvalid-auc:0.82487\n",
            "****** Iteration : 14\n",
            "[05:14:21] WARNING: ../src/learner.cc:767: \n",
            "Parameters: { \"min_data_leaf\", \"objetive\" } are not used.\n",
            "\n"
          ]
        },
        {
          "output_type": "stream",
          "name": "stderr",
          "text": [
            "<ipython-input-29-2345e3e9b7ee>:21: FutureWarning: The frame.append method is deprecated and will be removed from pandas in a future version. Use pandas.concat instead.\n",
            "  pdResults = pdResults.append(pd.DataFrame({'iter' : i,\n",
            "/usr/local/lib/python3.10/dist-packages/xgboost/core.py:617: FutureWarning: Pass `evals` as keyword args.\n",
            "  warnings.warn(msg, FutureWarning)\n"
          ]
        },
        {
          "output_type": "stream",
          "name": "stdout",
          "text": [
            "[0]\ttrain-auc:0.84161\tvalid-auc:0.81069\n",
            "[5]\ttrain-auc:0.84531\tvalid-auc:0.81402\n",
            "[9]\ttrain-auc:0.84715\tvalid-auc:0.81457\n",
            "****** Iteration : 15\n",
            "[05:14:27] WARNING: ../src/learner.cc:767: \n",
            "Parameters: { \"min_data_leaf\", \"objetive\" } are not used.\n",
            "\n"
          ]
        },
        {
          "output_type": "stream",
          "name": "stderr",
          "text": [
            "<ipython-input-29-2345e3e9b7ee>:21: FutureWarning: The frame.append method is deprecated and will be removed from pandas in a future version. Use pandas.concat instead.\n",
            "  pdResults = pdResults.append(pd.DataFrame({'iter' : i,\n",
            "/usr/local/lib/python3.10/dist-packages/xgboost/core.py:617: FutureWarning: Pass `evals` as keyword args.\n",
            "  warnings.warn(msg, FutureWarning)\n"
          ]
        },
        {
          "output_type": "stream",
          "name": "stdout",
          "text": [
            "[0]\ttrain-auc:0.84143\tvalid-auc:0.81077\n",
            "[5]\ttrain-auc:0.84688\tvalid-auc:0.81526\n",
            "[9]\ttrain-auc:0.84993\tvalid-auc:0.81754\n",
            "****** Iteration : 16\n",
            "[05:14:31] WARNING: ../src/learner.cc:767: \n",
            "Parameters: { \"min_data_leaf\", \"objetive\" } are not used.\n",
            "\n"
          ]
        },
        {
          "output_type": "stream",
          "name": "stderr",
          "text": [
            "<ipython-input-29-2345e3e9b7ee>:21: FutureWarning: The frame.append method is deprecated and will be removed from pandas in a future version. Use pandas.concat instead.\n",
            "  pdResults = pdResults.append(pd.DataFrame({'iter' : i,\n",
            "/usr/local/lib/python3.10/dist-packages/xgboost/core.py:617: FutureWarning: Pass `evals` as keyword args.\n",
            "  warnings.warn(msg, FutureWarning)\n"
          ]
        },
        {
          "output_type": "stream",
          "name": "stdout",
          "text": [
            "[0]\ttrain-auc:0.83172\tvalid-auc:0.80783\n",
            "[5]\ttrain-auc:0.83995\tvalid-auc:0.81650\n",
            "[9]\ttrain-auc:0.84511\tvalid-auc:0.81910\n",
            "****** Iteration : 17\n",
            "[05:14:35] WARNING: ../src/learner.cc:767: \n",
            "Parameters: { \"min_data_leaf\", \"objetive\" } are not used.\n",
            "\n"
          ]
        },
        {
          "output_type": "stream",
          "name": "stderr",
          "text": [
            "<ipython-input-29-2345e3e9b7ee>:21: FutureWarning: The frame.append method is deprecated and will be removed from pandas in a future version. Use pandas.concat instead.\n",
            "  pdResults = pdResults.append(pd.DataFrame({'iter' : i,\n",
            "/usr/local/lib/python3.10/dist-packages/xgboost/core.py:617: FutureWarning: Pass `evals` as keyword args.\n",
            "  warnings.warn(msg, FutureWarning)\n"
          ]
        },
        {
          "output_type": "stream",
          "name": "stdout",
          "text": [
            "[0]\ttrain-auc:0.84733\tvalid-auc:0.80992\n",
            "[5]\ttrain-auc:0.86200\tvalid-auc:0.81855\n",
            "[9]\ttrain-auc:0.86959\tvalid-auc:0.82261\n",
            "****** Iteration : 18\n",
            "[05:14:43] WARNING: ../src/learner.cc:767: \n",
            "Parameters: { \"min_data_leaf\", \"objetive\" } are not used.\n",
            "\n"
          ]
        },
        {
          "output_type": "stream",
          "name": "stderr",
          "text": [
            "<ipython-input-29-2345e3e9b7ee>:21: FutureWarning: The frame.append method is deprecated and will be removed from pandas in a future version. Use pandas.concat instead.\n",
            "  pdResults = pdResults.append(pd.DataFrame({'iter' : i,\n",
            "/usr/local/lib/python3.10/dist-packages/xgboost/core.py:617: FutureWarning: Pass `evals` as keyword args.\n",
            "  warnings.warn(msg, FutureWarning)\n"
          ]
        },
        {
          "output_type": "stream",
          "name": "stdout",
          "text": [
            "[0]\ttrain-auc:0.84925\tvalid-auc:0.80872\n",
            "[5]\ttrain-auc:0.86178\tvalid-auc:0.81700\n",
            "[9]\ttrain-auc:0.86995\tvalid-auc:0.82185\n",
            "****** Iteration : 19\n",
            "[05:14:49] WARNING: ../src/learner.cc:767: \n",
            "Parameters: { \"min_data_leaf\", \"objetive\" } are not used.\n",
            "\n"
          ]
        },
        {
          "output_type": "stream",
          "name": "stderr",
          "text": [
            "<ipython-input-29-2345e3e9b7ee>:21: FutureWarning: The frame.append method is deprecated and will be removed from pandas in a future version. Use pandas.concat instead.\n",
            "  pdResults = pdResults.append(pd.DataFrame({'iter' : i,\n",
            "/usr/local/lib/python3.10/dist-packages/xgboost/core.py:617: FutureWarning: Pass `evals` as keyword args.\n",
            "  warnings.warn(msg, FutureWarning)\n"
          ]
        },
        {
          "output_type": "stream",
          "name": "stdout",
          "text": [
            "[0]\ttrain-auc:0.77464\tvalid-auc:0.76449\n",
            "[5]\ttrain-auc:0.77631\tvalid-auc:0.76584\n",
            "[9]\ttrain-auc:0.77631\tvalid-auc:0.76584\n",
            "****** Iteration : 20\n",
            "[05:14:52] WARNING: ../src/learner.cc:767: \n",
            "Parameters: { \"min_data_leaf\", \"objetive\" } are not used.\n",
            "\n"
          ]
        },
        {
          "output_type": "stream",
          "name": "stderr",
          "text": [
            "<ipython-input-29-2345e3e9b7ee>:21: FutureWarning: The frame.append method is deprecated and will be removed from pandas in a future version. Use pandas.concat instead.\n",
            "  pdResults = pdResults.append(pd.DataFrame({'iter' : i,\n",
            "/usr/local/lib/python3.10/dist-packages/xgboost/core.py:617: FutureWarning: Pass `evals` as keyword args.\n",
            "  warnings.warn(msg, FutureWarning)\n"
          ]
        },
        {
          "output_type": "stream",
          "name": "stdout",
          "text": [
            "[0]\ttrain-auc:0.84822\tvalid-auc:0.80998\n",
            "[5]\ttrain-auc:0.85190\tvalid-auc:0.81365\n",
            "[9]\ttrain-auc:0.85500\tvalid-auc:0.81467\n",
            "****** Iteration : 21\n",
            "[05:15:00] WARNING: ../src/learner.cc:767: \n",
            "Parameters: { \"min_data_leaf\", \"objetive\" } are not used.\n",
            "\n"
          ]
        },
        {
          "output_type": "stream",
          "name": "stderr",
          "text": [
            "<ipython-input-29-2345e3e9b7ee>:21: FutureWarning: The frame.append method is deprecated and will be removed from pandas in a future version. Use pandas.concat instead.\n",
            "  pdResults = pdResults.append(pd.DataFrame({'iter' : i,\n",
            "/usr/local/lib/python3.10/dist-packages/xgboost/core.py:617: FutureWarning: Pass `evals` as keyword args.\n",
            "  warnings.warn(msg, FutureWarning)\n"
          ]
        },
        {
          "output_type": "stream",
          "name": "stdout",
          "text": [
            "[0]\ttrain-auc:0.83272\tvalid-auc:0.80807\n",
            "[5]\ttrain-auc:0.83460\tvalid-auc:0.81099\n",
            "[9]\ttrain-auc:0.83465\tvalid-auc:0.81104\n",
            "****** Iteration : 22\n",
            "[05:15:05] WARNING: ../src/learner.cc:767: \n",
            "Parameters: { \"min_data_leaf\", \"objetive\" } are not used.\n",
            "\n",
            "[0]\ttrain-auc:0.77464\tvalid-auc:0.76449\n"
          ]
        },
        {
          "output_type": "stream",
          "name": "stderr",
          "text": [
            "<ipython-input-29-2345e3e9b7ee>:21: FutureWarning: The frame.append method is deprecated and will be removed from pandas in a future version. Use pandas.concat instead.\n",
            "  pdResults = pdResults.append(pd.DataFrame({'iter' : i,\n",
            "/usr/local/lib/python3.10/dist-packages/xgboost/core.py:617: FutureWarning: Pass `evals` as keyword args.\n",
            "  warnings.warn(msg, FutureWarning)\n"
          ]
        },
        {
          "output_type": "stream",
          "name": "stdout",
          "text": [
            "[5]\ttrain-auc:0.78331\tvalid-auc:0.77223\n",
            "[9]\ttrain-auc:0.78380\tvalid-auc:0.77468\n",
            "****** Iteration : 23\n",
            "[05:15:06] WARNING: ../src/learner.cc:767: \n",
            "Parameters: { \"min_data_leaf\", \"objetive\" } are not used.\n",
            "\n"
          ]
        },
        {
          "output_type": "stream",
          "name": "stderr",
          "text": [
            "<ipython-input-29-2345e3e9b7ee>:21: FutureWarning: The frame.append method is deprecated and will be removed from pandas in a future version. Use pandas.concat instead.\n",
            "  pdResults = pdResults.append(pd.DataFrame({'iter' : i,\n",
            "/usr/local/lib/python3.10/dist-packages/xgboost/core.py:617: FutureWarning: Pass `evals` as keyword args.\n",
            "  warnings.warn(msg, FutureWarning)\n"
          ]
        },
        {
          "output_type": "stream",
          "name": "stdout",
          "text": [
            "[0]\ttrain-auc:0.81641\tvalid-auc:0.79467\n",
            "[5]\ttrain-auc:0.83607\tvalid-auc:0.81470\n",
            "[9]\ttrain-auc:0.84141\tvalid-auc:0.81909\n",
            "****** Iteration : 24\n",
            "[05:15:09] WARNING: ../src/learner.cc:767: \n",
            "Parameters: { \"min_data_leaf\", \"objetive\" } are not used.\n",
            "\n"
          ]
        },
        {
          "output_type": "stream",
          "name": "stderr",
          "text": [
            "<ipython-input-29-2345e3e9b7ee>:21: FutureWarning: The frame.append method is deprecated and will be removed from pandas in a future version. Use pandas.concat instead.\n",
            "  pdResults = pdResults.append(pd.DataFrame({'iter' : i,\n",
            "/usr/local/lib/python3.10/dist-packages/xgboost/core.py:617: FutureWarning: Pass `evals` as keyword args.\n",
            "  warnings.warn(msg, FutureWarning)\n"
          ]
        },
        {
          "output_type": "stream",
          "name": "stdout",
          "text": [
            "[0]\ttrain-auc:0.84822\tvalid-auc:0.80998\n",
            "[5]\ttrain-auc:0.86949\tvalid-auc:0.81838\n",
            "[9]\ttrain-auc:0.87704\tvalid-auc:0.82575\n",
            "****** Iteration : 25\n",
            "[05:15:17] WARNING: ../src/learner.cc:767: \n",
            "Parameters: { \"min_data_leaf\", \"objetive\" } are not used.\n",
            "\n"
          ]
        },
        {
          "output_type": "stream",
          "name": "stderr",
          "text": [
            "<ipython-input-29-2345e3e9b7ee>:21: FutureWarning: The frame.append method is deprecated and will be removed from pandas in a future version. Use pandas.concat instead.\n",
            "  pdResults = pdResults.append(pd.DataFrame({'iter' : i,\n",
            "/usr/local/lib/python3.10/dist-packages/xgboost/core.py:617: FutureWarning: Pass `evals` as keyword args.\n",
            "  warnings.warn(msg, FutureWarning)\n"
          ]
        },
        {
          "output_type": "stream",
          "name": "stdout",
          "text": [
            "[0]\ttrain-auc:0.80641\tvalid-auc:0.78663\n",
            "[5]\ttrain-auc:0.82060\tvalid-auc:0.80282\n",
            "[9]\ttrain-auc:0.82484\tvalid-auc:0.80737\n",
            "****** Iteration : 26\n",
            "[05:15:19] WARNING: ../src/learner.cc:767: \n",
            "Parameters: { \"min_data_leaf\", \"objetive\" } are not used.\n",
            "\n"
          ]
        },
        {
          "output_type": "stream",
          "name": "stderr",
          "text": [
            "<ipython-input-29-2345e3e9b7ee>:21: FutureWarning: The frame.append method is deprecated and will be removed from pandas in a future version. Use pandas.concat instead.\n",
            "  pdResults = pdResults.append(pd.DataFrame({'iter' : i,\n",
            "/usr/local/lib/python3.10/dist-packages/xgboost/core.py:617: FutureWarning: Pass `evals` as keyword args.\n",
            "  warnings.warn(msg, FutureWarning)\n"
          ]
        },
        {
          "output_type": "stream",
          "name": "stdout",
          "text": [
            "[0]\ttrain-auc:0.84448\tvalid-auc:0.81060\n",
            "[5]\ttrain-auc:0.85788\tvalid-auc:0.81910\n",
            "[9]\ttrain-auc:0.86274\tvalid-auc:0.82124\n",
            "****** Iteration : 27\n",
            "[05:15:25] WARNING: ../src/learner.cc:767: \n",
            "Parameters: { \"min_data_leaf\", \"objetive\" } are not used.\n",
            "\n"
          ]
        },
        {
          "output_type": "stream",
          "name": "stderr",
          "text": [
            "<ipython-input-29-2345e3e9b7ee>:21: FutureWarning: The frame.append method is deprecated and will be removed from pandas in a future version. Use pandas.concat instead.\n",
            "  pdResults = pdResults.append(pd.DataFrame({'iter' : i,\n",
            "/usr/local/lib/python3.10/dist-packages/xgboost/core.py:617: FutureWarning: Pass `evals` as keyword args.\n",
            "  warnings.warn(msg, FutureWarning)\n"
          ]
        },
        {
          "output_type": "stream",
          "name": "stdout",
          "text": [
            "[0]\ttrain-auc:0.84409\tvalid-auc:0.80983\n",
            "[5]\ttrain-auc:0.85547\tvalid-auc:0.81874\n",
            "[9]\ttrain-auc:0.86207\tvalid-auc:0.82210\n",
            "****** Iteration : 28\n",
            "[05:15:31] WARNING: ../src/learner.cc:767: \n",
            "Parameters: { \"min_data_leaf\", \"objetive\" } are not used.\n",
            "\n"
          ]
        },
        {
          "output_type": "stream",
          "name": "stderr",
          "text": [
            "<ipython-input-29-2345e3e9b7ee>:21: FutureWarning: The frame.append method is deprecated and will be removed from pandas in a future version. Use pandas.concat instead.\n",
            "  pdResults = pdResults.append(pd.DataFrame({'iter' : i,\n",
            "/usr/local/lib/python3.10/dist-packages/xgboost/core.py:617: FutureWarning: Pass `evals` as keyword args.\n",
            "  warnings.warn(msg, FutureWarning)\n"
          ]
        },
        {
          "output_type": "stream",
          "name": "stdout",
          "text": [
            "[0]\ttrain-auc:0.83185\tvalid-auc:0.80828\n",
            "[5]\ttrain-auc:0.84553\tvalid-auc:0.81930\n",
            "[9]\ttrain-auc:0.85248\tvalid-auc:0.82536\n",
            "****** Iteration : 29\n",
            "[05:15:35] WARNING: ../src/learner.cc:767: \n",
            "Parameters: { \"min_data_leaf\", \"objetive\" } are not used.\n",
            "\n"
          ]
        },
        {
          "output_type": "stream",
          "name": "stderr",
          "text": [
            "<ipython-input-29-2345e3e9b7ee>:21: FutureWarning: The frame.append method is deprecated and will be removed from pandas in a future version. Use pandas.concat instead.\n",
            "  pdResults = pdResults.append(pd.DataFrame({'iter' : i,\n",
            "/usr/local/lib/python3.10/dist-packages/xgboost/core.py:617: FutureWarning: Pass `evals` as keyword args.\n",
            "  warnings.warn(msg, FutureWarning)\n"
          ]
        },
        {
          "output_type": "stream",
          "name": "stdout",
          "text": [
            "[0]\ttrain-auc:0.85604\tvalid-auc:0.81141\n",
            "[5]\ttrain-auc:0.88568\tvalid-auc:0.81963\n",
            "[9]\ttrain-auc:0.89892\tvalid-auc:0.82487\n",
            "****** Iteration : 30\n",
            "[05:15:44] WARNING: ../src/learner.cc:767: \n",
            "Parameters: { \"min_data_leaf\", \"objetive\" } are not used.\n",
            "\n"
          ]
        },
        {
          "output_type": "stream",
          "name": "stderr",
          "text": [
            "<ipython-input-29-2345e3e9b7ee>:21: FutureWarning: The frame.append method is deprecated and will be removed from pandas in a future version. Use pandas.concat instead.\n",
            "  pdResults = pdResults.append(pd.DataFrame({'iter' : i,\n",
            "/usr/local/lib/python3.10/dist-packages/xgboost/core.py:617: FutureWarning: Pass `evals` as keyword args.\n",
            "  warnings.warn(msg, FutureWarning)\n"
          ]
        },
        {
          "output_type": "stream",
          "name": "stdout",
          "text": [
            "[0]\ttrain-auc:0.80643\tvalid-auc:0.78672\n",
            "[5]\ttrain-auc:0.83182\tvalid-auc:0.81682\n",
            "[9]\ttrain-auc:0.83991\tvalid-auc:0.82202\n",
            "****** Iteration : 31\n",
            "[05:15:46] WARNING: ../src/learner.cc:767: \n",
            "Parameters: { \"min_data_leaf\", \"objetive\" } are not used.\n",
            "\n"
          ]
        },
        {
          "output_type": "stream",
          "name": "stderr",
          "text": [
            "<ipython-input-29-2345e3e9b7ee>:21: FutureWarning: The frame.append method is deprecated and will be removed from pandas in a future version. Use pandas.concat instead.\n",
            "  pdResults = pdResults.append(pd.DataFrame({'iter' : i,\n",
            "/usr/local/lib/python3.10/dist-packages/xgboost/core.py:617: FutureWarning: Pass `evals` as keyword args.\n",
            "  warnings.warn(msg, FutureWarning)\n"
          ]
        },
        {
          "output_type": "stream",
          "name": "stdout",
          "text": [
            "[0]\ttrain-auc:0.85975\tvalid-auc:0.80884\n",
            "[5]\ttrain-auc:0.86437\tvalid-auc:0.81320\n",
            "[9]\ttrain-auc:0.87000\tvalid-auc:0.81334\n",
            "****** Iteration : 32\n",
            "[05:15:55] WARNING: ../src/learner.cc:767: \n",
            "Parameters: { \"min_data_leaf\", \"objetive\" } are not used.\n",
            "\n"
          ]
        },
        {
          "output_type": "stream",
          "name": "stderr",
          "text": [
            "<ipython-input-29-2345e3e9b7ee>:21: FutureWarning: The frame.append method is deprecated and will be removed from pandas in a future version. Use pandas.concat instead.\n",
            "  pdResults = pdResults.append(pd.DataFrame({'iter' : i,\n",
            "/usr/local/lib/python3.10/dist-packages/xgboost/core.py:617: FutureWarning: Pass `evals` as keyword args.\n",
            "  warnings.warn(msg, FutureWarning)\n"
          ]
        },
        {
          "output_type": "stream",
          "name": "stdout",
          "text": [
            "[0]\ttrain-auc:0.83516\tvalid-auc:0.80802\n",
            "[5]\ttrain-auc:0.84618\tvalid-auc:0.81770\n",
            "[9]\ttrain-auc:0.85075\tvalid-auc:0.82092\n",
            "****** Iteration : 33\n",
            "[05:16:00] WARNING: ../src/learner.cc:767: \n",
            "Parameters: { \"min_data_leaf\", \"objetive\" } are not used.\n",
            "\n"
          ]
        },
        {
          "output_type": "stream",
          "name": "stderr",
          "text": [
            "<ipython-input-29-2345e3e9b7ee>:21: FutureWarning: The frame.append method is deprecated and will be removed from pandas in a future version. Use pandas.concat instead.\n",
            "  pdResults = pdResults.append(pd.DataFrame({'iter' : i,\n",
            "/usr/local/lib/python3.10/dist-packages/xgboost/core.py:617: FutureWarning: Pass `evals` as keyword args.\n",
            "  warnings.warn(msg, FutureWarning)\n"
          ]
        },
        {
          "output_type": "stream",
          "name": "stdout",
          "text": [
            "[0]\ttrain-auc:0.85474\tvalid-auc:0.80876\n",
            "[5]\ttrain-auc:0.87707\tvalid-auc:0.81909\n",
            "[9]\ttrain-auc:0.88521\tvalid-auc:0.82165\n",
            "****** Iteration : 34\n",
            "[05:16:07] WARNING: ../src/learner.cc:767: \n",
            "Parameters: { \"min_data_leaf\", \"objetive\" } are not used.\n",
            "\n"
          ]
        },
        {
          "output_type": "stream",
          "name": "stderr",
          "text": [
            "<ipython-input-29-2345e3e9b7ee>:21: FutureWarning: The frame.append method is deprecated and will be removed from pandas in a future version. Use pandas.concat instead.\n",
            "  pdResults = pdResults.append(pd.DataFrame({'iter' : i,\n",
            "/usr/local/lib/python3.10/dist-packages/xgboost/core.py:617: FutureWarning: Pass `evals` as keyword args.\n",
            "  warnings.warn(msg, FutureWarning)\n"
          ]
        },
        {
          "output_type": "stream",
          "name": "stdout",
          "text": [
            "[0]\ttrain-auc:0.83976\tvalid-auc:0.81330\n",
            "[5]\ttrain-auc:0.85388\tvalid-auc:0.82423\n",
            "[9]\ttrain-auc:0.85898\tvalid-auc:0.82741\n",
            "****** Iteration : 35\n",
            "[05:16:11] WARNING: ../src/learner.cc:767: \n",
            "Parameters: { \"min_data_leaf\", \"objetive\" } are not used.\n",
            "\n"
          ]
        },
        {
          "output_type": "stream",
          "name": "stderr",
          "text": [
            "<ipython-input-29-2345e3e9b7ee>:21: FutureWarning: The frame.append method is deprecated and will be removed from pandas in a future version. Use pandas.concat instead.\n",
            "  pdResults = pdResults.append(pd.DataFrame({'iter' : i,\n",
            "/usr/local/lib/python3.10/dist-packages/xgboost/core.py:617: FutureWarning: Pass `evals` as keyword args.\n",
            "  warnings.warn(msg, FutureWarning)\n"
          ]
        },
        {
          "output_type": "stream",
          "name": "stdout",
          "text": [
            "[0]\ttrain-auc:0.82040\tvalid-auc:0.79848\n",
            "[5]\ttrain-auc:0.83988\tvalid-auc:0.81870\n",
            "[9]\ttrain-auc:0.84422\tvalid-auc:0.82253\n",
            "****** Iteration : 36\n",
            "[05:16:14] WARNING: ../src/learner.cc:767: \n",
            "Parameters: { \"min_data_leaf\", \"objetive\" } are not used.\n",
            "\n"
          ]
        },
        {
          "output_type": "stream",
          "name": "stderr",
          "text": [
            "<ipython-input-29-2345e3e9b7ee>:21: FutureWarning: The frame.append method is deprecated and will be removed from pandas in a future version. Use pandas.concat instead.\n",
            "  pdResults = pdResults.append(pd.DataFrame({'iter' : i,\n",
            "/usr/local/lib/python3.10/dist-packages/xgboost/core.py:617: FutureWarning: Pass `evals` as keyword args.\n",
            "  warnings.warn(msg, FutureWarning)\n"
          ]
        },
        {
          "output_type": "stream",
          "name": "stdout",
          "text": [
            "[0]\ttrain-auc:0.85671\tvalid-auc:0.80758\n",
            "[5]\ttrain-auc:0.86049\tvalid-auc:0.81135\n",
            "[9]\ttrain-auc:0.86250\tvalid-auc:0.81047\n",
            "****** Iteration : 37\n",
            "[05:16:24] WARNING: ../src/learner.cc:767: \n",
            "Parameters: { \"min_data_leaf\", \"objetive\" } are not used.\n",
            "\n"
          ]
        },
        {
          "output_type": "stream",
          "name": "stderr",
          "text": [
            "<ipython-input-29-2345e3e9b7ee>:21: FutureWarning: The frame.append method is deprecated and will be removed from pandas in a future version. Use pandas.concat instead.\n",
            "  pdResults = pdResults.append(pd.DataFrame({'iter' : i,\n",
            "/usr/local/lib/python3.10/dist-packages/xgboost/core.py:617: FutureWarning: Pass `evals` as keyword args.\n",
            "  warnings.warn(msg, FutureWarning)\n"
          ]
        },
        {
          "output_type": "stream",
          "name": "stdout",
          "text": [
            "[0]\ttrain-auc:0.83872\tvalid-auc:0.81357\n",
            "[5]\ttrain-auc:0.84370\tvalid-auc:0.81671\n",
            "[9]\ttrain-auc:0.84751\tvalid-auc:0.81939\n",
            "****** Iteration : 38\n",
            "[05:16:30] WARNING: ../src/learner.cc:767: \n",
            "Parameters: { \"min_data_leaf\", \"objetive\" } are not used.\n",
            "\n"
          ]
        },
        {
          "output_type": "stream",
          "name": "stderr",
          "text": [
            "<ipython-input-29-2345e3e9b7ee>:21: FutureWarning: The frame.append method is deprecated and will be removed from pandas in a future version. Use pandas.concat instead.\n",
            "  pdResults = pdResults.append(pd.DataFrame({'iter' : i,\n",
            "/usr/local/lib/python3.10/dist-packages/xgboost/core.py:617: FutureWarning: Pass `evals` as keyword args.\n",
            "  warnings.warn(msg, FutureWarning)\n"
          ]
        },
        {
          "output_type": "stream",
          "name": "stdout",
          "text": [
            "[0]\ttrain-auc:0.83267\tvalid-auc:0.80796\n",
            "[5]\ttrain-auc:0.84472\tvalid-auc:0.81895\n",
            "[9]\ttrain-auc:0.85037\tvalid-auc:0.82322\n",
            "****** Iteration : 39\n",
            "[05:16:34] WARNING: ../src/learner.cc:767: \n",
            "Parameters: { \"min_data_leaf\", \"objetive\" } are not used.\n",
            "\n"
          ]
        },
        {
          "output_type": "stream",
          "name": "stderr",
          "text": [
            "<ipython-input-29-2345e3e9b7ee>:21: FutureWarning: The frame.append method is deprecated and will be removed from pandas in a future version. Use pandas.concat instead.\n",
            "  pdResults = pdResults.append(pd.DataFrame({'iter' : i,\n",
            "/usr/local/lib/python3.10/dist-packages/xgboost/core.py:617: FutureWarning: Pass `evals` as keyword args.\n",
            "  warnings.warn(msg, FutureWarning)\n"
          ]
        },
        {
          "output_type": "stream",
          "name": "stdout",
          "text": [
            "[0]\ttrain-auc:0.83267\tvalid-auc:0.80796\n",
            "[5]\ttrain-auc:0.84472\tvalid-auc:0.81895\n",
            "[9]\ttrain-auc:0.85037\tvalid-auc:0.82322\n",
            "****** Iteration : 40\n",
            "[05:16:37] WARNING: ../src/learner.cc:767: \n",
            "Parameters: { \"min_data_leaf\", \"objetive\" } are not used.\n",
            "\n"
          ]
        },
        {
          "output_type": "stream",
          "name": "stderr",
          "text": [
            "<ipython-input-29-2345e3e9b7ee>:21: FutureWarning: The frame.append method is deprecated and will be removed from pandas in a future version. Use pandas.concat instead.\n",
            "  pdResults = pdResults.append(pd.DataFrame({'iter' : i,\n",
            "/usr/local/lib/python3.10/dist-packages/xgboost/core.py:617: FutureWarning: Pass `evals` as keyword args.\n",
            "  warnings.warn(msg, FutureWarning)\n"
          ]
        },
        {
          "output_type": "stream",
          "name": "stdout",
          "text": [
            "[0]\ttrain-auc:0.85581\tvalid-auc:0.80642\n",
            "[5]\ttrain-auc:0.85955\tvalid-auc:0.80984\n",
            "[9]\ttrain-auc:0.86119\tvalid-auc:0.81099\n",
            "****** Iteration : 41\n",
            "[05:16:45] WARNING: ../src/learner.cc:767: \n",
            "Parameters: { \"min_data_leaf\", \"objetive\" } are not used.\n",
            "\n"
          ]
        },
        {
          "output_type": "stream",
          "name": "stderr",
          "text": [
            "<ipython-input-29-2345e3e9b7ee>:21: FutureWarning: The frame.append method is deprecated and will be removed from pandas in a future version. Use pandas.concat instead.\n",
            "  pdResults = pdResults.append(pd.DataFrame({'iter' : i,\n",
            "/usr/local/lib/python3.10/dist-packages/xgboost/core.py:617: FutureWarning: Pass `evals` as keyword args.\n",
            "  warnings.warn(msg, FutureWarning)\n"
          ]
        },
        {
          "output_type": "stream",
          "name": "stdout",
          "text": [
            "[0]\ttrain-auc:0.86075\tvalid-auc:0.80442\n",
            "[5]\ttrain-auc:0.89401\tvalid-auc:0.81600\n",
            "[9]\ttrain-auc:0.90750\tvalid-auc:0.81776\n",
            "****** Iteration : 42\n",
            "[05:16:51] WARNING: ../src/learner.cc:767: \n",
            "Parameters: { \"min_data_leaf\", \"objetive\" } are not used.\n",
            "\n"
          ]
        },
        {
          "output_type": "stream",
          "name": "stderr",
          "text": [
            "<ipython-input-29-2345e3e9b7ee>:21: FutureWarning: The frame.append method is deprecated and will be removed from pandas in a future version. Use pandas.concat instead.\n",
            "  pdResults = pdResults.append(pd.DataFrame({'iter' : i,\n",
            "/usr/local/lib/python3.10/dist-packages/xgboost/core.py:617: FutureWarning: Pass `evals` as keyword args.\n",
            "  warnings.warn(msg, FutureWarning)\n"
          ]
        },
        {
          "output_type": "stream",
          "name": "stdout",
          "text": [
            "[0]\ttrain-auc:0.85220\tvalid-auc:0.81217\n",
            "[5]\ttrain-auc:0.85632\tvalid-auc:0.81410\n",
            "[9]\ttrain-auc:0.85783\tvalid-auc:0.81429\n",
            "****** Iteration : 43\n",
            "[05:17:00] WARNING: ../src/learner.cc:767: \n",
            "Parameters: { \"min_data_leaf\", \"objetive\" } are not used.\n",
            "\n"
          ]
        },
        {
          "output_type": "stream",
          "name": "stderr",
          "text": [
            "<ipython-input-29-2345e3e9b7ee>:21: FutureWarning: The frame.append method is deprecated and will be removed from pandas in a future version. Use pandas.concat instead.\n",
            "  pdResults = pdResults.append(pd.DataFrame({'iter' : i,\n",
            "/usr/local/lib/python3.10/dist-packages/xgboost/core.py:617: FutureWarning: Pass `evals` as keyword args.\n",
            "  warnings.warn(msg, FutureWarning)\n"
          ]
        },
        {
          "output_type": "stream",
          "name": "stdout",
          "text": [
            "[0]\ttrain-auc:0.85585\tvalid-auc:0.80581\n",
            "[5]\ttrain-auc:0.87677\tvalid-auc:0.82177\n",
            "[9]\ttrain-auc:0.88540\tvalid-auc:0.82256\n",
            "****** Iteration : 44\n",
            "[05:17:09] WARNING: ../src/learner.cc:767: \n",
            "Parameters: { \"min_data_leaf\", \"objetive\" } are not used.\n",
            "\n"
          ]
        },
        {
          "output_type": "stream",
          "name": "stderr",
          "text": [
            "<ipython-input-29-2345e3e9b7ee>:21: FutureWarning: The frame.append method is deprecated and will be removed from pandas in a future version. Use pandas.concat instead.\n",
            "  pdResults = pdResults.append(pd.DataFrame({'iter' : i,\n",
            "/usr/local/lib/python3.10/dist-packages/xgboost/core.py:617: FutureWarning: Pass `evals` as keyword args.\n",
            "  warnings.warn(msg, FutureWarning)\n"
          ]
        },
        {
          "output_type": "stream",
          "name": "stdout",
          "text": [
            "[0]\ttrain-auc:0.85220\tvalid-auc:0.81217\n",
            "[5]\ttrain-auc:0.87744\tvalid-auc:0.81882\n",
            "[9]\ttrain-auc:0.89023\tvalid-auc:0.82362\n",
            "****** Iteration : 45\n",
            "[05:17:16] WARNING: ../src/learner.cc:767: \n",
            "Parameters: { \"min_data_leaf\", \"objetive\" } are not used.\n",
            "\n"
          ]
        },
        {
          "output_type": "stream",
          "name": "stderr",
          "text": [
            "<ipython-input-29-2345e3e9b7ee>:21: FutureWarning: The frame.append method is deprecated and will be removed from pandas in a future version. Use pandas.concat instead.\n",
            "  pdResults = pdResults.append(pd.DataFrame({'iter' : i,\n",
            "/usr/local/lib/python3.10/dist-packages/xgboost/core.py:617: FutureWarning: Pass `evals` as keyword args.\n",
            "  warnings.warn(msg, FutureWarning)\n"
          ]
        },
        {
          "output_type": "stream",
          "name": "stdout",
          "text": [
            "[0]\ttrain-auc:0.81777\tvalid-auc:0.79555\n",
            "[5]\ttrain-auc:0.82059\tvalid-auc:0.79852\n",
            "[9]\ttrain-auc:0.82434\tvalid-auc:0.80218\n",
            "****** Iteration : 46\n",
            "[05:17:20] WARNING: ../src/learner.cc:767: \n",
            "Parameters: { \"min_data_leaf\", \"objetive\" } are not used.\n",
            "\n"
          ]
        },
        {
          "output_type": "stream",
          "name": "stderr",
          "text": [
            "<ipython-input-29-2345e3e9b7ee>:21: FutureWarning: The frame.append method is deprecated and will be removed from pandas in a future version. Use pandas.concat instead.\n",
            "  pdResults = pdResults.append(pd.DataFrame({'iter' : i,\n",
            "/usr/local/lib/python3.10/dist-packages/xgboost/core.py:617: FutureWarning: Pass `evals` as keyword args.\n",
            "  warnings.warn(msg, FutureWarning)\n"
          ]
        },
        {
          "output_type": "stream",
          "name": "stdout",
          "text": [
            "[0]\ttrain-auc:0.80662\tvalid-auc:0.78658\n",
            "[5]\ttrain-auc:0.82213\tvalid-auc:0.80443\n",
            "[9]\ttrain-auc:0.82619\tvalid-auc:0.80870\n",
            "****** Iteration : 47\n",
            "[05:17:23] WARNING: ../src/learner.cc:767: \n",
            "Parameters: { \"min_data_leaf\", \"objetive\" } are not used.\n",
            "\n"
          ]
        },
        {
          "output_type": "stream",
          "name": "stderr",
          "text": [
            "<ipython-input-29-2345e3e9b7ee>:21: FutureWarning: The frame.append method is deprecated and will be removed from pandas in a future version. Use pandas.concat instead.\n",
            "  pdResults = pdResults.append(pd.DataFrame({'iter' : i,\n",
            "/usr/local/lib/python3.10/dist-packages/xgboost/core.py:617: FutureWarning: Pass `evals` as keyword args.\n",
            "  warnings.warn(msg, FutureWarning)\n"
          ]
        },
        {
          "output_type": "stream",
          "name": "stdout",
          "text": [
            "[0]\ttrain-auc:0.86552\tvalid-auc:0.79876\n",
            "[5]\ttrain-auc:0.88935\tvalid-auc:0.81708\n",
            "[9]\ttrain-auc:0.90130\tvalid-auc:0.82196\n",
            "****** Iteration : 48\n",
            "[05:17:32] WARNING: ../src/learner.cc:767: \n",
            "Parameters: { \"min_data_leaf\", \"objetive\" } are not used.\n",
            "\n"
          ]
        },
        {
          "output_type": "stream",
          "name": "stderr",
          "text": [
            "<ipython-input-29-2345e3e9b7ee>:21: FutureWarning: The frame.append method is deprecated and will be removed from pandas in a future version. Use pandas.concat instead.\n",
            "  pdResults = pdResults.append(pd.DataFrame({'iter' : i,\n",
            "/usr/local/lib/python3.10/dist-packages/xgboost/core.py:617: FutureWarning: Pass `evals` as keyword args.\n",
            "  warnings.warn(msg, FutureWarning)\n"
          ]
        },
        {
          "output_type": "stream",
          "name": "stdout",
          "text": [
            "[0]\ttrain-auc:0.85482\tvalid-auc:0.81034\n",
            "[5]\ttrain-auc:0.89213\tvalid-auc:0.82321\n",
            "[9]\ttrain-auc:0.91185\tvalid-auc:0.82264\n",
            "****** Iteration : 49\n",
            "[05:17:42] WARNING: ../src/learner.cc:767: \n",
            "Parameters: { \"min_data_leaf\", \"objetive\" } are not used.\n",
            "\n"
          ]
        },
        {
          "output_type": "stream",
          "name": "stderr",
          "text": [
            "<ipython-input-29-2345e3e9b7ee>:21: FutureWarning: The frame.append method is deprecated and will be removed from pandas in a future version. Use pandas.concat instead.\n",
            "  pdResults = pdResults.append(pd.DataFrame({'iter' : i,\n",
            "/usr/local/lib/python3.10/dist-packages/xgboost/core.py:617: FutureWarning: Pass `evals` as keyword args.\n",
            "  warnings.warn(msg, FutureWarning)\n"
          ]
        },
        {
          "output_type": "stream",
          "name": "stdout",
          "text": [
            "[0]\ttrain-auc:0.87002\tvalid-auc:0.79632\n",
            "[5]\ttrain-auc:0.88712\tvalid-auc:0.80776\n",
            "[9]\ttrain-auc:0.89505\tvalid-auc:0.81393\n",
            "****** Iteration : 50\n",
            "[05:17:52] WARNING: ../src/learner.cc:767: \n",
            "Parameters: { \"min_data_leaf\", \"objetive\" } are not used.\n",
            "\n"
          ]
        },
        {
          "output_type": "stream",
          "name": "stderr",
          "text": [
            "<ipython-input-29-2345e3e9b7ee>:21: FutureWarning: The frame.append method is deprecated and will be removed from pandas in a future version. Use pandas.concat instead.\n",
            "  pdResults = pdResults.append(pd.DataFrame({'iter' : i,\n",
            "/usr/local/lib/python3.10/dist-packages/xgboost/core.py:617: FutureWarning: Pass `evals` as keyword args.\n",
            "  warnings.warn(msg, FutureWarning)\n"
          ]
        },
        {
          "output_type": "stream",
          "name": "stdout",
          "text": [
            "[0]\ttrain-auc:0.81777\tvalid-auc:0.79555\n",
            "[5]\ttrain-auc:0.82495\tvalid-auc:0.80260\n",
            "[9]\ttrain-auc:0.82928\tvalid-auc:0.80643\n",
            "****** Iteration : 51\n",
            "[05:17:55] WARNING: ../src/learner.cc:767: \n",
            "Parameters: { \"min_data_leaf\", \"objetive\" } are not used.\n",
            "\n"
          ]
        },
        {
          "output_type": "stream",
          "name": "stderr",
          "text": [
            "<ipython-input-29-2345e3e9b7ee>:21: FutureWarning: The frame.append method is deprecated and will be removed from pandas in a future version. Use pandas.concat instead.\n",
            "  pdResults = pdResults.append(pd.DataFrame({'iter' : i,\n",
            "/usr/local/lib/python3.10/dist-packages/xgboost/core.py:617: FutureWarning: Pass `evals` as keyword args.\n",
            "  warnings.warn(msg, FutureWarning)\n"
          ]
        },
        {
          "output_type": "stream",
          "name": "stdout",
          "text": [
            "[0]\ttrain-auc:0.84931\tvalid-auc:0.80891\n",
            "[5]\ttrain-auc:0.86193\tvalid-auc:0.81518\n",
            "[9]\ttrain-auc:0.86934\tvalid-auc:0.82006\n",
            "****** Iteration : 52\n",
            "[05:18:01] WARNING: ../src/learner.cc:767: \n",
            "Parameters: { \"min_data_leaf\", \"objetive\" } are not used.\n",
            "\n"
          ]
        },
        {
          "output_type": "stream",
          "name": "stderr",
          "text": [
            "<ipython-input-29-2345e3e9b7ee>:21: FutureWarning: The frame.append method is deprecated and will be removed from pandas in a future version. Use pandas.concat instead.\n",
            "  pdResults = pdResults.append(pd.DataFrame({'iter' : i,\n",
            "/usr/local/lib/python3.10/dist-packages/xgboost/core.py:617: FutureWarning: Pass `evals` as keyword args.\n",
            "  warnings.warn(msg, FutureWarning)\n"
          ]
        },
        {
          "output_type": "stream",
          "name": "stdout",
          "text": [
            "[0]\ttrain-auc:0.83179\tvalid-auc:0.80795\n",
            "[5]\ttrain-auc:0.84043\tvalid-auc:0.81606\n",
            "[9]\ttrain-auc:0.84344\tvalid-auc:0.81799\n",
            "****** Iteration : 53\n",
            "[05:18:05] WARNING: ../src/learner.cc:767: \n",
            "Parameters: { \"min_data_leaf\", \"objetive\" } are not used.\n",
            "\n"
          ]
        },
        {
          "output_type": "stream",
          "name": "stderr",
          "text": [
            "<ipython-input-29-2345e3e9b7ee>:21: FutureWarning: The frame.append method is deprecated and will be removed from pandas in a future version. Use pandas.concat instead.\n",
            "  pdResults = pdResults.append(pd.DataFrame({'iter' : i,\n",
            "/usr/local/lib/python3.10/dist-packages/xgboost/core.py:617: FutureWarning: Pass `evals` as keyword args.\n",
            "  warnings.warn(msg, FutureWarning)\n"
          ]
        },
        {
          "output_type": "stream",
          "name": "stdout",
          "text": [
            "[0]\ttrain-auc:0.85132\tvalid-auc:0.81079\n",
            "[5]\ttrain-auc:0.86402\tvalid-auc:0.81459\n",
            "[9]\ttrain-auc:0.87379\tvalid-auc:0.81862\n",
            "****** Iteration : 54\n",
            "[05:18:12] WARNING: ../src/learner.cc:767: \n",
            "Parameters: { \"min_data_leaf\", \"objetive\" } are not used.\n",
            "\n"
          ]
        },
        {
          "output_type": "stream",
          "name": "stderr",
          "text": [
            "<ipython-input-29-2345e3e9b7ee>:21: FutureWarning: The frame.append method is deprecated and will be removed from pandas in a future version. Use pandas.concat instead.\n",
            "  pdResults = pdResults.append(pd.DataFrame({'iter' : i,\n",
            "/usr/local/lib/python3.10/dist-packages/xgboost/core.py:617: FutureWarning: Pass `evals` as keyword args.\n",
            "  warnings.warn(msg, FutureWarning)\n"
          ]
        },
        {
          "output_type": "stream",
          "name": "stdout",
          "text": [
            "[0]\ttrain-auc:0.86638\tvalid-auc:0.79707\n",
            "[5]\ttrain-auc:0.88519\tvalid-auc:0.80907\n",
            "[9]\ttrain-auc:0.89330\tvalid-auc:0.81605\n",
            "****** Iteration : 55\n",
            "[05:18:22] WARNING: ../src/learner.cc:767: \n",
            "Parameters: { \"min_data_leaf\", \"objetive\" } are not used.\n",
            "\n"
          ]
        },
        {
          "output_type": "stream",
          "name": "stderr",
          "text": [
            "<ipython-input-29-2345e3e9b7ee>:21: FutureWarning: The frame.append method is deprecated and will be removed from pandas in a future version. Use pandas.concat instead.\n",
            "  pdResults = pdResults.append(pd.DataFrame({'iter' : i,\n",
            "/usr/local/lib/python3.10/dist-packages/xgboost/core.py:617: FutureWarning: Pass `evals` as keyword args.\n",
            "  warnings.warn(msg, FutureWarning)\n"
          ]
        },
        {
          "output_type": "stream",
          "name": "stdout",
          "text": [
            "[0]\ttrain-auc:0.86638\tvalid-auc:0.79707\n",
            "[5]\ttrain-auc:0.87729\tvalid-auc:0.80504\n",
            "[9]\ttrain-auc:0.88209\tvalid-auc:0.80894\n",
            "****** Iteration : 56\n",
            "[05:18:30] WARNING: ../src/learner.cc:767: \n",
            "Parameters: { \"min_data_leaf\", \"objetive\" } are not used.\n",
            "\n",
            "[0]\ttrain-auc:0.77464\tvalid-auc:0.76449\n"
          ]
        },
        {
          "output_type": "stream",
          "name": "stderr",
          "text": [
            "<ipython-input-29-2345e3e9b7ee>:21: FutureWarning: The frame.append method is deprecated and will be removed from pandas in a future version. Use pandas.concat instead.\n",
            "  pdResults = pdResults.append(pd.DataFrame({'iter' : i,\n",
            "/usr/local/lib/python3.10/dist-packages/xgboost/core.py:617: FutureWarning: Pass `evals` as keyword args.\n",
            "  warnings.warn(msg, FutureWarning)\n"
          ]
        },
        {
          "output_type": "stream",
          "name": "stdout",
          "text": [
            "[5]\ttrain-auc:0.77478\tvalid-auc:0.76484\n",
            "[9]\ttrain-auc:0.77478\tvalid-auc:0.76484\n",
            "****** Iteration : 57\n",
            "[05:18:33] WARNING: ../src/learner.cc:767: \n",
            "Parameters: { \"min_data_leaf\", \"objetive\" } are not used.\n",
            "\n"
          ]
        },
        {
          "output_type": "stream",
          "name": "stderr",
          "text": [
            "<ipython-input-29-2345e3e9b7ee>:21: FutureWarning: The frame.append method is deprecated and will be removed from pandas in a future version. Use pandas.concat instead.\n",
            "  pdResults = pdResults.append(pd.DataFrame({'iter' : i,\n",
            "/usr/local/lib/python3.10/dist-packages/xgboost/core.py:617: FutureWarning: Pass `evals` as keyword args.\n",
            "  warnings.warn(msg, FutureWarning)\n"
          ]
        },
        {
          "output_type": "stream",
          "name": "stdout",
          "text": [
            "[0]\ttrain-auc:0.82082\tvalid-auc:0.79837\n",
            "[5]\ttrain-auc:0.82606\tvalid-auc:0.80342\n",
            "[9]\ttrain-auc:0.83126\tvalid-auc:0.80837\n",
            "****** Iteration : 58\n",
            "[05:18:36] WARNING: ../src/learner.cc:767: \n",
            "Parameters: { \"min_data_leaf\", \"objetive\" } are not used.\n",
            "\n"
          ]
        },
        {
          "output_type": "stream",
          "name": "stderr",
          "text": [
            "<ipython-input-29-2345e3e9b7ee>:21: FutureWarning: The frame.append method is deprecated and will be removed from pandas in a future version. Use pandas.concat instead.\n",
            "  pdResults = pdResults.append(pd.DataFrame({'iter' : i,\n",
            "/usr/local/lib/python3.10/dist-packages/xgboost/core.py:617: FutureWarning: Pass `evals` as keyword args.\n",
            "  warnings.warn(msg, FutureWarning)\n"
          ]
        },
        {
          "output_type": "stream",
          "name": "stdout",
          "text": [
            "[0]\ttrain-auc:0.86456\tvalid-auc:0.79826\n",
            "[5]\ttrain-auc:0.88252\tvalid-auc:0.81242\n",
            "[9]\ttrain-auc:0.89083\tvalid-auc:0.81891\n",
            "****** Iteration : 59\n",
            "[05:18:45] WARNING: ../src/learner.cc:767: \n",
            "Parameters: { \"min_data_leaf\", \"objetive\" } are not used.\n",
            "\n"
          ]
        },
        {
          "output_type": "stream",
          "name": "stderr",
          "text": [
            "<ipython-input-29-2345e3e9b7ee>:21: FutureWarning: The frame.append method is deprecated and will be removed from pandas in a future version. Use pandas.concat instead.\n",
            "  pdResults = pdResults.append(pd.DataFrame({'iter' : i,\n",
            "/usr/local/lib/python3.10/dist-packages/xgboost/core.py:617: FutureWarning: Pass `evals` as keyword args.\n",
            "  warnings.warn(msg, FutureWarning)\n"
          ]
        },
        {
          "output_type": "stream",
          "name": "stdout",
          "text": [
            "[0]\ttrain-auc:0.84542\tvalid-auc:0.81052\n",
            "[5]\ttrain-auc:0.85797\tvalid-auc:0.81634\n",
            "[9]\ttrain-auc:0.86566\tvalid-auc:0.81996\n",
            "****** Iteration : 60\n",
            "[05:18:51] WARNING: ../src/learner.cc:767: \n",
            "Parameters: { \"min_data_leaf\", \"objetive\" } are not used.\n",
            "\n"
          ]
        },
        {
          "output_type": "stream",
          "name": "stderr",
          "text": [
            "<ipython-input-29-2345e3e9b7ee>:21: FutureWarning: The frame.append method is deprecated and will be removed from pandas in a future version. Use pandas.concat instead.\n",
            "  pdResults = pdResults.append(pd.DataFrame({'iter' : i,\n",
            "/usr/local/lib/python3.10/dist-packages/xgboost/core.py:617: FutureWarning: Pass `evals` as keyword args.\n",
            "  warnings.warn(msg, FutureWarning)\n"
          ]
        },
        {
          "output_type": "stream",
          "name": "stdout",
          "text": [
            "[0]\ttrain-auc:0.85211\tvalid-auc:0.81003\n",
            "[5]\ttrain-auc:0.87745\tvalid-auc:0.81767\n",
            "[9]\ttrain-auc:0.88681\tvalid-auc:0.82374\n",
            "****** Iteration : 61\n",
            "[05:18:59] WARNING: ../src/learner.cc:767: \n",
            "Parameters: { \"min_data_leaf\", \"objetive\" } are not used.\n",
            "\n"
          ]
        },
        {
          "output_type": "stream",
          "name": "stderr",
          "text": [
            "<ipython-input-29-2345e3e9b7ee>:21: FutureWarning: The frame.append method is deprecated and will be removed from pandas in a future version. Use pandas.concat instead.\n",
            "  pdResults = pdResults.append(pd.DataFrame({'iter' : i,\n",
            "/usr/local/lib/python3.10/dist-packages/xgboost/core.py:617: FutureWarning: Pass `evals` as keyword args.\n",
            "  warnings.warn(msg, FutureWarning)\n"
          ]
        },
        {
          "output_type": "stream",
          "name": "stdout",
          "text": [
            "[0]\ttrain-auc:0.84273\tvalid-auc:0.81093\n",
            "[5]\ttrain-auc:0.85508\tvalid-auc:0.81928\n",
            "[9]\ttrain-auc:0.86186\tvalid-auc:0.82256\n",
            "****** Iteration : 62\n",
            "[05:19:03] WARNING: ../src/learner.cc:767: \n",
            "Parameters: { \"min_data_leaf\", \"objetive\" } are not used.\n",
            "\n"
          ]
        },
        {
          "output_type": "stream",
          "name": "stderr",
          "text": [
            "<ipython-input-29-2345e3e9b7ee>:21: FutureWarning: The frame.append method is deprecated and will be removed from pandas in a future version. Use pandas.concat instead.\n",
            "  pdResults = pdResults.append(pd.DataFrame({'iter' : i,\n",
            "/usr/local/lib/python3.10/dist-packages/xgboost/core.py:617: FutureWarning: Pass `evals` as keyword args.\n",
            "  warnings.warn(msg, FutureWarning)\n"
          ]
        },
        {
          "output_type": "stream",
          "name": "stdout",
          "text": [
            "[0]\ttrain-auc:0.84273\tvalid-auc:0.81093\n",
            "[5]\ttrain-auc:0.85508\tvalid-auc:0.81928\n",
            "[9]\ttrain-auc:0.86186\tvalid-auc:0.82256\n",
            "****** Iteration : 63\n",
            "[05:19:09] WARNING: ../src/learner.cc:767: \n",
            "Parameters: { \"min_data_leaf\", \"objetive\" } are not used.\n",
            "\n"
          ]
        },
        {
          "output_type": "stream",
          "name": "stderr",
          "text": [
            "<ipython-input-29-2345e3e9b7ee>:21: FutureWarning: The frame.append method is deprecated and will be removed from pandas in a future version. Use pandas.concat instead.\n",
            "  pdResults = pdResults.append(pd.DataFrame({'iter' : i,\n",
            "/usr/local/lib/python3.10/dist-packages/xgboost/core.py:617: FutureWarning: Pass `evals` as keyword args.\n",
            "  warnings.warn(msg, FutureWarning)\n"
          ]
        },
        {
          "output_type": "stream",
          "name": "stdout",
          "text": [
            "[0]\ttrain-auc:0.86748\tvalid-auc:0.79664\n",
            "[5]\ttrain-auc:0.89730\tvalid-auc:0.81497\n",
            "[9]\ttrain-auc:0.90812\tvalid-auc:0.82035\n",
            "****** Iteration : 64\n",
            "[05:19:18] WARNING: ../src/learner.cc:767: \n",
            "Parameters: { \"min_data_leaf\", \"objetive\" } are not used.\n",
            "\n"
          ]
        },
        {
          "output_type": "stream",
          "name": "stderr",
          "text": [
            "<ipython-input-29-2345e3e9b7ee>:21: FutureWarning: The frame.append method is deprecated and will be removed from pandas in a future version. Use pandas.concat instead.\n",
            "  pdResults = pdResults.append(pd.DataFrame({'iter' : i,\n",
            "/usr/local/lib/python3.10/dist-packages/xgboost/core.py:617: FutureWarning: Pass `evals` as keyword args.\n",
            "  warnings.warn(msg, FutureWarning)\n"
          ]
        },
        {
          "output_type": "stream",
          "name": "stdout",
          "text": [
            "[0]\ttrain-auc:0.84273\tvalid-auc:0.81093\n",
            "[5]\ttrain-auc:0.86157\tvalid-auc:0.82404\n",
            "[9]\ttrain-auc:0.86741\tvalid-auc:0.82520\n",
            "****** Iteration : 65\n",
            "[05:19:24] WARNING: ../src/learner.cc:767: \n",
            "Parameters: { \"min_data_leaf\", \"objetive\" } are not used.\n",
            "\n"
          ]
        },
        {
          "output_type": "stream",
          "name": "stderr",
          "text": [
            "<ipython-input-29-2345e3e9b7ee>:21: FutureWarning: The frame.append method is deprecated and will be removed from pandas in a future version. Use pandas.concat instead.\n",
            "  pdResults = pdResults.append(pd.DataFrame({'iter' : i,\n",
            "/usr/local/lib/python3.10/dist-packages/xgboost/core.py:617: FutureWarning: Pass `evals` as keyword args.\n",
            "  warnings.warn(msg, FutureWarning)\n"
          ]
        },
        {
          "output_type": "stream",
          "name": "stdout",
          "text": [
            "[0]\ttrain-auc:0.82040\tvalid-auc:0.79848\n",
            "[5]\ttrain-auc:0.83994\tvalid-auc:0.81854\n",
            "[9]\ttrain-auc:0.84401\tvalid-auc:0.82307\n",
            "****** Iteration : 66\n",
            "[05:19:27] WARNING: ../src/learner.cc:767: \n",
            "Parameters: { \"min_data_leaf\", \"objetive\" } are not used.\n",
            "\n"
          ]
        },
        {
          "output_type": "stream",
          "name": "stderr",
          "text": [
            "<ipython-input-29-2345e3e9b7ee>:21: FutureWarning: The frame.append method is deprecated and will be removed from pandas in a future version. Use pandas.concat instead.\n",
            "  pdResults = pdResults.append(pd.DataFrame({'iter' : i,\n",
            "/usr/local/lib/python3.10/dist-packages/xgboost/core.py:617: FutureWarning: Pass `evals` as keyword args.\n",
            "  warnings.warn(msg, FutureWarning)\n"
          ]
        },
        {
          "output_type": "stream",
          "name": "stdout",
          "text": [
            "[0]\ttrain-auc:0.84767\tvalid-auc:0.80954\n",
            "[5]\ttrain-auc:0.85544\tvalid-auc:0.81432\n",
            "[9]\ttrain-auc:0.85860\tvalid-auc:0.81556\n",
            "****** Iteration : 67\n",
            "[05:19:33] WARNING: ../src/learner.cc:767: \n",
            "Parameters: { \"min_data_leaf\", \"objetive\" } are not used.\n",
            "\n"
          ]
        },
        {
          "output_type": "stream",
          "name": "stderr",
          "text": [
            "<ipython-input-29-2345e3e9b7ee>:21: FutureWarning: The frame.append method is deprecated and will be removed from pandas in a future version. Use pandas.concat instead.\n",
            "  pdResults = pdResults.append(pd.DataFrame({'iter' : i,\n",
            "/usr/local/lib/python3.10/dist-packages/xgboost/core.py:617: FutureWarning: Pass `evals` as keyword args.\n",
            "  warnings.warn(msg, FutureWarning)\n"
          ]
        },
        {
          "output_type": "stream",
          "name": "stdout",
          "text": [
            "[0]\ttrain-auc:0.82045\tvalid-auc:0.79844\n",
            "[5]\ttrain-auc:0.84303\tvalid-auc:0.81925\n",
            "[9]\ttrain-auc:0.85047\tvalid-auc:0.82440\n",
            "****** Iteration : 68\n",
            "[05:19:37] WARNING: ../src/learner.cc:767: \n",
            "Parameters: { \"min_data_leaf\", \"objetive\" } are not used.\n",
            "\n"
          ]
        },
        {
          "output_type": "stream",
          "name": "stderr",
          "text": [
            "<ipython-input-29-2345e3e9b7ee>:21: FutureWarning: The frame.append method is deprecated and will be removed from pandas in a future version. Use pandas.concat instead.\n",
            "  pdResults = pdResults.append(pd.DataFrame({'iter' : i,\n",
            "/usr/local/lib/python3.10/dist-packages/xgboost/core.py:617: FutureWarning: Pass `evals` as keyword args.\n",
            "  warnings.warn(msg, FutureWarning)\n"
          ]
        },
        {
          "output_type": "stream",
          "name": "stdout",
          "text": [
            "[0]\ttrain-auc:0.84439\tvalid-auc:0.81007\n",
            "[5]\ttrain-auc:0.84880\tvalid-auc:0.81470\n",
            "[9]\ttrain-auc:0.85003\tvalid-auc:0.81544\n",
            "****** Iteration : 69\n",
            "[05:19:42] WARNING: ../src/learner.cc:767: \n",
            "Parameters: { \"min_data_leaf\", \"objetive\" } are not used.\n",
            "\n"
          ]
        },
        {
          "output_type": "stream",
          "name": "stderr",
          "text": [
            "<ipython-input-29-2345e3e9b7ee>:21: FutureWarning: The frame.append method is deprecated and will be removed from pandas in a future version. Use pandas.concat instead.\n",
            "  pdResults = pdResults.append(pd.DataFrame({'iter' : i,\n",
            "/usr/local/lib/python3.10/dist-packages/xgboost/core.py:617: FutureWarning: Pass `evals` as keyword args.\n",
            "  warnings.warn(msg, FutureWarning)\n"
          ]
        },
        {
          "output_type": "stream",
          "name": "stdout",
          "text": [
            "[0]\ttrain-auc:0.86552\tvalid-auc:0.79876\n",
            "[5]\ttrain-auc:0.90226\tvalid-auc:0.81482\n",
            "[9]\ttrain-auc:0.91678\tvalid-auc:0.81645\n",
            "****** Iteration : 70\n",
            "[05:19:51] WARNING: ../src/learner.cc:767: \n",
            "Parameters: { \"min_data_leaf\", \"objetive\" } are not used.\n",
            "\n"
          ]
        },
        {
          "output_type": "stream",
          "name": "stderr",
          "text": [
            "<ipython-input-29-2345e3e9b7ee>:21: FutureWarning: The frame.append method is deprecated and will be removed from pandas in a future version. Use pandas.concat instead.\n",
            "  pdResults = pdResults.append(pd.DataFrame({'iter' : i,\n",
            "/usr/local/lib/python3.10/dist-packages/xgboost/core.py:617: FutureWarning: Pass `evals` as keyword args.\n",
            "  warnings.warn(msg, FutureWarning)\n"
          ]
        },
        {
          "output_type": "stream",
          "name": "stdout",
          "text": [
            "[0]\ttrain-auc:0.86919\tvalid-auc:0.79564\n",
            "[5]\ttrain-auc:0.88740\tvalid-auc:0.80919\n",
            "[9]\ttrain-auc:0.89476\tvalid-auc:0.81474\n",
            "****** Iteration : 71\n",
            "[05:20:01] WARNING: ../src/learner.cc:767: \n",
            "Parameters: { \"min_data_leaf\", \"objetive\" } are not used.\n",
            "\n"
          ]
        },
        {
          "output_type": "stream",
          "name": "stderr",
          "text": [
            "<ipython-input-29-2345e3e9b7ee>:21: FutureWarning: The frame.append method is deprecated and will be removed from pandas in a future version. Use pandas.concat instead.\n",
            "  pdResults = pdResults.append(pd.DataFrame({'iter' : i,\n",
            "/usr/local/lib/python3.10/dist-packages/xgboost/core.py:617: FutureWarning: Pass `evals` as keyword args.\n",
            "  warnings.warn(msg, FutureWarning)\n"
          ]
        },
        {
          "output_type": "stream",
          "name": "stdout",
          "text": [
            "[0]\ttrain-auc:0.84733\tvalid-auc:0.80992\n",
            "[5]\ttrain-auc:0.87750\tvalid-auc:0.82190\n",
            "[9]\ttrain-auc:0.88685\tvalid-auc:0.82767\n",
            "****** Iteration : 72\n",
            "[05:20:06] WARNING: ../src/learner.cc:767: \n",
            "Parameters: { \"min_data_leaf\", \"objetive\" } are not used.\n",
            "\n"
          ]
        },
        {
          "output_type": "stream",
          "name": "stderr",
          "text": [
            "<ipython-input-29-2345e3e9b7ee>:21: FutureWarning: The frame.append method is deprecated and will be removed from pandas in a future version. Use pandas.concat instead.\n",
            "  pdResults = pdResults.append(pd.DataFrame({'iter' : i,\n",
            "/usr/local/lib/python3.10/dist-packages/xgboost/core.py:617: FutureWarning: Pass `evals` as keyword args.\n",
            "  warnings.warn(msg, FutureWarning)\n"
          ]
        },
        {
          "output_type": "stream",
          "name": "stdout",
          "text": [
            "[0]\ttrain-auc:0.85604\tvalid-auc:0.81141\n",
            "[5]\ttrain-auc:0.87193\tvalid-auc:0.81507\n",
            "[9]\ttrain-auc:0.88386\tvalid-auc:0.81812\n",
            "****** Iteration : 73\n",
            "[05:20:15] WARNING: ../src/learner.cc:767: \n",
            "Parameters: { \"min_data_leaf\", \"objetive\" } are not used.\n",
            "\n"
          ]
        },
        {
          "output_type": "stream",
          "name": "stderr",
          "text": [
            "<ipython-input-29-2345e3e9b7ee>:21: FutureWarning: The frame.append method is deprecated and will be removed from pandas in a future version. Use pandas.concat instead.\n",
            "  pdResults = pdResults.append(pd.DataFrame({'iter' : i,\n",
            "/usr/local/lib/python3.10/dist-packages/xgboost/core.py:617: FutureWarning: Pass `evals` as keyword args.\n",
            "  warnings.warn(msg, FutureWarning)\n"
          ]
        },
        {
          "output_type": "stream",
          "name": "stdout",
          "text": [
            "[0]\ttrain-auc:0.84448\tvalid-auc:0.81060\n",
            "[5]\ttrain-auc:0.84814\tvalid-auc:0.81324\n",
            "[9]\ttrain-auc:0.84959\tvalid-auc:0.81374\n",
            "****** Iteration : 74\n",
            "[05:20:21] WARNING: ../src/learner.cc:767: \n",
            "Parameters: { \"min_data_leaf\", \"objetive\" } are not used.\n",
            "\n"
          ]
        },
        {
          "output_type": "stream",
          "name": "stderr",
          "text": [
            "<ipython-input-29-2345e3e9b7ee>:21: FutureWarning: The frame.append method is deprecated and will be removed from pandas in a future version. Use pandas.concat instead.\n",
            "  pdResults = pdResults.append(pd.DataFrame({'iter' : i,\n",
            "/usr/local/lib/python3.10/dist-packages/xgboost/core.py:617: FutureWarning: Pass `evals` as keyword args.\n",
            "  warnings.warn(msg, FutureWarning)\n"
          ]
        },
        {
          "output_type": "stream",
          "name": "stdout",
          "text": [
            "[0]\ttrain-auc:0.83996\tvalid-auc:0.81316\n",
            "[5]\ttrain-auc:0.85928\tvalid-auc:0.82439\n",
            "[9]\ttrain-auc:0.86872\tvalid-auc:0.82567\n",
            "****** Iteration : 75\n",
            "[05:20:26] WARNING: ../src/learner.cc:767: \n",
            "Parameters: { \"min_data_leaf\", \"objetive\" } are not used.\n",
            "\n"
          ]
        },
        {
          "output_type": "stream",
          "name": "stderr",
          "text": [
            "<ipython-input-29-2345e3e9b7ee>:21: FutureWarning: The frame.append method is deprecated and will be removed from pandas in a future version. Use pandas.concat instead.\n",
            "  pdResults = pdResults.append(pd.DataFrame({'iter' : i,\n",
            "/usr/local/lib/python3.10/dist-packages/xgboost/core.py:617: FutureWarning: Pass `evals` as keyword args.\n",
            "  warnings.warn(msg, FutureWarning)\n"
          ]
        },
        {
          "output_type": "stream",
          "name": "stdout",
          "text": [
            "[0]\ttrain-auc:0.86456\tvalid-auc:0.79826\n",
            "[5]\ttrain-auc:0.88252\tvalid-auc:0.81242\n",
            "[9]\ttrain-auc:0.89083\tvalid-auc:0.81891\n",
            "****** Iteration : 76\n",
            "[05:20:34] WARNING: ../src/learner.cc:767: \n",
            "Parameters: { \"min_data_leaf\", \"objetive\" } are not used.\n",
            "\n"
          ]
        },
        {
          "output_type": "stream",
          "name": "stderr",
          "text": [
            "<ipython-input-29-2345e3e9b7ee>:21: FutureWarning: The frame.append method is deprecated and will be removed from pandas in a future version. Use pandas.concat instead.\n",
            "  pdResults = pdResults.append(pd.DataFrame({'iter' : i,\n",
            "/usr/local/lib/python3.10/dist-packages/xgboost/core.py:617: FutureWarning: Pass `evals` as keyword args.\n",
            "  warnings.warn(msg, FutureWarning)\n"
          ]
        },
        {
          "output_type": "stream",
          "name": "stdout",
          "text": [
            "[0]\ttrain-auc:0.83170\tvalid-auc:0.80814\n",
            "[5]\ttrain-auc:0.83293\tvalid-auc:0.80980\n",
            "[9]\ttrain-auc:0.83815\tvalid-auc:0.81335\n",
            "****** Iteration : 77\n",
            "[05:20:39] WARNING: ../src/learner.cc:767: \n",
            "Parameters: { \"min_data_leaf\", \"objetive\" } are not used.\n",
            "\n"
          ]
        },
        {
          "output_type": "stream",
          "name": "stderr",
          "text": [
            "<ipython-input-29-2345e3e9b7ee>:21: FutureWarning: The frame.append method is deprecated and will be removed from pandas in a future version. Use pandas.concat instead.\n",
            "  pdResults = pdResults.append(pd.DataFrame({'iter' : i,\n",
            "/usr/local/lib/python3.10/dist-packages/xgboost/core.py:617: FutureWarning: Pass `evals` as keyword args.\n",
            "  warnings.warn(msg, FutureWarning)\n"
          ]
        },
        {
          "output_type": "stream",
          "name": "stdout",
          "text": [
            "[0]\ttrain-auc:0.85920\tvalid-auc:0.80182\n",
            "[5]\ttrain-auc:0.87387\tvalid-auc:0.81267\n",
            "[9]\ttrain-auc:0.88327\tvalid-auc:0.81827\n",
            "****** Iteration : 78\n",
            "[05:20:46] WARNING: ../src/learner.cc:767: \n",
            "Parameters: { \"min_data_leaf\", \"objetive\" } are not used.\n",
            "\n"
          ]
        },
        {
          "output_type": "stream",
          "name": "stderr",
          "text": [
            "<ipython-input-29-2345e3e9b7ee>:21: FutureWarning: The frame.append method is deprecated and will be removed from pandas in a future version. Use pandas.concat instead.\n",
            "  pdResults = pdResults.append(pd.DataFrame({'iter' : i,\n",
            "/usr/local/lib/python3.10/dist-packages/xgboost/core.py:617: FutureWarning: Pass `evals` as keyword args.\n",
            "  warnings.warn(msg, FutureWarning)\n"
          ]
        },
        {
          "output_type": "stream",
          "name": "stdout",
          "text": [
            "[0]\ttrain-auc:0.85482\tvalid-auc:0.81034\n",
            "[5]\ttrain-auc:0.89213\tvalid-auc:0.82321\n",
            "[9]\ttrain-auc:0.91185\tvalid-auc:0.82264\n",
            "****** Iteration : 79\n",
            "[05:20:54] WARNING: ../src/learner.cc:767: \n",
            "Parameters: { \"min_data_leaf\", \"objetive\" } are not used.\n",
            "\n"
          ]
        },
        {
          "output_type": "stream",
          "name": "stderr",
          "text": [
            "<ipython-input-29-2345e3e9b7ee>:21: FutureWarning: The frame.append method is deprecated and will be removed from pandas in a future version. Use pandas.concat instead.\n",
            "  pdResults = pdResults.append(pd.DataFrame({'iter' : i,\n",
            "/usr/local/lib/python3.10/dist-packages/xgboost/core.py:617: FutureWarning: Pass `evals` as keyword args.\n",
            "  warnings.warn(msg, FutureWarning)\n"
          ]
        },
        {
          "output_type": "stream",
          "name": "stdout",
          "text": [
            "[0]\ttrain-auc:0.86338\tvalid-auc:0.79844\n",
            "[5]\ttrain-auc:0.87985\tvalid-auc:0.81027\n",
            "[9]\ttrain-auc:0.88826\tvalid-auc:0.81671\n",
            "****** Iteration : 80\n",
            "[05:21:03] WARNING: ../src/learner.cc:767: \n",
            "Parameters: { \"min_data_leaf\", \"objetive\" } are not used.\n",
            "\n"
          ]
        },
        {
          "output_type": "stream",
          "name": "stderr",
          "text": [
            "<ipython-input-29-2345e3e9b7ee>:21: FutureWarning: The frame.append method is deprecated and will be removed from pandas in a future version. Use pandas.concat instead.\n",
            "  pdResults = pdResults.append(pd.DataFrame({'iter' : i,\n",
            "/usr/local/lib/python3.10/dist-packages/xgboost/core.py:617: FutureWarning: Pass `evals` as keyword args.\n",
            "  warnings.warn(msg, FutureWarning)\n"
          ]
        },
        {
          "output_type": "stream",
          "name": "stdout",
          "text": [
            "[0]\ttrain-auc:0.84439\tvalid-auc:0.81007\n",
            "[5]\ttrain-auc:0.84880\tvalid-auc:0.81470\n",
            "[9]\ttrain-auc:0.85003\tvalid-auc:0.81544\n",
            "****** Iteration : 81\n",
            "[05:21:08] WARNING: ../src/learner.cc:767: \n",
            "Parameters: { \"min_data_leaf\", \"objetive\" } are not used.\n",
            "\n"
          ]
        },
        {
          "output_type": "stream",
          "name": "stderr",
          "text": [
            "<ipython-input-29-2345e3e9b7ee>:21: FutureWarning: The frame.append method is deprecated and will be removed from pandas in a future version. Use pandas.concat instead.\n",
            "  pdResults = pdResults.append(pd.DataFrame({'iter' : i,\n",
            "/usr/local/lib/python3.10/dist-packages/xgboost/core.py:617: FutureWarning: Pass `evals` as keyword args.\n",
            "  warnings.warn(msg, FutureWarning)\n"
          ]
        },
        {
          "output_type": "stream",
          "name": "stdout",
          "text": [
            "[0]\ttrain-auc:0.84439\tvalid-auc:0.81007\n",
            "[5]\ttrain-auc:0.86258\tvalid-auc:0.82222\n",
            "[9]\ttrain-auc:0.86870\tvalid-auc:0.82666\n",
            "****** Iteration : 82\n",
            "[05:21:14] WARNING: ../src/learner.cc:767: \n",
            "Parameters: { \"min_data_leaf\", \"objetive\" } are not used.\n",
            "\n"
          ]
        },
        {
          "output_type": "stream",
          "name": "stderr",
          "text": [
            "<ipython-input-29-2345e3e9b7ee>:21: FutureWarning: The frame.append method is deprecated and will be removed from pandas in a future version. Use pandas.concat instead.\n",
            "  pdResults = pdResults.append(pd.DataFrame({'iter' : i,\n",
            "/usr/local/lib/python3.10/dist-packages/xgboost/core.py:617: FutureWarning: Pass `evals` as keyword args.\n",
            "  warnings.warn(msg, FutureWarning)\n"
          ]
        },
        {
          "output_type": "stream",
          "name": "stdout",
          "text": [
            "[0]\ttrain-auc:0.80662\tvalid-auc:0.78658\n",
            "[5]\ttrain-auc:0.82597\tvalid-auc:0.80771\n",
            "[9]\ttrain-auc:0.83318\tvalid-auc:0.81638\n",
            "****** Iteration : 83\n",
            "[05:21:17] WARNING: ../src/learner.cc:767: \n",
            "Parameters: { \"min_data_leaf\", \"objetive\" } are not used.\n",
            "\n"
          ]
        },
        {
          "output_type": "stream",
          "name": "stderr",
          "text": [
            "<ipython-input-29-2345e3e9b7ee>:21: FutureWarning: The frame.append method is deprecated and will be removed from pandas in a future version. Use pandas.concat instead.\n",
            "  pdResults = pdResults.append(pd.DataFrame({'iter' : i,\n",
            "/usr/local/lib/python3.10/dist-packages/xgboost/core.py:617: FutureWarning: Pass `evals` as keyword args.\n",
            "  warnings.warn(msg, FutureWarning)\n"
          ]
        },
        {
          "output_type": "stream",
          "name": "stdout",
          "text": [
            "[0]\ttrain-auc:0.82048\tvalid-auc:0.79842\n",
            "[5]\ttrain-auc:0.82109\tvalid-auc:0.79959\n",
            "[9]\ttrain-auc:0.82488\tvalid-auc:0.80316\n",
            "****** Iteration : 84\n",
            "[05:21:19] WARNING: ../src/learner.cc:767: \n",
            "Parameters: { \"min_data_leaf\", \"objetive\" } are not used.\n",
            "\n"
          ]
        },
        {
          "output_type": "stream",
          "name": "stderr",
          "text": [
            "<ipython-input-29-2345e3e9b7ee>:21: FutureWarning: The frame.append method is deprecated and will be removed from pandas in a future version. Use pandas.concat instead.\n",
            "  pdResults = pdResults.append(pd.DataFrame({'iter' : i,\n",
            "/usr/local/lib/python3.10/dist-packages/xgboost/core.py:617: FutureWarning: Pass `evals` as keyword args.\n",
            "  warnings.warn(msg, FutureWarning)\n"
          ]
        },
        {
          "output_type": "stream",
          "name": "stdout",
          "text": [
            "[0]\ttrain-auc:0.80662\tvalid-auc:0.78658\n",
            "[5]\ttrain-auc:0.80922\tvalid-auc:0.78947\n",
            "[9]\ttrain-auc:0.81325\tvalid-auc:0.79332\n",
            "****** Iteration : 85\n",
            "[05:21:22] WARNING: ../src/learner.cc:767: \n",
            "Parameters: { \"min_data_leaf\", \"objetive\" } are not used.\n",
            "\n"
          ]
        },
        {
          "output_type": "stream",
          "name": "stderr",
          "text": [
            "<ipython-input-29-2345e3e9b7ee>:21: FutureWarning: The frame.append method is deprecated and will be removed from pandas in a future version. Use pandas.concat instead.\n",
            "  pdResults = pdResults.append(pd.DataFrame({'iter' : i,\n",
            "/usr/local/lib/python3.10/dist-packages/xgboost/core.py:617: FutureWarning: Pass `evals` as keyword args.\n",
            "  warnings.warn(msg, FutureWarning)\n"
          ]
        },
        {
          "output_type": "stream",
          "name": "stdout",
          "text": [
            "[0]\ttrain-auc:0.83522\tvalid-auc:0.80839\n",
            "[5]\ttrain-auc:0.84219\tvalid-auc:0.81468\n",
            "[9]\ttrain-auc:0.84299\tvalid-auc:0.81516\n",
            "****** Iteration : 86\n",
            "[05:21:27] WARNING: ../src/learner.cc:767: \n",
            "Parameters: { \"min_data_leaf\", \"objetive\" } are not used.\n",
            "\n"
          ]
        },
        {
          "output_type": "stream",
          "name": "stderr",
          "text": [
            "<ipython-input-29-2345e3e9b7ee>:21: FutureWarning: The frame.append method is deprecated and will be removed from pandas in a future version. Use pandas.concat instead.\n",
            "  pdResults = pdResults.append(pd.DataFrame({'iter' : i,\n",
            "/usr/local/lib/python3.10/dist-packages/xgboost/core.py:617: FutureWarning: Pass `evals` as keyword args.\n",
            "  warnings.warn(msg, FutureWarning)\n"
          ]
        },
        {
          "output_type": "stream",
          "name": "stdout",
          "text": [
            "[0]\ttrain-auc:0.86919\tvalid-auc:0.79564\n",
            "[5]\ttrain-auc:0.89601\tvalid-auc:0.81259\n",
            "[9]\ttrain-auc:0.90982\tvalid-auc:0.81750\n",
            "****** Iteration : 87\n",
            "[05:21:35] WARNING: ../src/learner.cc:767: \n",
            "Parameters: { \"min_data_leaf\", \"objetive\" } are not used.\n",
            "\n"
          ]
        },
        {
          "output_type": "stream",
          "name": "stderr",
          "text": [
            "<ipython-input-29-2345e3e9b7ee>:21: FutureWarning: The frame.append method is deprecated and will be removed from pandas in a future version. Use pandas.concat instead.\n",
            "  pdResults = pdResults.append(pd.DataFrame({'iter' : i,\n",
            "/usr/local/lib/python3.10/dist-packages/xgboost/core.py:617: FutureWarning: Pass `evals` as keyword args.\n",
            "  warnings.warn(msg, FutureWarning)\n"
          ]
        },
        {
          "output_type": "stream",
          "name": "stdout",
          "text": [
            "[0]\ttrain-auc:0.86552\tvalid-auc:0.79876\n",
            "[5]\ttrain-auc:0.87189\tvalid-auc:0.80440\n",
            "[9]\ttrain-auc:0.87844\tvalid-auc:0.81034\n",
            "****** Iteration : 88\n",
            "[05:21:45] WARNING: ../src/learner.cc:767: \n",
            "Parameters: { \"min_data_leaf\", \"objetive\" } are not used.\n",
            "\n"
          ]
        },
        {
          "output_type": "stream",
          "name": "stderr",
          "text": [
            "<ipython-input-29-2345e3e9b7ee>:21: FutureWarning: The frame.append method is deprecated and will be removed from pandas in a future version. Use pandas.concat instead.\n",
            "  pdResults = pdResults.append(pd.DataFrame({'iter' : i,\n",
            "/usr/local/lib/python3.10/dist-packages/xgboost/core.py:617: FutureWarning: Pass `evals` as keyword args.\n",
            "  warnings.warn(msg, FutureWarning)\n"
          ]
        },
        {
          "output_type": "stream",
          "name": "stdout",
          "text": [
            "[0]\ttrain-auc:0.85671\tvalid-auc:0.80758\n",
            "[5]\ttrain-auc:0.89327\tvalid-auc:0.81887\n",
            "[9]\ttrain-auc:0.90823\tvalid-auc:0.82464\n",
            "****** Iteration : 89\n",
            "[05:21:53] WARNING: ../src/learner.cc:767: \n",
            "Parameters: { \"min_data_leaf\", \"objetive\" } are not used.\n",
            "\n"
          ]
        },
        {
          "output_type": "stream",
          "name": "stderr",
          "text": [
            "<ipython-input-29-2345e3e9b7ee>:21: FutureWarning: The frame.append method is deprecated and will be removed from pandas in a future version. Use pandas.concat instead.\n",
            "  pdResults = pdResults.append(pd.DataFrame({'iter' : i,\n",
            "/usr/local/lib/python3.10/dist-packages/xgboost/core.py:617: FutureWarning: Pass `evals` as keyword args.\n",
            "  warnings.warn(msg, FutureWarning)\n"
          ]
        },
        {
          "output_type": "stream",
          "name": "stdout",
          "text": [
            "[0]\ttrain-auc:0.83179\tvalid-auc:0.80831\n",
            "[5]\ttrain-auc:0.84255\tvalid-auc:0.81705\n",
            "[9]\ttrain-auc:0.84515\tvalid-auc:0.82021\n",
            "****** Iteration : 90\n",
            "[05:21:56] WARNING: ../src/learner.cc:767: \n",
            "Parameters: { \"min_data_leaf\", \"objetive\" } are not used.\n",
            "\n"
          ]
        },
        {
          "output_type": "stream",
          "name": "stderr",
          "text": [
            "<ipython-input-29-2345e3e9b7ee>:21: FutureWarning: The frame.append method is deprecated and will be removed from pandas in a future version. Use pandas.concat instead.\n",
            "  pdResults = pdResults.append(pd.DataFrame({'iter' : i,\n",
            "/usr/local/lib/python3.10/dist-packages/xgboost/core.py:617: FutureWarning: Pass `evals` as keyword args.\n",
            "  warnings.warn(msg, FutureWarning)\n"
          ]
        },
        {
          "output_type": "stream",
          "name": "stdout",
          "text": [
            "[0]\ttrain-auc:0.84767\tvalid-auc:0.80954\n",
            "[5]\ttrain-auc:0.86136\tvalid-auc:0.81697\n",
            "[9]\ttrain-auc:0.86947\tvalid-auc:0.82272\n",
            "****** Iteration : 91\n",
            "[05:22:02] WARNING: ../src/learner.cc:767: \n",
            "Parameters: { \"min_data_leaf\", \"objetive\" } are not used.\n",
            "\n"
          ]
        },
        {
          "output_type": "stream",
          "name": "stderr",
          "text": [
            "<ipython-input-29-2345e3e9b7ee>:21: FutureWarning: The frame.append method is deprecated and will be removed from pandas in a future version. Use pandas.concat instead.\n",
            "  pdResults = pdResults.append(pd.DataFrame({'iter' : i,\n",
            "/usr/local/lib/python3.10/dist-packages/xgboost/core.py:617: FutureWarning: Pass `evals` as keyword args.\n",
            "  warnings.warn(msg, FutureWarning)\n"
          ]
        },
        {
          "output_type": "stream",
          "name": "stdout",
          "text": [
            "[0]\ttrain-auc:0.87002\tvalid-auc:0.79632\n",
            "[5]\ttrain-auc:0.88712\tvalid-auc:0.80776\n",
            "[9]\ttrain-auc:0.89505\tvalid-auc:0.81393\n",
            "****** Iteration : 92\n",
            "[05:22:12] WARNING: ../src/learner.cc:767: \n",
            "Parameters: { \"min_data_leaf\", \"objetive\" } are not used.\n",
            "\n",
            "[0]\ttrain-auc:0.77464\tvalid-auc:0.76449\n"
          ]
        },
        {
          "output_type": "stream",
          "name": "stderr",
          "text": [
            "<ipython-input-29-2345e3e9b7ee>:21: FutureWarning: The frame.append method is deprecated and will be removed from pandas in a future version. Use pandas.concat instead.\n",
            "  pdResults = pdResults.append(pd.DataFrame({'iter' : i,\n",
            "/usr/local/lib/python3.10/dist-packages/xgboost/core.py:617: FutureWarning: Pass `evals` as keyword args.\n",
            "  warnings.warn(msg, FutureWarning)\n"
          ]
        },
        {
          "output_type": "stream",
          "name": "stdout",
          "text": [
            "[5]\ttrain-auc:0.77631\tvalid-auc:0.76584\n",
            "[9]\ttrain-auc:0.77631\tvalid-auc:0.76584\n",
            "****** Iteration : 93\n",
            "[05:22:13] WARNING: ../src/learner.cc:767: \n",
            "Parameters: { \"min_data_leaf\", \"objetive\" } are not used.\n",
            "\n"
          ]
        },
        {
          "output_type": "stream",
          "name": "stderr",
          "text": [
            "<ipython-input-29-2345e3e9b7ee>:21: FutureWarning: The frame.append method is deprecated and will be removed from pandas in a future version. Use pandas.concat instead.\n",
            "  pdResults = pdResults.append(pd.DataFrame({'iter' : i,\n",
            "/usr/local/lib/python3.10/dist-packages/xgboost/core.py:617: FutureWarning: Pass `evals` as keyword args.\n",
            "  warnings.warn(msg, FutureWarning)\n"
          ]
        },
        {
          "output_type": "stream",
          "name": "stdout",
          "text": [
            "[0]\ttrain-auc:0.83665\tvalid-auc:0.80935\n",
            "[5]\ttrain-auc:0.85088\tvalid-auc:0.82062\n",
            "[9]\ttrain-auc:0.85326\tvalid-auc:0.82119\n",
            "****** Iteration : 94\n",
            "[05:22:19] WARNING: ../src/learner.cc:767: \n",
            "Parameters: { \"min_data_leaf\", \"objetive\" } are not used.\n",
            "\n"
          ]
        },
        {
          "output_type": "stream",
          "name": "stderr",
          "text": [
            "<ipython-input-29-2345e3e9b7ee>:21: FutureWarning: The frame.append method is deprecated and will be removed from pandas in a future version. Use pandas.concat instead.\n",
            "  pdResults = pdResults.append(pd.DataFrame({'iter' : i,\n",
            "/usr/local/lib/python3.10/dist-packages/xgboost/core.py:617: FutureWarning: Pass `evals` as keyword args.\n",
            "  warnings.warn(msg, FutureWarning)\n"
          ]
        },
        {
          "output_type": "stream",
          "name": "stdout",
          "text": [
            "[0]\ttrain-auc:0.81641\tvalid-auc:0.79467\n",
            "[5]\ttrain-auc:0.82425\tvalid-auc:0.80515\n",
            "[9]\ttrain-auc:0.82916\tvalid-auc:0.80784\n",
            "****** Iteration : 95\n",
            "[05:22:22] WARNING: ../src/learner.cc:767: \n",
            "Parameters: { \"min_data_leaf\", \"objetive\" } are not used.\n",
            "\n",
            "[0]\ttrain-auc:0.77464\tvalid-auc:0.76449\n"
          ]
        },
        {
          "output_type": "stream",
          "name": "stderr",
          "text": [
            "<ipython-input-29-2345e3e9b7ee>:21: FutureWarning: The frame.append method is deprecated and will be removed from pandas in a future version. Use pandas.concat instead.\n",
            "  pdResults = pdResults.append(pd.DataFrame({'iter' : i,\n",
            "/usr/local/lib/python3.10/dist-packages/xgboost/core.py:617: FutureWarning: Pass `evals` as keyword args.\n",
            "  warnings.warn(msg, FutureWarning)\n"
          ]
        },
        {
          "output_type": "stream",
          "name": "stdout",
          "text": [
            "[5]\ttrain-auc:0.77631\tvalid-auc:0.76584\n",
            "[9]\ttrain-auc:0.77631\tvalid-auc:0.76584\n",
            "****** Iteration : 96\n",
            "[05:22:23] WARNING: ../src/learner.cc:767: \n",
            "Parameters: { \"min_data_leaf\", \"objetive\" } are not used.\n",
            "\n"
          ]
        },
        {
          "output_type": "stream",
          "name": "stderr",
          "text": [
            "<ipython-input-29-2345e3e9b7ee>:21: FutureWarning: The frame.append method is deprecated and will be removed from pandas in a future version. Use pandas.concat instead.\n",
            "  pdResults = pdResults.append(pd.DataFrame({'iter' : i,\n",
            "/usr/local/lib/python3.10/dist-packages/xgboost/core.py:617: FutureWarning: Pass `evals` as keyword args.\n",
            "  warnings.warn(msg, FutureWarning)\n"
          ]
        },
        {
          "output_type": "stream",
          "name": "stdout",
          "text": [
            "[0]\ttrain-auc:0.85942\tvalid-auc:0.80201\n",
            "[5]\ttrain-auc:0.88266\tvalid-auc:0.81970\n",
            "[9]\ttrain-auc:0.89309\tvalid-auc:0.82275\n",
            "****** Iteration : 97\n",
            "[05:22:32] WARNING: ../src/learner.cc:767: \n",
            "Parameters: { \"min_data_leaf\", \"objetive\" } are not used.\n",
            "\n"
          ]
        },
        {
          "output_type": "stream",
          "name": "stderr",
          "text": [
            "<ipython-input-29-2345e3e9b7ee>:21: FutureWarning: The frame.append method is deprecated and will be removed from pandas in a future version. Use pandas.concat instead.\n",
            "  pdResults = pdResults.append(pd.DataFrame({'iter' : i,\n",
            "/usr/local/lib/python3.10/dist-packages/xgboost/core.py:617: FutureWarning: Pass `evals` as keyword args.\n",
            "  warnings.warn(msg, FutureWarning)\n"
          ]
        },
        {
          "output_type": "stream",
          "name": "stdout",
          "text": [
            "[0]\ttrain-auc:0.80645\tvalid-auc:0.78681\n",
            "[5]\ttrain-auc:0.81416\tvalid-auc:0.79516\n",
            "[9]\ttrain-auc:0.81646\tvalid-auc:0.79871\n",
            "****** Iteration : 98\n",
            "[05:22:34] WARNING: ../src/learner.cc:767: \n",
            "Parameters: { \"min_data_leaf\", \"objetive\" } are not used.\n",
            "\n"
          ]
        },
        {
          "output_type": "stream",
          "name": "stderr",
          "text": [
            "<ipython-input-29-2345e3e9b7ee>:21: FutureWarning: The frame.append method is deprecated and will be removed from pandas in a future version. Use pandas.concat instead.\n",
            "  pdResults = pdResults.append(pd.DataFrame({'iter' : i,\n",
            "/usr/local/lib/python3.10/dist-packages/xgboost/core.py:617: FutureWarning: Pass `evals` as keyword args.\n",
            "  warnings.warn(msg, FutureWarning)\n"
          ]
        },
        {
          "output_type": "stream",
          "name": "stdout",
          "text": [
            "[0]\ttrain-auc:0.85482\tvalid-auc:0.81034\n",
            "[5]\ttrain-auc:0.89213\tvalid-auc:0.82321\n",
            "[9]\ttrain-auc:0.91185\tvalid-auc:0.82264\n",
            "****** Iteration : 99\n",
            "[05:22:42] WARNING: ../src/learner.cc:767: \n",
            "Parameters: { \"min_data_leaf\", \"objetive\" } are not used.\n",
            "\n"
          ]
        },
        {
          "output_type": "stream",
          "name": "stderr",
          "text": [
            "<ipython-input-29-2345e3e9b7ee>:21: FutureWarning: The frame.append method is deprecated and will be removed from pandas in a future version. Use pandas.concat instead.\n",
            "  pdResults = pdResults.append(pd.DataFrame({'iter' : i,\n",
            "/usr/local/lib/python3.10/dist-packages/xgboost/core.py:617: FutureWarning: Pass `evals` as keyword args.\n",
            "  warnings.warn(msg, FutureWarning)\n"
          ]
        },
        {
          "output_type": "stream",
          "name": "stdout",
          "text": [
            "[0]\ttrain-auc:0.83976\tvalid-auc:0.81330\n",
            "[5]\ttrain-auc:0.85885\tvalid-auc:0.82579\n",
            "[9]\ttrain-auc:0.86789\tvalid-auc:0.82865\n"
          ]
        },
        {
          "output_type": "stream",
          "name": "stderr",
          "text": [
            "<ipython-input-29-2345e3e9b7ee>:21: FutureWarning: The frame.append method is deprecated and will be removed from pandas in a future version. Use pandas.concat instead.\n",
            "  pdResults = pdResults.append(pd.DataFrame({'iter' : i,\n"
          ]
        }
      ]
    },
    {
      "cell_type": "code",
      "metadata": {
        "id": "BS8ggXhrdy8b",
        "colab": {
          "base_uri": "https://localhost:8080/",
          "height": 423
        },
        "outputId": "22937a26-34ce-4d03-f0af-d175d9dfcd46"
      },
      "source": [
        "pddf = pd.read_csv(\"HyperParamSearch.csv\")\n",
        "pddf.sort_values('giniTest', ascending=False)"
      ],
      "execution_count": 30,
      "outputs": [
        {
          "output_type": "execute_result",
          "data": {
            "text/plain": [
              "     iter      paramName       paramValue  giniTrain   giniTest\n",
              "37      4      max_depth                7  75.450465  65.800777\n",
              "36      4       objetive  binary_logistic  75.450465  65.800777\n",
              "38      4  learning_rate              0.2  75.450465  65.800777\n",
              "39      4           seed              123  75.450465  65.800777\n",
              "40      4     max_leaves                2  75.450465  65.800777\n",
              "..    ...            ...              ...        ...        ...\n",
              "171    19       objetive  binary_logistic  55.261156  53.167085\n",
              "172    19      max_depth                2  55.261156  53.167085\n",
              "173    19  learning_rate             0.02  55.261156  53.167085\n",
              "174    19           seed              123  55.261156  53.167085\n",
              "175    19     max_leaves                8  55.261156  53.167085\n",
              "\n",
              "[900 rows x 5 columns]"
            ],
            "text/html": [
              "\n",
              "  <div id=\"df-38118d4a-938e-4885-9f3f-aab1dd690bdf\">\n",
              "    <div class=\"colab-df-container\">\n",
              "      <div>\n",
              "<style scoped>\n",
              "    .dataframe tbody tr th:only-of-type {\n",
              "        vertical-align: middle;\n",
              "    }\n",
              "\n",
              "    .dataframe tbody tr th {\n",
              "        vertical-align: top;\n",
              "    }\n",
              "\n",
              "    .dataframe thead th {\n",
              "        text-align: right;\n",
              "    }\n",
              "</style>\n",
              "<table border=\"1\" class=\"dataframe\">\n",
              "  <thead>\n",
              "    <tr style=\"text-align: right;\">\n",
              "      <th></th>\n",
              "      <th>iter</th>\n",
              "      <th>paramName</th>\n",
              "      <th>paramValue</th>\n",
              "      <th>giniTrain</th>\n",
              "      <th>giniTest</th>\n",
              "    </tr>\n",
              "  </thead>\n",
              "  <tbody>\n",
              "    <tr>\n",
              "      <th>37</th>\n",
              "      <td>4</td>\n",
              "      <td>max_depth</td>\n",
              "      <td>7</td>\n",
              "      <td>75.450465</td>\n",
              "      <td>65.800777</td>\n",
              "    </tr>\n",
              "    <tr>\n",
              "      <th>36</th>\n",
              "      <td>4</td>\n",
              "      <td>objetive</td>\n",
              "      <td>binary_logistic</td>\n",
              "      <td>75.450465</td>\n",
              "      <td>65.800777</td>\n",
              "    </tr>\n",
              "    <tr>\n",
              "      <th>38</th>\n",
              "      <td>4</td>\n",
              "      <td>learning_rate</td>\n",
              "      <td>0.2</td>\n",
              "      <td>75.450465</td>\n",
              "      <td>65.800777</td>\n",
              "    </tr>\n",
              "    <tr>\n",
              "      <th>39</th>\n",
              "      <td>4</td>\n",
              "      <td>seed</td>\n",
              "      <td>123</td>\n",
              "      <td>75.450465</td>\n",
              "      <td>65.800777</td>\n",
              "    </tr>\n",
              "    <tr>\n",
              "      <th>40</th>\n",
              "      <td>4</td>\n",
              "      <td>max_leaves</td>\n",
              "      <td>2</td>\n",
              "      <td>75.450465</td>\n",
              "      <td>65.800777</td>\n",
              "    </tr>\n",
              "    <tr>\n",
              "      <th>...</th>\n",
              "      <td>...</td>\n",
              "      <td>...</td>\n",
              "      <td>...</td>\n",
              "      <td>...</td>\n",
              "      <td>...</td>\n",
              "    </tr>\n",
              "    <tr>\n",
              "      <th>171</th>\n",
              "      <td>19</td>\n",
              "      <td>objetive</td>\n",
              "      <td>binary_logistic</td>\n",
              "      <td>55.261156</td>\n",
              "      <td>53.167085</td>\n",
              "    </tr>\n",
              "    <tr>\n",
              "      <th>172</th>\n",
              "      <td>19</td>\n",
              "      <td>max_depth</td>\n",
              "      <td>2</td>\n",
              "      <td>55.261156</td>\n",
              "      <td>53.167085</td>\n",
              "    </tr>\n",
              "    <tr>\n",
              "      <th>173</th>\n",
              "      <td>19</td>\n",
              "      <td>learning_rate</td>\n",
              "      <td>0.02</td>\n",
              "      <td>55.261156</td>\n",
              "      <td>53.167085</td>\n",
              "    </tr>\n",
              "    <tr>\n",
              "      <th>174</th>\n",
              "      <td>19</td>\n",
              "      <td>seed</td>\n",
              "      <td>123</td>\n",
              "      <td>55.261156</td>\n",
              "      <td>53.167085</td>\n",
              "    </tr>\n",
              "    <tr>\n",
              "      <th>175</th>\n",
              "      <td>19</td>\n",
              "      <td>max_leaves</td>\n",
              "      <td>8</td>\n",
              "      <td>55.261156</td>\n",
              "      <td>53.167085</td>\n",
              "    </tr>\n",
              "  </tbody>\n",
              "</table>\n",
              "<p>900 rows × 5 columns</p>\n",
              "</div>\n",
              "      <button class=\"colab-df-convert\" onclick=\"convertToInteractive('df-38118d4a-938e-4885-9f3f-aab1dd690bdf')\"\n",
              "              title=\"Convert this dataframe to an interactive table.\"\n",
              "              style=\"display:none;\">\n",
              "        \n",
              "  <svg xmlns=\"http://www.w3.org/2000/svg\" height=\"24px\"viewBox=\"0 0 24 24\"\n",
              "       width=\"24px\">\n",
              "    <path d=\"M0 0h24v24H0V0z\" fill=\"none\"/>\n",
              "    <path d=\"M18.56 5.44l.94 2.06.94-2.06 2.06-.94-2.06-.94-.94-2.06-.94 2.06-2.06.94zm-11 1L8.5 8.5l.94-2.06 2.06-.94-2.06-.94L8.5 2.5l-.94 2.06-2.06.94zm10 10l.94 2.06.94-2.06 2.06-.94-2.06-.94-.94-2.06-.94 2.06-2.06.94z\"/><path d=\"M17.41 7.96l-1.37-1.37c-.4-.4-.92-.59-1.43-.59-.52 0-1.04.2-1.43.59L10.3 9.45l-7.72 7.72c-.78.78-.78 2.05 0 2.83L4 21.41c.39.39.9.59 1.41.59.51 0 1.02-.2 1.41-.59l7.78-7.78 2.81-2.81c.8-.78.8-2.07 0-2.86zM5.41 20L4 18.59l7.72-7.72 1.47 1.35L5.41 20z\"/>\n",
              "  </svg>\n",
              "      </button>\n",
              "      \n",
              "  <style>\n",
              "    .colab-df-container {\n",
              "      display:flex;\n",
              "      flex-wrap:wrap;\n",
              "      gap: 12px;\n",
              "    }\n",
              "\n",
              "    .colab-df-convert {\n",
              "      background-color: #E8F0FE;\n",
              "      border: none;\n",
              "      border-radius: 50%;\n",
              "      cursor: pointer;\n",
              "      display: none;\n",
              "      fill: #1967D2;\n",
              "      height: 32px;\n",
              "      padding: 0 0 0 0;\n",
              "      width: 32px;\n",
              "    }\n",
              "\n",
              "    .colab-df-convert:hover {\n",
              "      background-color: #E2EBFA;\n",
              "      box-shadow: 0px 1px 2px rgba(60, 64, 67, 0.3), 0px 1px 3px 1px rgba(60, 64, 67, 0.15);\n",
              "      fill: #174EA6;\n",
              "    }\n",
              "\n",
              "    [theme=dark] .colab-df-convert {\n",
              "      background-color: #3B4455;\n",
              "      fill: #D2E3FC;\n",
              "    }\n",
              "\n",
              "    [theme=dark] .colab-df-convert:hover {\n",
              "      background-color: #434B5C;\n",
              "      box-shadow: 0px 1px 3px 1px rgba(0, 0, 0, 0.15);\n",
              "      filter: drop-shadow(0px 1px 2px rgba(0, 0, 0, 0.3));\n",
              "      fill: #FFFFFF;\n",
              "    }\n",
              "  </style>\n",
              "\n",
              "      <script>\n",
              "        const buttonEl =\n",
              "          document.querySelector('#df-38118d4a-938e-4885-9f3f-aab1dd690bdf button.colab-df-convert');\n",
              "        buttonEl.style.display =\n",
              "          google.colab.kernel.accessAllowed ? 'block' : 'none';\n",
              "\n",
              "        async function convertToInteractive(key) {\n",
              "          const element = document.querySelector('#df-38118d4a-938e-4885-9f3f-aab1dd690bdf');\n",
              "          const dataTable =\n",
              "            await google.colab.kernel.invokeFunction('convertToInteractive',\n",
              "                                                     [key], {});\n",
              "          if (!dataTable) return;\n",
              "\n",
              "          const docLinkHtml = 'Like what you see? Visit the ' +\n",
              "            '<a target=\"_blank\" href=https://colab.research.google.com/notebooks/data_table.ipynb>data table notebook</a>'\n",
              "            + ' to learn more about interactive tables.';\n",
              "          element.innerHTML = '';\n",
              "          dataTable['output_type'] = 'display_data';\n",
              "          await google.colab.output.renderOutput(dataTable, element);\n",
              "          const docLink = document.createElement('div');\n",
              "          docLink.innerHTML = docLinkHtml;\n",
              "          element.appendChild(docLink);\n",
              "        }\n",
              "      </script>\n",
              "    </div>\n",
              "  </div>\n",
              "  "
            ]
          },
          "metadata": {},
          "execution_count": 30
        }
      ]
    },
    {
      "cell_type": "code",
      "source": [
        "#pddf.head()\n",
        "pddf[pddf['iter'] == 0]"
      ],
      "metadata": {
        "id": "5_eJpHZ4dqYi",
        "outputId": "f7c2c792-9b4c-43b9-f5f7-54474cece2a7",
        "colab": {
          "base_uri": "https://localhost:8080/",
          "height": 331
        }
      },
      "execution_count": 38,
      "outputs": [
        {
          "output_type": "execute_result",
          "data": {
            "text/plain": [
              "   iter         paramName       paramValue  giniTrain   giniTest\n",
              "0     0          objetive  binary_logistic  68.801662  64.613653\n",
              "1     0         max_depth                4  68.801662  64.613653\n",
              "2     0     learning_rate              0.1  68.801662  64.613653\n",
              "3     0              seed              123  68.801662  64.613653\n",
              "4     0        max_leaves                2  68.801662  64.613653\n",
              "5     0     min_data_leaf              0.1  68.801662  64.613653\n",
              "6     0       grow_policy        lossguide  68.801662  64.613653\n",
              "7     0  min_child_weight                9  68.801662  64.613653\n",
              "8     0       eval_metric              auc  68.801662  64.613653"
            ],
            "text/html": [
              "\n",
              "  <div id=\"df-1d7002ed-2472-4b74-9435-5e4ecde1255e\">\n",
              "    <div class=\"colab-df-container\">\n",
              "      <div>\n",
              "<style scoped>\n",
              "    .dataframe tbody tr th:only-of-type {\n",
              "        vertical-align: middle;\n",
              "    }\n",
              "\n",
              "    .dataframe tbody tr th {\n",
              "        vertical-align: top;\n",
              "    }\n",
              "\n",
              "    .dataframe thead th {\n",
              "        text-align: right;\n",
              "    }\n",
              "</style>\n",
              "<table border=\"1\" class=\"dataframe\">\n",
              "  <thead>\n",
              "    <tr style=\"text-align: right;\">\n",
              "      <th></th>\n",
              "      <th>iter</th>\n",
              "      <th>paramName</th>\n",
              "      <th>paramValue</th>\n",
              "      <th>giniTrain</th>\n",
              "      <th>giniTest</th>\n",
              "    </tr>\n",
              "  </thead>\n",
              "  <tbody>\n",
              "    <tr>\n",
              "      <th>0</th>\n",
              "      <td>0</td>\n",
              "      <td>objetive</td>\n",
              "      <td>binary_logistic</td>\n",
              "      <td>68.801662</td>\n",
              "      <td>64.613653</td>\n",
              "    </tr>\n",
              "    <tr>\n",
              "      <th>1</th>\n",
              "      <td>0</td>\n",
              "      <td>max_depth</td>\n",
              "      <td>4</td>\n",
              "      <td>68.801662</td>\n",
              "      <td>64.613653</td>\n",
              "    </tr>\n",
              "    <tr>\n",
              "      <th>2</th>\n",
              "      <td>0</td>\n",
              "      <td>learning_rate</td>\n",
              "      <td>0.1</td>\n",
              "      <td>68.801662</td>\n",
              "      <td>64.613653</td>\n",
              "    </tr>\n",
              "    <tr>\n",
              "      <th>3</th>\n",
              "      <td>0</td>\n",
              "      <td>seed</td>\n",
              "      <td>123</td>\n",
              "      <td>68.801662</td>\n",
              "      <td>64.613653</td>\n",
              "    </tr>\n",
              "    <tr>\n",
              "      <th>4</th>\n",
              "      <td>0</td>\n",
              "      <td>max_leaves</td>\n",
              "      <td>2</td>\n",
              "      <td>68.801662</td>\n",
              "      <td>64.613653</td>\n",
              "    </tr>\n",
              "    <tr>\n",
              "      <th>5</th>\n",
              "      <td>0</td>\n",
              "      <td>min_data_leaf</td>\n",
              "      <td>0.1</td>\n",
              "      <td>68.801662</td>\n",
              "      <td>64.613653</td>\n",
              "    </tr>\n",
              "    <tr>\n",
              "      <th>6</th>\n",
              "      <td>0</td>\n",
              "      <td>grow_policy</td>\n",
              "      <td>lossguide</td>\n",
              "      <td>68.801662</td>\n",
              "      <td>64.613653</td>\n",
              "    </tr>\n",
              "    <tr>\n",
              "      <th>7</th>\n",
              "      <td>0</td>\n",
              "      <td>min_child_weight</td>\n",
              "      <td>9</td>\n",
              "      <td>68.801662</td>\n",
              "      <td>64.613653</td>\n",
              "    </tr>\n",
              "    <tr>\n",
              "      <th>8</th>\n",
              "      <td>0</td>\n",
              "      <td>eval_metric</td>\n",
              "      <td>auc</td>\n",
              "      <td>68.801662</td>\n",
              "      <td>64.613653</td>\n",
              "    </tr>\n",
              "  </tbody>\n",
              "</table>\n",
              "</div>\n",
              "      <button class=\"colab-df-convert\" onclick=\"convertToInteractive('df-1d7002ed-2472-4b74-9435-5e4ecde1255e')\"\n",
              "              title=\"Convert this dataframe to an interactive table.\"\n",
              "              style=\"display:none;\">\n",
              "        \n",
              "  <svg xmlns=\"http://www.w3.org/2000/svg\" height=\"24px\"viewBox=\"0 0 24 24\"\n",
              "       width=\"24px\">\n",
              "    <path d=\"M0 0h24v24H0V0z\" fill=\"none\"/>\n",
              "    <path d=\"M18.56 5.44l.94 2.06.94-2.06 2.06-.94-2.06-.94-.94-2.06-.94 2.06-2.06.94zm-11 1L8.5 8.5l.94-2.06 2.06-.94-2.06-.94L8.5 2.5l-.94 2.06-2.06.94zm10 10l.94 2.06.94-2.06 2.06-.94-2.06-.94-.94-2.06-.94 2.06-2.06.94z\"/><path d=\"M17.41 7.96l-1.37-1.37c-.4-.4-.92-.59-1.43-.59-.52 0-1.04.2-1.43.59L10.3 9.45l-7.72 7.72c-.78.78-.78 2.05 0 2.83L4 21.41c.39.39.9.59 1.41.59.51 0 1.02-.2 1.41-.59l7.78-7.78 2.81-2.81c.8-.78.8-2.07 0-2.86zM5.41 20L4 18.59l7.72-7.72 1.47 1.35L5.41 20z\"/>\n",
              "  </svg>\n",
              "      </button>\n",
              "      \n",
              "  <style>\n",
              "    .colab-df-container {\n",
              "      display:flex;\n",
              "      flex-wrap:wrap;\n",
              "      gap: 12px;\n",
              "    }\n",
              "\n",
              "    .colab-df-convert {\n",
              "      background-color: #E8F0FE;\n",
              "      border: none;\n",
              "      border-radius: 50%;\n",
              "      cursor: pointer;\n",
              "      display: none;\n",
              "      fill: #1967D2;\n",
              "      height: 32px;\n",
              "      padding: 0 0 0 0;\n",
              "      width: 32px;\n",
              "    }\n",
              "\n",
              "    .colab-df-convert:hover {\n",
              "      background-color: #E2EBFA;\n",
              "      box-shadow: 0px 1px 2px rgba(60, 64, 67, 0.3), 0px 1px 3px 1px rgba(60, 64, 67, 0.15);\n",
              "      fill: #174EA6;\n",
              "    }\n",
              "\n",
              "    [theme=dark] .colab-df-convert {\n",
              "      background-color: #3B4455;\n",
              "      fill: #D2E3FC;\n",
              "    }\n",
              "\n",
              "    [theme=dark] .colab-df-convert:hover {\n",
              "      background-color: #434B5C;\n",
              "      box-shadow: 0px 1px 3px 1px rgba(0, 0, 0, 0.15);\n",
              "      filter: drop-shadow(0px 1px 2px rgba(0, 0, 0, 0.3));\n",
              "      fill: #FFFFFF;\n",
              "    }\n",
              "  </style>\n",
              "\n",
              "      <script>\n",
              "        const buttonEl =\n",
              "          document.querySelector('#df-1d7002ed-2472-4b74-9435-5e4ecde1255e button.colab-df-convert');\n",
              "        buttonEl.style.display =\n",
              "          google.colab.kernel.accessAllowed ? 'block' : 'none';\n",
              "\n",
              "        async function convertToInteractive(key) {\n",
              "          const element = document.querySelector('#df-1d7002ed-2472-4b74-9435-5e4ecde1255e');\n",
              "          const dataTable =\n",
              "            await google.colab.kernel.invokeFunction('convertToInteractive',\n",
              "                                                     [key], {});\n",
              "          if (!dataTable) return;\n",
              "\n",
              "          const docLinkHtml = 'Like what you see? Visit the ' +\n",
              "            '<a target=\"_blank\" href=https://colab.research.google.com/notebooks/data_table.ipynb>data table notebook</a>'\n",
              "            + ' to learn more about interactive tables.';\n",
              "          element.innerHTML = '';\n",
              "          dataTable['output_type'] = 'display_data';\n",
              "          await google.colab.output.renderOutput(dataTable, element);\n",
              "          const docLink = document.createElement('div');\n",
              "          docLink.innerHTML = docLinkHtml;\n",
              "          element.appendChild(docLink);\n",
              "        }\n",
              "      </script>\n",
              "    </div>\n",
              "  </div>\n",
              "  "
            ]
          },
          "metadata": {},
          "execution_count": 38
        }
      ]
    },
    {
      "cell_type": "code",
      "metadata": {
        "id": "WVZSfXk6ewE0",
        "colab": {
          "base_uri": "https://localhost:8080/",
          "height": 423
        },
        "outputId": "abb341a9-bb97-485a-c45c-949c634b58b8"
      },
      "source": [
        "pddf['overfitting'] = pddf.giniTrain - pddf.giniTest\n",
        "pddf.sort_values('overfitting')"
      ],
      "execution_count": 39,
      "outputs": [
        {
          "output_type": "execute_result",
          "data": {
            "text/plain": [
              "     iter         paramName paramValue  giniTrain   giniTest  overfitting\n",
              "80      8       eval_metric        auc  56.760268  54.936528     1.823740\n",
              "201    22              seed        123  56.760268  54.936528     1.823740\n",
              "202    22        max_leaves          4  56.760268  54.936528     1.823740\n",
              "203    22     min_data_leaf        0.1  56.760268  54.936528     1.823740\n",
              "204    22       grow_policy  lossguide  56.760268  54.936528     1.823740\n",
              "..    ...               ...        ...        ...        ...          ...\n",
              "647    71       eval_metric        auc  83.356206  63.289299    20.066907\n",
              "646    71  min_child_weight         10  83.356206  63.289299    20.066907\n",
              "644    71     min_data_leaf        0.2  83.356206  63.289299    20.066907\n",
              "629    69       eval_metric        auc  83.356206  63.289299    20.066907\n",
              "622    69         max_depth         11  83.356206  63.289299    20.066907\n",
              "\n",
              "[900 rows x 6 columns]"
            ],
            "text/html": [
              "\n",
              "  <div id=\"df-cbed5cb9-08fc-43f8-825f-523f32acb73b\">\n",
              "    <div class=\"colab-df-container\">\n",
              "      <div>\n",
              "<style scoped>\n",
              "    .dataframe tbody tr th:only-of-type {\n",
              "        vertical-align: middle;\n",
              "    }\n",
              "\n",
              "    .dataframe tbody tr th {\n",
              "        vertical-align: top;\n",
              "    }\n",
              "\n",
              "    .dataframe thead th {\n",
              "        text-align: right;\n",
              "    }\n",
              "</style>\n",
              "<table border=\"1\" class=\"dataframe\">\n",
              "  <thead>\n",
              "    <tr style=\"text-align: right;\">\n",
              "      <th></th>\n",
              "      <th>iter</th>\n",
              "      <th>paramName</th>\n",
              "      <th>paramValue</th>\n",
              "      <th>giniTrain</th>\n",
              "      <th>giniTest</th>\n",
              "      <th>overfitting</th>\n",
              "    </tr>\n",
              "  </thead>\n",
              "  <tbody>\n",
              "    <tr>\n",
              "      <th>80</th>\n",
              "      <td>8</td>\n",
              "      <td>eval_metric</td>\n",
              "      <td>auc</td>\n",
              "      <td>56.760268</td>\n",
              "      <td>54.936528</td>\n",
              "      <td>1.823740</td>\n",
              "    </tr>\n",
              "    <tr>\n",
              "      <th>201</th>\n",
              "      <td>22</td>\n",
              "      <td>seed</td>\n",
              "      <td>123</td>\n",
              "      <td>56.760268</td>\n",
              "      <td>54.936528</td>\n",
              "      <td>1.823740</td>\n",
              "    </tr>\n",
              "    <tr>\n",
              "      <th>202</th>\n",
              "      <td>22</td>\n",
              "      <td>max_leaves</td>\n",
              "      <td>4</td>\n",
              "      <td>56.760268</td>\n",
              "      <td>54.936528</td>\n",
              "      <td>1.823740</td>\n",
              "    </tr>\n",
              "    <tr>\n",
              "      <th>203</th>\n",
              "      <td>22</td>\n",
              "      <td>min_data_leaf</td>\n",
              "      <td>0.1</td>\n",
              "      <td>56.760268</td>\n",
              "      <td>54.936528</td>\n",
              "      <td>1.823740</td>\n",
              "    </tr>\n",
              "    <tr>\n",
              "      <th>204</th>\n",
              "      <td>22</td>\n",
              "      <td>grow_policy</td>\n",
              "      <td>lossguide</td>\n",
              "      <td>56.760268</td>\n",
              "      <td>54.936528</td>\n",
              "      <td>1.823740</td>\n",
              "    </tr>\n",
              "    <tr>\n",
              "      <th>...</th>\n",
              "      <td>...</td>\n",
              "      <td>...</td>\n",
              "      <td>...</td>\n",
              "      <td>...</td>\n",
              "      <td>...</td>\n",
              "      <td>...</td>\n",
              "    </tr>\n",
              "    <tr>\n",
              "      <th>647</th>\n",
              "      <td>71</td>\n",
              "      <td>eval_metric</td>\n",
              "      <td>auc</td>\n",
              "      <td>83.356206</td>\n",
              "      <td>63.289299</td>\n",
              "      <td>20.066907</td>\n",
              "    </tr>\n",
              "    <tr>\n",
              "      <th>646</th>\n",
              "      <td>71</td>\n",
              "      <td>min_child_weight</td>\n",
              "      <td>10</td>\n",
              "      <td>83.356206</td>\n",
              "      <td>63.289299</td>\n",
              "      <td>20.066907</td>\n",
              "    </tr>\n",
              "    <tr>\n",
              "      <th>644</th>\n",
              "      <td>71</td>\n",
              "      <td>min_data_leaf</td>\n",
              "      <td>0.2</td>\n",
              "      <td>83.356206</td>\n",
              "      <td>63.289299</td>\n",
              "      <td>20.066907</td>\n",
              "    </tr>\n",
              "    <tr>\n",
              "      <th>629</th>\n",
              "      <td>69</td>\n",
              "      <td>eval_metric</td>\n",
              "      <td>auc</td>\n",
              "      <td>83.356206</td>\n",
              "      <td>63.289299</td>\n",
              "      <td>20.066907</td>\n",
              "    </tr>\n",
              "    <tr>\n",
              "      <th>622</th>\n",
              "      <td>69</td>\n",
              "      <td>max_depth</td>\n",
              "      <td>11</td>\n",
              "      <td>83.356206</td>\n",
              "      <td>63.289299</td>\n",
              "      <td>20.066907</td>\n",
              "    </tr>\n",
              "  </tbody>\n",
              "</table>\n",
              "<p>900 rows × 6 columns</p>\n",
              "</div>\n",
              "      <button class=\"colab-df-convert\" onclick=\"convertToInteractive('df-cbed5cb9-08fc-43f8-825f-523f32acb73b')\"\n",
              "              title=\"Convert this dataframe to an interactive table.\"\n",
              "              style=\"display:none;\">\n",
              "        \n",
              "  <svg xmlns=\"http://www.w3.org/2000/svg\" height=\"24px\"viewBox=\"0 0 24 24\"\n",
              "       width=\"24px\">\n",
              "    <path d=\"M0 0h24v24H0V0z\" fill=\"none\"/>\n",
              "    <path d=\"M18.56 5.44l.94 2.06.94-2.06 2.06-.94-2.06-.94-.94-2.06-.94 2.06-2.06.94zm-11 1L8.5 8.5l.94-2.06 2.06-.94-2.06-.94L8.5 2.5l-.94 2.06-2.06.94zm10 10l.94 2.06.94-2.06 2.06-.94-2.06-.94-.94-2.06-.94 2.06-2.06.94z\"/><path d=\"M17.41 7.96l-1.37-1.37c-.4-.4-.92-.59-1.43-.59-.52 0-1.04.2-1.43.59L10.3 9.45l-7.72 7.72c-.78.78-.78 2.05 0 2.83L4 21.41c.39.39.9.59 1.41.59.51 0 1.02-.2 1.41-.59l7.78-7.78 2.81-2.81c.8-.78.8-2.07 0-2.86zM5.41 20L4 18.59l7.72-7.72 1.47 1.35L5.41 20z\"/>\n",
              "  </svg>\n",
              "      </button>\n",
              "      \n",
              "  <style>\n",
              "    .colab-df-container {\n",
              "      display:flex;\n",
              "      flex-wrap:wrap;\n",
              "      gap: 12px;\n",
              "    }\n",
              "\n",
              "    .colab-df-convert {\n",
              "      background-color: #E8F0FE;\n",
              "      border: none;\n",
              "      border-radius: 50%;\n",
              "      cursor: pointer;\n",
              "      display: none;\n",
              "      fill: #1967D2;\n",
              "      height: 32px;\n",
              "      padding: 0 0 0 0;\n",
              "      width: 32px;\n",
              "    }\n",
              "\n",
              "    .colab-df-convert:hover {\n",
              "      background-color: #E2EBFA;\n",
              "      box-shadow: 0px 1px 2px rgba(60, 64, 67, 0.3), 0px 1px 3px 1px rgba(60, 64, 67, 0.15);\n",
              "      fill: #174EA6;\n",
              "    }\n",
              "\n",
              "    [theme=dark] .colab-df-convert {\n",
              "      background-color: #3B4455;\n",
              "      fill: #D2E3FC;\n",
              "    }\n",
              "\n",
              "    [theme=dark] .colab-df-convert:hover {\n",
              "      background-color: #434B5C;\n",
              "      box-shadow: 0px 1px 3px 1px rgba(0, 0, 0, 0.15);\n",
              "      filter: drop-shadow(0px 1px 2px rgba(0, 0, 0, 0.3));\n",
              "      fill: #FFFFFF;\n",
              "    }\n",
              "  </style>\n",
              "\n",
              "      <script>\n",
              "        const buttonEl =\n",
              "          document.querySelector('#df-cbed5cb9-08fc-43f8-825f-523f32acb73b button.colab-df-convert');\n",
              "        buttonEl.style.display =\n",
              "          google.colab.kernel.accessAllowed ? 'block' : 'none';\n",
              "\n",
              "        async function convertToInteractive(key) {\n",
              "          const element = document.querySelector('#df-cbed5cb9-08fc-43f8-825f-523f32acb73b');\n",
              "          const dataTable =\n",
              "            await google.colab.kernel.invokeFunction('convertToInteractive',\n",
              "                                                     [key], {});\n",
              "          if (!dataTable) return;\n",
              "\n",
              "          const docLinkHtml = 'Like what you see? Visit the ' +\n",
              "            '<a target=\"_blank\" href=https://colab.research.google.com/notebooks/data_table.ipynb>data table notebook</a>'\n",
              "            + ' to learn more about interactive tables.';\n",
              "          element.innerHTML = '';\n",
              "          dataTable['output_type'] = 'display_data';\n",
              "          await google.colab.output.renderOutput(dataTable, element);\n",
              "          const docLink = document.createElement('div');\n",
              "          docLink.innerHTML = docLinkHtml;\n",
              "          element.appendChild(docLink);\n",
              "        }\n",
              "      </script>\n",
              "    </div>\n",
              "  </div>\n",
              "  "
            ]
          },
          "metadata": {},
          "execution_count": 39
        }
      ]
    },
    {
      "cell_type": "code",
      "source": [
        "pddf[pddf['iter'] == 8]"
      ],
      "metadata": {
        "id": "54dlovXlgGyr",
        "outputId": "e55deaa8-6639-490f-9def-eb54473484ed",
        "colab": {
          "base_uri": "https://localhost:8080/",
          "height": 331
        }
      },
      "execution_count": 40,
      "outputs": [
        {
          "output_type": "execute_result",
          "data": {
            "text/plain": [
              "    iter         paramName       paramValue  giniTrain   giniTest  overfitting\n",
              "72     8          objetive  binary_logistic  56.760268  54.936528      1.82374\n",
              "73     8         max_depth                2  56.760268  54.936528      1.82374\n",
              "74     8     learning_rate             0.05  56.760268  54.936528      1.82374\n",
              "75     8              seed              123  56.760268  54.936528      1.82374\n",
              "76     8        max_leaves                4  56.760268  54.936528      1.82374\n",
              "77     8     min_data_leaf              0.2  56.760268  54.936528      1.82374\n",
              "78     8       grow_policy        lossguide  56.760268  54.936528      1.82374\n",
              "79     8  min_child_weight                7  56.760268  54.936528      1.82374\n",
              "80     8       eval_metric              auc  56.760268  54.936528      1.82374"
            ],
            "text/html": [
              "\n",
              "  <div id=\"df-766191b0-1b3a-4601-8e00-f93dbcdda4b6\">\n",
              "    <div class=\"colab-df-container\">\n",
              "      <div>\n",
              "<style scoped>\n",
              "    .dataframe tbody tr th:only-of-type {\n",
              "        vertical-align: middle;\n",
              "    }\n",
              "\n",
              "    .dataframe tbody tr th {\n",
              "        vertical-align: top;\n",
              "    }\n",
              "\n",
              "    .dataframe thead th {\n",
              "        text-align: right;\n",
              "    }\n",
              "</style>\n",
              "<table border=\"1\" class=\"dataframe\">\n",
              "  <thead>\n",
              "    <tr style=\"text-align: right;\">\n",
              "      <th></th>\n",
              "      <th>iter</th>\n",
              "      <th>paramName</th>\n",
              "      <th>paramValue</th>\n",
              "      <th>giniTrain</th>\n",
              "      <th>giniTest</th>\n",
              "      <th>overfitting</th>\n",
              "    </tr>\n",
              "  </thead>\n",
              "  <tbody>\n",
              "    <tr>\n",
              "      <th>72</th>\n",
              "      <td>8</td>\n",
              "      <td>objetive</td>\n",
              "      <td>binary_logistic</td>\n",
              "      <td>56.760268</td>\n",
              "      <td>54.936528</td>\n",
              "      <td>1.82374</td>\n",
              "    </tr>\n",
              "    <tr>\n",
              "      <th>73</th>\n",
              "      <td>8</td>\n",
              "      <td>max_depth</td>\n",
              "      <td>2</td>\n",
              "      <td>56.760268</td>\n",
              "      <td>54.936528</td>\n",
              "      <td>1.82374</td>\n",
              "    </tr>\n",
              "    <tr>\n",
              "      <th>74</th>\n",
              "      <td>8</td>\n",
              "      <td>learning_rate</td>\n",
              "      <td>0.05</td>\n",
              "      <td>56.760268</td>\n",
              "      <td>54.936528</td>\n",
              "      <td>1.82374</td>\n",
              "    </tr>\n",
              "    <tr>\n",
              "      <th>75</th>\n",
              "      <td>8</td>\n",
              "      <td>seed</td>\n",
              "      <td>123</td>\n",
              "      <td>56.760268</td>\n",
              "      <td>54.936528</td>\n",
              "      <td>1.82374</td>\n",
              "    </tr>\n",
              "    <tr>\n",
              "      <th>76</th>\n",
              "      <td>8</td>\n",
              "      <td>max_leaves</td>\n",
              "      <td>4</td>\n",
              "      <td>56.760268</td>\n",
              "      <td>54.936528</td>\n",
              "      <td>1.82374</td>\n",
              "    </tr>\n",
              "    <tr>\n",
              "      <th>77</th>\n",
              "      <td>8</td>\n",
              "      <td>min_data_leaf</td>\n",
              "      <td>0.2</td>\n",
              "      <td>56.760268</td>\n",
              "      <td>54.936528</td>\n",
              "      <td>1.82374</td>\n",
              "    </tr>\n",
              "    <tr>\n",
              "      <th>78</th>\n",
              "      <td>8</td>\n",
              "      <td>grow_policy</td>\n",
              "      <td>lossguide</td>\n",
              "      <td>56.760268</td>\n",
              "      <td>54.936528</td>\n",
              "      <td>1.82374</td>\n",
              "    </tr>\n",
              "    <tr>\n",
              "      <th>79</th>\n",
              "      <td>8</td>\n",
              "      <td>min_child_weight</td>\n",
              "      <td>7</td>\n",
              "      <td>56.760268</td>\n",
              "      <td>54.936528</td>\n",
              "      <td>1.82374</td>\n",
              "    </tr>\n",
              "    <tr>\n",
              "      <th>80</th>\n",
              "      <td>8</td>\n",
              "      <td>eval_metric</td>\n",
              "      <td>auc</td>\n",
              "      <td>56.760268</td>\n",
              "      <td>54.936528</td>\n",
              "      <td>1.82374</td>\n",
              "    </tr>\n",
              "  </tbody>\n",
              "</table>\n",
              "</div>\n",
              "      <button class=\"colab-df-convert\" onclick=\"convertToInteractive('df-766191b0-1b3a-4601-8e00-f93dbcdda4b6')\"\n",
              "              title=\"Convert this dataframe to an interactive table.\"\n",
              "              style=\"display:none;\">\n",
              "        \n",
              "  <svg xmlns=\"http://www.w3.org/2000/svg\" height=\"24px\"viewBox=\"0 0 24 24\"\n",
              "       width=\"24px\">\n",
              "    <path d=\"M0 0h24v24H0V0z\" fill=\"none\"/>\n",
              "    <path d=\"M18.56 5.44l.94 2.06.94-2.06 2.06-.94-2.06-.94-.94-2.06-.94 2.06-2.06.94zm-11 1L8.5 8.5l.94-2.06 2.06-.94-2.06-.94L8.5 2.5l-.94 2.06-2.06.94zm10 10l.94 2.06.94-2.06 2.06-.94-2.06-.94-.94-2.06-.94 2.06-2.06.94z\"/><path d=\"M17.41 7.96l-1.37-1.37c-.4-.4-.92-.59-1.43-.59-.52 0-1.04.2-1.43.59L10.3 9.45l-7.72 7.72c-.78.78-.78 2.05 0 2.83L4 21.41c.39.39.9.59 1.41.59.51 0 1.02-.2 1.41-.59l7.78-7.78 2.81-2.81c.8-.78.8-2.07 0-2.86zM5.41 20L4 18.59l7.72-7.72 1.47 1.35L5.41 20z\"/>\n",
              "  </svg>\n",
              "      </button>\n",
              "      \n",
              "  <style>\n",
              "    .colab-df-container {\n",
              "      display:flex;\n",
              "      flex-wrap:wrap;\n",
              "      gap: 12px;\n",
              "    }\n",
              "\n",
              "    .colab-df-convert {\n",
              "      background-color: #E8F0FE;\n",
              "      border: none;\n",
              "      border-radius: 50%;\n",
              "      cursor: pointer;\n",
              "      display: none;\n",
              "      fill: #1967D2;\n",
              "      height: 32px;\n",
              "      padding: 0 0 0 0;\n",
              "      width: 32px;\n",
              "    }\n",
              "\n",
              "    .colab-df-convert:hover {\n",
              "      background-color: #E2EBFA;\n",
              "      box-shadow: 0px 1px 2px rgba(60, 64, 67, 0.3), 0px 1px 3px 1px rgba(60, 64, 67, 0.15);\n",
              "      fill: #174EA6;\n",
              "    }\n",
              "\n",
              "    [theme=dark] .colab-df-convert {\n",
              "      background-color: #3B4455;\n",
              "      fill: #D2E3FC;\n",
              "    }\n",
              "\n",
              "    [theme=dark] .colab-df-convert:hover {\n",
              "      background-color: #434B5C;\n",
              "      box-shadow: 0px 1px 3px 1px rgba(0, 0, 0, 0.15);\n",
              "      filter: drop-shadow(0px 1px 2px rgba(0, 0, 0, 0.3));\n",
              "      fill: #FFFFFF;\n",
              "    }\n",
              "  </style>\n",
              "\n",
              "      <script>\n",
              "        const buttonEl =\n",
              "          document.querySelector('#df-766191b0-1b3a-4601-8e00-f93dbcdda4b6 button.colab-df-convert');\n",
              "        buttonEl.style.display =\n",
              "          google.colab.kernel.accessAllowed ? 'block' : 'none';\n",
              "\n",
              "        async function convertToInteractive(key) {\n",
              "          const element = document.querySelector('#df-766191b0-1b3a-4601-8e00-f93dbcdda4b6');\n",
              "          const dataTable =\n",
              "            await google.colab.kernel.invokeFunction('convertToInteractive',\n",
              "                                                     [key], {});\n",
              "          if (!dataTable) return;\n",
              "\n",
              "          const docLinkHtml = 'Like what you see? Visit the ' +\n",
              "            '<a target=\"_blank\" href=https://colab.research.google.com/notebooks/data_table.ipynb>data table notebook</a>'\n",
              "            + ' to learn more about interactive tables.';\n",
              "          element.innerHTML = '';\n",
              "          dataTable['output_type'] = 'display_data';\n",
              "          await google.colab.output.renderOutput(dataTable, element);\n",
              "          const docLink = document.createElement('div');\n",
              "          docLink.innerHTML = docLinkHtml;\n",
              "          element.appendChild(docLink);\n",
              "        }\n",
              "      </script>\n",
              "    </div>\n",
              "  </div>\n",
              "  "
            ]
          },
          "metadata": {},
          "execution_count": 40
        }
      ]
    },
    {
      "cell_type": "code",
      "source": [
        "pddf.loc[pddf.overfitting < 4].sort_values('giniTest', ascending = False)"
      ],
      "metadata": {
        "id": "HnMftD59ibJ7",
        "outputId": "bcfaee16-d50a-463b-97aa-bad42fb1ef56",
        "colab": {
          "base_uri": "https://localhost:8080/",
          "height": 423
        }
      },
      "execution_count": 41,
      "outputs": [
        {
          "output_type": "execute_result",
          "data": {
            "text/plain": [
              "     iter         paramName       paramValue  giniTrain   giniTest  \\\n",
              "766    85         max_depth                6  66.636456  63.276524   \n",
              "783    87          objetive  binary_logistic  66.636456  63.276524   \n",
              "772    85  min_child_weight                3  66.636456  63.276524   \n",
              "771    85       grow_policy        lossguide  66.636456  63.276524   \n",
              "770    85     min_data_leaf             0.15  66.636456  63.276524   \n",
              "..    ...               ...              ...        ...        ...   \n",
              "173    19     learning_rate             0.02  55.261156  53.167085   \n",
              "174    19              seed              123  55.261156  53.167085   \n",
              "175    19        max_leaves                8  55.261156  53.167085   \n",
              "177    19       grow_policy        lossguide  55.261156  53.167085   \n",
              "176    19     min_data_leaf             0.05  55.261156  53.167085   \n",
              "\n",
              "     overfitting  \n",
              "766     3.359932  \n",
              "783     3.359932  \n",
              "772     3.359932  \n",
              "771     3.359932  \n",
              "770     3.359932  \n",
              "..           ...  \n",
              "173     2.094071  \n",
              "174     2.094071  \n",
              "175     2.094071  \n",
              "177     2.094071  \n",
              "176     2.094071  \n",
              "\n",
              "[81 rows x 6 columns]"
            ],
            "text/html": [
              "\n",
              "  <div id=\"df-f384017a-523a-4ee3-bb8b-8090179e8442\">\n",
              "    <div class=\"colab-df-container\">\n",
              "      <div>\n",
              "<style scoped>\n",
              "    .dataframe tbody tr th:only-of-type {\n",
              "        vertical-align: middle;\n",
              "    }\n",
              "\n",
              "    .dataframe tbody tr th {\n",
              "        vertical-align: top;\n",
              "    }\n",
              "\n",
              "    .dataframe thead th {\n",
              "        text-align: right;\n",
              "    }\n",
              "</style>\n",
              "<table border=\"1\" class=\"dataframe\">\n",
              "  <thead>\n",
              "    <tr style=\"text-align: right;\">\n",
              "      <th></th>\n",
              "      <th>iter</th>\n",
              "      <th>paramName</th>\n",
              "      <th>paramValue</th>\n",
              "      <th>giniTrain</th>\n",
              "      <th>giniTest</th>\n",
              "      <th>overfitting</th>\n",
              "    </tr>\n",
              "  </thead>\n",
              "  <tbody>\n",
              "    <tr>\n",
              "      <th>766</th>\n",
              "      <td>85</td>\n",
              "      <td>max_depth</td>\n",
              "      <td>6</td>\n",
              "      <td>66.636456</td>\n",
              "      <td>63.276524</td>\n",
              "      <td>3.359932</td>\n",
              "    </tr>\n",
              "    <tr>\n",
              "      <th>783</th>\n",
              "      <td>87</td>\n",
              "      <td>objetive</td>\n",
              "      <td>binary_logistic</td>\n",
              "      <td>66.636456</td>\n",
              "      <td>63.276524</td>\n",
              "      <td>3.359932</td>\n",
              "    </tr>\n",
              "    <tr>\n",
              "      <th>772</th>\n",
              "      <td>85</td>\n",
              "      <td>min_child_weight</td>\n",
              "      <td>3</td>\n",
              "      <td>66.636456</td>\n",
              "      <td>63.276524</td>\n",
              "      <td>3.359932</td>\n",
              "    </tr>\n",
              "    <tr>\n",
              "      <th>771</th>\n",
              "      <td>85</td>\n",
              "      <td>grow_policy</td>\n",
              "      <td>lossguide</td>\n",
              "      <td>66.636456</td>\n",
              "      <td>63.276524</td>\n",
              "      <td>3.359932</td>\n",
              "    </tr>\n",
              "    <tr>\n",
              "      <th>770</th>\n",
              "      <td>85</td>\n",
              "      <td>min_data_leaf</td>\n",
              "      <td>0.15</td>\n",
              "      <td>66.636456</td>\n",
              "      <td>63.276524</td>\n",
              "      <td>3.359932</td>\n",
              "    </tr>\n",
              "    <tr>\n",
              "      <th>...</th>\n",
              "      <td>...</td>\n",
              "      <td>...</td>\n",
              "      <td>...</td>\n",
              "      <td>...</td>\n",
              "      <td>...</td>\n",
              "      <td>...</td>\n",
              "    </tr>\n",
              "    <tr>\n",
              "      <th>173</th>\n",
              "      <td>19</td>\n",
              "      <td>learning_rate</td>\n",
              "      <td>0.02</td>\n",
              "      <td>55.261156</td>\n",
              "      <td>53.167085</td>\n",
              "      <td>2.094071</td>\n",
              "    </tr>\n",
              "    <tr>\n",
              "      <th>174</th>\n",
              "      <td>19</td>\n",
              "      <td>seed</td>\n",
              "      <td>123</td>\n",
              "      <td>55.261156</td>\n",
              "      <td>53.167085</td>\n",
              "      <td>2.094071</td>\n",
              "    </tr>\n",
              "    <tr>\n",
              "      <th>175</th>\n",
              "      <td>19</td>\n",
              "      <td>max_leaves</td>\n",
              "      <td>8</td>\n",
              "      <td>55.261156</td>\n",
              "      <td>53.167085</td>\n",
              "      <td>2.094071</td>\n",
              "    </tr>\n",
              "    <tr>\n",
              "      <th>177</th>\n",
              "      <td>19</td>\n",
              "      <td>grow_policy</td>\n",
              "      <td>lossguide</td>\n",
              "      <td>55.261156</td>\n",
              "      <td>53.167085</td>\n",
              "      <td>2.094071</td>\n",
              "    </tr>\n",
              "    <tr>\n",
              "      <th>176</th>\n",
              "      <td>19</td>\n",
              "      <td>min_data_leaf</td>\n",
              "      <td>0.05</td>\n",
              "      <td>55.261156</td>\n",
              "      <td>53.167085</td>\n",
              "      <td>2.094071</td>\n",
              "    </tr>\n",
              "  </tbody>\n",
              "</table>\n",
              "<p>81 rows × 6 columns</p>\n",
              "</div>\n",
              "      <button class=\"colab-df-convert\" onclick=\"convertToInteractive('df-f384017a-523a-4ee3-bb8b-8090179e8442')\"\n",
              "              title=\"Convert this dataframe to an interactive table.\"\n",
              "              style=\"display:none;\">\n",
              "        \n",
              "  <svg xmlns=\"http://www.w3.org/2000/svg\" height=\"24px\"viewBox=\"0 0 24 24\"\n",
              "       width=\"24px\">\n",
              "    <path d=\"M0 0h24v24H0V0z\" fill=\"none\"/>\n",
              "    <path d=\"M18.56 5.44l.94 2.06.94-2.06 2.06-.94-2.06-.94-.94-2.06-.94 2.06-2.06.94zm-11 1L8.5 8.5l.94-2.06 2.06-.94-2.06-.94L8.5 2.5l-.94 2.06-2.06.94zm10 10l.94 2.06.94-2.06 2.06-.94-2.06-.94-.94-2.06-.94 2.06-2.06.94z\"/><path d=\"M17.41 7.96l-1.37-1.37c-.4-.4-.92-.59-1.43-.59-.52 0-1.04.2-1.43.59L10.3 9.45l-7.72 7.72c-.78.78-.78 2.05 0 2.83L4 21.41c.39.39.9.59 1.41.59.51 0 1.02-.2 1.41-.59l7.78-7.78 2.81-2.81c.8-.78.8-2.07 0-2.86zM5.41 20L4 18.59l7.72-7.72 1.47 1.35L5.41 20z\"/>\n",
              "  </svg>\n",
              "      </button>\n",
              "      \n",
              "  <style>\n",
              "    .colab-df-container {\n",
              "      display:flex;\n",
              "      flex-wrap:wrap;\n",
              "      gap: 12px;\n",
              "    }\n",
              "\n",
              "    .colab-df-convert {\n",
              "      background-color: #E8F0FE;\n",
              "      border: none;\n",
              "      border-radius: 50%;\n",
              "      cursor: pointer;\n",
              "      display: none;\n",
              "      fill: #1967D2;\n",
              "      height: 32px;\n",
              "      padding: 0 0 0 0;\n",
              "      width: 32px;\n",
              "    }\n",
              "\n",
              "    .colab-df-convert:hover {\n",
              "      background-color: #E2EBFA;\n",
              "      box-shadow: 0px 1px 2px rgba(60, 64, 67, 0.3), 0px 1px 3px 1px rgba(60, 64, 67, 0.15);\n",
              "      fill: #174EA6;\n",
              "    }\n",
              "\n",
              "    [theme=dark] .colab-df-convert {\n",
              "      background-color: #3B4455;\n",
              "      fill: #D2E3FC;\n",
              "    }\n",
              "\n",
              "    [theme=dark] .colab-df-convert:hover {\n",
              "      background-color: #434B5C;\n",
              "      box-shadow: 0px 1px 3px 1px rgba(0, 0, 0, 0.15);\n",
              "      filter: drop-shadow(0px 1px 2px rgba(0, 0, 0, 0.3));\n",
              "      fill: #FFFFFF;\n",
              "    }\n",
              "  </style>\n",
              "\n",
              "      <script>\n",
              "        const buttonEl =\n",
              "          document.querySelector('#df-f384017a-523a-4ee3-bb8b-8090179e8442 button.colab-df-convert');\n",
              "        buttonEl.style.display =\n",
              "          google.colab.kernel.accessAllowed ? 'block' : 'none';\n",
              "\n",
              "        async function convertToInteractive(key) {\n",
              "          const element = document.querySelector('#df-f384017a-523a-4ee3-bb8b-8090179e8442');\n",
              "          const dataTable =\n",
              "            await google.colab.kernel.invokeFunction('convertToInteractive',\n",
              "                                                     [key], {});\n",
              "          if (!dataTable) return;\n",
              "\n",
              "          const docLinkHtml = 'Like what you see? Visit the ' +\n",
              "            '<a target=\"_blank\" href=https://colab.research.google.com/notebooks/data_table.ipynb>data table notebook</a>'\n",
              "            + ' to learn more about interactive tables.';\n",
              "          element.innerHTML = '';\n",
              "          dataTable['output_type'] = 'display_data';\n",
              "          await google.colab.output.renderOutput(dataTable, element);\n",
              "          const docLink = document.createElement('div');\n",
              "          docLink.innerHTML = docLinkHtml;\n",
              "          element.appendChild(docLink);\n",
              "        }\n",
              "      </script>\n",
              "    </div>\n",
              "  </div>\n",
              "  "
            ]
          },
          "metadata": {},
          "execution_count": 41
        }
      ]
    },
    {
      "cell_type": "code",
      "source": [
        "pddf[pddf['iter'] == 85]#estos serian los mejores parametros"
      ],
      "metadata": {
        "id": "0VkSdB-Xgyec",
        "outputId": "89c32f57-cecc-4c5c-ce68-ca49bb1f805b",
        "colab": {
          "base_uri": "https://localhost:8080/",
          "height": 331
        }
      },
      "execution_count": 42,
      "outputs": [
        {
          "output_type": "execute_result",
          "data": {
            "text/plain": [
              "     iter         paramName       paramValue  giniTrain   giniTest  \\\n",
              "765    85          objetive  binary_logistic  66.636456  63.276524   \n",
              "766    85         max_depth                6  66.636456  63.276524   \n",
              "767    85     learning_rate             0.01  66.636456  63.276524   \n",
              "768    85              seed              123  66.636456  63.276524   \n",
              "769    85        max_leaves                4  66.636456  63.276524   \n",
              "770    85     min_data_leaf             0.15  66.636456  63.276524   \n",
              "771    85       grow_policy        lossguide  66.636456  63.276524   \n",
              "772    85  min_child_weight                3  66.636456  63.276524   \n",
              "773    85       eval_metric              auc  66.636456  63.276524   \n",
              "\n",
              "     overfitting  \n",
              "765     3.359932  \n",
              "766     3.359932  \n",
              "767     3.359932  \n",
              "768     3.359932  \n",
              "769     3.359932  \n",
              "770     3.359932  \n",
              "771     3.359932  \n",
              "772     3.359932  \n",
              "773     3.359932  "
            ],
            "text/html": [
              "\n",
              "  <div id=\"df-7812d906-d318-4644-b3db-462e2a9fa2a6\">\n",
              "    <div class=\"colab-df-container\">\n",
              "      <div>\n",
              "<style scoped>\n",
              "    .dataframe tbody tr th:only-of-type {\n",
              "        vertical-align: middle;\n",
              "    }\n",
              "\n",
              "    .dataframe tbody tr th {\n",
              "        vertical-align: top;\n",
              "    }\n",
              "\n",
              "    .dataframe thead th {\n",
              "        text-align: right;\n",
              "    }\n",
              "</style>\n",
              "<table border=\"1\" class=\"dataframe\">\n",
              "  <thead>\n",
              "    <tr style=\"text-align: right;\">\n",
              "      <th></th>\n",
              "      <th>iter</th>\n",
              "      <th>paramName</th>\n",
              "      <th>paramValue</th>\n",
              "      <th>giniTrain</th>\n",
              "      <th>giniTest</th>\n",
              "      <th>overfitting</th>\n",
              "    </tr>\n",
              "  </thead>\n",
              "  <tbody>\n",
              "    <tr>\n",
              "      <th>765</th>\n",
              "      <td>85</td>\n",
              "      <td>objetive</td>\n",
              "      <td>binary_logistic</td>\n",
              "      <td>66.636456</td>\n",
              "      <td>63.276524</td>\n",
              "      <td>3.359932</td>\n",
              "    </tr>\n",
              "    <tr>\n",
              "      <th>766</th>\n",
              "      <td>85</td>\n",
              "      <td>max_depth</td>\n",
              "      <td>6</td>\n",
              "      <td>66.636456</td>\n",
              "      <td>63.276524</td>\n",
              "      <td>3.359932</td>\n",
              "    </tr>\n",
              "    <tr>\n",
              "      <th>767</th>\n",
              "      <td>85</td>\n",
              "      <td>learning_rate</td>\n",
              "      <td>0.01</td>\n",
              "      <td>66.636456</td>\n",
              "      <td>63.276524</td>\n",
              "      <td>3.359932</td>\n",
              "    </tr>\n",
              "    <tr>\n",
              "      <th>768</th>\n",
              "      <td>85</td>\n",
              "      <td>seed</td>\n",
              "      <td>123</td>\n",
              "      <td>66.636456</td>\n",
              "      <td>63.276524</td>\n",
              "      <td>3.359932</td>\n",
              "    </tr>\n",
              "    <tr>\n",
              "      <th>769</th>\n",
              "      <td>85</td>\n",
              "      <td>max_leaves</td>\n",
              "      <td>4</td>\n",
              "      <td>66.636456</td>\n",
              "      <td>63.276524</td>\n",
              "      <td>3.359932</td>\n",
              "    </tr>\n",
              "    <tr>\n",
              "      <th>770</th>\n",
              "      <td>85</td>\n",
              "      <td>min_data_leaf</td>\n",
              "      <td>0.15</td>\n",
              "      <td>66.636456</td>\n",
              "      <td>63.276524</td>\n",
              "      <td>3.359932</td>\n",
              "    </tr>\n",
              "    <tr>\n",
              "      <th>771</th>\n",
              "      <td>85</td>\n",
              "      <td>grow_policy</td>\n",
              "      <td>lossguide</td>\n",
              "      <td>66.636456</td>\n",
              "      <td>63.276524</td>\n",
              "      <td>3.359932</td>\n",
              "    </tr>\n",
              "    <tr>\n",
              "      <th>772</th>\n",
              "      <td>85</td>\n",
              "      <td>min_child_weight</td>\n",
              "      <td>3</td>\n",
              "      <td>66.636456</td>\n",
              "      <td>63.276524</td>\n",
              "      <td>3.359932</td>\n",
              "    </tr>\n",
              "    <tr>\n",
              "      <th>773</th>\n",
              "      <td>85</td>\n",
              "      <td>eval_metric</td>\n",
              "      <td>auc</td>\n",
              "      <td>66.636456</td>\n",
              "      <td>63.276524</td>\n",
              "      <td>3.359932</td>\n",
              "    </tr>\n",
              "  </tbody>\n",
              "</table>\n",
              "</div>\n",
              "      <button class=\"colab-df-convert\" onclick=\"convertToInteractive('df-7812d906-d318-4644-b3db-462e2a9fa2a6')\"\n",
              "              title=\"Convert this dataframe to an interactive table.\"\n",
              "              style=\"display:none;\">\n",
              "        \n",
              "  <svg xmlns=\"http://www.w3.org/2000/svg\" height=\"24px\"viewBox=\"0 0 24 24\"\n",
              "       width=\"24px\">\n",
              "    <path d=\"M0 0h24v24H0V0z\" fill=\"none\"/>\n",
              "    <path d=\"M18.56 5.44l.94 2.06.94-2.06 2.06-.94-2.06-.94-.94-2.06-.94 2.06-2.06.94zm-11 1L8.5 8.5l.94-2.06 2.06-.94-2.06-.94L8.5 2.5l-.94 2.06-2.06.94zm10 10l.94 2.06.94-2.06 2.06-.94-2.06-.94-.94-2.06-.94 2.06-2.06.94z\"/><path d=\"M17.41 7.96l-1.37-1.37c-.4-.4-.92-.59-1.43-.59-.52 0-1.04.2-1.43.59L10.3 9.45l-7.72 7.72c-.78.78-.78 2.05 0 2.83L4 21.41c.39.39.9.59 1.41.59.51 0 1.02-.2 1.41-.59l7.78-7.78 2.81-2.81c.8-.78.8-2.07 0-2.86zM5.41 20L4 18.59l7.72-7.72 1.47 1.35L5.41 20z\"/>\n",
              "  </svg>\n",
              "      </button>\n",
              "      \n",
              "  <style>\n",
              "    .colab-df-container {\n",
              "      display:flex;\n",
              "      flex-wrap:wrap;\n",
              "      gap: 12px;\n",
              "    }\n",
              "\n",
              "    .colab-df-convert {\n",
              "      background-color: #E8F0FE;\n",
              "      border: none;\n",
              "      border-radius: 50%;\n",
              "      cursor: pointer;\n",
              "      display: none;\n",
              "      fill: #1967D2;\n",
              "      height: 32px;\n",
              "      padding: 0 0 0 0;\n",
              "      width: 32px;\n",
              "    }\n",
              "\n",
              "    .colab-df-convert:hover {\n",
              "      background-color: #E2EBFA;\n",
              "      box-shadow: 0px 1px 2px rgba(60, 64, 67, 0.3), 0px 1px 3px 1px rgba(60, 64, 67, 0.15);\n",
              "      fill: #174EA6;\n",
              "    }\n",
              "\n",
              "    [theme=dark] .colab-df-convert {\n",
              "      background-color: #3B4455;\n",
              "      fill: #D2E3FC;\n",
              "    }\n",
              "\n",
              "    [theme=dark] .colab-df-convert:hover {\n",
              "      background-color: #434B5C;\n",
              "      box-shadow: 0px 1px 3px 1px rgba(0, 0, 0, 0.15);\n",
              "      filter: drop-shadow(0px 1px 2px rgba(0, 0, 0, 0.3));\n",
              "      fill: #FFFFFF;\n",
              "    }\n",
              "  </style>\n",
              "\n",
              "      <script>\n",
              "        const buttonEl =\n",
              "          document.querySelector('#df-7812d906-d318-4644-b3db-462e2a9fa2a6 button.colab-df-convert');\n",
              "        buttonEl.style.display =\n",
              "          google.colab.kernel.accessAllowed ? 'block' : 'none';\n",
              "\n",
              "        async function convertToInteractive(key) {\n",
              "          const element = document.querySelector('#df-7812d906-d318-4644-b3db-462e2a9fa2a6');\n",
              "          const dataTable =\n",
              "            await google.colab.kernel.invokeFunction('convertToInteractive',\n",
              "                                                     [key], {});\n",
              "          if (!dataTable) return;\n",
              "\n",
              "          const docLinkHtml = 'Like what you see? Visit the ' +\n",
              "            '<a target=\"_blank\" href=https://colab.research.google.com/notebooks/data_table.ipynb>data table notebook</a>'\n",
              "            + ' to learn more about interactive tables.';\n",
              "          element.innerHTML = '';\n",
              "          dataTable['output_type'] = 'display_data';\n",
              "          await google.colab.output.renderOutput(dataTable, element);\n",
              "          const docLink = document.createElement('div');\n",
              "          docLink.innerHTML = docLinkHtml;\n",
              "          element.appendChild(docLink);\n",
              "        }\n",
              "      </script>\n",
              "    </div>\n",
              "  </div>\n",
              "  "
            ]
          },
          "metadata": {},
          "execution_count": 42
        }
      ]
    },
    {
      "cell_type": "markdown",
      "source": [
        "Corriendo el modelo con los mejores parametros"
      ],
      "metadata": {
        "id": "vB1x3ql2hz3B"
      }
    },
    {
      "cell_type": "code",
      "source": [
        "# Muestreo de data\n",
        "#Train 60%  Test 20% WatchList 20%\n",
        "#El WatchList es para hacer seguimiento al error\n",
        "\n",
        "from sklearn.model_selection import train_test_split\n",
        "\n",
        "X_train, X_test, y_train, y_test = train_test_split(X, y, \n",
        "                                                    stratify = y,#para cuando se muestree se mantenga la misma proporcion de 0 y 1 en train y test\n",
        "                                                    train_size = 0.6,\n",
        "                                                    random_state = 123)\n"
      ],
      "metadata": {
        "id": "BdPSWN5ihx7C"
      },
      "execution_count": 49,
      "outputs": []
    },
    {
      "cell_type": "code",
      "source": [
        "dtrain = xgb.DMatrix(X_train, label = y_train)\n",
        "dtest  = xgb.DMatrix(X_test, label = y_test)\n",
        "dwatch = xgb.DMatrix(X_watch, label = y_watch)"
      ],
      "metadata": {
        "id": "bXiwJMqNh4pd"
      },
      "execution_count": 50,
      "outputs": []
    },
    {
      "cell_type": "code",
      "source": [
        "# Definiendo parámetros\n",
        "\n",
        "param = {'objetive' : 'binary_logistic',#tipo del modelo, en este caso es un modelo de target logistico\n",
        "         'max_depth' : 6,#profundidad\n",
        "         'learning_rate': 0.01,#cuanto va a aprender el modelo nuevo del modelo anterior, cuanto del modelado del error del arbol pasado le voy a creer y lo voy a utilizar en el arbol siguiente\n",
        "         'min_data_leaf' : 0.15,# cuantas observaciones en las hojas finales del arbol en porcentaje\n",
        "         'max_leaves' : 4,\n",
        "         'min_child_weight' : 3,\n",
        "         'grow_policy' : 'lossguide',\n",
        "         'seed' : 123}\n",
        "\n",
        "param['eval_metric'] = 'auc' #metrica de evaluacion, que en modelos de de clasificacion el AUC es lo mas indicado\n",
        "num_round = 44   #numero de arboles a evaluar      \n",
        "evallist = [(dtrain,'train'), (dwatch,'watchlist')]"
      ],
      "metadata": {
        "id": "o9tnmPj5h4m1"
      },
      "execution_count": 51,
      "outputs": []
    },
    {
      "cell_type": "code",
      "source": [
        "import time\n",
        "\n",
        "start_time = time.time()\n",
        "xgBoost = xgb.train(param, dtrain, num_round, evallist)#, \n",
        "                   # early_stopping_rounds = 5)\n",
        "print(\"----%s seconds ---\" % ((time.time() - start_time)))"
      ],
      "metadata": {
        "id": "Hg4uJ5Ubh4kP",
        "outputId": "b31cf2a5-502b-4c6f-d120-8dd8b39d3f07",
        "colab": {
          "base_uri": "https://localhost:8080/"
        }
      },
      "execution_count": 52,
      "outputs": [
        {
          "output_type": "stream",
          "name": "stderr",
          "text": [
            "/usr/local/lib/python3.10/dist-packages/xgboost/core.py:617: FutureWarning: Pass `evals` as keyword args.\n",
            "  warnings.warn(msg, FutureWarning)\n"
          ]
        },
        {
          "output_type": "stream",
          "name": "stdout",
          "text": [
            "[05:52:32] WARNING: ../src/learner.cc:767: \n",
            "Parameters: { \"min_data_leaf\", \"objetive\" } are not used.\n",
            "\n",
            "[0]\ttrain-auc:0.83585\twatchlist-auc:0.79865\n",
            "[1]\ttrain-auc:0.83580\twatchlist-auc:0.79860\n",
            "[2]\ttrain-auc:0.83790\twatchlist-auc:0.80006\n",
            "[3]\ttrain-auc:0.83841\twatchlist-auc:0.80067\n",
            "[4]\ttrain-auc:0.84012\twatchlist-auc:0.80154\n",
            "[5]\ttrain-auc:0.83929\twatchlist-auc:0.80109\n",
            "[6]\ttrain-auc:0.84047\twatchlist-auc:0.80163\n",
            "[7]\ttrain-auc:0.84098\twatchlist-auc:0.80313\n",
            "[8]\ttrain-auc:0.84137\twatchlist-auc:0.80315\n",
            "[9]\ttrain-auc:0.84206\twatchlist-auc:0.80305\n",
            "[10]\ttrain-auc:0.84195\twatchlist-auc:0.80308\n",
            "[11]\ttrain-auc:0.84216\twatchlist-auc:0.80301\n",
            "[12]\ttrain-auc:0.84230\twatchlist-auc:0.80302\n",
            "[13]\ttrain-auc:0.84259\twatchlist-auc:0.80235\n",
            "[14]\ttrain-auc:0.84370\twatchlist-auc:0.80302\n",
            "[15]\ttrain-auc:0.84373\twatchlist-auc:0.80307\n",
            "[16]\ttrain-auc:0.84391\twatchlist-auc:0.80303\n",
            "[17]\ttrain-auc:0.84422\twatchlist-auc:0.80332\n",
            "[18]\ttrain-auc:0.84418\twatchlist-auc:0.80285\n",
            "[19]\ttrain-auc:0.84456\twatchlist-auc:0.80326\n",
            "[20]\ttrain-auc:0.84502\twatchlist-auc:0.80361\n",
            "[21]\ttrain-auc:0.84509\twatchlist-auc:0.80341\n",
            "[22]\ttrain-auc:0.84530\twatchlist-auc:0.80384\n",
            "[23]\ttrain-auc:0.84547\twatchlist-auc:0.80334\n",
            "[24]\ttrain-auc:0.84609\twatchlist-auc:0.80355\n",
            "[25]\ttrain-auc:0.84670\twatchlist-auc:0.80342\n",
            "[26]\ttrain-auc:0.84653\twatchlist-auc:0.80325\n",
            "[27]\ttrain-auc:0.84666\twatchlist-auc:0.80344\n",
            "[28]\ttrain-auc:0.84715\twatchlist-auc:0.80365\n",
            "[29]\ttrain-auc:0.84709\twatchlist-auc:0.80348\n",
            "[30]\ttrain-auc:0.84735\twatchlist-auc:0.80375\n",
            "[31]\ttrain-auc:0.84795\twatchlist-auc:0.80376\n",
            "[32]\ttrain-auc:0.84860\twatchlist-auc:0.80422\n",
            "[33]\ttrain-auc:0.84877\twatchlist-auc:0.80421\n",
            "[34]\ttrain-auc:0.84877\twatchlist-auc:0.80420\n",
            "[35]\ttrain-auc:0.84895\twatchlist-auc:0.80346\n",
            "[36]\ttrain-auc:0.84933\twatchlist-auc:0.80470\n",
            "[37]\ttrain-auc:0.84971\twatchlist-auc:0.80492\n",
            "[38]\ttrain-auc:0.85169\twatchlist-auc:0.80686\n",
            "[39]\ttrain-auc:0.85181\twatchlist-auc:0.80700\n",
            "[40]\ttrain-auc:0.85198\twatchlist-auc:0.80707\n",
            "[41]\ttrain-auc:0.85209\twatchlist-auc:0.80725\n",
            "[42]\ttrain-auc:0.85235\twatchlist-auc:0.80724\n",
            "[43]\ttrain-auc:0.85255\twatchlist-auc:0.80710\n",
            "----17.93130660057068 seconds ---\n"
          ]
        }
      ]
    },
    {
      "cell_type": "code",
      "source": [
        "# Usando el modelo para predecir\n",
        "\n",
        "X_train['probability']  = xgBoost.predict(xgb.DMatrix(X_train[features], label = y_train))\n",
        "X_test['probability'] = xgBoost.predict(xgb.DMatrix(X_test[features], label = y_test))\n",
        "\n",
        "X_train['prediction']  = X_train.probability.apply(lambda x: 1 if x > 0.5 else 0)\n",
        "X_test['prediction'] = X_test.probability.apply(lambda x: 1 if x > 0.5 else 0)\n"
      ],
      "metadata": {
        "id": "SFCr1TzOh4fX"
      },
      "execution_count": 53,
      "outputs": []
    },
    {
      "cell_type": "code",
      "source": [
        "#Resumen de todas las métricas del modelo\n",
        "from sklearn.metrics import *\n",
        "\n",
        "metricsXGB = pd.DataFrame({'metric':['AUC','Gini','Accuracy','Precision','Recall','F1-score'],\n",
        "                                'xgb_train':[roc_auc_score(y_train, X_train.probability),\n",
        "                                        (roc_auc_score(y_train, X_train.probability)*2-1),\n",
        "                                        accuracy_score(y_train, X_train.prediction),\n",
        "                                        precision_score(y_train, X_train.prediction),\n",
        "                                        recall_score(y_train, X_train.prediction),\n",
        "                                        f1_score(y_train, X_train.prediction)],\n",
        "\n",
        "                                'xgb_test':[roc_auc_score(y_test, X_test.probability),\n",
        "                                        (roc_auc_score(y_test, X_test.probability)*2-1),\n",
        "                                        accuracy_score(y_test, X_test.prediction),\n",
        "                                        precision_score(y_test, X_test.prediction),\n",
        "                                        recall_score(y_test, X_test.prediction),\n",
        "                                        f1_score(y_test, X_test.prediction)]})\n",
        "\n",
        "metricsXGB"
      ],
      "metadata": {
        "id": "Y1hYLD2Jjd3A",
        "outputId": "98a82526-6d8a-4005-e19b-9507f9c56f86",
        "colab": {
          "base_uri": "https://localhost:8080/",
          "height": 237
        }
      },
      "execution_count": 54,
      "outputs": [
        {
          "output_type": "execute_result",
          "data": {
            "text/plain": [
              "      metric  xgb_train  xgb_test\n",
              "0        AUC   0.852547  0.822900\n",
              "1       Gini   0.705094  0.645801\n",
              "2   Accuracy   0.960953  0.960274\n",
              "3  Precision   1.000000  0.272727\n",
              "4     Recall   0.013296  0.002494\n",
              "5   F1-score   0.026244  0.004942"
            ],
            "text/html": [
              "\n",
              "  <div id=\"df-26fd8e19-43ee-47e9-ad5a-a527d42da70f\">\n",
              "    <div class=\"colab-df-container\">\n",
              "      <div>\n",
              "<style scoped>\n",
              "    .dataframe tbody tr th:only-of-type {\n",
              "        vertical-align: middle;\n",
              "    }\n",
              "\n",
              "    .dataframe tbody tr th {\n",
              "        vertical-align: top;\n",
              "    }\n",
              "\n",
              "    .dataframe thead th {\n",
              "        text-align: right;\n",
              "    }\n",
              "</style>\n",
              "<table border=\"1\" class=\"dataframe\">\n",
              "  <thead>\n",
              "    <tr style=\"text-align: right;\">\n",
              "      <th></th>\n",
              "      <th>metric</th>\n",
              "      <th>xgb_train</th>\n",
              "      <th>xgb_test</th>\n",
              "    </tr>\n",
              "  </thead>\n",
              "  <tbody>\n",
              "    <tr>\n",
              "      <th>0</th>\n",
              "      <td>AUC</td>\n",
              "      <td>0.852547</td>\n",
              "      <td>0.822900</td>\n",
              "    </tr>\n",
              "    <tr>\n",
              "      <th>1</th>\n",
              "      <td>Gini</td>\n",
              "      <td>0.705094</td>\n",
              "      <td>0.645801</td>\n",
              "    </tr>\n",
              "    <tr>\n",
              "      <th>2</th>\n",
              "      <td>Accuracy</td>\n",
              "      <td>0.960953</td>\n",
              "      <td>0.960274</td>\n",
              "    </tr>\n",
              "    <tr>\n",
              "      <th>3</th>\n",
              "      <td>Precision</td>\n",
              "      <td>1.000000</td>\n",
              "      <td>0.272727</td>\n",
              "    </tr>\n",
              "    <tr>\n",
              "      <th>4</th>\n",
              "      <td>Recall</td>\n",
              "      <td>0.013296</td>\n",
              "      <td>0.002494</td>\n",
              "    </tr>\n",
              "    <tr>\n",
              "      <th>5</th>\n",
              "      <td>F1-score</td>\n",
              "      <td>0.026244</td>\n",
              "      <td>0.004942</td>\n",
              "    </tr>\n",
              "  </tbody>\n",
              "</table>\n",
              "</div>\n",
              "      <button class=\"colab-df-convert\" onclick=\"convertToInteractive('df-26fd8e19-43ee-47e9-ad5a-a527d42da70f')\"\n",
              "              title=\"Convert this dataframe to an interactive table.\"\n",
              "              style=\"display:none;\">\n",
              "        \n",
              "  <svg xmlns=\"http://www.w3.org/2000/svg\" height=\"24px\"viewBox=\"0 0 24 24\"\n",
              "       width=\"24px\">\n",
              "    <path d=\"M0 0h24v24H0V0z\" fill=\"none\"/>\n",
              "    <path d=\"M18.56 5.44l.94 2.06.94-2.06 2.06-.94-2.06-.94-.94-2.06-.94 2.06-2.06.94zm-11 1L8.5 8.5l.94-2.06 2.06-.94-2.06-.94L8.5 2.5l-.94 2.06-2.06.94zm10 10l.94 2.06.94-2.06 2.06-.94-2.06-.94-.94-2.06-.94 2.06-2.06.94z\"/><path d=\"M17.41 7.96l-1.37-1.37c-.4-.4-.92-.59-1.43-.59-.52 0-1.04.2-1.43.59L10.3 9.45l-7.72 7.72c-.78.78-.78 2.05 0 2.83L4 21.41c.39.39.9.59 1.41.59.51 0 1.02-.2 1.41-.59l7.78-7.78 2.81-2.81c.8-.78.8-2.07 0-2.86zM5.41 20L4 18.59l7.72-7.72 1.47 1.35L5.41 20z\"/>\n",
              "  </svg>\n",
              "      </button>\n",
              "      \n",
              "  <style>\n",
              "    .colab-df-container {\n",
              "      display:flex;\n",
              "      flex-wrap:wrap;\n",
              "      gap: 12px;\n",
              "    }\n",
              "\n",
              "    .colab-df-convert {\n",
              "      background-color: #E8F0FE;\n",
              "      border: none;\n",
              "      border-radius: 50%;\n",
              "      cursor: pointer;\n",
              "      display: none;\n",
              "      fill: #1967D2;\n",
              "      height: 32px;\n",
              "      padding: 0 0 0 0;\n",
              "      width: 32px;\n",
              "    }\n",
              "\n",
              "    .colab-df-convert:hover {\n",
              "      background-color: #E2EBFA;\n",
              "      box-shadow: 0px 1px 2px rgba(60, 64, 67, 0.3), 0px 1px 3px 1px rgba(60, 64, 67, 0.15);\n",
              "      fill: #174EA6;\n",
              "    }\n",
              "\n",
              "    [theme=dark] .colab-df-convert {\n",
              "      background-color: #3B4455;\n",
              "      fill: #D2E3FC;\n",
              "    }\n",
              "\n",
              "    [theme=dark] .colab-df-convert:hover {\n",
              "      background-color: #434B5C;\n",
              "      box-shadow: 0px 1px 3px 1px rgba(0, 0, 0, 0.15);\n",
              "      filter: drop-shadow(0px 1px 2px rgba(0, 0, 0, 0.3));\n",
              "      fill: #FFFFFF;\n",
              "    }\n",
              "  </style>\n",
              "\n",
              "      <script>\n",
              "        const buttonEl =\n",
              "          document.querySelector('#df-26fd8e19-43ee-47e9-ad5a-a527d42da70f button.colab-df-convert');\n",
              "        buttonEl.style.display =\n",
              "          google.colab.kernel.accessAllowed ? 'block' : 'none';\n",
              "\n",
              "        async function convertToInteractive(key) {\n",
              "          const element = document.querySelector('#df-26fd8e19-43ee-47e9-ad5a-a527d42da70f');\n",
              "          const dataTable =\n",
              "            await google.colab.kernel.invokeFunction('convertToInteractive',\n",
              "                                                     [key], {});\n",
              "          if (!dataTable) return;\n",
              "\n",
              "          const docLinkHtml = 'Like what you see? Visit the ' +\n",
              "            '<a target=\"_blank\" href=https://colab.research.google.com/notebooks/data_table.ipynb>data table notebook</a>'\n",
              "            + ' to learn more about interactive tables.';\n",
              "          element.innerHTML = '';\n",
              "          dataTable['output_type'] = 'display_data';\n",
              "          await google.colab.output.renderOutput(dataTable, element);\n",
              "          const docLink = document.createElement('div');\n",
              "          docLink.innerHTML = docLinkHtml;\n",
              "          element.appendChild(docLink);\n",
              "        }\n",
              "      </script>\n",
              "    </div>\n",
              "  </div>\n",
              "  "
            ]
          },
          "metadata": {},
          "execution_count": 54
        }
      ]
    },
    {
      "cell_type": "code",
      "metadata": {
        "id": "HHbUYYLSfLo6"
      },
      "source": [
        "import seaborn as sns\n",
        "import matplotlib.pyplot as plt\n"
      ],
      "execution_count": null,
      "outputs": []
    },
    {
      "cell_type": "code",
      "metadata": {
        "id": "OsXym2Dpe4Ok",
        "colab": {
          "base_uri": "https://localhost:8080/",
          "height": 472
        },
        "outputId": "2b1a3fed-be62-40c6-a519-d0b1e73a4e80"
      },
      "source": [
        "pdResults = pdResults[~pdResults.paramName.isin(['objective', 'eval_metric', 'eta'])]\n",
        "set(pdResults['paramName'])\n",
        "\n",
        "\n",
        "sns.FacetGrid(pdResults.loc[pdResults.paramName=='learning_rate'],\n",
        "              row=\"paramName\", \n",
        "              sharex=False, size=5, aspect=1.5).\\\n",
        "          map(sns.boxplot,\n",
        "              'paramValue',\n",
        "              'giniTest')"
      ],
      "execution_count": null,
      "outputs": [
        {
          "output_type": "stream",
          "name": "stderr",
          "text": [
            "/usr/local/lib/python3.7/dist-packages/seaborn/axisgrid.py:337: UserWarning: The `size` parameter has been renamed to `height`; please update your code.\n",
            "  warnings.warn(msg, UserWarning)\n",
            "/usr/local/lib/python3.7/dist-packages/seaborn/axisgrid.py:670: UserWarning: Using the boxplot function without specifying `order` is likely to produce an incorrect plot.\n",
            "  warnings.warn(warning)\n"
          ]
        },
        {
          "output_type": "execute_result",
          "data": {
            "text/plain": [
              "<seaborn.axisgrid.FacetGrid at 0x7f9c30859690>"
            ]
          },
          "metadata": {},
          "execution_count": 100
        },
        {
          "output_type": "display_data",
          "data": {
            "text/plain": [
              "<Figure size 540x360 with 1 Axes>"
            ],
            "image/png": "[encoded data removed]"
          },
          "metadata": {}
        }
      ]
    },
    {
      "cell_type": "code",
      "metadata": {
        "id": "mQJt2G5TU0IJ",
        "colab": {
          "base_uri": "https://localhost:8080/",
          "height": 472
        },
        "outputId": "45af47c6-9f2b-4fc8-8226-a0ef9aeffb21"
      },
      "source": [
        "sns.FacetGrid(pdResults.loc[pdResults.paramName=='max_depth'],\n",
        "              row=\"paramName\", \n",
        "              sharex=False, size=5, aspect=1.5).\\\n",
        "          map(sns.boxplot,\n",
        "              'paramValue',\n",
        "              'giniTest')"
      ],
      "execution_count": null,
      "outputs": [
        {
          "output_type": "stream",
          "name": "stderr",
          "text": [
            "/usr/local/lib/python3.7/dist-packages/seaborn/axisgrid.py:337: UserWarning: The `size` parameter has been renamed to `height`; please update your code.\n",
            "  warnings.warn(msg, UserWarning)\n",
            "/usr/local/lib/python3.7/dist-packages/seaborn/axisgrid.py:670: UserWarning: Using the boxplot function without specifying `order` is likely to produce an incorrect plot.\n",
            "  warnings.warn(warning)\n"
          ]
        },
        {
          "output_type": "execute_result",
          "data": {
            "text/plain": [
              "<seaborn.axisgrid.FacetGrid at 0x7f9c3081d590>"
            ]
          },
          "metadata": {},
          "execution_count": 101
        },
        {
          "output_type": "display_data",
          "data": {
            "text/plain": [
              "<Figure size 540x360 with 1 Axes>"
            ],
            "image/png": "[encoded data removed]"
          },
          "metadata": {}
        }
      ]
    },
    {
      "cell_type": "markdown",
      "metadata": {
        "id": "4iMhUa5-gNCX"
      },
      "source": [
        "# Implementación de Modelos"
      ]
    },
    {
      "cell_type": "code",
      "metadata": {
        "id": "KYP3ZL4HgoGJ"
      },
      "source": [
        "import pickle"
      ],
      "execution_count": null,
      "outputs": []
    },
    {
      "cell_type": "code",
      "metadata": {
        "id": "VDD_3bR1gSGv",
        "colab": {
          "base_uri": "https://localhost:8080/"
        },
        "outputId": "75f775cf-1ac1-4f6d-af2d-d254f340137e"
      },
      "source": [
        "xgBoost"
      ],
      "execution_count": null,
      "outputs": [
        {
          "output_type": "execute_result",
          "data": {
            "text/plain": [
              "<xgboost.core.Booster at 0x7f9c257896d0>"
            ]
          },
          "metadata": {},
          "execution_count": 103
        }
      ]
    },
    {
      "cell_type": "code",
      "metadata": {
        "id": "jSXX5_Qsgx9B",
        "colab": {
          "base_uri": "https://localhost:8080/"
        },
        "outputId": "68054d5c-8c50-4d42-8643-73c2fc9e3516"
      },
      "source": [
        "objectToSave = xgBoost\n",
        "filename = \"./XGBoost.xgb\"\n",
        "pickle.dump(objectToSave, open(filename, 'wb'))\n",
        "print(\"done\")"
      ],
      "execution_count": null,
      "outputs": [
        {
          "output_type": "stream",
          "name": "stdout",
          "text": [
            "done\n"
          ]
        }
      ]
    },
    {
      "cell_type": "code",
      "source": [
        "loaded_model"
      ],
      "metadata": {
        "id": "TgGVHROrjk_X"
      },
      "execution_count": null,
      "outputs": []
    },
    {
      "cell_type": "code",
      "metadata": {
        "id": "HfhT8AyRhdSj"
      },
      "source": [
        "filename = \"./XGBoost.xgb\"\n",
        "loaded_model = pickle.load(open(filename, 'rb'))"
      ],
      "execution_count": null,
      "outputs": []
    },
    {
      "cell_type": "code",
      "metadata": {
        "id": "RWdsHBSrhteA",
        "colab": {
          "base_uri": "https://localhost:8080/"
        },
        "outputId": "0204930e-b73a-471c-9437-14d9e7a005eb"
      },
      "source": [
        "loaded_model"
      ],
      "execution_count": null,
      "outputs": [
        {
          "output_type": "execute_result",
          "data": {
            "text/plain": [
              "<xgboost.core.Booster at 0x7f9c308dc890>"
            ]
          },
          "metadata": {},
          "execution_count": 107
        }
      ]
    },
    {
      "cell_type": "code",
      "metadata": {
        "id": "SjPOv4jG-2Oc",
        "colab": {
          "base_uri": "https://localhost:8080/"
        },
        "outputId": "d6333a28-4687-413b-df1c-58fcf2e7e875"
      },
      "source": [
        "loaded_model.predict(xgb.DMatrix(X_test[features], label = y_test))\n"
      ],
      "execution_count": null,
      "outputs": [
        {
          "output_type": "execute_result",
          "data": {
            "text/plain": [
              "array([0.05334991, 0.07263374, 0.0490824 , ..., 0.05132154, 0.14337361,\n",
              "       0.05334991], dtype=float32)"
            ]
          },
          "metadata": {},
          "execution_count": 108
        }
      ]
    },
    {
      "cell_type": "markdown",
      "metadata": {
        "id": "x-4g7hHrRY22"
      },
      "source": [
        "---\n",
        "\n",
        "# Gracias por completar este laboratorio!\n",
        "\n",
        "---\n",
        "\n"
      ]
    }
  ]
}
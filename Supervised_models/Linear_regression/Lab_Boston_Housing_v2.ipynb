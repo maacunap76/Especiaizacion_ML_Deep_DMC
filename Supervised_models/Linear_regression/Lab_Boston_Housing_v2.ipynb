{
  "nbformat": 4,
  "nbformat_minor": 0,
  "metadata": {
    "colab": {
      "name": "Lab: Boston Housing.ipynb",
      "provenance": [],
      "machine_shape": "hm",
      "include_colab_link": true
    },
    "kernelspec": {
      "name": "python3",
      "display_name": "Python 3"
    }
  },
  "cells": [
    {
      "cell_type": "markdown",
      "metadata": {
        "id": "view-in-github",
        "colab_type": "text"
      },
      "source": [
        "<a href=\"https://colab.research.google.com/github/maacunap76/Especiaizacion_ML_Deep_DMC/blob/main/Supervised_models/Linear_regression/Lab_Boston_Housing_v2.ipynb\" target=\"_parent\"><img src=\"https://colab.research.google.com/assets/colab-badge.svg\" alt=\"Open In Colab\"/></a>"
      ]
    },
    {
      "cell_type": "markdown",
      "metadata": {
        "id": "XkAemYVYi7k5"
      },
      "source": [
        "\n",
        "<h1 align=center><font size = 5>Boston Housing</font></h1>\n",
        "\n",
        "---"
      ]
    },
    {
      "cell_type": "markdown",
      "metadata": {
        "button": false,
        "deletable": true,
        "new_sheet": false,
        "run_control": {
          "read_only": false
        },
        "id": "R_NIQeNlLo19"
      },
      "source": [
        "## Introducción\n"
      ]
    },
    {
      "cell_type": "markdown",
      "metadata": {
        "id": "g7LRGuxBHMpw"
      },
      "source": [
        "En este laboratorio, aprenderá a usar python para construir un modelo de regresión."
      ]
    },
    {
      "cell_type": "markdown",
      "metadata": {
        "id": "yFB_r2dkHMp7"
      },
      "source": [
        "\n",
        "<h3>Objetivo de este Notebook<h3>    \n",
        "<h5> 1. Como construir e interpretar un modelo de regresión.</h5>\n",
        "<h5> 2. Descargar y limpiar un Dataset </h5>\n",
        "<h5> 3. Realizar los pasos necesarios previos a la etapa de modelamiento </h5>\n",
        "<h5> 4. Entrenar y Testear modelo </h5>     "
      ]
    },
    {
      "cell_type": "markdown",
      "metadata": {
        "id": "Is3nFhGglsft"
      },
      "source": [
        "## Tabla de Contenidos\n",
        "\n",
        "<div class=\"alert alert-block alert-info\" style=\"margin-top: 20px\">\n",
        "\n",
        "<font size = 3>\n",
        "    \n",
        "1. <a href=\"#item31\">Importar Librerías</a>  \n",
        "2. <a href=\"#item32\">Descargar y limpiar el Dataset</a>  \n",
        "3. <a href=\"#item33\">Pre-selección de variables</a> \n",
        "4. <a href=\"#item33\">Preparación de datos</a> \n",
        "5. <a href=\"#item33\">Construir un modelo de regresión lineal</a>  \n",
        "6. <a href=\"#item34\">Entrenar y Testear el modelo</a>  \n",
        "\n",
        "</font>\n",
        "</div>"
      ]
    },
    {
      "cell_type": "markdown",
      "metadata": {
        "button": false,
        "deletable": true,
        "new_sheet": false,
        "run_control": {
          "read_only": false
        },
        "id": "iYo1JVdwmPKW"
      },
      "source": [
        "## Descargar y limpiar Dataset\n"
      ]
    },
    {
      "cell_type": "markdown",
      "metadata": {
        "id": "cWBGqVX6HMp8"
      },
      "source": [
        "Primero, importemos algunos módulos comunes, asegurémonos de que MatplotLib tenga una configuración adecuada para el tamaño de nuestros gráficos. También verificamos que Python 3.5 o posterior esté instalado (aunque Python 2.x puede funcionar, está obsoleto), así como Scikit-Learn ≥0.20."
      ]
    },
    {
      "cell_type": "code",
      "metadata": {
        "id": "YQUbjfMkHMp9"
      },
      "source": [
        "# Scikit-Learn \n",
        "import sklearn\n",
        "\n",
        "# Imports comunes\n",
        "import pandas as pd\n",
        "import numpy as np\n",
        "import os\n",
        "\n",
        "# Configuración de tamaño de gráficos matplotlib\n",
        "%matplotlib inline\n",
        "import matplotlib as mpl\n",
        "import matplotlib.pyplot as plt\n",
        "\n",
        "mpl.rc('axes', labelsize=14)\n",
        "mpl.rc('xtick', labelsize=12)\n",
        "mpl.rc('ytick', labelsize=12)\n",
        "\n",
        "# Cargar seaborn \n",
        "import seaborn as sns\n",
        "sns.set(style=\"whitegrid\", color_codes = True)\n",
        "sns.set(rc={'figure.figsize':(10,6)})\n",
        "\n",
        "# Ignore las advertencias poco útiles\n",
        "import warnings\n",
        "warnings.filterwarnings(action=\"ignore\", message=\"^internal gelsd\")"
      ],
      "execution_count": 1,
      "outputs": []
    },
    {
      "cell_type": "markdown",
      "metadata": {
        "id": "7BOj02v9NFNV"
      },
      "source": [
        "<b>Valores de la vivienda en los suburbios de Boston</b>\n",
        "\n",
        "<h5>La variable <b>medv</b> es la variable objetivo.</h5>\n",
        "\n",
        "<b>Descripción de datos</b>\n",
        "\n",
        "El data frame de Boston tiene 506 filas y 14 columnas.\n",
        "\n",
        "<b>Este data frame contiene las siguientes columnas:</b>\n",
        "\n",
        "---\n",
        "\n",
        "* <b>crim : </b> Tasa de criminalidad per cápita por ciudad.\n",
        "\n",
        "* <b>zn : </b> Proporción de terreno residencial dividido en zonas para lotes de más de 25,000 pies cuadrados.\n",
        "\n",
        "* <b>indus : </b> Proporción de acres comerciales no minoristas por ciudad.\n",
        "\n",
        "* <b>chas : </b> Variable ficticia de Charles River (= 1 si el tramo limita con el río; 0 en caso contrario).\n",
        "\n",
        "* <b>nox : </b>Concentración de óxidos de nitrógeno (partes por 10 millones).\n",
        "\n",
        "* <b>rm : </b>Número medio de habitaciones por vivienda.\n",
        "\n",
        "* <b>años : </b> Proporción de unidades ocupadas por sus propietarios construidas antes de 1940.\n",
        "\n",
        "* <b>dis : </b>Media ponderada de las distancias a cinco centros de empleo de Boston.\n",
        "\n",
        "* <b>rad : </b>Indice de accesibilidad a carreteras radiales.\n",
        "\n",
        "* <b>impuesto : </b>Tasa de impuesto a la propiedad de valor total por \\$ 10,000.\n",
        "\n",
        "* <b>ptratio : </b>Proporción alumno-profesor por ciudad.\n",
        "\n",
        "* <b>black : </b> 1000 (Bk - 0.63) ^ 2 donde Bk es la proporción de negros por ciudad.\n",
        "\n",
        "* <b>lstat : </b>Estatus más bajo de la población (porcentaje).\n",
        "\n",
        "* <b>medv : </b>Valor medio de las viviendas ocupadas por sus propietarios en \\$ 1000.\n",
        "\n",
        "---\n",
        "\n",
        "<strong>Puede consultar este [link](https://kaggle.com/c/boston-housing) para leer más sobre la fuente de datos boston housing.</strong>\n",
        "\n",
        "<strong>Puede descargar la data en este [link](https://www.kaggle.com/datasets/altavish/boston-housing-dataset)</strong>\n"
      ]
    },
    {
      "cell_type": "markdown",
      "source": [
        "## 1. Leyendo y Explorando data"
      ],
      "metadata": {
        "id": "ZuOIP0Tb2Vja"
      }
    },
    {
      "cell_type": "code",
      "metadata": {
        "id": "fcc2Hvp_7jdD"
      },
      "source": [
        "#cargamos la data\n",
        "\n",
        "pddf = pd.read_csv('/HousingData2.csv')"
      ],
      "execution_count": 4,
      "outputs": []
    },
    {
      "cell_type": "code",
      "metadata": {
        "id": "VVGrrHMX3Ka5",
        "colab": {
          "base_uri": "https://localhost:8080/",
          "height": 206
        },
        "outputId": "e47c8494-9740-4803-ef83-e2f1e1f2c4cf"
      },
      "source": [
        "pddf.head()"
      ],
      "execution_count": 5,
      "outputs": [
        {
          "output_type": "execute_result",
          "data": {
            "text/plain": [
              "      CRIM    ZN  INDUS  CHAS    NOX     RM   AGE     DIS  RAD  TAX  PTRATIO  \\\n",
              "0  0.00632  18.0   2.31   0.0  0.538  6.575  65.2  4.0900    1  296     15.3   \n",
              "1  0.02731   0.0   7.07   0.0  0.469  6.421  78.9  4.9671    2  242     17.8   \n",
              "2  0.02729   0.0   7.07   0.0  0.469  7.185  61.1  4.9671    2  242     17.8   \n",
              "3  0.03237   0.0   2.18   0.0  0.458  6.998  45.8  6.0622    3  222     18.7   \n",
              "4  0.06905   0.0   2.18   0.0  0.458  7.147  54.2  6.0622    3  222     18.7   \n",
              "\n",
              "        B  LSTAT  MEDV  \n",
              "0  396.90   4.98  24.0  \n",
              "1  396.90   9.14  21.6  \n",
              "2  392.83   4.03  34.7  \n",
              "3  394.63   2.94  33.4  \n",
              "4  396.90    NaN  36.2  "
            ],
            "text/html": [
              "\n",
              "  <div id=\"df-7872186d-1d22-4d60-93a8-884534762bb8\">\n",
              "    <div class=\"colab-df-container\">\n",
              "      <div>\n",
              "<style scoped>\n",
              "    .dataframe tbody tr th:only-of-type {\n",
              "        vertical-align: middle;\n",
              "    }\n",
              "\n",
              "    .dataframe tbody tr th {\n",
              "        vertical-align: top;\n",
              "    }\n",
              "\n",
              "    .dataframe thead th {\n",
              "        text-align: right;\n",
              "    }\n",
              "</style>\n",
              "<table border=\"1\" class=\"dataframe\">\n",
              "  <thead>\n",
              "    <tr style=\"text-align: right;\">\n",
              "      <th></th>\n",
              "      <th>CRIM</th>\n",
              "      <th>ZN</th>\n",
              "      <th>INDUS</th>\n",
              "      <th>CHAS</th>\n",
              "      <th>NOX</th>\n",
              "      <th>RM</th>\n",
              "      <th>AGE</th>\n",
              "      <th>DIS</th>\n",
              "      <th>RAD</th>\n",
              "      <th>TAX</th>\n",
              "      <th>PTRATIO</th>\n",
              "      <th>B</th>\n",
              "      <th>LSTAT</th>\n",
              "      <th>MEDV</th>\n",
              "    </tr>\n",
              "  </thead>\n",
              "  <tbody>\n",
              "    <tr>\n",
              "      <th>0</th>\n",
              "      <td>0.00632</td>\n",
              "      <td>18.0</td>\n",
              "      <td>2.31</td>\n",
              "      <td>0.0</td>\n",
              "      <td>0.538</td>\n",
              "      <td>6.575</td>\n",
              "      <td>65.2</td>\n",
              "      <td>4.0900</td>\n",
              "      <td>1</td>\n",
              "      <td>296</td>\n",
              "      <td>15.3</td>\n",
              "      <td>396.90</td>\n",
              "      <td>4.98</td>\n",
              "      <td>24.0</td>\n",
              "    </tr>\n",
              "    <tr>\n",
              "      <th>1</th>\n",
              "      <td>0.02731</td>\n",
              "      <td>0.0</td>\n",
              "      <td>7.07</td>\n",
              "      <td>0.0</td>\n",
              "      <td>0.469</td>\n",
              "      <td>6.421</td>\n",
              "      <td>78.9</td>\n",
              "      <td>4.9671</td>\n",
              "      <td>2</td>\n",
              "      <td>242</td>\n",
              "      <td>17.8</td>\n",
              "      <td>396.90</td>\n",
              "      <td>9.14</td>\n",
              "      <td>21.6</td>\n",
              "    </tr>\n",
              "    <tr>\n",
              "      <th>2</th>\n",
              "      <td>0.02729</td>\n",
              "      <td>0.0</td>\n",
              "      <td>7.07</td>\n",
              "      <td>0.0</td>\n",
              "      <td>0.469</td>\n",
              "      <td>7.185</td>\n",
              "      <td>61.1</td>\n",
              "      <td>4.9671</td>\n",
              "      <td>2</td>\n",
              "      <td>242</td>\n",
              "      <td>17.8</td>\n",
              "      <td>392.83</td>\n",
              "      <td>4.03</td>\n",
              "      <td>34.7</td>\n",
              "    </tr>\n",
              "    <tr>\n",
              "      <th>3</th>\n",
              "      <td>0.03237</td>\n",
              "      <td>0.0</td>\n",
              "      <td>2.18</td>\n",
              "      <td>0.0</td>\n",
              "      <td>0.458</td>\n",
              "      <td>6.998</td>\n",
              "      <td>45.8</td>\n",
              "      <td>6.0622</td>\n",
              "      <td>3</td>\n",
              "      <td>222</td>\n",
              "      <td>18.7</td>\n",
              "      <td>394.63</td>\n",
              "      <td>2.94</td>\n",
              "      <td>33.4</td>\n",
              "    </tr>\n",
              "    <tr>\n",
              "      <th>4</th>\n",
              "      <td>0.06905</td>\n",
              "      <td>0.0</td>\n",
              "      <td>2.18</td>\n",
              "      <td>0.0</td>\n",
              "      <td>0.458</td>\n",
              "      <td>7.147</td>\n",
              "      <td>54.2</td>\n",
              "      <td>6.0622</td>\n",
              "      <td>3</td>\n",
              "      <td>222</td>\n",
              "      <td>18.7</td>\n",
              "      <td>396.90</td>\n",
              "      <td>NaN</td>\n",
              "      <td>36.2</td>\n",
              "    </tr>\n",
              "  </tbody>\n",
              "</table>\n",
              "</div>\n",
              "      <button class=\"colab-df-convert\" onclick=\"convertToInteractive('df-7872186d-1d22-4d60-93a8-884534762bb8')\"\n",
              "              title=\"Convert this dataframe to an interactive table.\"\n",
              "              style=\"display:none;\">\n",
              "        \n",
              "  <svg xmlns=\"http://www.w3.org/2000/svg\" height=\"24px\"viewBox=\"0 0 24 24\"\n",
              "       width=\"24px\">\n",
              "    <path d=\"M0 0h24v24H0V0z\" fill=\"none\"/>\n",
              "    <path d=\"M18.56 5.44l.94 2.06.94-2.06 2.06-.94-2.06-.94-.94-2.06-.94 2.06-2.06.94zm-11 1L8.5 8.5l.94-2.06 2.06-.94-2.06-.94L8.5 2.5l-.94 2.06-2.06.94zm10 10l.94 2.06.94-2.06 2.06-.94-2.06-.94-.94-2.06-.94 2.06-2.06.94z\"/><path d=\"M17.41 7.96l-1.37-1.37c-.4-.4-.92-.59-1.43-.59-.52 0-1.04.2-1.43.59L10.3 9.45l-7.72 7.72c-.78.78-.78 2.05 0 2.83L4 21.41c.39.39.9.59 1.41.59.51 0 1.02-.2 1.41-.59l7.78-7.78 2.81-2.81c.8-.78.8-2.07 0-2.86zM5.41 20L4 18.59l7.72-7.72 1.47 1.35L5.41 20z\"/>\n",
              "  </svg>\n",
              "      </button>\n",
              "      \n",
              "  <style>\n",
              "    .colab-df-container {\n",
              "      display:flex;\n",
              "      flex-wrap:wrap;\n",
              "      gap: 12px;\n",
              "    }\n",
              "\n",
              "    .colab-df-convert {\n",
              "      background-color: #E8F0FE;\n",
              "      border: none;\n",
              "      border-radius: 50%;\n",
              "      cursor: pointer;\n",
              "      display: none;\n",
              "      fill: #1967D2;\n",
              "      height: 32px;\n",
              "      padding: 0 0 0 0;\n",
              "      width: 32px;\n",
              "    }\n",
              "\n",
              "    .colab-df-convert:hover {\n",
              "      background-color: #E2EBFA;\n",
              "      box-shadow: 0px 1px 2px rgba(60, 64, 67, 0.3), 0px 1px 3px 1px rgba(60, 64, 67, 0.15);\n",
              "      fill: #174EA6;\n",
              "    }\n",
              "\n",
              "    [theme=dark] .colab-df-convert {\n",
              "      background-color: #3B4455;\n",
              "      fill: #D2E3FC;\n",
              "    }\n",
              "\n",
              "    [theme=dark] .colab-df-convert:hover {\n",
              "      background-color: #434B5C;\n",
              "      box-shadow: 0px 1px 3px 1px rgba(0, 0, 0, 0.15);\n",
              "      filter: drop-shadow(0px 1px 2px rgba(0, 0, 0, 0.3));\n",
              "      fill: #FFFFFF;\n",
              "    }\n",
              "  </style>\n",
              "\n",
              "      <script>\n",
              "        const buttonEl =\n",
              "          document.querySelector('#df-7872186d-1d22-4d60-93a8-884534762bb8 button.colab-df-convert');\n",
              "        buttonEl.style.display =\n",
              "          google.colab.kernel.accessAllowed ? 'block' : 'none';\n",
              "\n",
              "        async function convertToInteractive(key) {\n",
              "          const element = document.querySelector('#df-7872186d-1d22-4d60-93a8-884534762bb8');\n",
              "          const dataTable =\n",
              "            await google.colab.kernel.invokeFunction('convertToInteractive',\n",
              "                                                     [key], {});\n",
              "          if (!dataTable) return;\n",
              "\n",
              "          const docLinkHtml = 'Like what you see? Visit the ' +\n",
              "            '<a target=\"_blank\" href=https://colab.research.google.com/notebooks/data_table.ipynb>data table notebook</a>'\n",
              "            + ' to learn more about interactive tables.';\n",
              "          element.innerHTML = '';\n",
              "          dataTable['output_type'] = 'display_data';\n",
              "          await google.colab.output.renderOutput(dataTable, element);\n",
              "          const docLink = document.createElement('div');\n",
              "          docLink.innerHTML = docLinkHtml;\n",
              "          element.appendChild(docLink);\n",
              "        }\n",
              "      </script>\n",
              "    </div>\n",
              "  </div>\n",
              "  "
            ]
          },
          "metadata": {},
          "execution_count": 5
        }
      ]
    },
    {
      "cell_type": "code",
      "metadata": {
        "id": "Mwpv3JXdxoCC",
        "colab": {
          "base_uri": "https://localhost:8080/"
        },
        "outputId": "e968150b-ce34-4774-c6e0-804c418a1502"
      },
      "source": [
        "pddf.shape"
      ],
      "execution_count": 6,
      "outputs": [
        {
          "output_type": "execute_result",
          "data": {
            "text/plain": [
              "(506, 14)"
            ]
          },
          "metadata": {},
          "execution_count": 6
        }
      ]
    },
    {
      "cell_type": "code",
      "metadata": {
        "id": "CtQgb035HMqD",
        "colab": {
          "base_uri": "https://localhost:8080/",
          "height": 488
        },
        "outputId": "b91c97be-8c90-409c-f018-caae2a1af26b"
      },
      "source": [
        "# Vamos a describir la información\n",
        "#pddf.describe()\n",
        "pddf.describe().transpose()\n"
      ],
      "execution_count": 9,
      "outputs": [
        {
          "output_type": "execute_result",
          "data": {
            "text/plain": [
              "         count        mean         std        min         25%         50%  \\\n",
              "CRIM     486.0    3.611874    8.720192    0.00632    0.081900    0.253715   \n",
              "ZN       486.0   11.211934   23.388876    0.00000    0.000000    0.000000   \n",
              "INDUS    486.0   11.083992    6.835896    0.46000    5.190000    9.690000   \n",
              "CHAS     486.0    0.069959    0.255340    0.00000    0.000000    0.000000   \n",
              "NOX      506.0    0.554695    0.115878    0.38500    0.449000    0.538000   \n",
              "RM       506.0    6.284634    0.702617    3.56100    5.885500    6.208500   \n",
              "AGE      486.0   68.518519   27.999513    2.90000   45.175000   76.800000   \n",
              "DIS      506.0    3.795043    2.105710    1.12960    2.100175    3.207450   \n",
              "RAD      506.0    9.549407    8.707259    1.00000    4.000000    5.000000   \n",
              "TAX      506.0  408.237154  168.537116  187.00000  279.000000  330.000000   \n",
              "PTRATIO  506.0   18.455534    2.164946   12.60000   17.400000   19.050000   \n",
              "B        506.0  356.674032   91.294864    0.32000  375.377500  391.440000   \n",
              "LSTAT    486.0   12.715432    7.155871    1.73000    7.125000   11.430000   \n",
              "MEDV     506.0   22.532806    9.197104    5.00000   17.025000   21.200000   \n",
              "\n",
              "                75%       max  \n",
              "CRIM       3.560263   88.9762  \n",
              "ZN        12.500000  100.0000  \n",
              "INDUS     18.100000   27.7400  \n",
              "CHAS       0.000000    1.0000  \n",
              "NOX        0.624000    0.8710  \n",
              "RM         6.623500    8.7800  \n",
              "AGE       93.975000  100.0000  \n",
              "DIS        5.188425   12.1265  \n",
              "RAD       24.000000   24.0000  \n",
              "TAX      666.000000  711.0000  \n",
              "PTRATIO   20.200000   22.0000  \n",
              "B        396.225000  396.9000  \n",
              "LSTAT     16.955000   37.9700  \n",
              "MEDV      25.000000   50.0000  "
            ],
            "text/html": [
              "\n",
              "  <div id=\"df-9fb46270-bd90-4b30-b82a-04232834a7a6\">\n",
              "    <div class=\"colab-df-container\">\n",
              "      <div>\n",
              "<style scoped>\n",
              "    .dataframe tbody tr th:only-of-type {\n",
              "        vertical-align: middle;\n",
              "    }\n",
              "\n",
              "    .dataframe tbody tr th {\n",
              "        vertical-align: top;\n",
              "    }\n",
              "\n",
              "    .dataframe thead th {\n",
              "        text-align: right;\n",
              "    }\n",
              "</style>\n",
              "<table border=\"1\" class=\"dataframe\">\n",
              "  <thead>\n",
              "    <tr style=\"text-align: right;\">\n",
              "      <th></th>\n",
              "      <th>count</th>\n",
              "      <th>mean</th>\n",
              "      <th>std</th>\n",
              "      <th>min</th>\n",
              "      <th>25%</th>\n",
              "      <th>50%</th>\n",
              "      <th>75%</th>\n",
              "      <th>max</th>\n",
              "    </tr>\n",
              "  </thead>\n",
              "  <tbody>\n",
              "    <tr>\n",
              "      <th>CRIM</th>\n",
              "      <td>486.0</td>\n",
              "      <td>3.611874</td>\n",
              "      <td>8.720192</td>\n",
              "      <td>0.00632</td>\n",
              "      <td>0.081900</td>\n",
              "      <td>0.253715</td>\n",
              "      <td>3.560263</td>\n",
              "      <td>88.9762</td>\n",
              "    </tr>\n",
              "    <tr>\n",
              "      <th>ZN</th>\n",
              "      <td>486.0</td>\n",
              "      <td>11.211934</td>\n",
              "      <td>23.388876</td>\n",
              "      <td>0.00000</td>\n",
              "      <td>0.000000</td>\n",
              "      <td>0.000000</td>\n",
              "      <td>12.500000</td>\n",
              "      <td>100.0000</td>\n",
              "    </tr>\n",
              "    <tr>\n",
              "      <th>INDUS</th>\n",
              "      <td>486.0</td>\n",
              "      <td>11.083992</td>\n",
              "      <td>6.835896</td>\n",
              "      <td>0.46000</td>\n",
              "      <td>5.190000</td>\n",
              "      <td>9.690000</td>\n",
              "      <td>18.100000</td>\n",
              "      <td>27.7400</td>\n",
              "    </tr>\n",
              "    <tr>\n",
              "      <th>CHAS</th>\n",
              "      <td>486.0</td>\n",
              "      <td>0.069959</td>\n",
              "      <td>0.255340</td>\n",
              "      <td>0.00000</td>\n",
              "      <td>0.000000</td>\n",
              "      <td>0.000000</td>\n",
              "      <td>0.000000</td>\n",
              "      <td>1.0000</td>\n",
              "    </tr>\n",
              "    <tr>\n",
              "      <th>NOX</th>\n",
              "      <td>506.0</td>\n",
              "      <td>0.554695</td>\n",
              "      <td>0.115878</td>\n",
              "      <td>0.38500</td>\n",
              "      <td>0.449000</td>\n",
              "      <td>0.538000</td>\n",
              "      <td>0.624000</td>\n",
              "      <td>0.8710</td>\n",
              "    </tr>\n",
              "    <tr>\n",
              "      <th>RM</th>\n",
              "      <td>506.0</td>\n",
              "      <td>6.284634</td>\n",
              "      <td>0.702617</td>\n",
              "      <td>3.56100</td>\n",
              "      <td>5.885500</td>\n",
              "      <td>6.208500</td>\n",
              "      <td>6.623500</td>\n",
              "      <td>8.7800</td>\n",
              "    </tr>\n",
              "    <tr>\n",
              "      <th>AGE</th>\n",
              "      <td>486.0</td>\n",
              "      <td>68.518519</td>\n",
              "      <td>27.999513</td>\n",
              "      <td>2.90000</td>\n",
              "      <td>45.175000</td>\n",
              "      <td>76.800000</td>\n",
              "      <td>93.975000</td>\n",
              "      <td>100.0000</td>\n",
              "    </tr>\n",
              "    <tr>\n",
              "      <th>DIS</th>\n",
              "      <td>506.0</td>\n",
              "      <td>3.795043</td>\n",
              "      <td>2.105710</td>\n",
              "      <td>1.12960</td>\n",
              "      <td>2.100175</td>\n",
              "      <td>3.207450</td>\n",
              "      <td>5.188425</td>\n",
              "      <td>12.1265</td>\n",
              "    </tr>\n",
              "    <tr>\n",
              "      <th>RAD</th>\n",
              "      <td>506.0</td>\n",
              "      <td>9.549407</td>\n",
              "      <td>8.707259</td>\n",
              "      <td>1.00000</td>\n",
              "      <td>4.000000</td>\n",
              "      <td>5.000000</td>\n",
              "      <td>24.000000</td>\n",
              "      <td>24.0000</td>\n",
              "    </tr>\n",
              "    <tr>\n",
              "      <th>TAX</th>\n",
              "      <td>506.0</td>\n",
              "      <td>408.237154</td>\n",
              "      <td>168.537116</td>\n",
              "      <td>187.00000</td>\n",
              "      <td>279.000000</td>\n",
              "      <td>330.000000</td>\n",
              "      <td>666.000000</td>\n",
              "      <td>711.0000</td>\n",
              "    </tr>\n",
              "    <tr>\n",
              "      <th>PTRATIO</th>\n",
              "      <td>506.0</td>\n",
              "      <td>18.455534</td>\n",
              "      <td>2.164946</td>\n",
              "      <td>12.60000</td>\n",
              "      <td>17.400000</td>\n",
              "      <td>19.050000</td>\n",
              "      <td>20.200000</td>\n",
              "      <td>22.0000</td>\n",
              "    </tr>\n",
              "    <tr>\n",
              "      <th>B</th>\n",
              "      <td>506.0</td>\n",
              "      <td>356.674032</td>\n",
              "      <td>91.294864</td>\n",
              "      <td>0.32000</td>\n",
              "      <td>375.377500</td>\n",
              "      <td>391.440000</td>\n",
              "      <td>396.225000</td>\n",
              "      <td>396.9000</td>\n",
              "    </tr>\n",
              "    <tr>\n",
              "      <th>LSTAT</th>\n",
              "      <td>486.0</td>\n",
              "      <td>12.715432</td>\n",
              "      <td>7.155871</td>\n",
              "      <td>1.73000</td>\n",
              "      <td>7.125000</td>\n",
              "      <td>11.430000</td>\n",
              "      <td>16.955000</td>\n",
              "      <td>37.9700</td>\n",
              "    </tr>\n",
              "    <tr>\n",
              "      <th>MEDV</th>\n",
              "      <td>506.0</td>\n",
              "      <td>22.532806</td>\n",
              "      <td>9.197104</td>\n",
              "      <td>5.00000</td>\n",
              "      <td>17.025000</td>\n",
              "      <td>21.200000</td>\n",
              "      <td>25.000000</td>\n",
              "      <td>50.0000</td>\n",
              "    </tr>\n",
              "  </tbody>\n",
              "</table>\n",
              "</div>\n",
              "      <button class=\"colab-df-convert\" onclick=\"convertToInteractive('df-9fb46270-bd90-4b30-b82a-04232834a7a6')\"\n",
              "              title=\"Convert this dataframe to an interactive table.\"\n",
              "              style=\"display:none;\">\n",
              "        \n",
              "  <svg xmlns=\"http://www.w3.org/2000/svg\" height=\"24px\"viewBox=\"0 0 24 24\"\n",
              "       width=\"24px\">\n",
              "    <path d=\"M0 0h24v24H0V0z\" fill=\"none\"/>\n",
              "    <path d=\"M18.56 5.44l.94 2.06.94-2.06 2.06-.94-2.06-.94-.94-2.06-.94 2.06-2.06.94zm-11 1L8.5 8.5l.94-2.06 2.06-.94-2.06-.94L8.5 2.5l-.94 2.06-2.06.94zm10 10l.94 2.06.94-2.06 2.06-.94-2.06-.94-.94-2.06-.94 2.06-2.06.94z\"/><path d=\"M17.41 7.96l-1.37-1.37c-.4-.4-.92-.59-1.43-.59-.52 0-1.04.2-1.43.59L10.3 9.45l-7.72 7.72c-.78.78-.78 2.05 0 2.83L4 21.41c.39.39.9.59 1.41.59.51 0 1.02-.2 1.41-.59l7.78-7.78 2.81-2.81c.8-.78.8-2.07 0-2.86zM5.41 20L4 18.59l7.72-7.72 1.47 1.35L5.41 20z\"/>\n",
              "  </svg>\n",
              "      </button>\n",
              "      \n",
              "  <style>\n",
              "    .colab-df-container {\n",
              "      display:flex;\n",
              "      flex-wrap:wrap;\n",
              "      gap: 12px;\n",
              "    }\n",
              "\n",
              "    .colab-df-convert {\n",
              "      background-color: #E8F0FE;\n",
              "      border: none;\n",
              "      border-radius: 50%;\n",
              "      cursor: pointer;\n",
              "      display: none;\n",
              "      fill: #1967D2;\n",
              "      height: 32px;\n",
              "      padding: 0 0 0 0;\n",
              "      width: 32px;\n",
              "    }\n",
              "\n",
              "    .colab-df-convert:hover {\n",
              "      background-color: #E2EBFA;\n",
              "      box-shadow: 0px 1px 2px rgba(60, 64, 67, 0.3), 0px 1px 3px 1px rgba(60, 64, 67, 0.15);\n",
              "      fill: #174EA6;\n",
              "    }\n",
              "\n",
              "    [theme=dark] .colab-df-convert {\n",
              "      background-color: #3B4455;\n",
              "      fill: #D2E3FC;\n",
              "    }\n",
              "\n",
              "    [theme=dark] .colab-df-convert:hover {\n",
              "      background-color: #434B5C;\n",
              "      box-shadow: 0px 1px 3px 1px rgba(0, 0, 0, 0.15);\n",
              "      filter: drop-shadow(0px 1px 2px rgba(0, 0, 0, 0.3));\n",
              "      fill: #FFFFFF;\n",
              "    }\n",
              "  </style>\n",
              "\n",
              "      <script>\n",
              "        const buttonEl =\n",
              "          document.querySelector('#df-9fb46270-bd90-4b30-b82a-04232834a7a6 button.colab-df-convert');\n",
              "        buttonEl.style.display =\n",
              "          google.colab.kernel.accessAllowed ? 'block' : 'none';\n",
              "\n",
              "        async function convertToInteractive(key) {\n",
              "          const element = document.querySelector('#df-9fb46270-bd90-4b30-b82a-04232834a7a6');\n",
              "          const dataTable =\n",
              "            await google.colab.kernel.invokeFunction('convertToInteractive',\n",
              "                                                     [key], {});\n",
              "          if (!dataTable) return;\n",
              "\n",
              "          const docLinkHtml = 'Like what you see? Visit the ' +\n",
              "            '<a target=\"_blank\" href=https://colab.research.google.com/notebooks/data_table.ipynb>data table notebook</a>'\n",
              "            + ' to learn more about interactive tables.';\n",
              "          element.innerHTML = '';\n",
              "          dataTable['output_type'] = 'display_data';\n",
              "          await google.colab.output.renderOutput(dataTable, element);\n",
              "          const docLink = document.createElement('div');\n",
              "          docLink.innerHTML = docLinkHtml;\n",
              "          element.appendChild(docLink);\n",
              "        }\n",
              "      </script>\n",
              "    </div>\n",
              "  </div>\n",
              "  "
            ]
          },
          "metadata": {},
          "execution_count": 9
        }
      ]
    },
    {
      "cell_type": "code",
      "source": [
        "pddf.MEDV.mean()"
      ],
      "metadata": {
        "id": "NrhrGQl2uZ97",
        "outputId": "7cbe72a0-66bd-465a-9d18-b4d6daf130bb",
        "colab": {
          "base_uri": "https://localhost:8080/"
        }
      },
      "execution_count": 13,
      "outputs": [
        {
          "output_type": "execute_result",
          "data": {
            "text/plain": [
              "22.532806324110677"
            ]
          },
          "metadata": {},
          "execution_count": 13
        }
      ]
    },
    {
      "cell_type": "code",
      "metadata": {
        "id": "va7P9YoJ-t2r",
        "colab": {
          "base_uri": "https://localhost:8080/",
          "height": 1000
        },
        "outputId": "dade292b-1859-4123-d361-6347f2682690"
      },
      "source": [
        "# Gráfico de distribución \n",
        "import seaborn as sns\n",
        "sns.displot(pddf.MEDV, kind=\"kde\", fill=True)\n",
        "sns.displot(pddf.MEDV,  fill=True)"
      ],
      "execution_count": 19,
      "outputs": [
        {
          "output_type": "execute_result",
          "data": {
            "text/plain": [
              "<seaborn.axisgrid.FacetGrid at 0x7f1a13333e50>"
            ]
          },
          "metadata": {},
          "execution_count": 19
        },
        {
          "output_type": "display_data",
          "data": {
            "text/plain": [
              "<Figure size 500x500 with 1 Axes>"
            ],
            "image/png": "[encoded data removed]"
          },
          "metadata": {}
        },
        {
          "output_type": "display_data",
          "data": {
            "text/plain": [
              "<Figure size 500x500 with 1 Axes>"
            ],
            "image/png": "[encoded data removed]"
          },
          "metadata": {}
        }
      ]
    },
    {
      "cell_type": "code",
      "metadata": {
        "id": "KExB6vIOyeTc",
        "colab": {
          "base_uri": "https://localhost:8080/",
          "height": 527
        },
        "outputId": "b7b50072-283e-4057-a32c-11ca6b491301"
      },
      "source": [
        "#Boxplot\n",
        "sns.set_theme(style=\"whitegrid\")\n",
        "ax = sns.boxplot(data=pddf.MEDV, orient=\"v\")\n",
        "ax = sns.swarmplot(data=pddf.MEDV, color=\".25\")\n"
      ],
      "execution_count": 22,
      "outputs": [
        {
          "output_type": "display_data",
          "data": {
            "text/plain": [
              "<Figure size 1000x600 with 1 Axes>"
            ],
            "image/png": "[encoded data removed]"
          },
          "metadata": {}
        }
      ]
    },
    {
      "cell_type": "code",
      "metadata": {
        "id": "xC_tdI8y-bu6"
      },
      "source": [
        "sns.displot(pddf.MEDV, kind=\"kde\", fill=True)"
      ],
      "execution_count": null,
      "outputs": []
    },
    {
      "cell_type": "code",
      "metadata": {
        "id": "JIBeVb100ZnK"
      },
      "source": [
        "sns.set_theme(style=\"whitegrid\")\n",
        "ax = sns.boxplot(data=pddf.MEDV, orient=\"v\")\n",
        "ax = sns.swarmplot(data=pddf.MEDV, color=\".25\")"
      ],
      "execution_count": null,
      "outputs": []
    },
    {
      "cell_type": "code",
      "metadata": {
        "id": "tRrkjwP9HMqD"
      },
      "source": [
        "%matplotlib inline\n",
        "import matplotlib.pyplot as plt\n",
        "pddf.hist(bins=50, figsize=(20,15))\n",
        "plt.show()"
      ],
      "execution_count": null,
      "outputs": []
    },
    {
      "cell_type": "markdown",
      "source": [
        "## 2. Selección de muestras"
      ],
      "metadata": {
        "id": "7kBNisCz2gsm"
      }
    },
    {
      "cell_type": "code",
      "source": [
        "pddf.head()"
      ],
      "metadata": {
        "id": "wUDPbXDJ-yXU"
      },
      "execution_count": null,
      "outputs": []
    },
    {
      "cell_type": "code",
      "metadata": {
        "id": "AYMQNjBfHMp_"
      },
      "source": [
        "# Shuffle the data\n",
        "from sklearn.utils import shuffle\n",
        "pddf = shuffle(pddf, random_state = 123)\n"
      ],
      "execution_count": null,
      "outputs": []
    },
    {
      "cell_type": "code",
      "source": [
        "# Elección de variables\n",
        "features = list(set(pddf.columns.tolist()) - set(['MEDV']))\n",
        "features\n"
      ],
      "metadata": {
        "id": "i2WD7-Gx2m7N"
      },
      "execution_count": null,
      "outputs": []
    },
    {
      "cell_type": "code",
      "metadata": {
        "id": "KvYuqMUmHMqC"
      },
      "source": [
        "# Definiendo data\n",
        "X = pddf[features]\n",
        "y = pddf.MEDV\n"
      ],
      "execution_count": null,
      "outputs": []
    },
    {
      "cell_type": "code",
      "metadata": {
        "id": "YRd3xtAsHMqE"
      },
      "source": [
        "# Muestreo\n",
        "\n",
        "from sklearn.model_selection import train_test_split\n",
        "\n",
        "#X_train, X_test, y_train, y_test = train_test_split(X, y, \n",
        "#                                                    train_size = 0.7, \n",
        "#                                                    random_state = 123)\n",
        "train , test = train_test_split(pddf, \n",
        "                                                    train_size = 0.7, \n",
        "                                                    random_state = 123)#semilla"
      ],
      "execution_count": 24,
      "outputs": []
    },
    {
      "cell_type": "code",
      "metadata": {
        "id": "Kkk69Tj_BJRA",
        "colab": {
          "base_uri": "https://localhost:8080/"
        },
        "outputId": "e3821a7f-974d-417c-e74e-51013ea14890"
      },
      "source": [
        "#print(X.shape)\n",
        "#print(X_train.shape)\n",
        "#print(X_test.shape)\n",
        "\n",
        "print(pddf.shape)\n",
        "print(train.shape)\n",
        "print(test.shape)\n"
      ],
      "execution_count": 26,
      "outputs": [
        {
          "output_type": "stream",
          "name": "stdout",
          "text": [
            "(506, 14)\n",
            "(354, 14)\n",
            "(152, 14)\n"
          ]
        }
      ]
    },
    {
      "cell_type": "code",
      "metadata": {
        "id": "XcQwqDnTDb7N",
        "colab": {
          "base_uri": "https://localhost:8080/",
          "height": 573
        },
        "outputId": "ccc9b66f-1449-4483-92d5-af1e344e7343"
      },
      "source": [
        "import matplotlib.pyplot as plt\n",
        "plt.rcParams[\"figure.figsize\"] = (10,6)\n",
        "\n",
        "#plt.scatter(X_train.NOX, y_train)\n",
        "#plt.xlabel(\"$x_1$\", fontsize=18)\n",
        "#plt.ylabel(\"$y$\", rotation=0, fontsize=18)\n",
        "\n",
        "plt.scatter(train.NOX, train.MEDV)\n",
        "plt.xlabel(\"$x_1$\", fontsize=18)\n",
        "plt.ylabel(\"$y$\", rotation=0, fontsize=18)"
      ],
      "execution_count": 28,
      "outputs": [
        {
          "output_type": "execute_result",
          "data": {
            "text/plain": [
              "Text(0, 0.5, '$y$')"
            ]
          },
          "metadata": {},
          "execution_count": 28
        },
        {
          "output_type": "display_data",
          "data": {
            "text/plain": [
              "<Figure size 1000x600 with 1 Axes>"
            ],
            "image/png": "[encoded data removed]"
          },
          "metadata": {}
        }
      ]
    },
    {
      "cell_type": "code",
      "metadata": {
        "id": "7vn92UNzDv6X"
      },
      "source": [
        "plt.scatter(X_train.NOX, y_train, alpha = 0.5)\n",
        "plt.xlabel(\"$x_1$\", fontsize=18)\n",
        "plt.ylabel(\"$y$\", rotation=0, fontsize=18)\n",
        "plt.show()"
      ],
      "execution_count": null,
      "outputs": []
    },
    {
      "cell_type": "code",
      "metadata": {
        "id": "jMOHFxlInxhh"
      },
      "source": [
        "# Matriz de scatterplots\n",
        "from pandas.plotting import scatter_matrix\n",
        "scatter_matrix(X_train, figsize=(30, 20))\n"
      ],
      "execution_count": null,
      "outputs": []
    },
    {
      "cell_type": "markdown",
      "source": [
        "## 3. Pre-selección de variables"
      ],
      "metadata": {
        "id": "HNx4SqLiFWpw"
      }
    },
    {
      "cell_type": "code",
      "source": [
        "# Dando formato a nuestra tabla resumen\n",
        "\n",
        "pdResume = X_train.describe().transpose()\n",
        "pdResume.reset_index(inplace = True)\n",
        "pdResume.rename(columns = {'index' : 'feature',\n",
        "                           '25%' : 'Q1',\n",
        "                           '50%' : 'median',\n",
        "                           '75%' : 'Q3'}, inplace = True)\n"
      ],
      "metadata": {
        "id": "ajsyGBOlFwOH"
      },
      "execution_count": null,
      "outputs": []
    },
    {
      "cell_type": "code",
      "source": [
        "pdResume[['missing_rate']] = 1 - pdResume[['count']]/X_train.shape[0]\n",
        "pdResume.sort_values(by = 'missing_rate', ascending = False, inplace = True)\n"
      ],
      "metadata": {
        "id": "K6IzCi3GF5u2"
      },
      "execution_count": null,
      "outputs": []
    },
    {
      "cell_type": "code",
      "source": [
        "# Calculando las correlaciones de todas las variables con el target\n",
        "\n",
        "temp = X_train.copy()\n",
        "temp['target'] = y_train\n",
        "\n",
        "correlations = []\n",
        "for col in features:\n",
        "  correlations.append(temp[[col, 'target']].corr().iloc[0][1])\n"
      ],
      "metadata": {
        "id": "nifc9zT5LdrS"
      },
      "execution_count": null,
      "outputs": []
    },
    {
      "cell_type": "code",
      "source": [
        "# Cruzando correlaciones con la tabla de resumen original\n",
        "\n",
        "pdres_cor = pd.DataFrame({'feature' : features, 'corr_MEDV' : correlations})\n",
        "pdResume2 = pd.merge(pdResume, pdres_cor, on = 'feature')\n"
      ],
      "metadata": {
        "id": "pHe52wurM0Vy"
      },
      "execution_count": null,
      "outputs": []
    },
    {
      "cell_type": "code",
      "source": [
        "pdResume2['abs_corr_MEDV'] = pdResume2.corr_MEDV.apply(lambda x: abs(x))\n",
        "pdResume2.sort_values(by = 'abs_corr_MEDV', ascending = False, inplace=True)\n",
        "\n",
        "pdResume2.head()"
      ],
      "metadata": {
        "id": "W5jyACkaSSHo"
      },
      "execution_count": null,
      "outputs": []
    },
    {
      "cell_type": "code",
      "source": [
        "# Guardando resultados\n",
        "pdResume2.to_csv('univariate_assesment.csv', index = 0)"
      ],
      "metadata": {
        "id": "ZHaiKOeETJNq"
      },
      "execution_count": null,
      "outputs": []
    },
    {
      "cell_type": "markdown",
      "source": [
        "## 4. Preparación de datos"
      ],
      "metadata": {
        "id": "9GXFG5lJUKSy"
      }
    },
    {
      "cell_type": "markdown",
      "source": [
        "<h3>Tratamiento de outliers</h3> "
      ],
      "metadata": {
        "id": "FduQMBhdRLf8"
      }
    },
    {
      "cell_type": "markdown",
      "source": [
        "### Outliers por Rango Intercuantílico"
      ],
      "metadata": {
        "id": "vzdI2sGIRQhX"
      }
    },
    {
      "cell_type": "markdown",
      "source": [
        "<img src=\"https://miro.medium.com/max/1400/1*2c21SkzJMf3frPXPAR_gZA.png\" width=\"500\" \n",
        "     height=\"300\" > "
      ],
      "metadata": {
        "id": "hreWAj5MTulj"
      }
    },
    {
      "cell_type": "markdown",
      "source": [
        "<img src=\"data:image/png;base64,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\" width=\"450\" \n",
        "     height=\"150\" > "
      ],
      "metadata": {
        "id": "6rUdS5wpU5Yb"
      }
    },
    {
      "cell_type": "code",
      "source": [
        "#Leyendo tabla resumen\n",
        "\n",
        "univariate_II = pd.read_csv('univariate_assesment.csv')\n",
        "univariate_II.head() "
      ],
      "metadata": {
        "id": "SgMQ0ILTWW3D"
      },
      "execution_count": null,
      "outputs": []
    },
    {
      "cell_type": "code",
      "source": [
        "# Calculando los intervalos RIC\n",
        "\n",
        "univariate_II['ric'] = univariate_II['Q3'] - univariate_II['Q1']\n",
        "\n",
        "univariate_II['min_ric'] = univariate_II['Q1'] - 1.5*univariate_II['ric']\n",
        "univariate_II['max_ric'] = univariate_II['Q3'] + 1.5*univariate_II['ric']\n",
        "\n",
        "univariate_II.head() "
      ],
      "metadata": {
        "id": "UYWNWVzMW9Z5"
      },
      "execution_count": null,
      "outputs": []
    },
    {
      "cell_type": "code",
      "source": [
        "# Tratamiento de outliers por RIC\n",
        "\n",
        "for col in univariate_II.feature.tolist():\n",
        "  desc = univariate_II.loc[univariate_II.feature == col]\n",
        "  X_train[col + '_tric'] = X_train[col].apply(lambda x: desc.max_ric.values[0] if x > desc.max_ric.values[0]\n",
        "                                                   else desc.min_ric.values[0] if x < desc.min_ric.values[0]\n",
        "                                                   else x)\n",
        "\n",
        "X_train.head()"
      ],
      "metadata": {
        "id": "qHcqYBNoRVxy"
      },
      "execution_count": null,
      "outputs": []
    },
    {
      "cell_type": "markdown",
      "source": [
        "Revisemos los resultados"
      ],
      "metadata": {
        "id": "a9R44YcWecex"
      }
    },
    {
      "cell_type": "code",
      "source": [
        "sns.displot(X_train, x = \"CRIM\", kind=\"kde\", fill=True)"
      ],
      "metadata": {
        "id": "FOMDrJLNa__P"
      },
      "execution_count": null,
      "outputs": []
    },
    {
      "cell_type": "code",
      "source": [
        "sns.displot(X_train, x = \"CRIM_tric\", kind=\"kde\", fill=True)"
      ],
      "metadata": {
        "id": "D3MLhR6fbAa2"
      },
      "execution_count": null,
      "outputs": []
    },
    {
      "cell_type": "markdown",
      "source": [
        "### Outliers por Z-score"
      ],
      "metadata": {
        "id": "YYEmnHm-dTPN"
      }
    },
    {
      "cell_type": "markdown",
      "source": [
        "\n",
        "\n",
        "<img src=\"https://editor.analyticsvidhya.com/uploads/440971.png\" width=\"500\" \n",
        "     height=\"300\" > "
      ],
      "metadata": {
        "id": "yO4pD-9edbSY"
      }
    },
    {
      "cell_type": "code",
      "source": [
        "univariate_II.head()"
      ],
      "metadata": {
        "id": "tDUSsX1Cd7ZE"
      },
      "execution_count": null,
      "outputs": []
    },
    {
      "cell_type": "code",
      "metadata": {
        "id": "oxT_G0swngqE"
      },
      "source": [
        "# Calculando los intervalos Z-score\n",
        "\n",
        "univariate_II['min_zscore'] = univariate_II['mean'] - 3*univariate_II['std']\n",
        "univariate_II['max_zscore'] = univariate_II['mean'] + 3*univariate_II['std']\n",
        "\n",
        "univariate_II.head() "
      ],
      "execution_count": null,
      "outputs": []
    },
    {
      "cell_type": "code",
      "source": [
        "# Tratamiento de outliers por Z-score\n",
        "\n",
        "for col in univariate_II.feature.tolist():\n",
        "  desc = univariate_II.loc[univariate_II.feature == col]\n",
        "  X_train[col + '_tzscore'] = X_train[col].apply(lambda x: desc.max_zscore.values[0] if x > desc.max_zscore.values[0]\n",
        "                                                   else desc.min_zscore.values[0] if x < desc.min_zscore.values[0]\n",
        "                                                   else x)\n",
        "\n",
        "X_train.head()"
      ],
      "metadata": {
        "id": "JVYo0Jrceg6S"
      },
      "execution_count": null,
      "outputs": []
    },
    {
      "cell_type": "markdown",
      "source": [
        "Revisemos los resultados"
      ],
      "metadata": {
        "id": "gQcKHTXwgr_E"
      }
    },
    {
      "cell_type": "code",
      "source": [
        "sns.displot(X_train, x = \"CRIM\", kind=\"kde\", fill=True)"
      ],
      "metadata": {
        "id": "b4qgg1WVgr_F"
      },
      "execution_count": null,
      "outputs": []
    },
    {
      "cell_type": "code",
      "source": [
        "sns.displot(X_train, x = \"CRIM_tzscore\", kind=\"kde\", fill=True)"
      ],
      "metadata": {
        "id": "7F1uOyjbZZPC"
      },
      "execution_count": null,
      "outputs": []
    },
    {
      "cell_type": "code",
      "source": [
        "univariate_II.to_csv('univariate_assesment.csv', index = 0)"
      ],
      "metadata": {
        "id": "3hNUDcAfl60R"
      },
      "execution_count": null,
      "outputs": []
    },
    {
      "cell_type": "markdown",
      "source": [
        "### Tratamiento de Missings"
      ],
      "metadata": {
        "id": "rbw45Wj_g_uk"
      }
    },
    {
      "cell_type": "code",
      "source": [
        "all_features = X_train.columns.tolist()"
      ],
      "metadata": {
        "id": "EqA3NmKCbl14"
      },
      "execution_count": null,
      "outputs": []
    },
    {
      "cell_type": "code",
      "metadata": {
        "id": "_SmrbJFWrKx1"
      },
      "source": [
        "# Trataiento de missings\n",
        "\n",
        "X_train[[x + '_imp' for x in all_features]] = X_train[all_features].fillna(X_train[all_features].median())\n"
      ],
      "execution_count": null,
      "outputs": []
    },
    {
      "cell_type": "code",
      "metadata": {
        "id": "WySovzP5rgok"
      },
      "source": [
        "X_train[[x + '_imp' for x in all_features]].head(30)"
      ],
      "execution_count": null,
      "outputs": []
    },
    {
      "cell_type": "code",
      "source": [],
      "metadata": {
        "id": "8rHRFmWBc4qx"
      },
      "execution_count": null,
      "outputs": []
    },
    {
      "cell_type": "markdown",
      "source": [
        "## 5. Modelo de regresión Lineal"
      ],
      "metadata": {
        "id": "a7MFWyuZcPY5"
      }
    },
    {
      "cell_type": "markdown",
      "source": [
        "### Rregresión lineal por máxima verosimilitud"
      ],
      "metadata": {
        "id": "GpR84CVT9n-b"
      }
    },
    {
      "cell_type": "code",
      "source": [
        "features_in = [x + '_imp' for x in all_features if ('_tric' in x) and ('CHAS' not in x)]\n"
      ],
      "metadata": {
        "id": "AVjw2GMrF6XK"
      },
      "execution_count": null,
      "outputs": []
    },
    {
      "cell_type": "code",
      "source": [
        "# estandarizando las variables para mantener todas en una misma escala\n",
        "X_train[[x + '_std' for x in features_in]] = (X_train[features_in] - X_train[features_in].mean())/X_train[features_in].std()\n"
      ],
      "metadata": {
        "id": "OFMS5_q3F25e"
      },
      "execution_count": null,
      "outputs": []
    },
    {
      "cell_type": "code",
      "source": [
        "X_train[[x + '_std' for x in features_in]]"
      ],
      "metadata": {
        "id": "ScYZf5GJH4h2"
      },
      "execution_count": null,
      "outputs": []
    },
    {
      "cell_type": "code",
      "source": [
        "y_train"
      ],
      "metadata": {
        "id": "NaryvS4hID92"
      },
      "execution_count": null,
      "outputs": []
    },
    {
      "cell_type": "code",
      "source": [
        "import statsmodels.api as sm\n",
        "\n",
        "# Fit and summarize OLS model\n",
        "mod = sm.OLS(y_train, \n",
        "             sm.add_constant(X_train[[x + '_std' for x in features_in]]))\n",
        "res = mod.fit()\n"
      ],
      "metadata": {
        "id": "YWsJnc_YTVuv",
        "colab": {
          "base_uri": "https://localhost:8080/"
        },
        "outputId": "68438c24-1440-4653-a663-fda78b90b46a"
      },
      "execution_count": null,
      "outputs": [
        {
          "output_type": "stream",
          "name": "stderr",
          "text": [
            "/usr/local/lib/python3.7/dist-packages/statsmodels/tsa/tsatools.py:142: FutureWarning: In a future version of pandas all arguments of concat except for the argument 'objs' will be keyword-only\n",
            "  x = pd.concat(x[::order], 1)\n"
          ]
        }
      ]
    },
    {
      "cell_type": "code",
      "source": [
        "print(res.summary())"
      ],
      "metadata": {
        "id": "f4ekgFVSdeeO"
      },
      "execution_count": null,
      "outputs": []
    },
    {
      "cell_type": "code",
      "source": [
        "mod = sm.OLS(y_train, sm.add_constant(X_train[['RM_tric_imp_std',\n",
        "                               'LSTAT_tric_imp_std',\n",
        "                               #'PTRATIO_tric_imp',\n",
        "                               'TAX_tric_imp_std',\n",
        "                               'RAD_tric_imp_std',\n",
        "                               'CRIM_tric_imp_std',\n",
        "                               'NOX_tric_imp_std',\n",
        "                               #'B_tric_imp',\n",
        "                               'DIS_tric_imp_std']]))\n",
        "res = mod.fit()\n",
        "print(res.summary())"
      ],
      "metadata": {
        "id": "o-EEzjM79mIQ"
      },
      "execution_count": null,
      "outputs": []
    },
    {
      "cell_type": "code",
      "source": [
        "mod = sm.OLS(y_train, sm.add_constant(X_train[['RM_tric_imp_std',\n",
        "                               'LSTAT_tric_imp_std',\n",
        "                               #'PTRATIO_tric_imp',\n",
        "                               'TAX_tric_imp_std',\n",
        "                               'RAD_tric_imp_std',\n",
        "                               'CRIM_tric_imp_std',\n",
        "                               #'NOX_tric_imp_std',\n",
        "                               #'B_tric_imp',\n",
        "                               'DIS_tric_imp_std']]))\n",
        "res = mod.fit()\n",
        "print(res.summary())"
      ],
      "metadata": {
        "id": "pR5vl96OAg8K"
      },
      "execution_count": null,
      "outputs": []
    },
    {
      "cell_type": "code",
      "source": [
        "mod = sm.OLS(y_train, sm.add_constant(X_train[['RM_tric_imp_std',\n",
        "                               'LSTAT_tric_imp_std',\n",
        "                               #'PTRATIO_tric_imp',\n",
        "                               'TAX_tric_imp_std',\n",
        "                               #'RAD_tric_imp_std',\n",
        "                               'CRIM_tric_imp_std',\n",
        "                               #'NOX_tric_imp_std',\n",
        "                               #'B_tric_imp',\n",
        "                               'DIS_tric_imp_std']]))\n",
        "res = mod.fit()\n",
        "print(res.summary())"
      ],
      "metadata": {
        "id": "3y0efpa0JPNC"
      },
      "execution_count": null,
      "outputs": []
    },
    {
      "cell_type": "code",
      "source": [
        "mod = sm.OLS(y_train, sm.add_constant(X_train[['RM_tric_imp_std',\n",
        "                               #'LSTAT_tric_imp_std',\n",
        "                               #'PTRATIO_tric_imp',\n",
        "                               'TAX_tric_imp_std'\n",
        "                               #'RAD_tric_imp_std',\n",
        "                               #'CRIM_tric_imp_std',\n",
        "                               #'NOX_tric_imp_std',\n",
        "                               #'B_tric_imp',\n",
        "                               #'DIS_tric_imp_std'\n",
        "                               ]]))\n",
        "res = mod.fit()\n",
        "print(res.summary())"
      ],
      "metadata": {
        "id": "GmWGXDOGJSRH"
      },
      "execution_count": null,
      "outputs": []
    },
    {
      "cell_type": "markdown",
      "source": [
        "\n",
        "* <b>crim : </b> Tasa de criminalidad per cápita por ciudad.\n",
        "\n",
        "* <b>rm : </b>Número medio de habitaciones por vivienda.\n",
        "\n",
        "* <b>dis : </b>Media ponderada de las distancias a cinco centros de empleo de Boston.\n",
        "\n",
        "* <b>ptratio : </b>Proporción alumno-profesor por ciudad.\n",
        "\n",
        "* <b>lstat : </b>Estatus más bajo de la población (porcentaje).\n",
        "\n",
        "* <b>black : </b> 1000 (Bk - 0.63) ^ 2 donde Bk es la proporción de negros por ciudad.\n",
        "\n"
      ],
      "metadata": {
        "id": "xkL7ViU3A5k-"
      }
    },
    {
      "cell_type": "code",
      "source": [
        "X_train[['RM_tric_imp_std',\n",
        "                               'LSTAT_tric_imp_std',\n",
        "                               #'PTRATIO_tric_imp',\n",
        "                               'TAX_tric_imp_std',\n",
        "                               #'RAD_tric_imp_std',\n",
        "                               #'CRIM_tric_imp_std',\n",
        "                               #'NOX_tric_imp_std',\n",
        "                               #'B_tric_imp',\n",
        "                               'DIS_tric_imp_std']].corr()"
      ],
      "metadata": {
        "id": "uiiCD8oHKAIQ"
      },
      "execution_count": null,
      "outputs": []
    },
    {
      "cell_type": "code",
      "source": [],
      "metadata": {
        "id": "nrL2h2nhFFki"
      },
      "execution_count": null,
      "outputs": []
    }
  ]
}
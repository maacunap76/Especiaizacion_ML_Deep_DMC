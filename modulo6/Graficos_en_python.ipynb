{
  "nbformat": 4,
  "nbformat_minor": 0,
  "metadata": {
    "colab": {
      "provenance": [],
      "include_colab_link": true
    },
    "kernelspec": {
      "name": "python3",
      "display_name": "Python 3"
    },
    "language_info": {
      "name": "python"
    }
  },
  "cells": [
    {
      "cell_type": "markdown",
      "metadata": {
        "id": "view-in-github",
        "colab_type": "text"
      },
      "source": [
        "<a href=\"https://colab.research.google.com/github/maacunap76/Especiaizacion_ML_Deep_DMC/blob/main/modulo6/Graficos_en_python.ipynb\" target=\"_parent\"><img src=\"https://colab.research.google.com/assets/colab-badge.svg\" alt=\"Open In Colab\"/></a>"
      ]
    },
    {
      "cell_type": "markdown",
      "source": [
        "<img src=\"https://www.ctic.uni.edu.pe/wp-content/uploads/2022/04/588px-x-348px-web-1.png\" alt=\"HTML5 Icon\" width=\"900\" height=\"350\" >"
      ],
      "metadata": {
        "id": "tuarg1ZaM_XK"
      }
    },
    {
      "cell_type": "markdown",
      "source": [
        "<h1 align=center><font size = 5> UNIDAD VI - GRÁFICOS EN PYTHON\n",
        "</font></h1>\n",
        "\n",
        "---"
      ],
      "metadata": {
        "id": "Tb0VwCdPNB-I"
      }
    },
    {
      "cell_type": "code",
      "source": [
        "# Principales imports \n",
        "\n",
        "import pandas as pd\n",
        "import numpy as np\n",
        "import matplotlib.pyplot as plt\n"
      ],
      "metadata": {
        "id": "TdbnGimnNlXN"
      },
      "execution_count": null,
      "outputs": []
    },
    {
      "cell_type": "code",
      "execution_count": null,
      "metadata": {
        "id": "92KyUw1VM22f"
      },
      "outputs": [],
      "source": [
        "# Leyendo archivo csv\n",
        "\n",
        "pddf = pd.read_csv('sample_data/california_housing_train.csv')\n",
        "pddf2 = pd.read_csv('train_titanic.csv')\n"
      ]
    },
    {
      "cell_type": "code",
      "source": [
        "pddf.describe()"
      ],
      "metadata": {
        "id": "qojipngkN4E3",
        "colab": {
          "base_uri": "https://localhost:8080/",
          "height": 300
        },
        "outputId": "575098fe-30fb-4f87-b13c-8300f5083e4f"
      },
      "execution_count": null,
      "outputs": [
        {
          "output_type": "execute_result",
          "data": {
            "text/plain": [
              "          longitude      latitude  housing_median_age   total_rooms  \\\n",
              "count  17000.000000  17000.000000        17000.000000  17000.000000   \n",
              "mean    -119.562108     35.625225           28.589353   2643.664412   \n",
              "std        2.005166      2.137340           12.586937   2179.947071   \n",
              "min     -124.350000     32.540000            1.000000      2.000000   \n",
              "25%     -121.790000     33.930000           18.000000   1462.000000   \n",
              "50%     -118.490000     34.250000           29.000000   2127.000000   \n",
              "75%     -118.000000     37.720000           37.000000   3151.250000   \n",
              "max     -114.310000     41.950000           52.000000  37937.000000   \n",
              "\n",
              "       total_bedrooms    population    households  median_income  \\\n",
              "count    17000.000000  17000.000000  17000.000000   17000.000000   \n",
              "mean       539.410824   1429.573941    501.221941       3.883578   \n",
              "std        421.499452   1147.852959    384.520841       1.908157   \n",
              "min          1.000000      3.000000      1.000000       0.499900   \n",
              "25%        297.000000    790.000000    282.000000       2.566375   \n",
              "50%        434.000000   1167.000000    409.000000       3.544600   \n",
              "75%        648.250000   1721.000000    605.250000       4.767000   \n",
              "max       6445.000000  35682.000000   6082.000000      15.000100   \n",
              "\n",
              "       median_house_value  \n",
              "count        17000.000000  \n",
              "mean        207300.912353  \n",
              "std         115983.764387  \n",
              "min          14999.000000  \n",
              "25%         119400.000000  \n",
              "50%         180400.000000  \n",
              "75%         265000.000000  \n",
              "max         500001.000000  "
            ],
            "text/html": [
              "\n",
              "  <div id=\"df-e01c4cd0-ef9d-4d03-85b8-6a75fa84fd74\">\n",
              "    <div class=\"colab-df-container\">\n",
              "      <div>\n",
              "<style scoped>\n",
              "    .dataframe tbody tr th:only-of-type {\n",
              "        vertical-align: middle;\n",
              "    }\n",
              "\n",
              "    .dataframe tbody tr th {\n",
              "        vertical-align: top;\n",
              "    }\n",
              "\n",
              "    .dataframe thead th {\n",
              "        text-align: right;\n",
              "    }\n",
              "</style>\n",
              "<table border=\"1\" class=\"dataframe\">\n",
              "  <thead>\n",
              "    <tr style=\"text-align: right;\">\n",
              "      <th></th>\n",
              "      <th>longitude</th>\n",
              "      <th>latitude</th>\n",
              "      <th>housing_median_age</th>\n",
              "      <th>total_rooms</th>\n",
              "      <th>total_bedrooms</th>\n",
              "      <th>population</th>\n",
              "      <th>households</th>\n",
              "      <th>median_income</th>\n",
              "      <th>median_house_value</th>\n",
              "    </tr>\n",
              "  </thead>\n",
              "  <tbody>\n",
              "    <tr>\n",
              "      <th>count</th>\n",
              "      <td>17000.000000</td>\n",
              "      <td>17000.000000</td>\n",
              "      <td>17000.000000</td>\n",
              "      <td>17000.000000</td>\n",
              "      <td>17000.000000</td>\n",
              "      <td>17000.000000</td>\n",
              "      <td>17000.000000</td>\n",
              "      <td>17000.000000</td>\n",
              "      <td>17000.000000</td>\n",
              "    </tr>\n",
              "    <tr>\n",
              "      <th>mean</th>\n",
              "      <td>-119.562108</td>\n",
              "      <td>35.625225</td>\n",
              "      <td>28.589353</td>\n",
              "      <td>2643.664412</td>\n",
              "      <td>539.410824</td>\n",
              "      <td>1429.573941</td>\n",
              "      <td>501.221941</td>\n",
              "      <td>3.883578</td>\n",
              "      <td>207300.912353</td>\n",
              "    </tr>\n",
              "    <tr>\n",
              "      <th>std</th>\n",
              "      <td>2.005166</td>\n",
              "      <td>2.137340</td>\n",
              "      <td>12.586937</td>\n",
              "      <td>2179.947071</td>\n",
              "      <td>421.499452</td>\n",
              "      <td>1147.852959</td>\n",
              "      <td>384.520841</td>\n",
              "      <td>1.908157</td>\n",
              "      <td>115983.764387</td>\n",
              "    </tr>\n",
              "    <tr>\n",
              "      <th>min</th>\n",
              "      <td>-124.350000</td>\n",
              "      <td>32.540000</td>\n",
              "      <td>1.000000</td>\n",
              "      <td>2.000000</td>\n",
              "      <td>1.000000</td>\n",
              "      <td>3.000000</td>\n",
              "      <td>1.000000</td>\n",
              "      <td>0.499900</td>\n",
              "      <td>14999.000000</td>\n",
              "    </tr>\n",
              "    <tr>\n",
              "      <th>25%</th>\n",
              "      <td>-121.790000</td>\n",
              "      <td>33.930000</td>\n",
              "      <td>18.000000</td>\n",
              "      <td>1462.000000</td>\n",
              "      <td>297.000000</td>\n",
              "      <td>790.000000</td>\n",
              "      <td>282.000000</td>\n",
              "      <td>2.566375</td>\n",
              "      <td>119400.000000</td>\n",
              "    </tr>\n",
              "    <tr>\n",
              "      <th>50%</th>\n",
              "      <td>-118.490000</td>\n",
              "      <td>34.250000</td>\n",
              "      <td>29.000000</td>\n",
              "      <td>2127.000000</td>\n",
              "      <td>434.000000</td>\n",
              "      <td>1167.000000</td>\n",
              "      <td>409.000000</td>\n",
              "      <td>3.544600</td>\n",
              "      <td>180400.000000</td>\n",
              "    </tr>\n",
              "    <tr>\n",
              "      <th>75%</th>\n",
              "      <td>-118.000000</td>\n",
              "      <td>37.720000</td>\n",
              "      <td>37.000000</td>\n",
              "      <td>3151.250000</td>\n",
              "      <td>648.250000</td>\n",
              "      <td>1721.000000</td>\n",
              "      <td>605.250000</td>\n",
              "      <td>4.767000</td>\n",
              "      <td>265000.000000</td>\n",
              "    </tr>\n",
              "    <tr>\n",
              "      <th>max</th>\n",
              "      <td>-114.310000</td>\n",
              "      <td>41.950000</td>\n",
              "      <td>52.000000</td>\n",
              "      <td>37937.000000</td>\n",
              "      <td>6445.000000</td>\n",
              "      <td>35682.000000</td>\n",
              "      <td>6082.000000</td>\n",
              "      <td>15.000100</td>\n",
              "      <td>500001.000000</td>\n",
              "    </tr>\n",
              "  </tbody>\n",
              "</table>\n",
              "</div>\n",
              "      <button class=\"colab-df-convert\" onclick=\"convertToInteractive('df-e01c4cd0-ef9d-4d03-85b8-6a75fa84fd74')\"\n",
              "              title=\"Convert this dataframe to an interactive table.\"\n",
              "              style=\"display:none;\">\n",
              "        \n",
              "  <svg xmlns=\"http://www.w3.org/2000/svg\" height=\"24px\"viewBox=\"0 0 24 24\"\n",
              "       width=\"24px\">\n",
              "    <path d=\"M0 0h24v24H0V0z\" fill=\"none\"/>\n",
              "    <path d=\"M18.56 5.44l.94 2.06.94-2.06 2.06-.94-2.06-.94-.94-2.06-.94 2.06-2.06.94zm-11 1L8.5 8.5l.94-2.06 2.06-.94-2.06-.94L8.5 2.5l-.94 2.06-2.06.94zm10 10l.94 2.06.94-2.06 2.06-.94-2.06-.94-.94-2.06-.94 2.06-2.06.94z\"/><path d=\"M17.41 7.96l-1.37-1.37c-.4-.4-.92-.59-1.43-.59-.52 0-1.04.2-1.43.59L10.3 9.45l-7.72 7.72c-.78.78-.78 2.05 0 2.83L4 21.41c.39.39.9.59 1.41.59.51 0 1.02-.2 1.41-.59l7.78-7.78 2.81-2.81c.8-.78.8-2.07 0-2.86zM5.41 20L4 18.59l7.72-7.72 1.47 1.35L5.41 20z\"/>\n",
              "  </svg>\n",
              "      </button>\n",
              "      \n",
              "  <style>\n",
              "    .colab-df-container {\n",
              "      display:flex;\n",
              "      flex-wrap:wrap;\n",
              "      gap: 12px;\n",
              "    }\n",
              "\n",
              "    .colab-df-convert {\n",
              "      background-color: #E8F0FE;\n",
              "      border: none;\n",
              "      border-radius: 50%;\n",
              "      cursor: pointer;\n",
              "      display: none;\n",
              "      fill: #1967D2;\n",
              "      height: 32px;\n",
              "      padding: 0 0 0 0;\n",
              "      width: 32px;\n",
              "    }\n",
              "\n",
              "    .colab-df-convert:hover {\n",
              "      background-color: #E2EBFA;\n",
              "      box-shadow: 0px 1px 2px rgba(60, 64, 67, 0.3), 0px 1px 3px 1px rgba(60, 64, 67, 0.15);\n",
              "      fill: #174EA6;\n",
              "    }\n",
              "\n",
              "    [theme=dark] .colab-df-convert {\n",
              "      background-color: #3B4455;\n",
              "      fill: #D2E3FC;\n",
              "    }\n",
              "\n",
              "    [theme=dark] .colab-df-convert:hover {\n",
              "      background-color: #434B5C;\n",
              "      box-shadow: 0px 1px 3px 1px rgba(0, 0, 0, 0.15);\n",
              "      filter: drop-shadow(0px 1px 2px rgba(0, 0, 0, 0.3));\n",
              "      fill: #FFFFFF;\n",
              "    }\n",
              "  </style>\n",
              "\n",
              "      <script>\n",
              "        const buttonEl =\n",
              "          document.querySelector('#df-e01c4cd0-ef9d-4d03-85b8-6a75fa84fd74 button.colab-df-convert');\n",
              "        buttonEl.style.display =\n",
              "          google.colab.kernel.accessAllowed ? 'block' : 'none';\n",
              "\n",
              "        async function convertToInteractive(key) {\n",
              "          const element = document.querySelector('#df-e01c4cd0-ef9d-4d03-85b8-6a75fa84fd74');\n",
              "          const dataTable =\n",
              "            await google.colab.kernel.invokeFunction('convertToInteractive',\n",
              "                                                     [key], {});\n",
              "          if (!dataTable) return;\n",
              "\n",
              "          const docLinkHtml = 'Like what you see? Visit the ' +\n",
              "            '<a target=\"_blank\" href=https://colab.research.google.com/notebooks/data_table.ipynb>data table notebook</a>'\n",
              "            + ' to learn more about interactive tables.';\n",
              "          element.innerHTML = '';\n",
              "          dataTable['output_type'] = 'display_data';\n",
              "          await google.colab.output.renderOutput(dataTable, element);\n",
              "          const docLink = document.createElement('div');\n",
              "          docLink.innerHTML = docLinkHtml;\n",
              "          element.appendChild(docLink);\n",
              "        }\n",
              "      </script>\n",
              "    </div>\n",
              "  </div>\n",
              "  "
            ]
          },
          "metadata": {},
          "execution_count": 63
        }
      ]
    },
    {
      "cell_type": "markdown",
      "source": [
        "# Scatterplot"
      ],
      "metadata": {
        "id": "e62lJCZMSXgg"
      }
    },
    {
      "cell_type": "code",
      "source": [
        "x = pddf.households\n",
        "y = pddf.median_house_value"
      ],
      "metadata": {
        "id": "m1K0BAfUOEwX"
      },
      "execution_count": null,
      "outputs": []
    },
    {
      "cell_type": "code",
      "source": [
        "# plot\n",
        "fig, ax = plt.subplots()\n",
        "ax.scatter(x, y)"
      ],
      "metadata": {
        "id": "3F9G6kq3N0jL",
        "colab": {
          "base_uri": "https://localhost:8080/",
          "height": 395
        },
        "outputId": "dd8bf706-8de0-436a-b029-ea6ca45666dc"
      },
      "execution_count": null,
      "outputs": [
        {
          "output_type": "execute_result",
          "data": {
            "text/plain": [
              "<matplotlib.collections.PathCollection at 0x7f3dad8827f0>"
            ]
          },
          "metadata": {},
          "execution_count": 65
        },
        {
          "output_type": "display_data",
          "data": {
            "text/plain": [
              "<Figure size 1440x432 with 1 Axes>"
            ],
            "image/png": "[encoded data removed]"
          },
          "metadata": {}
        }
      ]
    },
    {
      "cell_type": "markdown",
      "source": [
        "### Mejorar el gráfico con una muestra"
      ],
      "metadata": {
        "id": "dVnaNTcZS5gg"
      }
    },
    {
      "cell_type": "code",
      "source": [
        "# Tomar una muestra de los datos\n",
        "x = pddf.sample(1000).households\n",
        "y = pddf.sample(1000).median_house_value\n",
        "\n",
        "# size and color:\n",
        "sizes = np.random.uniform(15, 80, len(x))\n",
        "colors = np.random.uniform(15, 80, len(x))\n",
        "\n",
        "# plot\n",
        "plt.rcParams[\"figure.figsize\"] = (8, 6)\n",
        "fig, ax = plt.subplots()\n",
        "ax.scatter(x, y, s=sizes, c=colors, vmin=0, vmax=100)\n",
        "\n",
        "#Labels\n",
        "plt.title(\"Scatterplot\", fontsize = 20)\n",
        "plt.xlabel('households')\n",
        "plt.ylabel('median house value')\n",
        "\n",
        "#Guardar gráfico\n",
        "plt.savefig(\"scatterplot_1.jpg\")\n",
        "\n",
        "#Mostrar gráfico\n",
        "plt.show()"
      ],
      "metadata": {
        "id": "5kRosFlGOyeW"
      },
      "execution_count": null,
      "outputs": []
    },
    {
      "cell_type": "markdown",
      "source": [
        "### Mejorar el gráfico con transparencia"
      ],
      "metadata": {
        "id": "7h0uMVBNTA1e"
      }
    },
    {
      "cell_type": "code",
      "source": [
        "# Tomar una muestra de los datos\n",
        "x = pddf.households\n",
        "y = pddf.median_house_value\n",
        "\n",
        "# plot\n",
        "fig, ax = plt.subplots()\n",
        "ax.scatter(x, y, alpha = 0.2)\n",
        "\n",
        "plt.show()"
      ],
      "metadata": {
        "id": "Rdjdd_mdRumI"
      },
      "execution_count": null,
      "outputs": []
    },
    {
      "cell_type": "markdown",
      "source": [
        "### Seaborn"
      ],
      "metadata": {
        "id": "OA_f4iKAUAPB"
      }
    },
    {
      "cell_type": "code",
      "source": [
        "import seaborn as sns"
      ],
      "metadata": {
        "id": "puH4VJZhUEGk"
      },
      "execution_count": null,
      "outputs": []
    },
    {
      "cell_type": "code",
      "source": [
        "sns.relplot(data = pddf, x=\"households\", y=\"median_house_value\", height=6, aspect=11.7/8.27)"
      ],
      "metadata": {
        "id": "6Q8SmdHHUDrZ"
      },
      "execution_count": null,
      "outputs": []
    },
    {
      "cell_type": "code",
      "source": [
        "sns.set(rc={'figure.figsize':(6, 4)})\n",
        "sns.regplot(data = pddf.sample(1000), x=\"households\", y=\"median_house_value\", \n",
        "            scatter_kws={'alpha':0.3}, fit_reg = True)"
      ],
      "metadata": {
        "id": "AeE7Sc_oVZl1"
      },
      "execution_count": null,
      "outputs": []
    },
    {
      "cell_type": "code",
      "source": [
        "sns.set(rc={'figure.figsize':(6, 4)})\n",
        "sns.regplot(data = pddf2, x=\"Age\", y=\"Fare\", scatter_kws = {'alpha': 0.5})"
      ],
      "metadata": {
        "id": "3nRUFIe-VYic"
      },
      "execution_count": null,
      "outputs": []
    },
    {
      "cell_type": "code",
      "source": [
        "sns.set(rc={'figure.figsize':(6, 4)})\n",
        "sns.relplot(data = pddf2, x=\"Age\", y=\"Fare\", hue=\"Survived\", height=4, aspect=11.7/8.27)"
      ],
      "metadata": {
        "id": "0qQiNiOJZ8_m",
        "colab": {
          "base_uri": "https://localhost:8080/",
          "height": 311
        },
        "outputId": "df5edd18-a502-43fe-b9ee-8e31bb854601"
      },
      "execution_count": null,
      "outputs": [
        {
          "output_type": "execute_result",
          "data": {
            "text/plain": [
              "<seaborn.axisgrid.FacetGrid at 0x7f3dae27d610>"
            ]
          },
          "metadata": {},
          "execution_count": 72
        },
        {
          "output_type": "display_data",
          "data": {
            "text/plain": [
              "<Figure size 468.999x288 with 1 Axes>"
            ],
            "image/png": "[encoded data removed]"
          },
          "metadata": {}
        }
      ]
    },
    {
      "cell_type": "code",
      "source": [
        "import seaborn as sns\n",
        "sns.set_theme(style=\"darkgrid\")\n",
        "\n",
        "g = sns.jointplot(x=\"households\", y=\"median_house_value\", data=pddf,\n",
        "                  kind=\"reg\", truncate=False,\n",
        "                  color=\"m\", height=7)"
      ],
      "metadata": {
        "id": "Nsf-T-A7a6Iq"
      },
      "execution_count": null,
      "outputs": []
    },
    {
      "cell_type": "code",
      "source": [
        "pddf.dtypes"
      ],
      "metadata": {
        "id": "ICwGFuH4C8GI"
      },
      "execution_count": null,
      "outputs": []
    },
    {
      "cell_type": "code",
      "source": [
        "features = list(set(pddf.columns.tolist()) - set(['longitude', 'latitude']))"
      ],
      "metadata": {
        "id": "yzRi8p8bDRXx"
      },
      "execution_count": null,
      "outputs": []
    },
    {
      "cell_type": "code",
      "source": [
        "import time\n",
        "\n",
        "start = time.time()\n",
        "for col1 in features:\n",
        "  for col2 in features:\n",
        "    if col1 != col2:\n",
        "      print(f'Graficando {col1} y {col2}')\n",
        "      sns.jointplot(x=col1, y=col2, data=pddf, kind=\"reg\", truncate=False, color=\"m\", height=7).savefig(f\"graficos/scatter_{col1}_{col2}.jpg\")\n",
        "elapsed = time.time() - start\n",
        "print(f'Serial process elapsed: {elapsed} seconds')\n",
        "#90 seconds\n",
        "\n"
      ],
      "metadata": {
        "id": "7N0BE8vKEF_H"
      },
      "execution_count": null,
      "outputs": []
    },
    {
      "cell_type": "code",
      "source": [
        "lista_1 = []\n",
        "lista_2 = []\n",
        "\n",
        "for col1 in features:\n",
        "  for col2 in features:\n",
        "    if col1 != col2:\n",
        "      lista_1.append(col1)\n",
        "      lista_2.append(col2)\n"
      ],
      "metadata": {
        "id": "FXxF4ZJCIO1r"
      },
      "execution_count": null,
      "outputs": []
    },
    {
      "cell_type": "code",
      "source": [
        "pd.DataFrame({'col1' : lista_1,\n",
        "              'col2' : lista_2})"
      ],
      "metadata": {
        "id": "AtdlTszvI0Fz"
      },
      "execution_count": null,
      "outputs": []
    },
    {
      "cell_type": "code",
      "source": [
        "start = time.time()\n",
        "[sns.jointplot(x=col1, y=col2, data=pddf, kind=\"reg\", truncate=False, color=\"m\", height=7).savefig(f\"graficos/scatter_{col1}_{col2}.jpg\") for col1, col2 in zip(lista_1, lista_2)]\n",
        "elapsed = time.time() - start\n",
        "print(f'Parallel process elapsed: {elapsed} seconds')"
      ],
      "metadata": {
        "id": "5X7SgivTHOI5"
      },
      "execution_count": null,
      "outputs": []
    },
    {
      "cell_type": "markdown",
      "source": [
        "# Histograma"
      ],
      "metadata": {
        "id": "E0ebB-v-bdIv"
      }
    },
    {
      "cell_type": "code",
      "source": [
        "# plot:\n",
        "fig, ax = plt.subplots()\n",
        "plt.rcParams[\"figure.figsize\"] = (10, 6)\n",
        "\n",
        "ax.hist(pddf.median_house_value, bins='auto', edgecolor=\"white\")\n"
      ],
      "metadata": {
        "id": "aXbhHCANbgGk"
      },
      "execution_count": null,
      "outputs": []
    },
    {
      "cell_type": "code",
      "source": [
        "# plot:\n",
        "fig, ax = plt.subplots()\n",
        "plt.rcParams[\"figure.figsize\"] = (10, 6)\n",
        "ax.hist(pddf.median_house_value, bins='auto', edgecolor=\"white\", cumulative=True)"
      ],
      "metadata": {
        "id": "828NtFcHc4uO"
      },
      "execution_count": null,
      "outputs": []
    },
    {
      "cell_type": "code",
      "source": [
        "sns.histplot(data=pddf, x=\"median_house_value\", kde = True)"
      ],
      "metadata": {
        "id": "J4aUm6ZldQZx"
      },
      "execution_count": null,
      "outputs": []
    },
    {
      "cell_type": "code",
      "source": [
        "sns.histplot(data=pddf, x=\"median_house_value\", kde=True, cumulative=True)"
      ],
      "metadata": {
        "id": "KWgeat2ReOnu"
      },
      "execution_count": null,
      "outputs": []
    },
    {
      "cell_type": "markdown",
      "source": [
        "# Lineas"
      ],
      "metadata": {
        "id": "phAzEPaJfNqS"
      }
    },
    {
      "cell_type": "code",
      "source": [
        "covid = pd.read_csv('positivos_covid.csv', delimiter = ';')\n",
        "covid.head()"
      ],
      "metadata": {
        "id": "5yf1V9ctfNJm"
      },
      "execution_count": null,
      "outputs": []
    },
    {
      "cell_type": "code",
      "source": [
        "covid['MES_RESULTADO'] = covid.FECHA_RESULTADO.apply(lambda x: str(x)[:6])\n",
        "covid.head()"
      ],
      "metadata": {
        "id": "Zd-SGo1epgdS"
      },
      "execution_count": null,
      "outputs": []
    },
    {
      "cell_type": "code",
      "source": [
        "df = covid.groupby(\"MES_RESULTADO\")[[\"id_persona\"]].aggregate(['count']).reset_index()\n",
        "df.columns = df.columns.droplevel(-1)\n",
        "df.head()"
      ],
      "metadata": {
        "id": "xd-9HPlEj27G"
      },
      "execution_count": null,
      "outputs": []
    },
    {
      "cell_type": "code",
      "source": [
        "import seaborn as sns\n",
        "plt.rcParams[\"figure.figsize\"] = (20, 6)\n",
        "sns.lineplot(x=\"MES_RESULTADO\", y=\"id_persona\", data=df)\n",
        "plt.xticks(rotation=90)\n"
      ],
      "metadata": {
        "id": "QW6V0BdjlL82"
      },
      "execution_count": null,
      "outputs": []
    },
    {
      "cell_type": "code",
      "source": [
        "df = covid.groupby([\"MES_RESULTADO\", \"SEXO\"])[[\"id_persona\"]].aggregate(['count']).reset_index()\n",
        "df.columns = df.columns.droplevel(-1)\n",
        "df.head()"
      ],
      "metadata": {
        "id": "3i4-628_pMN3"
      },
      "execution_count": null,
      "outputs": []
    },
    {
      "cell_type": "code",
      "source": [
        "plt.rcParams[\"figure.figsize\"] = (20, 6)\n",
        "sns.lineplot(x=\"MES_RESULTADO\", y=\"id_persona\", hue = 'SEXO', data=df)"
      ],
      "metadata": {
        "id": "hpiobZB4pXJL"
      },
      "execution_count": null,
      "outputs": []
    },
    {
      "cell_type": "markdown",
      "source": [
        "# Barras"
      ],
      "metadata": {
        "id": "trqy99IoxxEG"
      }
    },
    {
      "cell_type": "code",
      "source": [
        "res = covid.groupby(\"DEPARTAMENTO\")[[\"id_persona\"]].aggregate(['count']).reset_index()\n",
        "res.columns = res.columns.droplevel(-1)\n",
        "res.sort_values(by = 'id_persona', ascending = False, inplace = True)"
      ],
      "metadata": {
        "id": "Ug2t3fzmyaFQ"
      },
      "execution_count": null,
      "outputs": []
    },
    {
      "cell_type": "code",
      "source": [
        "res.head()"
      ],
      "metadata": {
        "colab": {
          "base_uri": "https://localhost:8080/",
          "height": 206
        },
        "id": "oyW31mgQy3kM",
        "outputId": "4b4f2d71-2b90-479e-9e77-67bcd4bf5938"
      },
      "execution_count": null,
      "outputs": [
        {
          "output_type": "execute_result",
          "data": {
            "text/plain": [
              "   DEPARTAMENTO  id_persona\n",
              "14         LIMA     1224827\n",
              "3      AREQUIPA      187678\n",
              "19        PIURA      136173\n",
              "12  LA LIBERTAD      106920\n",
              "6        CALLAO      100888"
            ],
            "text/html": [
              "\n",
              "  <div id=\"df-3c9cd278-2151-4d8f-ad97-176252126040\">\n",
              "    <div class=\"colab-df-container\">\n",
              "      <div>\n",
              "<style scoped>\n",
              "    .dataframe tbody tr th:only-of-type {\n",
              "        vertical-align: middle;\n",
              "    }\n",
              "\n",
              "    .dataframe tbody tr th {\n",
              "        vertical-align: top;\n",
              "    }\n",
              "\n",
              "    .dataframe thead th {\n",
              "        text-align: right;\n",
              "    }\n",
              "</style>\n",
              "<table border=\"1\" class=\"dataframe\">\n",
              "  <thead>\n",
              "    <tr style=\"text-align: right;\">\n",
              "      <th></th>\n",
              "      <th>DEPARTAMENTO</th>\n",
              "      <th>id_persona</th>\n",
              "    </tr>\n",
              "  </thead>\n",
              "  <tbody>\n",
              "    <tr>\n",
              "      <th>14</th>\n",
              "      <td>LIMA</td>\n",
              "      <td>1224827</td>\n",
              "    </tr>\n",
              "    <tr>\n",
              "      <th>3</th>\n",
              "      <td>AREQUIPA</td>\n",
              "      <td>187678</td>\n",
              "    </tr>\n",
              "    <tr>\n",
              "      <th>19</th>\n",
              "      <td>PIURA</td>\n",
              "      <td>136173</td>\n",
              "    </tr>\n",
              "    <tr>\n",
              "      <th>12</th>\n",
              "      <td>LA LIBERTAD</td>\n",
              "      <td>106920</td>\n",
              "    </tr>\n",
              "    <tr>\n",
              "      <th>6</th>\n",
              "      <td>CALLAO</td>\n",
              "      <td>100888</td>\n",
              "    </tr>\n",
              "  </tbody>\n",
              "</table>\n",
              "</div>\n",
              "      <button class=\"colab-df-convert\" onclick=\"convertToInteractive('df-3c9cd278-2151-4d8f-ad97-176252126040')\"\n",
              "              title=\"Convert this dataframe to an interactive table.\"\n",
              "              style=\"display:none;\">\n",
              "        \n",
              "  <svg xmlns=\"http://www.w3.org/2000/svg\" height=\"24px\"viewBox=\"0 0 24 24\"\n",
              "       width=\"24px\">\n",
              "    <path d=\"M0 0h24v24H0V0z\" fill=\"none\"/>\n",
              "    <path d=\"M18.56 5.44l.94 2.06.94-2.06 2.06-.94-2.06-.94-.94-2.06-.94 2.06-2.06.94zm-11 1L8.5 8.5l.94-2.06 2.06-.94-2.06-.94L8.5 2.5l-.94 2.06-2.06.94zm10 10l.94 2.06.94-2.06 2.06-.94-2.06-.94-.94-2.06-.94 2.06-2.06.94z\"/><path d=\"M17.41 7.96l-1.37-1.37c-.4-.4-.92-.59-1.43-.59-.52 0-1.04.2-1.43.59L10.3 9.45l-7.72 7.72c-.78.78-.78 2.05 0 2.83L4 21.41c.39.39.9.59 1.41.59.51 0 1.02-.2 1.41-.59l7.78-7.78 2.81-2.81c.8-.78.8-2.07 0-2.86zM5.41 20L4 18.59l7.72-7.72 1.47 1.35L5.41 20z\"/>\n",
              "  </svg>\n",
              "      </button>\n",
              "      \n",
              "  <style>\n",
              "    .colab-df-container {\n",
              "      display:flex;\n",
              "      flex-wrap:wrap;\n",
              "      gap: 12px;\n",
              "    }\n",
              "\n",
              "    .colab-df-convert {\n",
              "      background-color: #E8F0FE;\n",
              "      border: none;\n",
              "      border-radius: 50%;\n",
              "      cursor: pointer;\n",
              "      display: none;\n",
              "      fill: #1967D2;\n",
              "      height: 32px;\n",
              "      padding: 0 0 0 0;\n",
              "      width: 32px;\n",
              "    }\n",
              "\n",
              "    .colab-df-convert:hover {\n",
              "      background-color: #E2EBFA;\n",
              "      box-shadow: 0px 1px 2px rgba(60, 64, 67, 0.3), 0px 1px 3px 1px rgba(60, 64, 67, 0.15);\n",
              "      fill: #174EA6;\n",
              "    }\n",
              "\n",
              "    [theme=dark] .colab-df-convert {\n",
              "      background-color: #3B4455;\n",
              "      fill: #D2E3FC;\n",
              "    }\n",
              "\n",
              "    [theme=dark] .colab-df-convert:hover {\n",
              "      background-color: #434B5C;\n",
              "      box-shadow: 0px 1px 3px 1px rgba(0, 0, 0, 0.15);\n",
              "      filter: drop-shadow(0px 1px 2px rgba(0, 0, 0, 0.3));\n",
              "      fill: #FFFFFF;\n",
              "    }\n",
              "  </style>\n",
              "\n",
              "      <script>\n",
              "        const buttonEl =\n",
              "          document.querySelector('#df-3c9cd278-2151-4d8f-ad97-176252126040 button.colab-df-convert');\n",
              "        buttonEl.style.display =\n",
              "          google.colab.kernel.accessAllowed ? 'block' : 'none';\n",
              "\n",
              "        async function convertToInteractive(key) {\n",
              "          const element = document.querySelector('#df-3c9cd278-2151-4d8f-ad97-176252126040');\n",
              "          const dataTable =\n",
              "            await google.colab.kernel.invokeFunction('convertToInteractive',\n",
              "                                                     [key], {});\n",
              "          if (!dataTable) return;\n",
              "\n",
              "          const docLinkHtml = 'Like what you see? Visit the ' +\n",
              "            '<a target=\"_blank\" href=https://colab.research.google.com/notebooks/data_table.ipynb>data table notebook</a>'\n",
              "            + ' to learn more about interactive tables.';\n",
              "          element.innerHTML = '';\n",
              "          dataTable['output_type'] = 'display_data';\n",
              "          await google.colab.output.renderOutput(dataTable, element);\n",
              "          const docLink = document.createElement('div');\n",
              "          docLink.innerHTML = docLinkHtml;\n",
              "          element.appendChild(docLink);\n",
              "        }\n",
              "      </script>\n",
              "    </div>\n",
              "  </div>\n",
              "  "
            ]
          },
          "metadata": {},
          "execution_count": 13
        }
      ]
    },
    {
      "cell_type": "code",
      "source": [
        "plt.bar(res.DEPARTAMENTO, res.id_persona)\n",
        "plt.xticks(rotation=90)"
      ],
      "metadata": {
        "id": "i9j46GqSyOiF"
      },
      "execution_count": null,
      "outputs": []
    },
    {
      "cell_type": "code",
      "source": [
        "plt.barh(res.DEPARTAMENTO, res.id_persona, align='center', alpha=0.5)"
      ],
      "metadata": {
        "id": "LJ4nvv9yzK0c"
      },
      "execution_count": null,
      "outputs": []
    },
    {
      "cell_type": "markdown",
      "source": [
        "# Areas"
      ],
      "metadata": {
        "id": "zRsZksyMx0G2"
      }
    },
    {
      "cell_type": "code",
      "source": [
        "res = covid.groupby(\"SEXO\")[[\"id_persona\"]].aggregate(['count']).reset_index()\n",
        "res.columns = res.columns.droplevel(-1)\n",
        "res.sort_values(by = 'id_persona', ascending = False, inplace = True)"
      ],
      "metadata": {
        "id": "FhSDAxOL0d7A"
      },
      "execution_count": null,
      "outputs": []
    },
    {
      "cell_type": "code",
      "source": [
        "plt.pie(res.id_persona, labels=res.SEXO)\n"
      ],
      "metadata": {
        "id": "2Tn2JoS2x6v_"
      },
      "execution_count": null,
      "outputs": []
    },
    {
      "cell_type": "markdown",
      "source": [
        "# Cajas"
      ],
      "metadata": {
        "id": "okTg9Tcgx45K"
      }
    },
    {
      "cell_type": "code",
      "source": [
        "datos = [2, 3, 3, 3, 4, 5, 6, 7, 7.5, 8, 8]\n",
        "\n",
        "len(datos)\n",
        "print(f'la mediana es: {np.percentile(datos, 50)}')\n",
        "print(f'el cuartil 1 es: {np.percentile(datos, 25)}')\n",
        "print(f'el cuartil 3 es: {np.percentile(datos, 75)}')\n",
        "\n",
        "print(f'el promedio es: {np.mean(datos)}')\n"
      ],
      "metadata": {
        "id": "K1rj27b1hV48"
      },
      "execution_count": null,
      "outputs": []
    },
    {
      "cell_type": "code",
      "source": [
        "sns.set_theme(style=\"whitegrid\")\n",
        "ax = sns.boxplot(data=covid.EDAD, orient=\"h\")"
      ],
      "metadata": {
        "id": "cjaPFGNk1RW6"
      },
      "execution_count": null,
      "outputs": []
    },
    {
      "cell_type": "code",
      "source": [
        "covid.EDAD.describe()"
      ],
      "metadata": {
        "id": "FbBlBAI4fZ1l"
      },
      "execution_count": null,
      "outputs": []
    },
    {
      "cell_type": "code",
      "source": [
        "Me = np.percentile(covid.EDAD.dropna(), 50)\n",
        "Q1 = np.percentile(covid.EDAD.dropna(), 25)\n",
        "Q3 = np.percentile(covid.EDAD.dropna(), 75)\n",
        "RIC = Q3 - Q1\n",
        "LI = Q1 - 1.5*RIC\n",
        "LS = Q3 + 1.5*RIC"
      ],
      "metadata": {
        "id": "NrtforUqd19I"
      },
      "execution_count": null,
      "outputs": []
    },
    {
      "cell_type": "code",
      "source": [
        "LS"
      ],
      "metadata": {
        "id": "YEg0IKZsfsUx"
      },
      "execution_count": null,
      "outputs": []
    },
    {
      "cell_type": "code",
      "source": [
        "covid['EDAD_t'] = covid.EDAD.apply(lambda x: LS if x > LS else x)"
      ],
      "metadata": {
        "id": "-K7j8EUqgcB6"
      },
      "execution_count": null,
      "outputs": []
    },
    {
      "cell_type": "code",
      "source": [
        "covid.head()"
      ],
      "metadata": {
        "id": "S-e2W-0HgxB-"
      },
      "execution_count": null,
      "outputs": []
    },
    {
      "cell_type": "code",
      "source": [
        "sns.set_theme(style=\"whitegrid\")\n",
        "ax = sns.boxplot(data=covid.EDAD_t, orient=\"h\")"
      ],
      "metadata": {
        "id": "Z8LDxyp1g5PX"
      },
      "execution_count": null,
      "outputs": []
    },
    {
      "cell_type": "code",
      "source": [
        "sns.set_theme(style=\"whitegrid\")\n",
        "ax = sns.boxplot(y=covid.EDAD_t, x = covid.SEXO, orient=\"v\")"
      ],
      "metadata": {
        "id": "4HeZXcwZ0u5_"
      },
      "execution_count": null,
      "outputs": []
    },
    {
      "cell_type": "markdown",
      "source": [
        "# Contorno"
      ],
      "metadata": {
        "id": "p0xOWKnXx9k3"
      }
    },
    {
      "cell_type": "code",
      "source": [
        "\n",
        "# Creating 2-D grid of features\n",
        "[X, Y] = np.meshgrid(pddf.longitude, pddf.latitude)\n",
        "fig, ax = plt.subplots(1, 1)\n",
        "Z = X ** 2 + Y\n",
        "\n",
        "ax.contourf(X, Y, Z)\n"
      ],
      "metadata": {
        "id": "GqtMP4gC1aL8"
      },
      "execution_count": null,
      "outputs": []
    }
  ]
}